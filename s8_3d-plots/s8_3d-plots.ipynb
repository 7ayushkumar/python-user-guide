{
 "metadata": {
  "name": "",
  "signature": "sha256:3a2ca653b28e589535ce03449f07e53b699a25c2ad89523aa1b74807ef08d32a"
 },
 "nbformat": 3,
 "nbformat_minor": 0,
 "worksheets": [
  {
   "cells": [
    {
     "cell_type": "heading",
     "level": 1,
     "metadata": {},
     "source": [
      "Plotly's Python API User Guide"
     ]
    },
    {
     "cell_type": "heading",
     "level": 2,
     "metadata": {},
     "source": [
      "Section 8: 3D Plots"
     ]
    },
    {
     "cell_type": "markdown",
     "metadata": {},
     "source": [
      "Welcome to Plotly's Python API User Guide. \n",
      "\n",
      "> Links to the other sections are on the User Guide's [homepage](https://plot.ly/python/user-guide#Table-of-Contents:) <br>\n",
      "If unfamiliar with Plotly's Python API version 1.0 see [section 0](https://plot.ly/python/overview) <br>\n",
      "The Github repository is available \n",
      "<a href=\"https://github.com/plotly/python-user-guide\" target=\"_blank\">here</a>"
     ]
    },
    {
     "cell_type": "markdown",
     "metadata": {},
     "source": [
      "Section 8 is divided as follows:\n",
      "\n",
      "* [8.1 A simple surface plot](#8.1-A-simple-surface-plot)\n",
      "\n",
      "* [8.2 A double helix in 3D](#8.2-A-double-helix-in-3D)"
     ]
    },
    {
     "cell_type": "markdown",
     "metadata": {},
     "source": [
      "Quickstart (a 3d scatter plot of 3 points):\n",
      "\n",
      "    >>> import plotly.plotly as py\n",
      "    >>> # auto sign-in with credentials or use py.sign_in()\n",
      "    >>> trace1 = dict(\n",
      "            type='scatter3d',\n",
      "            x=[1,2,3],\n",
      "            y=[3,4,5],\n",
      "            z=[1,3,4]\n",
      "        )\n",
      "    >>> data = [trace1]\n",
      "    >>> py.plot(data, validate=False)\n",
      "\n",
      "<hr>"
     ]
    },
    {
     "cell_type": "markdown",
     "metadata": {},
     "source": [
      "The User Guide assumes version 1.0 and up of Plotly's Python API. \n",
      "\n",
      "Check which version is installed on your machine and please upgrade if needed. "
     ]
    },
    {
     "cell_type": "code",
     "collapsed": false,
     "input": [
      "# (*) Import plotly package\n",
      "import plotly\n",
      "\n",
      "# Check plolty version (if not latest, please upgrade)\n",
      "plotly.__version__"
     ],
     "language": "python",
     "metadata": {},
     "outputs": [
      {
       "metadata": {},
       "output_type": "pyout",
       "prompt_number": 1,
       "text": [
        "'1.2.7'"
       ]
      }
     ],
     "prompt_number": 1
    },
    {
     "cell_type": "markdown",
     "metadata": {},
     "source": [
      "See the User Guide's <a href=\"https://plot.ly/python/user-guide#Installation-guidelines\" target=\"_blank\">homepage</a> for more info on installation and upgrading. "
     ]
    },
    {
     "cell_type": "markdown",
     "metadata": {},
     "source": [
      "<hr>\n",
      "\n",
      "In this section, we introduce Plotly's 3D plot engine. 3D plots are a new feature to Plotly and this section (in its currently form) only scratches the surface on its possibilities."
     ]
    },
    {
     "cell_type": "markdown",
     "metadata": {},
     "source": [
      "We first import a few modules and sign in to Plotly using our credential file:"
     ]
    },
    {
     "cell_type": "code",
     "collapsed": false,
     "input": [
      "# (*) To communicate with Plotly's server, sign in with credentials file\n",
      "import plotly.plotly as py  \n",
      "\n",
      "# (*) Useful Python/Plotly tools\n",
      "import plotly.tools as tls   \n",
      "\n",
      "# (*) Graph objects to piece together plots\n",
      "from plotly.graph_objs import *\n",
      "\n",
      "import numpy as np  # (*) numpy for math functions and arrays"
     ],
     "language": "python",
     "metadata": {},
     "outputs": [],
     "prompt_number": 2
    },
    {
     "cell_type": "markdown",
     "metadata": {},
     "source": [
      "If you are not familiar with credentials files, refer to the User Guide's  <a href=\"https://plot.ly/python/user-guide#Step-6\" target=\"_blank\">homepage</a>."
     ]
    },
    {
     "cell_type": "heading",
     "level": 5,
     "metadata": {},
     "source": [
      "Important"
     ]
    },
    {
     "cell_type": "markdown",
     "metadata": {},
     "source": [
      "> 3D plotting is currently not fully integrated into the latest version of Plotly's Python API. \n",
      "\n",
      "Namely, there are currently no 3D graph objects and the avaiable keys are not documented. \n",
      "\n",
      "Therefore, surface and 3D scatter plots must be generated using standard Python dictionaries and lists and bypassing validation within Plotly's Python API (i.e. `validate=False`).\n",
      "\n",
      "That said, if you are eager to start plotting in 3D, you can, right now! The following examples demonstrate how to do so."
     ]
    },
    {
     "cell_type": "heading",
     "level": 3,
     "metadata": {},
     "source": [
      "8.1 A simple surface plot"
     ]
    },
    {
     "cell_type": "markdown",
     "metadata": {},
     "source": [
      "Let's try to make a Plotly version of this <a href=\"http://www.robertocolistete.net/MatPlotLib/surfacefxy.png\" target=\"_blank\">plot</a> taken from Roberto Colistete's <a href=\"http://www.robertocolistete.net\" target=\"_blank\">web page</a>. <br> Big thanks!\n",
      "\n",
      "The function to be plotted is:\n",
      "\n",
      "$$ f(x,y) = A \\cos(\\pi x y) e^{-(x^2+y^2)/2} $$\n",
      "\n",
      "where $A$ is some number corresponding to the amplitude of the surface. So,"
     ]
    },
    {
     "cell_type": "code",
     "collapsed": false,
     "input": [
      "from numpy import pi, cos, exp  # (*) import the functions needed\n",
      "\n",
      "# Define the function to be plotted\n",
      "def fxy(x, y):\n",
      "    A = 1 # choose a maximum amplitude \n",
      "    return A*(cos(pi*x*y))**2*exp(-(x**2+y**2)/2.)"
     ],
     "language": "python",
     "metadata": {},
     "outputs": [],
     "prompt_number": 3
    },
    {
     "cell_type": "code",
     "collapsed": false,
     "input": [
      "# Choose length of square domain, make row and column vectors\n",
      "L = 4\n",
      "x = y = np.arange(-L/2., L/2., 0.1) # use a mesh spacing of 0.1\n",
      "yt = y[:,np.newaxis] # (!) make column vector\n",
      "\n",
      "# Get surface coordinates!\n",
      "z = fxy(x, yt)"
     ],
     "language": "python",
     "metadata": {},
     "outputs": [],
     "prompt_number": 4
    },
    {
     "cell_type": "markdown",
     "metadata": {},
     "source": [
      "Next, build a trace dictionary containing the `'surface'` plot type:"
     ]
    },
    {
     "cell_type": "code",
     "collapsed": false,
     "input": [
      "trace1 = dict(\n",
      "    type='surface', # (!) 'surface' plot type\n",
      "    z=z,            # link the fxy 2d numpy array\n",
      "    x=x,            # link 1d numpy array of x coords\n",
      "    y=y             # link 1d numpy array of y coords\n",
      ")\n",
      "\n",
      "# Package the trace dictionary into a data list\n",
      "data = [trace1]"
     ],
     "language": "python",
     "metadata": {},
     "outputs": [],
     "prompt_number": 5
    },
    {
     "cell_type": "markdown",
     "metadata": {},
     "source": [
      "Add a title and customize the axes:"
     ]
    },
    {
     "cell_type": "code",
     "collapsed": false,
     "input": [
      "# Dictionary of style options for all axes\n",
      "axis = dict(\n",
      "    showbackground=True, # (!) show axis background\n",
      "    backgroundcolor=\"rgb(204, 204, 204)\", # set background color to grey\n",
      "    gridcolor=\"rgb(255, 255, 255)\",       # set grid line color\n",
      "    zerolinecolor=\"rgb(255, 255, 255)\",   # set zero grid line color\n",
      ")\n",
      "\n",
      "# Make a layout dictionary\n",
      "layout = dict(\n",
      "    title='$f(x,y) = A \\cos(\\pi x y) e^{-(x^2+y^2)/2}$', # set plot title\n",
      "    scene=dict(     # (!) axes are part of a 'scene' in 3d plots\n",
      "        xaxis=axis, # set x-axis style\n",
      "        yaxis=axis, # set y-axis style\n",
      "        zaxis=axis  # set z-axis style\n",
      "    )\n",
      ")"
     ],
     "language": "python",
     "metadata": {},
     "outputs": [],
     "prompt_number": 6
    },
    {
     "cell_type": "markdown",
     "metadata": {},
     "source": [
      "Package layout and data into a figure dictionary and call Plotly:"
     ]
    },
    {
     "cell_type": "code",
     "collapsed": false,
     "input": [
      "# Make a figure dictionary\n",
      "fig = dict(data=data, layout=layout)\n",
      "\n",
      "# (@) Send to Plotly and show in notebook\n",
      "py.iplot(fig, validate=False, filename='s8_surface')"
     ],
     "language": "python",
     "metadata": {},
     "outputs": [
      {
       "application/pdf": "[encoded data removed]",
       "html": [
        "<iframe id=\"igraph\" scrolling=\"no\" style=\"border:none;\"seamless=\"seamless\" src=\"https://plot.ly/~etpinard/464\" height=\"525\" width=\"100%\"></iframe>"
       ],
       "jpeg": "[encoded data removed]",
       "metadata": {},
       "output_type": "pyout",
       "png": "[encoded data removed]",
       "prompt_number": 7,
       "svg": [
        "<!DOCTYPE html>\n",
        "<html>\n",
        "\tUh oh. Looks like an error occurred processing this request. We'll be working on fixing this. You can try again soon or contact us at feedback@plot.ly. Thanks for your patience and sorry for the delay. Happy plotting.\n",
        "</html>\n"
       ],
       "text": [
        "<plotly.tools.PlotlyDisplay at 0x7f93b983efd0>"
       ]
      }
     ],
     "prompt_number": 7
    },
    {
     "cell_type": "markdown",
     "metadata": {},
     "source": [
      "*A 3D interacting surface plot*"
     ]
    },
    {
     "cell_type": "markdown",
     "metadata": {},
     "source": [
      "Plotly 3D plots have three modes of interaction (togglable from the top right corner of the plot's frame):\n",
      "\n",
      "1. Rotation (leftmost button)\n",
      "2. Zoom (center button)\n",
      "3. Pan (rightmost button)\n",
      "\n",
      "You are invited to play around with each of them, Plotly 3D plots are alive like no other."
     ]
    },
    {
     "cell_type": "markdown",
     "metadata": {},
     "source": [
      "Moreover, this surface plot can be viewed in full screen at the following unique URL:"
     ]
    },
    {
     "cell_type": "code",
     "collapsed": false,
     "input": [
      "py.plot(fig, validate=False, auto_open=False, filename='s8_surface')"
     ],
     "language": "python",
     "metadata": {},
     "outputs": [
      {
       "metadata": {},
       "output_type": "pyout",
       "prompt_number": 8,
       "text": [
        "u'https://plot.ly/~etpinard/464'"
       ]
      }
     ],
     "prompt_number": 8
    },
    {
     "cell_type": "heading",
     "level": 3,
     "metadata": {},
     "source": [
      "8.2 A double helix in 3D"
     ]
    },
    {
     "cell_type": "markdown",
     "metadata": {},
     "source": [
      "Our next plot will be a 3D double <a href=\"http://en.wikipedia.org/wiki/Helix\" target=\"_blank\">helix</a>.\n",
      "\n",
      "A helix is described mathematically in cartesian coordinates by:\n",
      "\n",
      "$$\\begin{align} x(t) &= \\cos(t) \\\\ y(t) &= \\sin(t) \\\\ z(t) &= t \\end{align}$$\n",
      "\n",
      "where $t$ is some conitnuous variable. So consider,"
     ]
    },
    {
     "cell_type": "code",
     "collapsed": false,
     "input": [
      "from numpy import sin  # (*) import sin (cos was imported in 8.1)\n",
      "\n",
      "# Define a function generating the double helix coordinates\n",
      "def helix(t):\n",
      "    x = cos(t)\n",
      "    y = sin(t)\n",
      "    z = t\n",
      "    return x, y, z"
     ],
     "language": "python",
     "metadata": {},
     "outputs": [],
     "prompt_number": 9
    },
    {
     "cell_type": "markdown",
     "metadata": {},
     "source": [
      "Next, get the coordinates of the double helix:"
     ]
    },
    {
     "cell_type": "code",
     "collapsed": false,
     "input": [
      "# Make a linear space from 0 to 4pi (i.e. a double helix), get coords\n",
      "t = np.linspace(0, 4*pi, 200) # (pi was imported in 8.1)\n",
      "x, y, z = helix(t)"
     ],
     "language": "python",
     "metadata": {},
     "outputs": [],
     "prompt_number": 10
    },
    {
     "cell_type": "markdown",
     "metadata": {},
     "source": [
      "Build a trace dictionary with `'type'` set to `'scatter3d'`:"
     ]
    },
    {
     "cell_type": "code",
     "collapsed": false,
     "input": [
      "trace1 = dict(\n",
      "    type='scatter3d', # (!) 'scatter3d' plot type\n",
      "    x=x,  # x coords\n",
      "    y=y,  # y coords\n",
      "    z=z,  # z coords\n",
      "    mode='lines',     # (!) draw lines between coords (as in Scatter)\n",
      "    line=dict(\n",
      "        color='black', # black line segments\n",
      "        width=3        # set line segment width\n",
      "    )\n",
      ")\n",
      "\n",
      "# Package the trace dictionary into a data list\n",
      "data = [trace1]"
     ],
     "language": "python",
     "metadata": {},
     "outputs": [],
     "prompt_number": 11
    },
    {
     "cell_type": "markdown",
     "metadata": {},
     "source": [
      "Add a title:"
     ]
    },
    {
     "cell_type": "code",
     "collapsed": false,
     "input": [
      "# Make a layout dictionary\n",
      "layout = dict(\n",
      "    title='Fig 8.2: Double helix'\n",
      ")"
     ],
     "language": "python",
     "metadata": {},
     "outputs": [],
     "prompt_number": 12
    },
    {
     "cell_type": "markdown",
     "metadata": {},
     "source": [
      "And finally,"
     ]
    },
    {
     "cell_type": "code",
     "collapsed": false,
     "input": [
      "# Make a figure dictionary\n",
      "fig = dict(data=data, layout=layout)\n",
      "\n",
      "# (@) Send to Plotly and show in notebook\n",
      "py.iplot(fig, validate=False, filename='s8_double-helix')"
     ],
     "language": "python",
     "metadata": {},
     "outputs": [
      {
       "application/pdf": "[encoded data removed]",
       "html": [
        "<iframe id=\"igraph\" scrolling=\"no\" style=\"border:none;\"seamless=\"seamless\" src=\"https://plot.ly/~etpinard/467\" height=\"525\" width=\"100%\"></iframe>"
       ],
       "jpeg": "[encoded data removed]",
       "metadata": {},
       "output_type": "pyout",
       "png": "[encoded data removed]",
       "prompt_number": 13,
       "svg": [
        "<!DOCTYPE html>\n",
        "<html>\n",
        "\tUh oh. Looks like an error occurred processing this request. We'll be working on fixing this. You can try again soon or contact us at feedback@plot.ly. Thanks for your patience and sorry for the delay. Happy plotting.\n",
        "</html>\n"
       ],
       "text": [
        "<plotly.tools.PlotlyDisplay at 0x7f93d0636150>"
       ]
      }
     ],
     "prompt_number": 13
    },
    {
     "cell_type": "markdown",
     "metadata": {},
     "source": [
      "The full screen verison is available at the following URL:"
     ]
    },
    {
     "cell_type": "code",
     "collapsed": false,
     "input": [
      "py.plot(fig, validate=False, auto_open=False, filename='s8_double-helix')"
     ],
     "language": "python",
     "metadata": {},
     "outputs": [
      {
       "metadata": {},
       "output_type": "pyout",
       "prompt_number": 14,
       "text": [
        "u'https://plot.ly/~etpinard/467'"
       ]
      }
     ],
     "prompt_number": 14
    },
    {
     "cell_type": "markdown",
     "metadata": {},
     "source": [
      "<hr>\n",
      "    \n",
      "<h4 style=\"font-size:14pt;\">Go to\n",
      "\n",
      "[Section 7 --- Plotly's Streaming API](https://plot.ly/python/streaming-tutorial/) </h4>\n",
      "\n",
      "<h4 style=\"font-size:14pt;\">Go to\n",
      "\n",
      "[top of page](#Plotly's-Python-API-User-Guide) </h4>\n",
      "\n",
      "<h4 style=\"font-size:14pt;\">Go to User Guide's\n",
      "\n",
      "[homepage](https://plot.ly/python/user-guide) </h4>\n",
      "    \n",
      "<hr>\n",
      "\n",
      "<!-- <h4 style=\"font-size:14pt;\">Go to\n",
      "\n",
      " </h4> -->"
     ]
    },
    {
     "cell_type": "markdown",
     "metadata": {},
     "source": [
      "<div style=\"float:right; \\\">\n",
      "    <img src=\"http://i.imgur.com/4vwuxdJ.png\" \n",
      " align=right style=\"float:right; margin-left: 5px; margin-top: -10px\" />\n",
      "</div>\n",
      "\n",
      "<h4 style=\"padding-top:60px;\">Got Questions or Feedback? </h4>\n",
      "\n",
      "About <a href=\"https://plot.ly\" target=\"_blank\">Plotly</a>\n",
      "\n",
      "* email: feedback@plot.ly \n",
      "* tweet: \n",
      "<a href=\"https://twitter.com/plotlygraphs\" target=\"_blank\">@plotlygraphs</a>\n",
      "\n",
      "<h4 style=\"margin-top:50px;\">Notebook styling ideas</h4>\n",
      "\n",
      "Big thanks to\n",
      "\n",
      "* <a href=\"http://nbviewer.ipython.org/github/CamDavidsonPilon/Probabilistic-Programming-and-Bayesian-Methods-for-Hackers/blob/master/Prologue/Prologue.ipynb\" target=\"_blank\">Cam Davidson-Pilon</a>\n",
      "* <a href=\"http://lorenabarba.com/blog/announcing-aeropython/#.U1ULXdX1LJ4.google_plusone_share\" target=\"_blank\">Lorena A. Barba</a>\n",
      "\n",
      "<br>"
     ]
    },
    {
     "cell_type": "code",
     "collapsed": false,
     "input": [
      "# CSS styling within IPython notebook\n",
      "from IPython.display import display, HTML\n",
      "display(HTML(open('../custom.css').read()))"
     ],
     "language": "python",
     "metadata": {},
     "outputs": [
      {
       "html": [
        "<style>\n",
        "    div.cell{\n",
        "        width: 850px;\n",
        "        margin-left: 10% !important;\n",
        "        margin-right: auto;\n",
        "    }\n",
        "    h1 {\n",
        "        font-family: \"Open sans\",verdana,arial,sans-serif;\n",
        "    }\n",
        "    .text_cell_render h1 {\n",
        "        font-weight: 200;\n",
        "        font-size: 40pt;\n",
        "        line-height: 100%;\n",
        "        color:#447adb;\n",
        "        margin-bottom: 0em;\n",
        "        margin-top: 0em;\n",
        "        display: block;\n",
        "        white-space: nowrap;\n",
        "    } \n",
        "    h2 {\n",
        "        font-family: \"Open sans\",verdana,arial,sans-serif;\n",
        "        text-indent:1em;\n",
        "    }\n",
        "    .text_cell_render h2 {\n",
        "        font-weight: 200;\n",
        "        font-size: 20pt;\n",
        "        font-style: italic;\n",
        "        line-height: 100%;\n",
        "        color:#447adb;\n",
        "        margin-bottom: 1.5em;\n",
        "        margin-top: 0.5em;\n",
        "        display: block;\n",
        "        white-space: nowrap;\n",
        "    } \n",
        "    h3 {\n",
        "        font-family: \"Open sans\",verdana,arial,sans-serif;\n",
        "    }\n",
        "    .text_cell_render h3 {\n",
        "        font-weight: 300;\n",
        "        font-size: 18pt;\n",
        "        line-height: 100%;\n",
        "        color:#447adb;\n",
        "        margin-bottom: 0.5em;\n",
        "        margin-top: 2em;\n",
        "        display: block;\n",
        "        white-space: nowrap;\n",
        "    }\n",
        "    h4 {\n",
        "        font-family: \"Open sans\",verdana,arial,sans-serif;\n",
        "    }\n",
        "    .text_cell_render h4 {\n",
        "        font-weight: 300;\n",
        "        font-size: 16pt;\n",
        "        color:#447adb;\n",
        "        margin-bottom: 0.5em;\n",
        "        margin-top: 0.5em;\n",
        "        display: block;\n",
        "        white-space: nowrap;\n",
        "    }\n",
        "    h5 {\n",
        "        font-family: \"Open sans\",verdana,arial,sans-serif;\n",
        "    }\n",
        "    .text_cell_render h5 {\n",
        "        font-weight: 300;\n",
        "        font-style: normal;\n",
        "        color: #1d3b84;\n",
        "        font-size: 16pt;\n",
        "        margin-bottom: 0em;\n",
        "        margin-top: 1.5em;\n",
        "        display: block;\n",
        "        white-space: nowrap;\n",
        "    }\n",
        "    div.text_cell_render{\n",
        "        font-family: \"Open sans\",verdana,arial,sans-serif;\n",
        "        line-height: 135%;\n",
        "        font-size: 125%;\n",
        "        width:750px;\n",
        "        margin-left:auto;\n",
        "        margin-right:auto;\n",
        "        text-align:justify;\n",
        "        text-justify:inter-word;\n",
        "    }\n",
        "    div.output_subarea.output_text.output_pyout {\n",
        "        overflow-x: auto;\n",
        "        overflow-y: scroll;\n",
        "        max-height: 300px;\n",
        "    }\n",
        "    div.output_subarea.output_stream.output_stdout.output_text {\n",
        "        overflow-x: auto;\n",
        "        overflow-y: scroll;\n",
        "        max-height: 300px;\n",
        "    }\n",
        "    div.output_subarea.output_html.rendered_html {\n",
        "        overflow-x: scroll;\n",
        "        max-width: 100%;\n",
        "      /*  overflow-y: scroll; */\n",
        "      /*  max-height: 300px;   */\n",
        "    }\n",
        "    code{\n",
        "      font-size: 78%;\n",
        "    }\n",
        "    .rendered_html code{\n",
        "        background-color: transparent;\n",
        "        white-space: inherit;   \n",
        "    }\n",
        "    ul{\n",
        "        /* color:#447adb; */  \n",
        "        margin: 2em;\n",
        "    }\n",
        "    ul li{\n",
        "        padding-left: 0.5em; \n",
        "        margin-bottom: 0.5em; \n",
        "        margin-top: 0.5em; \n",
        "    }\n",
        "    ul li li{\n",
        "        padding-left: 0.2em; \n",
        "        margin-bottom: 0.2em; \n",
        "        margin-top: 0.2em; \n",
        "    }\n",
        "    ol{\n",
        "        /* color:#447adb; */  \n",
        "        margin: 2em;\n",
        "    }\n",
        "    ol li{\n",
        "        padding-left: 0.5em; \n",
        "        margin-bottom: 0.5em; \n",
        "        margin-top: 0.5em; \n",
        "    }\n",
        "    /*.prompt{\n",
        "        display: None;\n",
        "    } */\n",
        "    ul li{\n",
        "        padding-left: 0.5em; \n",
        "        margin-bottom: 0.5em; \n",
        "        margin-top: 0.2em; \n",
        "    }\n",
        "    a:link{\n",
        "       font-weight: bold;\n",
        "       color:#447adb;\n",
        "    }\n",
        "    a:visited{\n",
        "       font-weight: bold;\n",
        "       color: #1d3b84;\n",
        "    }\n",
        "    a:hover{\n",
        "       font-weight: bold;\n",
        "       color: #1d3b84;\n",
        "    }\n",
        "    a:focus{\n",
        "       font-weight: bold;\n",
        "       color:#447adb;\n",
        "    }\n",
        "    a:active{\n",
        "       font-weight: bold;\n",
        "       color:#447adb;\n",
        "    }\n",
        "    .rendered_html :link {\n",
        "       text-decoration: none; \n",
        "    }\n",
        "    .rendered_html :hover {\n",
        "       text-decoration: none; \n",
        "    }\n",
        "    .rendered_html :visited {\n",
        "      text-decoration: none;\n",
        "    }\n",
        "    .rendered_html :focus {\n",
        "      text-decoration: none;\n",
        "    }\n",
        "    .rendered_html :active {\n",
        "      text-decoration: none;\n",
        "    }\n",
        "    .warning{\n",
        "        color: rgb( 240, 20, 20 )\n",
        "    } \n",
        "    hr {\n",
        "      color: #f3f3f3;\n",
        "      background-color: #f3f3f3;\n",
        "      height: 1px;\n",
        "    }\n",
        "    blockquote{\n",
        "      display:block;\n",
        "      background: #f3f3f3;\n",
        "      font-family: \"Open sans\",verdana,arial,sans-serif;\n",
        "      width:610px;\n",
        "      padding: 15px 15px 15px 15px;\n",
        "      text-align:justify;\n",
        "      text-justify:inter-word;\n",
        "      }\n",
        "      blockquote p {\n",
        "        margin-bottom: 0;\n",
        "        line-height: 125%;\n",
        "        font-size: 100%;\n",
        "        text-align: center;\n",
        "      }\n",
        "   /* element.style {\n",
        "    } */  \n",
        "</style>\n",
        "<script>\n",
        "    MathJax.Hub.Config({\n",
        "                        TeX: {\n",
        "                           extensions: [\"AMSmath.js\"]\n",
        "                           },\n",
        "                tex2jax: {\n",
        "                    inlineMath: [ [\"$\",\"$\"], [\"\\\\(\",\"\\\\)\"] ],\n",
        "                    displayMath: [ [\"$$\",\"$$\"], [\"\\\\[\",\"\\\\]\"] ]\n",
        "                },\n",
        "                displayAlign: \"center\", // Change this to \"center\" to center equations.\n",
        "                \"HTML-CSS\": {\n",
        "                    styles: {\".MathJax_Display\": {\"margin\": 4}}\n",
        "                }\n",
        "        });\n",
        "</script>\n"
       ],
       "metadata": {},
       "output_type": "display_data",
       "text": [
        "<IPython.core.display.HTML at 0x7f93b8cacb10>"
       ]
      }
     ],
     "prompt_number": 15
    }
   ],
   "metadata": {}
  }
 ]
}