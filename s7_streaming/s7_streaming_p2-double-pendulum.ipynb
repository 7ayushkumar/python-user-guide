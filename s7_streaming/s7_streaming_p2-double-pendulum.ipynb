{
 "metadata": {
  "name": "",
  "signature": "sha256:b9a4599fab7c3f148351f4bfd5438fc1ec6a714884409f23b7925647769ac834"
 },
 "nbformat": 3,
 "nbformat_minor": 0,
 "worksheets": [
  {
   "cells": [
    {
     "cell_type": "heading",
     "level": 1,
     "metadata": {},
     "source": [
      "Plotly's Python API User Guide"
     ]
    },
    {
     "cell_type": "heading",
     "level": 2,
     "metadata": {},
     "source": [
      "Section 7: Plotly's Streaming API part 2"
     ]
    },
    {
     "cell_type": "markdown",
     "metadata": {},
     "source": [
      "Welcome to Plotly's Python API User Guide. \n",
      "\n",
      "> Links to the other sections are on the User Guide's [homepage](http://nbviewer.ipython.org/github/plotly/python-user-guide/blob/master/s00_homepage/s00_homepage.ipynb#Table-of-Contents:) <br>\n",
      "If unfamiliar with Plotly's Python API version 1.0 see [section 0](http://nbviewer.ipython.org/github/plotly/python-user-guide/blob/master/s0_getting-started/s0_getting-started.ipynb) <br>\n",
      "The Github repository is available \n",
      "<a href=\"https://github.com/plotly/python-user-guide\" target=\"_blank\">here</a>"
     ]
    },
    {
     "cell_type": "markdown",
     "metadata": {},
     "source": [
      "Section 7 is divided, into separate notebooks, as follows:\n",
      "\n",
      "* [7.0 Streaming API introduction](http://nbviewer.ipython.org/github/plotly/python-user-guide/blob/master/s7_streaming/s7_streaming.ipynb)\n",
      "\n",
      "* [7.1 A first Plotly streaming plot](http://nbviewer.ipython.org/github/plotly/python-user-guide/blob/master/s7_streaming/s7_streaming_p1-first-stream.ipynb)\n",
      "\n",
      "* [7.2 Never-ending double pendulum simulation](http://nbviewer.ipython.org/github/plotly/python-user-guide/blob/master/s7_streaming/s7_streaming_p2-double-pendulum.ipynb)\n",
      "\n",
      "* [7.3 An animated version of Hans Rosling's bubble chart](http://nbviewer.ipython.org/github/plotly/python-user-guide/blob/master/s7_streaming/s7_streaming_p3-bubbles.ipynb)"
     ]
    },
    {
     "cell_type": "markdown",
     "metadata": {},
     "source": [
      "<hr>"
     ]
    },
    {
     "cell_type": "markdown",
     "metadata": {},
     "source": [
      "The User Guide assumes version 1.0 of Plotly's Python API. Check which version is installed on your machine and please upgrade if needed (see the User Guide's <a href=\"http://nbviewer.ipython.org/github/plotly/python-user-guide/blob/master/s00_homepage/s00_homepage.ipynb#Installation-guidelines\" target=\"_blank\">homepage</a> for more info). "
     ]
    },
    {
     "cell_type": "code",
     "collapsed": false,
     "input": [
      "# Check Plolty version (if not 1.0, please upgrade)\n",
      "import plotly\n",
      "plotly.__version__"
     ],
     "language": "python",
     "metadata": {},
     "outputs": [
      {
       "metadata": {},
       "output_type": "pyout",
       "prompt_number": 1,
       "text": [
        "'1.0.22'"
       ]
      }
     ],
     "prompt_number": 1
    },
    {
     "cell_type": "markdown",
     "metadata": {},
     "source": [
      "So, we first import a few modules and sign in to Plotly using our credentials file:"
     ]
    },
    {
     "cell_type": "code",
     "collapsed": false,
     "input": [
      "# (NEW!) To communicate with Plotly's server, sign in with credentials file\n",
      "import plotly.plotly as py  \n",
      "\n",
      "# (NEW!) Useful Python/Plotly tools\n",
      "import plotly.tools as tls   \n",
      "\n",
      "# (NEW!) Objects to piece together plots\n",
      "from plotly.graph_objs import Data, Layout, Figure\n",
      "\n",
      "import numpy as np  # numpy for math functions and arrays"
     ],
     "language": "python",
     "metadata": {},
     "outputs": [],
     "prompt_number": 2
    },
    {
     "cell_type": "markdown",
     "metadata": {},
     "source": [
      "If you are not familiar with credentials files, refer to the User Guide's <a href=\"http://nbviewer.ipython.org/github/plotly/python-user-guide/blob/master/s00_homepage/s00_homepage.ipynb#Step-6\" target=\"_blank\">homepage</a>."
     ]
    },
    {
     "cell_type": "markdown",
     "metadata": {},
     "source": [
      "Finally, retrieve the stream ids in our credentials file as set up in <a href=\"http://nbviewer.ipython.org/github/plotly/python-user-guide/blob/master/s7_streaming/s7_streaming.ipynb#Get-your-stream-tokens\" target=\"_blank\">subsection 7.1</a>:"
     ]
    },
    {
     "cell_type": "code",
     "collapsed": false,
     "input": [
      "my_stream_ids = tls.get_credentials_file()['stream_ids']"
     ],
     "language": "python",
     "metadata": {},
     "outputs": [],
     "prompt_number": 3
    },
    {
     "cell_type": "heading",
     "level": 3,
     "metadata": {},
     "source": [
      "7.2 Never-ending double pendulum simulation"
     ]
    },
    {
     "cell_type": "markdown",
     "metadata": {},
     "source": [
      "Now that we are warmed up, let's generate something a little more impressive.\n",
      "\n",
      "In our next plot, we simulation the motion of a double pendulum in real-time. If ever you are interested, this Wikipedia <a href=\"http://en.wikipedia.org/wiki/Double_pendulum\" target=\"_blank\">article</a> goes over the equations decribing the motion of a double pendulum in details. In essence, we are solving a system of non-linear ordinary differential equations (ODEs) of the form\n",
      "\n",
      "$$ \\frac{\\partial \\boldsymbol{x}}{\\partial t} = F(\\boldsymbol{x}) \\;,$$\n",
      "\n",
      "using the `scipy.integrate` module. In the above, $\\boldsymbol{x}$ is the state vector composed of the angles and angular velocities of both pendulums, the left-hand side is its time derivative and the right-hand side is a system of non-linear functions of the state vector.\n",
      "\n",
      "The following code has been adapted from the <a href=\"http://matplotlib.org/examples/animation/double_pendulum_animated.html\" target=\"_blank\">Matplotlib example bank</a>. Big thanks!"
     ]
    },
    {
     "cell_type": "markdown",
     "metadata": {},
     "source": [
      "We first define the ODEs and the initial conditions:"
     ]
    },
    {
     "cell_type": "code",
     "collapsed": false,
     "input": [
      "# (*) Import a few functions from numpy, for cleaner code\n",
      "from numpy import sin, cos, pi\n",
      "\n",
      "## Define a few constants\n",
      "G =  9.8      # acceleration due to gravity, in m/s^2\n",
      "L1 = 1.0      # length of pendulum 1 in m\n",
      "L2 = 1.0      # length of pendulum 2 in m\n",
      "M1 = 1.0      # mass of pendulum 1 in kg\n",
      "M2 = 1.0      # mass of pendulum 2 in kg\n",
      "rad = pi/180  # radians in 1 deg\n",
      "\n",
      "## Set the initial conditions\n",
      "th1 = 120.0  # th1 and th2 are the initial angles (degrees)\n",
      "th2 = -10.0\n",
      "w1 = 0.0     # w10 and w20 are the initial angular velocities (degrees per second)\n",
      "w2 = 0.0\n",
      "state = np.array([th1, w1, th2, w2])*rad  # initial state array\n",
      "\n",
      "## Time derivatives of each state array variables \n",
      "def derivs(state, t):\n",
      "    dxdt = np.zeros_like(state)   # init. dervative array\n",
      "    del_ = state[2]-state[0]      # difference of angle1 and angle2\n",
      "    \n",
      "    dxdt[0] = state[1]            # derv. of angle1\n",
      "    \n",
      "    den1 = (M1+M2)*L1 - M2*L1*cos(del_)*cos(del_)  # deno. of dxdt[2]\n",
      "    dxdt[1] = (M2*L1*state[1]*state[1]*sin(del_)*cos(del_)\n",
      "               + M2*G*sin(state[2])*cos(del_) \n",
      "               + M2*L2*state[3]*state[3]*sin(del_)\n",
      "               - (M1+M2)*G*sin(state[0]))/den1     # derv. of angular velo.1\n",
      "\n",
      "    dxdt[2] = state[3]  # derv. of angle2\n",
      "\n",
      "    den2 = (L2/L1)*den1  # deno. of dxdt[3]\n",
      "    dxdt[3] = (-M2*L2*state[3]*state[3]*sin(del_)*cos(del_)  \n",
      "               + (M1+M2)*G*sin(state[0])*cos(del_)\n",
      "               - (M1+M2)*L1*state[1]*state[1]*sin(del_)\n",
      "               - (M1+M2)*G*sin(state[2]))/den2   # derv. of angular velo.2\n",
      "\n",
      "    return dxdt  # return time derv. array"
     ],
     "language": "python",
     "metadata": {},
     "outputs": [],
     "prompt_number": 4
    },
    {
     "cell_type": "markdown",
     "metadata": {},
     "source": [
      "Our next plot features two traces:\n",
      "\n",
      "* The double pendulum itself consisting of three nodes (two free nodes and an attached one).\n",
      "\n",
      "* The path of the double pendulum's bottom node previous to the current time.\n",
      "\n",
      "Therefore, we need **two unique streams!**\n",
      "\n",
      "So, let's initialize our Plotly streaming plot along with some style options for both traces:"
     ]
    },
    {
     "cell_type": "code",
     "collapsed": false,
     "input": [
      "# (*) Import Stream id object\n",
      "from plotly.graph_objs import Stream"
     ],
     "language": "python",
     "metadata": {},
     "outputs": [],
     "prompt_number": 5
    },
    {
     "cell_type": "code",
     "collapsed": false,
     "input": [
      "# (*) Import a few graph object needed for the following plot\n",
      "from plotly.graph_objs import Scatter, Line, Marker, XAxis, YAxis"
     ],
     "language": "python",
     "metadata": {},
     "outputs": [],
     "prompt_number": 6
    },
    {
     "cell_type": "code",
     "collapsed": false,
     "input": [
      "# Get stream id from stream id list\n",
      "#  and init. 1st scatter obj (the pendulums)\n",
      "my_stream_id1 = my_stream_ids[1]\n",
      "my_scatter1 = Scatter(x=[], y=[],            # init. data lists\n",
      "                      mode='lines+markers',  # markers at pendulum's nodes, lines in-bt.\n",
      "                      line= Line(opacity=0.8),  # reduce opacity\n",
      "                      marker= Marker(size=12),  # increase marker size\n",
      "                      stream= Stream(token=my_stream_id1)) # N.B. link streamid to token\n",
      "                                                           # no need to set 'maxpoints'\n",
      "                                                           # s1 streams lists! \n",
      "                                                           # (more below In [9])\n",
      "\n",
      "# Get different stream id from stream id list\n",
      "#  and init. 2nd scatter obj (path pendulum's bottom node)\n",
      "my_stream_id2 = my_stream_ids[2]\n",
      "my_scatter2 = Scatter(x=[], y=[],    # init. data lists\n",
      "                      mode='lines',  # path drawn as line\n",
      "                      line= Line(color='rgba(31,119,180,0.15)'), # light blue line color\n",
      "                      stream= Stream(token=my_stream_id2, # N.B. link streamid to toke\n",
      "                                     maxpoints=100)) # plot a max of 100 pts on screen\n",
      "\n",
      "# Make data object made up of the 2 scatter objs\n",
      "my_data = Data([my_scatter1, my_scatter2]) \n",
      "\n",
      "# Make layout with title and set axis ranges\n",
      "my_layout = Layout(title='Double Pendulum Simulation',  # plot's title\n",
      "                   xaxis= XAxis(range=[-2,2]),    # set x-axis range\n",
      "                   yaxis= YAxis(range=[-2,0.5]),  # set y-axis range\n",
      "                   showlegend= False)             # remove legend\n",
      "\n",
      "# Add a few style options to XAxis and YAxis objects\n",
      "my_axes_style = dict(showgrid=False,    # remove grid\n",
      "                     showline=False,    # remove axes lines\n",
      "                     zeroline=False)    # remove x=0 and y=0 lines\n",
      "my_layout['xaxis'].update(my_axes_style)\n",
      "my_layout['yaxis'].update(my_axes_style)\n",
      "    \n",
      "# Make figure object, init. streaming plot, open tab\n",
      "my_fig = Figure(data=my_data, layout=my_layout)\n",
      "unique_url = py.plot(my_fig, filename='s7_streaming-double-pendulum')"
     ],
     "language": "python",
     "metadata": {},
     "outputs": [],
     "prompt_number": 7
    },
    {
     "cell_type": "markdown",
     "metadata": {},
     "source": [
      "Here's a screenshot of our plot pre-streaming:\n",
      "\n",
      "<img src=\"http://i.imgur.com/1rqFq3q.png\" />\n",
      "\n",
      "<br>\n",
      "\n",
      "Next, we make two stream link objects and open their connections:"
     ]
    },
    {
     "cell_type": "code",
     "collapsed": false,
     "input": [
      "# Make 1st instance of the stream link object, \n",
      "#  with same stream id as the 1st stream id object\n",
      "s1 = py.Stream(my_stream_id1)\n",
      "\n",
      "# Make 2nd instance of the stream link object, \n",
      "#  with same stream id as the 2nd stream id object\n",
      "s2 = py.Stream(my_stream_id2)\n",
      "\n",
      "# Open both streams\n",
      "s1.open()\n",
      "s2.open()"
     ],
     "language": "python",
     "metadata": {},
     "outputs": [],
     "prompt_number": 8
    },
    {
     "cell_type": "markdown",
     "metadata": {},
     "source": [
      "Finally, we send data into our two streams, `s1` and `s2`.\n",
      "\n",
      "In this case, we integrate the equations with a time step of 0.05 seconds and update the double's pendulum position and path every 80 milliseconds, for smoother plotting."
     ]
    },
    {
     "cell_type": "code",
     "collapsed": false,
     "input": [
      "# (*) Import module to integrate ODE and keep track of time\n",
      "import scipy.integrate as integrate\n",
      "import time\n",
      "\n",
      "N = 2   # number of time integrate.odeint() integrations \n",
      "i = 1   # init. counter\n",
      "\n",
      "time.sleep(5) # N.B. delay start of stream by 5 sec (time to switch tabs)\n",
      "\n",
      "## Solve the system of ODEs N times\n",
      "while i<N:\n",
      "    i += 1                    # add to counter\n",
      "    dt = 0.05                 # create a time array from 0..100  \n",
      "    t = np.arange(0.0,20,dt)  #  sampled at 0.05 second steps (of 400 steps in all)\n",
      "    \n",
      "    y = integrate.odeint(derivs,state,t)  # solve the system of ODEs, for times in t!\n",
      "    \n",
      "    x1 = L1*sin(y[:,0])       # convert angles to x-y coordinates\n",
      "    y1 = -L1*cos(y[:,0])\n",
      "    x2 = L2*sin(y[:,2]) + x1  #   for both pendulums\n",
      "    y2 = -L2*cos(y[:,2]) + y1\n",
      "    \n",
      "    # Write the solutions to Plotly's servers, 1 per stream, 1 point at a time\n",
      "    for (x1i,y1i,x2i,y2i) in zip(x1,y1,x2,y2):\n",
      "        s1.write(dict(x=[0, x1i, x2i], y=[0, y1i, y2i]))  # N.B. list of 3 pendulum nodes\n",
      "        s2.write(dict(x=x2i, y=y2i))                      # N.B. 1 point of path\n",
      "        time.sleep(0.08)  # N.B. plot points 80 ms at a time, for smoother plotting\n",
      "\n",
      "    # Set the new initial state\n",
      "    state = np.array([y[-1,0], y[-1,1], y[-1,2], y[-1,3]])\n",
      "\n",
      "# N.B. Close both streams when done plotting\n",
      "s1.close()\n",
      "s2.close()"
     ],
     "language": "python",
     "metadata": {},
     "outputs": [],
     "prompt_number": 9
    },
    {
     "cell_type": "markdown",
     "metadata": {},
     "source": [
      "Please note that we write a list into `s1` at every update time. This overwrites the existing list (in this case the double pendulum's previous position). In contrast, we send numbers (one x-coordinate and one y-coordinate) into `s2` which appends the existing list.\n",
      "\n",
      "Again, if you have the computer resources, why not have \n",
      "\n",
      "    >>> while True: \n",
      "    \n",
      "as while-loop expression and have a never-ending double pendulum simulation.\n",
      "\n",
      "The Plotly team did it. Enjoy:"
     ]
    },
    {
     "cell_type": "code",
     "collapsed": false,
     "input": [
      "# Embed never-ending simulation\n",
      "tls.embed('streaming-demos','4')"
     ],
     "language": "python",
     "metadata": {},
     "outputs": [
      {
       "html": [
        "<iframe id=\"igraph\" scrolling=\"no\" style=\"border:none;\"seamless=\"seamless\" src=\"https://plot.ly/~streaming-demos/4\" height=\"525\" width=\"100%\"></iframe>"
       ],
       "metadata": {},
       "output_type": "display_data",
       "text": [
        "<IPython.core.display.HTML at 0x7fa4c253a290>"
       ]
      }
     ],
     "prompt_number": 10
    },
    {
     "cell_type": "markdown",
     "metadata": {},
     "source": [
      "Pretty cool, right?\n",
      "\n",
      "Watch the end points of the trailing path dissapear as, in this example, the maximum number of on-screen points is set to 100 (with the `'maxpoints'` key in the stream id object)."
     ]
    },
    {
     "cell_type": "markdown",
     "metadata": {},
     "source": [
      "<hr>\n",
      "\n",
      "Subsections of section 7:\n",
      "\n",
      "* [7.0 Streaming API introduction](http://nbviewer.ipython.org/github/plotly/python-user-guide/blob/master/s7_streaming/s7_streaming.ipynb)\n",
      "\n",
      "* [7.1 A first Plotly streaming plot](http://nbviewer.ipython.org/github/plotly/python-user-guide/blob/master/s7_streaming/s7_streaming_p1-first-stream.ipynb)\n",
      "\n",
      "* [7.2 Never-ending double pendulum simulation](http://nbviewer.ipython.org/github/plotly/python-user-guide/blob/master/s7_streaming/s7_streaming_p2-double-pendulum.ipynb)\n",
      "\n",
      "* [7.3 An animated version of Hans Rosling's bubble chart](http://nbviewer.ipython.org/github/plotly/python-user-guide/blob/master/s7_streaming/s7_streaming_p3-bubbles.ipynb)\n",
      "\n",
      "<!-- <h4 style=\"font-size:14pt;\">Go to\n",
      "\n",
      "[Section 4 --- Histograms & Box Plots](http://nbviewer.ipython.org/github/plotly/python-user-guide/blob/master/s4_histograms/s4_histograms.ipynb) </h4> -->\n",
      "\n",
      "<!-- <h4 style=\"font-size:14pt;\">Go to\n",
      "\n",
      "[Section 2 --- Bar Charts](http://nbviewer.ipython.org/github/plotly/python-user-guide/blob/master/s2_bar-charts/s2_bar-charts.ipynb) </h4> -->\n",
      "\n",
      "<h4 style=\"font-size:14pt; margin-top:1.5em\">Go to\n",
      "\n",
      "[top of page](#Plotly's-Python-API-User-Guide) </h4>\n",
      "\n",
      "<h4 style=\"font-size:14pt\">Go to User Guide's\n",
      "\n",
      "[homepage](http://nbviewer.ipython.org/github/plotly/python-user-guide/blob/master/s00_homepage/s00_homepage.ipynb) </h4>\n",
      "    \n",
      "<hr>"
     ]
    },
    {
     "cell_type": "markdown",
     "metadata": {},
     "source": [
      "<div style=\"float:right; \\\">\n",
      "    <img src=\"http://i.imgur.com/4vwuxdJ.png\" \n",
      " align=right style=\"float:right; margin-left: 5px; margin-top: -10px\" />\n",
      "</div>\n",
      "\n",
      "<h4>Got Questions or Feedback? </h4>\n",
      "\n",
      "About <a href=\"https://plot.ly\" target=\"_blank\">Plotly</a>\n",
      "\n",
      "* email: feedback@plot.ly \n",
      "* tweet: \n",
      "<a href=\"https://twitter.com/plotlygraphs\" target=\"_blank\">@plotlygraphs</a>\n",
      "\n",
      "About the <a href=\"https://github.com/plotly/python-user-guide\" target=\"_blank\">User Guide</a>\n",
      " \n",
      "* email: etienne@plot.ly\n",
      "* tweet: <a href=\"https://twitter.com/etpinard\" target=\"_blank\">@etpinard</a>\n",
      "\n",
      "<h4 style=\"margin-top:30px;\">Notebook styling ideas</h4>\n",
      "\n",
      "Big thanks to\n",
      "\n",
      "* <a href=\"http://nbviewer.ipython.org/github/CamDavidsonPilon/Probabilistic-Programming-and-Bayesian-Methods-for-Hackers/blob/master/Prologue/Prologue.ipynb\" target=\"_blank\">Cam Davidson-Pilon</a>\n",
      "* <a href=\"http://lorenabarba.com/blog/announcing-aeropython/#.U1ULXdX1LJ4.google_plusone_share\" target=\"_blank\">Lorena A. Barba</a>\n",
      "\n",
      "<br>"
     ]
    },
    {
     "cell_type": "code",
     "collapsed": false,
     "input": [
      "# CSS styling within IPython notebook\n",
      "from IPython.core.display import HTML\n",
      "def css_styling():\n",
      "    styles = open(\"../custom.css\", \"r\").read()\n",
      "    return HTML(styles)\n",
      "css_styling()"
     ],
     "language": "python",
     "metadata": {},
     "outputs": [
      {
       "html": [
        "<style>\n",
        "    /*body {\n",
        "        background-color: #F5F5F5;\n",
        "    }*/\n",
        "    div.cell{\n",
        "        width: 850px;\n",
        "        margin-left: 10% !important;\n",
        "        margin-right: auto;\n",
        "    }\n",
        "    h1 {\n",
        "        font-family: \"Open sans\",verdana,arial,sans-serif;\n",
        "    }\n",
        "    .text_cell_render h1 {\n",
        "        font-weight: 200;\n",
        "        font-size: 40pt;\n",
        "        line-height: 100%;\n",
        "        color:#447adb;\n",
        "        margin-bottom: 0em;\n",
        "        margin-top: 0em;\n",
        "        display: block;\n",
        "        white-space: nowrap;\n",
        "    } \n",
        "    h2 {\n",
        "        font-family: \"Open sans\",verdana,arial,sans-serif;\n",
        "        text-indent:1em;\n",
        "    }\n",
        "    .text_cell_render h2 {\n",
        "        font-weight: 200;\n",
        "        font-size: 20pt;\n",
        "        font-style: italic;\n",
        "        line-height: 100%;\n",
        "        color:#447adb;\n",
        "        margin-bottom: 1.5em;\n",
        "        margin-top: 0.5em;\n",
        "        display: block;\n",
        "        white-space: nowrap;\n",
        "    } \n",
        "    h3 {\n",
        "        font-family: \"Open sans\",verdana,arial,sans-serif;\n",
        "    }\n",
        "    .text_cell_render h3 {\n",
        "        font-weight: 300;\n",
        "        font-size: 18pt;\n",
        "        line-height: 100%;\n",
        "        color:#447adb;\n",
        "        margin-bottom: 0.5em;\n",
        "        margin-top: 2em;\n",
        "        display: block;\n",
        "        white-space: nowrap;\n",
        "    }\n",
        "    h4 {\n",
        "        font-family: \"Open sans\",verdana,arial,sans-serif;\n",
        "    }\n",
        "    .text_cell_render h4 {\n",
        "        font-weight: 300;\n",
        "        font-size: 16pt;\n",
        "        color:#447adb;\n",
        "        margin-bottom: 0.5em;\n",
        "        margin-top: 0.5em;\n",
        "        display: block;\n",
        "        white-space: nowrap;\n",
        "    }\n",
        "    h5 {\n",
        "        font-family: \"Open sans\",verdana,arial,sans-serif;\n",
        "    }\n",
        "    .text_cell_render h5 {\n",
        "        font-weight: 300;\n",
        "        font-style: normal;\n",
        "        color: #1d3b84;\n",
        "        font-size: 16pt;\n",
        "        margin-bottom: 0em;\n",
        "        margin-top: 1.5em;\n",
        "        display: block;\n",
        "        white-space: nowrap;\n",
        "    }\n",
        "    div.text_cell_render{\n",
        "        font-family: \"Open sans\",verdana,arial,sans-serif;\n",
        "        line-height: 135%;\n",
        "        font-size: 125%;\n",
        "        width:750px;\n",
        "        margin-left:auto;\n",
        "        margin-right:auto;\n",
        "        text-align:justify;\n",
        "        text-justify:inter-word;\n",
        "    }\n",
        "    div.output_subarea.output_text.output_pyout {\n",
        "        overflow-x: auto;\n",
        "        overflow-y: scroll;\n",
        "        max-height: 300px;\n",
        "    }\n",
        "    div.output_subarea.output_stream.output_stdout.output_text {\n",
        "        overflow-x: auto;\n",
        "        overflow-y: scroll;\n",
        "        max-height: 300px;\n",
        "    }\n",
        "    code{\n",
        "      font-size: 78%;\n",
        "    }\n",
        "    .rendered_html code{\n",
        "    background-color: transparent;\n",
        "    }\n",
        "    ul{\n",
        "        /* color:#447adb; */  // colors text too\n",
        "        margin: 2em;\n",
        "    }\n",
        "    ul li{\n",
        "        padding-left: 0.5em; \n",
        "        margin-bottom: 0.5em; \n",
        "        margin-top: 0.5em; \n",
        "    }\n",
        "    ul li li{\n",
        "        padding-left: 0.2em; \n",
        "        margin-bottom: 0.2em; \n",
        "        margin-top: 0.2em; \n",
        "    }\n",
        "    ol{\n",
        "        /* color:#447adb; */  // colors text too\n",
        "        margin: 2em;\n",
        "    }\n",
        "    ol li{\n",
        "        padding-left: 0.5em; \n",
        "        margin-bottom: 0.5em; \n",
        "        margin-top: 0.5em; \n",
        "    }\n",
        "    /*.prompt{\n",
        "        display: None;\n",
        "    } */\n",
        "    ul li{\n",
        "        padding-left: 0.5em; \n",
        "        margin-bottom: 0.5em; \n",
        "        margin-top: 0.2em; \n",
        "    }\n",
        "    a:link{\n",
        "       font-weight: bold;\n",
        "       color:#447adb;\n",
        "    }\n",
        "    a:visited{\n",
        "       font-weight: bold;\n",
        "       color: #1d3b84;\n",
        "    }\n",
        "    a:hover{\n",
        "       font-weight: bold;\n",
        "       color: #1d3b84;\n",
        "    }\n",
        "    a:focus{\n",
        "       font-weight: bold;\n",
        "       color:#447adb;\n",
        "    }\n",
        "    a:active{\n",
        "       font-weight: bold;\n",
        "       color:#447adb;\n",
        "    }\n",
        "    .rendered_html :link {\n",
        "       text-decoration: none; \n",
        "    }\n",
        "    .rendered_html :hover {\n",
        "       text-decoration: none; \n",
        "    }\n",
        "    .rendered_html :visited {\n",
        "      text-decoration: none;\n",
        "    }\n",
        "    .rendered_html :focus {\n",
        "      text-decoration: none;\n",
        "    }\n",
        "    .rendered_html :active {\n",
        "      text-decoration: none;\n",
        "    }\n",
        "    .warning{\n",
        "        color: rgb( 240, 20, 20 )\n",
        "    } \n",
        "    hr {\n",
        "      color: #f3f3f3;\n",
        "      background-color: #f3f3f3;\n",
        "      height: 1px;\n",
        "    }\n",
        "    blockquote{\n",
        "      display:block;\n",
        "      background: #f3f3f3;\n",
        "      font-family: \"Open sans\",verdana,arial,sans-serif;\n",
        "      width:610px;\n",
        "      padding: 15px 15px 15px 15px;\n",
        "      text-align:justify;\n",
        "      text-justify:inter-word;\n",
        "      }\n",
        "      blockquote p {\n",
        "        margin-bottom: 0;\n",
        "        line-height: 125%;\n",
        "        font-size: 100%;\n",
        "      }\n",
        "   /* element.style {\n",
        "    } */  \n",
        "</style>\n",
        "<script>\n",
        "    MathJax.Hub.Config({\n",
        "                        TeX: {\n",
        "                           extensions: [\"AMSmath.js\"]\n",
        "                           },\n",
        "                tex2jax: {\n",
        "                    inlineMath: [ [\"$\",\"$\"], [\"\\\\(\",\"\\\\)\"] ],\n",
        "                    displayMath: [ [\"$$\",\"$$\"], [\"\\\\[\",\"\\\\]\"] ]\n",
        "                },\n",
        "                displayAlign: \"center\", // Change this to \"center\" to center equations.\n",
        "                \"HTML-CSS\": {\n",
        "                    styles: {\".MathJax_Display\": {\"margin\": 4}}\n",
        "                }\n",
        "        });\n",
        "</script>\n"
       ],
       "metadata": {},
       "output_type": "pyout",
       "prompt_number": 11,
       "text": [
        "<IPython.core.display.HTML at 0x7fa4c253dc50>"
       ]
      }
     ],
     "prompt_number": 11
    },
    {
     "cell_type": "code",
     "collapsed": false,
     "input": [],
     "language": "python",
     "metadata": {},
     "outputs": [],
     "prompt_number": 11
    }
   ],
   "metadata": {}
  }
 ]
}