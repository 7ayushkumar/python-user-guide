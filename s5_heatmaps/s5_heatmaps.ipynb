{
 "metadata": {
  "name": "s5_heatmaps"
 },
 "nbformat": 3,
 "nbformat_minor": 0,
 "worksheets": [
  {
   "cells": [
    {
     "cell_type": "markdown",
     "metadata": {},
     "source": [
      "under construction"
     ]
    },
    {
     "cell_type": "code",
     "collapsed": false,
     "input": [
      "import numpy as np\n",
      "\n",
      "x0 = np.concatenate([np.random.randn(100), np.random.randn(100)+6])\n",
      "y0 = np.random.rayleigh(size=200)\n",
      "\n",
      "histogram2d = { \"x\": x0, \"y\": y0, \"type\": \"histogram2d\"}\n",
      "\n",
      "histogramy1 = {\"y\": y0, \"type\": \"histogramy\", \"xaxis\": \"x2\", \"yaxis\": \"y\", \"bardir\": \"h\",\n",
      "                \"marker\":{\"color\":\"rgb(31, 119, 180)\"}}\n",
      "histogramy2 = {\"x\":x0, \"type\": \"histogramx\", \"xaxis\": \"x\", \"yaxis\": \"y2\",\n",
      "                \"marker\":{\"color\":\"rgb(31, 119, 180)\"}}\n",
      "\n",
      "layout = {\n",
      "    \"xaxis\":{ \"domain\":[0,0.8], \"showgrid\":False, \"showline\":False, \"zeroline\":False },\n",
      "    \"yaxis\":{ \"domain\":[0,0.8], \"showgrid\":False, \"showline\":False, \"zeroline\":False },\n",
      "    \"xaxis2\":{ \"domain\":[0.82,1.0], \"showgrid\":False, \"showline\":False, \"zeroline\":False },\n",
      "    \"yaxis2\":{ \"domain\":[0.82,1.0], \"showgrid\":False, \"showline\":False, \"zeroline\":False },\n",
      "     \"showlegend\":False,\n",
      "}\n",
      "py.iplot([histogram2d, histogramy1, histogramy2],layout=layout, filename='histogram subplots', fileopt='overwrite', width=1000, height=650)"
     ],
     "language": "python",
     "metadata": {},
     "outputs": []
    }
   ],
   "metadata": {}
  }
 ]
}