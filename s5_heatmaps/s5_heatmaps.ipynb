{
 "metadata": {
  "name": "s5_heatmaps"
 },
 "nbformat": 3,
 "nbformat_minor": 0,
 "worksheets": [
  {
   "cells": [
    {
     "cell_type": "markdown",
     "metadata": {},
     "source": [
      "<h4>Got Questions and Feedback? </h4>\n",
      "\n",
      "\n",
      "<div style=\"float:right; \\\">\n",
      "    <img src=\"http://i.imgur.com/4Kk2oFn.png\" \n",
      " align=right style=\"float:right; margin-left: 25px; margin-top: 15px\" />\n",
      "</div>\n",
      "\n",
      "<br>\n",
      "\n",
      "About <a href=\"https://plot.ly\" target=\"_blank\">Plotly</a>\n",
      "\n",
      "* email: feedback@plot.ly \n",
      "* tweet: \n",
      "<a href=\"https://twitter.com/plotlygraphs\" target=\"_blank\">@plotlygraphs</a>\n",
      "\n",
      "About the <a href=\"https://github.com/etpinard/plotly-python-doc\" target=\"_blank\">User Guide</a>\n",
      " \n",
      "* email: etienne.t.pinard@gmail.com\n",
      "* tweet: <a href=\"https://twitter.com/etpinard\" target=\"_blank\">@etpinard</a>\n",
      "\n",
      "<h4>Big Thanks to</h4>\n",
      "\n",
      "* <a href=\"http://nbviewer.ipython.org/github/CamDavidsonPilon/Probabilistic-Programming-and-Bayesian-Methods-for-Hackers/blob/master/Prologue/Prologue.ipynb\" target=\"_blank\">Cam Davidson-Pilon</a> for notebook styling ideas\n",
      "   \n",
      "<hr>"
     ]
    },
    {
     "cell_type": "code",
     "collapsed": false,
     "input": [
      "import numpy as np\n",
      "\n",
      "x0 = np.concatenate([np.random.randn(100), np.random.randn(100)+6])\n",
      "y0 = np.random.rayleigh(size=200)\n",
      "\n",
      "histogram2d = { \"x\": x0, \"y\": y0, \"type\": \"histogram2d\"}\n",
      "\n",
      "histogramy1 = {\"y\": y0, \"type\": \"histogramy\", \"xaxis\": \"x2\", \"yaxis\": \"y\", \"bardir\": \"h\",\n",
      "                \"marker\":{\"color\":\"rgb(31, 119, 180)\"}}\n",
      "histogramy2 = {\"x\":x0, \"type\": \"histogramx\", \"xaxis\": \"x\", \"yaxis\": \"y2\",\n",
      "                \"marker\":{\"color\":\"rgb(31, 119, 180)\"}}\n",
      "\n",
      "layout = {\n",
      "    \"xaxis\":{ \"domain\":[0,0.8], \"showgrid\":False, \"showline\":False, \"zeroline\":False },\n",
      "    \"yaxis\":{ \"domain\":[0,0.8], \"showgrid\":False, \"showline\":False, \"zeroline\":False },\n",
      "    \"xaxis2\":{ \"domain\":[0.82,1.0], \"showgrid\":False, \"showline\":False, \"zeroline\":False },\n",
      "    \"yaxis2\":{ \"domain\":[0.82,1.0], \"showgrid\":False, \"showline\":False, \"zeroline\":False },\n",
      "     \"showlegend\":False,\n",
      "}\n",
      "py.iplot([histogram2d, histogramy1, histogramy2],layout=layout, filename='histogram subplots', fileopt='overwrite', width=1000, height=650)"
     ],
     "language": "python",
     "metadata": {},
     "outputs": []
    }
   ],
   "metadata": {}
  }
 ]
}