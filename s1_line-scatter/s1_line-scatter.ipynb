{
 "metadata": {
  "name": "s1_line-scatter"
 },
 "nbformat": 3,
 "nbformat_minor": 0,
 "worksheets": [
  {
   "cells": [
    {
     "cell_type": "heading",
     "level": 1,
     "metadata": {},
     "source": [
      "Section 1: Line & Scatter Plots"
     ]
    },
    {
     "cell_type": "markdown",
     "metadata": {},
     "source": [
      "Welcome to Plotly's *Python API User Guide*. \n",
      "\n",
      "Links to the other sections can be found on the User Guide's [homepage](http://nbviewer.ipython.org/github/etpinard/plotly-python-doc/blob/master/s0_getting-started/s0_getting-started.ipynb) and\n",
      "the full Github repository is available \n",
      "<a href=\"https://github.com/etpinard/plotly-python-doc\" target=\"_blank\">here</a>.\n",
      "\n",
      "<hr>"
     ]
    },
    {
     "cell_type": "markdown",
     "metadata": {},
     "source": [
      "In this section, we cover Plotly's line and scatter plot type and API basics such as setting up the Plotly object, trace, layout dictionaries and file naming on the Plotly server."
     ]
    },
    {
     "cell_type": "heading",
     "level": 4,
     "metadata": {},
     "source": [
      "1.1 Setting up the Plotly object"
     ]
    },
    {
     "cell_type": "markdown",
     "metadata": {},
     "source": [
      "First, we import the modules needed for this section:"
     ]
    },
    {
     "cell_type": "code",
     "collapsed": false,
     "input": [
      "import plotly       # Plotly for Python API\n",
      "import json         # JSON file read/write\n",
      "import numpy as np  # Numpy for math functions and arrays\n",
      "\n",
      "plotly.__version__  # check ploty.ly version"
     ],
     "language": "python",
     "metadata": {},
     "outputs": [
      {
       "output_type": "pyout",
       "prompt_number": 1,
       "text": [
        "'0.5.13'"
       ]
      }
     ],
     "prompt_number": 1
    },
    {
     "cell_type": "markdown",
     "metadata": {},
     "source": [
      "For code portability, setting up a `config.json` file storing your Plotly username and API key is recommanded ([more on the homepage](http://nbviewer.ipython.org/github/etpinard/plotly-python-doc/blob/master/s0_getting-started/s0_getting-started.ipynb)). After retrieving the username and API key, we initialize the Plotly object as follows:"
     ]
    },
    {
     "cell_type": "code",
     "collapsed": false,
     "input": [
      "# Open config.json \n",
      "with open('../config.json') as config_file:\n",
      "    plotly_user_config = json.load(config_file)\n",
      "    \n",
      "# -- note that the 'with' statement automatically closes  \n",
      "#    'config.json' at the end of its block of code\n",
      "\n",
      "# Get username and api_key from config.json\n",
      "username = plotly_user_config['plotly_username']\n",
      "api_key = plotly_user_config['plotly_api_key']\n",
      "\n",
      "# Initialize the Plotly object to 'my_plotly'\n",
      "my_plotly = plotly.plotly(username, api_key)"
     ],
     "language": "python",
     "metadata": {},
     "outputs": [],
     "prompt_number": 2
    },
    {
     "cell_type": "markdown",
     "metadata": {},
     "source": [
      "*And there we go!* \n",
      "\n",
      "We are ready to start plotting using Plotly directly from this IPython notebook. <br/>\n",
      "As a convention, the Plolty object is referred to as `my_plotly` throughout the User Guide."
     ]
    },
    {
     "cell_type": "heading",
     "level": 4,
     "metadata": {},
     "source": [
      "1.2 Your first Plotly plot!"
     ]
    },
    {
     "cell_type": "markdown",
     "metadata": {},
     "source": [
      "*Let's make our first plot!*\n",
      "\n",
      "Plotting with Plotly is done by calling the `.plot` method onto the Plotly object (`my_plotly` for us here).\n",
      "\n",
      "By default, the `.plot` method opens a new tab in your browser showing the plot created the Plotly website (try it!). \n",
      "The practice is most useful when working with Python inside a terminal. \n",
      "For us, here inside an IPython notebook, Plotly allows users to plot and instantly embed the result inside the notebook (similar to the `%matplotlib inline` magic) by calling the `.iplot method`.\n",
      "Hence, we use the `.iplot` method throughout the User Guide.\n",
      "\n",
      "For our first plot, let's take two lists of numbers and plot them against each other. In later sections, we will use *real* data files, but for now this will do."
     ]
    },
    {
     "cell_type": "code",
     "collapsed": false,
     "input": [
      "# Two lists of numbers\n",
      "my_x0 = [1,2,3,5,6]\n",
      "my_y0 = [1,4.5,7,24,38]\n",
      "\n",
      "# Call the .iplot method onto the Plotly object\n",
      "my_plotly.iplot(my_x0,my_y0)"
     ],
     "language": "python",
     "metadata": {},
     "outputs": [
      {
       "html": [
        "<iframe height=\"500\" id=\"igraph\" scrolling=\"no\" seamless=\"seamless\" src=\"https://plot.ly/~etpinard/114/600/450\" width=\"650\"></iframe>"
       ],
       "output_type": "pyout",
       "prompt_number": 5,
       "text": [
        "<IPython.core.display.HTML at 0x1f21f10>"
       ]
      }
     ],
     "prompt_number": 5
    },
    {
     "cell_type": "markdown",
     "metadata": {},
     "source": [
      "*There you go!* Our first Plotly plot.\n",
      "\n",
      "Plotly takes the first argument (`my_x0` in the above) as the data points' x-coordinates and \n",
      "the second argument (`my_y0`) as their y-coordinates.\n",
      "By default, Plotly draws a line between the data points.\n",
      "Numpy users, Plotly accepts 1-dimensional Numpy arrays as arguments as well. No need to convert them!\n",
      "\n",
      "More generally, the `.plot` and `.iplot` methods supports multiple x-y pairs. \n",
      "For example, Plotly parses the `my_plotly.iplot(x0,y0,x1,y1,x2,y2)` call into x-y pairs where each pair is plotted in the order sent starting from the left (i.e. the `x0`-`y0` pair is plotted before the `x1`-`y1` pair and before the `x2`-`y2` pair).\n",
      "\n",
      "In addition, if the x-coordinate and y-coordinate list do not have the same length,\n",
      "the longer list is sliced down from its last entry to match the shorter list's length.\n",
      "\n",
      "The first argument of the `.plot` and `.iplot` methods can itself be a list. \n",
      "For example, `.iplot(my_x0,my_y0)` and `.iplot([my_x0,my_y0])` are equivalent.\n",
      "This feautre is very convenient for building complex calls onto the Plotly object \n",
      "and is used extensively in later sections.\n",
      "\n",
      "In brief, Plotly is great for quick and simple data visualization, it turns lists of numbers (or 1d Numpy arrays) into plots very easily. \n",
      "That said, for custom and professional-looking plots (with titles among other things), we need to learn how to use Plotly in conjonction with Python dictionaries."
     ]
    },
    {
     "cell_type": "heading",
     "level": 4,
     "metadata": {},
     "source": [
      "1.3 Dictionaries and customization"
     ]
    },
    {
     "cell_type": "markdown",
     "metadata": {},
     "source": [
      "Customizing a Plotly plot requires the use of Python dictionaries.\n",
      "In short, Plotly plot options are set via key-values pairs. Python beginners need not to worry, these concepts will be described in detail shortly.\n",
      "\n",
      "As a convention, in this User Guide, we use the term *trace* to refer to any collection of data points meant to be plotted as a whole. For example, the `my_x0`-`my_y0` pair in the above plot is a *trace*.\n",
      "Some plot options are associated to each of the plot's traces while other are associated to the plot's layout. \n",
      "For example, setting the line type is made via a *trace dictionary* and setting the title of the plot is made via the *layout dictionary*.\n",
      "\n",
      "Now, to explore these concepts, consider the following:"
     ]
    },
    {
     "cell_type": "code",
     "collapsed": false,
     "input": [
      "# 1) Define a trace dictionary for previous plot's data points\n",
      "trace0 = {'x': my_x0,         # x-coordinates of trace\n",
      "          'y': my_y0,         # y-coordinates of trace\n",
      "          'type': 'scatter',  # plot type\n",
      "          'mode': 'markers'}  # plot mode within the 'scatter' type\n",
      "\n",
      "# 2) Add a second trace!\n",
      "\n",
      "# 2.1) Create a numpy array of 100 equally-spaced numbers\n",
      "my_x1 = np.linspace(0,6,100)\n",
      "\n",
      "# 2.2) Define a simply function \n",
      "def my_f1(x):\n",
      "    return x**2\n",
      "\n",
      "# 2.3) Evaluate 'my_f1' to the points in 'my_x1'\n",
      "my_y1 = my_f1(my_x1)\n",
      "\n",
      "# 2.4) Define a trace dictionary for the above function\n",
      "trace1 = {'x': my_x1,         # x-coordinates of new trace  \n",
      "          'y': my_y1,         # y-coordinates of new trace\n",
      "          'type': 'scatter',  # N.B. these are the default\n",
      "          'mode': 'lines'}    #      'type' and 'mode' values\n",
      "\n",
      "# Call the .iplot method with a list of trace dictionary onto the Plotly object\n",
      "my_plotly.iplot([trace0,trace1]) "
     ],
     "language": "python",
     "metadata": {},
     "outputs": [
      {
       "html": [
        "<iframe height=\"500\" id=\"igraph\" scrolling=\"no\" seamless=\"seamless\" src=\"https://plot.ly/~etpinard/115/600/450\" width=\"650\"></iframe>"
       ],
       "output_type": "pyout",
       "prompt_number": 7,
       "text": [
        "<IPython.core.display.HTML at 0x1feee10>"
       ]
      }
     ],
     "prompt_number": 7
    },
    {
     "cell_type": "markdown",
     "metadata": {},
     "source": [
      "*Let's make sense of the above code.*\n",
      "\n",
      "In the `trace0` dictionary:\n",
      "\n",
      "* key `'x'` has for value the `my_x0` list (defined previously) ;\n",
      "* key `'y'` has for value the `my_y1` list (also defined previously) ; \n",
      "* key `'type'` has for value the `'scatter'` string ;\n",
      "* key `'mode'` has for value the `'markers'` string.\n",
      "\n",
      "`'scatter`' is the default value for the `'type'` key; hence, it is optional. \n",
      "Removing this key would not change the resulting plot (try it!). \n",
      "That said, it is good practice to include it.\n",
      "\n",
      "Similarly, in the `trace1` dictionary:\n",
      "\n",
      "* keys `'x'` and `'y'` have for value the `my_x1` and `my_y1` numpy array respectively ;\n",
      "* key `'type`' has for value the `'scatter'` string, as in `trace0` ;\n",
      "* key `'mode'` has for value the `'lines'` (the default mode).\n",
      "\n",
      "So, `my_x0` and `my_y0`, the lists of our first plot, are now linked to keys in the `trace0` dictionary along with the plot type and mode.\n",
      "Python dictionaries are unordered collections of references: Plotly users need not to worry about key-value ordering. That said, please note that all dictionaries keys are case-sensitive.\n",
      "Lastly, we called the `.iplot` method by sending a list of dictionaries where `trace0` is plotted before `trace1`.\n",
      "\n",
      "Plotly plots are fully interactive: \n",
      "Users can check the x and y coordinates of every point by hovering the cursor. \n",
      "By clicking and dragging the cursor over a region, Plotly zooms in on the plot and resizes lines, points and axes (not just a static zoom, try it!).\n",
      "A double click on the plot zooms back out to the original version.\n",
      "Finally, hold the `shift` key while clicking and dragging to pan.\n",
      "These features are great examples of Plotly's muscle \n",
      "and can be quite useful say for comparing say two y-coordinates for a given x."
     ]
    },
    {
     "cell_type": "markdown",
     "metadata": {},
     "source": [
      "Let's continue customizing our plot by adding a few more features:\n",
      "\n",
      "* Set traces styles, colors and sizes\n",
      "* Add title and axis labels\n",
      "* Move the legend and make its labels more descriptive"
     ]
    },
    {
     "cell_type": "code",
     "collapsed": false,
     "input": [
      "# Update dictionary 'trace0'\n",
      "trace0.update({'marker': {'color': 'red',     # plotly has a few built-in color names\n",
      "                          'symbol': 'cross',  # default is 'dot'\n",
      "                          'size': 10},        # default is 7\n",
      "               'name': 'Data'})               # a label, used for legend\n",
      "\n",
      "# Update dictionary 'trace1'\n",
      "trace1.update({'line': {'color': 'rgb(27,158,119)',  # plotly understands RGB \n",
      "                        'dash': 'dashdot',           # default ''\n",
      "                        'width': 3},                 # default is 2\n",
      "               'name': 'Theory'})\n",
      "\n",
      "# -- note that the .update() method for dictionaries is analoguous \n",
      "#    to the .append() method for lists\n",
      "\n",
      "my_layout = {'title': 'Fig.3: Some Experiment',                # plot title\n",
      "             'xaxis': {'title': 'Some independent variable'},  # x-axis title\n",
      "             'yaxis': {'title': 'Some dependent variable'},    # y-axis title\n",
      "             'legend': {'x': 0, 'y': 1}}   # legend x-y position in norm. coord. w.r.t. axis frame\n",
      "\n",
      "# Call Plotly's .iplot method, with trace0 above trace1\n",
      "my_plotly.iplot([trace1,trace0],layout=my_layout)"
     ],
     "language": "python",
     "metadata": {},
     "outputs": [
      {
       "html": [
        "<iframe height=\"500\" id=\"igraph\" scrolling=\"no\" seamless=\"seamless\" src=\"https://plot.ly/~etpinard/116/600/450\" width=\"650\"></iframe>"
       ],
       "output_type": "pyout",
       "prompt_number": 8,
       "text": [
        "<IPython.core.display.HTML at 0x1feee50>"
       ]
      }
     ],
     "prompt_number": 8
    },
    {
     "cell_type": "markdown",
     "metadata": {},
     "source": [
      "*Not bad.*\n",
      "\n",
      "First, notice that the values corresponding to the `'line'` and `'marker'` keys (singular, unlike the `'mode'` values) in the trace dictionaries are dictionaries themselves. \n",
      "Plotly makes it easy and intuitive to group plot options by category. \n",
      "\n",
      "In the above, we assigned trace colours by name (`'name'` in `trace0`) and with the RGB colour model (`'rgb(27,158,119)'` in `trace1`, note a string). \n",
      "\n",
      "<!-- All of Plotly's built-in colour names are listed [here](to do!). -->\n",
      "\n",
      "Moreover, Plotly understands the RGBA and hexagonal colour models (more examples in later sections).\n",
      "Later in section 3 on Bubble Charts, we will see that the each of `'color`', `'symbol'` and `'size`' keys can be links to lists of values. This feature is quite useful for making vibrant Plotly Bubble Charts. \n",
      "\n",
      "Layout customization is set by assigning a value to the keyword argument `layout` of Plotly's `.plot` or `.iplot` method. \n",
      "Notice also that values corresponding the to `'xaxis'`, `'yaxis'` and `'legend'` key are dictionaries; further customization can be made, such as setting the range of the axes for example. \n",
      "Legend position is assigned using normalized coordinates with respect to the axis frame. \n",
      "For example `{'x': 0, 'y': 1}` places the legend at the top-left corner; `{'x': 0, 'y': 0}` would place the legend at the bottom-left and so on. \n",
      "\n",
      "In addition to the `'lines'` and `'markes'` modes, Plotly has a `'lines+markers'` mode which plots markers at each data points and lines in-between them. Customization is made through the `'marker'` and `'line'` separatly."
     ]
    },
    {
     "cell_type": "markdown",
     "metadata": {},
     "source": [
      "Plotly has many more trace and layout options available, which are all defined by reseting and/or appending key-value pairs in each trace dictionary.\n",
      "We will explore several of Plotly's line options in detail throughout the examples given this document.\n",
      "<!-- That said we invite users of the **new version** to get familiar with the `help()` -->"
     ]
    },
    {
     "cell_type": "heading",
     "level": 4,
     "metadata": {},
     "source": [
      "1.4 The Plot.ly homepage and file settings"
     ]
    },
    {
     "cell_type": "markdown",
     "metadata": {},
     "source": [
      "* End section with snapshot of the plotly homepage **wait for new one to be online**\n",
      "\n",
      "* Talk filenames, overwrite option ... (File setting in current doc)\n",
      "\n",
      "* In its most general form, the Plotly `.plot` (or `.iplot`) method is called as:\n",
      "\n",
      "* \n",
      "\n",
      "<code> \n",
      "  my_plotly.plot(my_data,layout=my_layout,filename=my_filename)\n",
      "</code>\n",
      "\n",
      "Take form Google doc!\n",
      "\n",
      "*Talk about my_plotly.iplot file setting\n",
      "\n",
      "* Something like :\n",
      "Since your graph is online\n",
      "you can can share it with that unique url, or embed your interactive graph in a web page.\n",
      "You can also edit the graph in the plotly web-app\n",
      "I edited the graph we just made inside the plotly web-app. It's a bit more minimal and the x-axis is logarithmic. All of the options available to customize your graph in the web-app are exposed through the API. Check out my new version here: https://plot.ly/~ChrisP/21. Here's an embedded version:"
     ]
    },
    {
     "cell_type": "code",
     "collapsed": false,
     "input": [
      "# Call Plotly's .iplot method with a filename and fileopt\n",
      "plot_outputs = my_plotly.plot([trace1,trace0],\n",
      "                               layout= my_layout,\n",
      "                               filename='s1_some-exp',\n",
      "                               fileopt='overwrite')"
     ],
     "language": "python",
     "metadata": {},
     "outputs": [],
     "prompt_number": 41
    },
    {
     "cell_type": "code",
     "collapsed": false,
     "input": [
      "print plot_outputs"
     ],
     "language": "python",
     "metadata": {},
     "outputs": [
      {
       "output_type": "stream",
       "stream": "stdout",
       "text": [
        "{u'url': u'https://plot.ly/~etpinard/73', u'message': u'', u'warning': u'', u'error': u'', u'filename': u's1_some-exp'}\n"
       ]
      }
     ],
     "prompt_number": 42
    },
    {
     "cell_type": "markdown",
     "metadata": {},
     "source": [
      "`'overwrite'` works even if the file does not exist.\n",
      "\n",
      "** Revisit `'append'` `'extend'` (with traces= opt) in the section on streaming. **\n",
      "\n"
     ]
    },
    {
     "cell_type": "markdown",
     "metadata": {},
     "source": [
      "<hr>\n",
      "<center>\n",
      "    \n",
      "Go to [previous section](http://nbviewer.ipython.org/github/etpinard/plotly-python-doc/blob/master/s0_getting-started/s0_getting-started.ipynb)\n",
      "    -----\n",
      "Go to [next section](http://nbviewer.ipython.org/github/etpinard/plotly-python-doc/blob/master/s2_bar-charts/s2_bar-charts.ipynb)\n",
      "  \n",
      "Go back to User Guide's [homepage](http://nbviewer.ipython.org/github/etpinard/plotly-python-doc/blob/master/s0_getting-started/s0_getting-started.ipynb)\n",
      "    \n",
      "</center>\n",
      "<hr>"
     ]
    },
    {
     "cell_type": "markdown",
     "metadata": {},
     "source": [
      "<img src=\"http://upload.wikimedia.org/wikipedia/commons/2/26/Logo_%281%29.png\" \n",
      "     height=250px style=\"float:right;\" />\n",
      "\n",
      "<h4>Got Questions and Feedback? </h4>\n",
      "\n",
      "* About <a href=\"https://plot.ly\" target=\"_blank\">Plotly</a>: <br> \n",
      "  email at feedback@plot.ly \n",
      "  or tweet at <a href=\"https://twitter.com/plotlygraphs\" target=\"_blank\">@plotlygraphs</a>\n",
      "\n",
      "* About the <a href=\"https://github.com/etpinard/plotly-python-doc\" target=\"_blank\">User Guide</a>: <br>\n",
      "  email at etienne.t.pinard@gmail.com\n",
      "  or tweet at <a href=\"https://twitter.com/etpinard\" target=\"_blank\">@etpinard</a>\n",
      "\n",
      "<h4>Big Thanks to: </h4>\n",
      "\n",
      "* [Cam Davidson-Pilon](http://nbviewer.ipython.org/github/CamDavidsonPilon/Probabilistic-Programming-and-Bayesian-Methods-for-Hackers/blob/master/Prologue/Prologue.ipynb) \n",
      "  for notebook styling ideas\n",
      "   \n",
      "<hr>"
     ]
    },
    {
     "cell_type": "code",
     "collapsed": false,
     "input": [
      "from IPython.core.display import HTML\n",
      "def css_styling():\n",
      "    styles = open(\"../plotly-python-doc.css\",\"r\").read()\n",
      "    return HTML(styles)\n",
      "css_styling()"
     ],
     "language": "python",
     "metadata": {},
     "outputs": [
      {
       "html": [
        "<style>\n",
        "    @font-face {\n",
        "        font-family: \"Computer Modern\";\n",
        "        src: url('http://9dbb143991406a7c655e-aa5fcb0a5a4ec34cff238a2d56ca4144.r56.cf5.rackcdn.com/cmunss.otf');\n",
        "    }\n",
        "    @font-face {\n",
        "        font-family: \"Computer Modern\";\n",
        "        font-weight: bold;\n",
        "        src: url('http://9dbb143991406a7c655e-aa5fcb0a5a4ec34cff238a2d56ca4144.r56.cf5.rackcdn.com/cmunsx.otf');\n",
        "    }\n",
        "    @font-face {\n",
        "        font-family: \"Computer Modern\";\n",
        "        font-style: oblique;\n",
        "        src: url('http://9dbb143991406a7c655e-aa5fcb0a5a4ec34cff238a2d56ca4144.r56.cf5.rackcdn.com/cmunsi.otf');\n",
        "    }\n",
        "    @font-face {\n",
        "        font-family: \"Computer Modern\";\n",
        "        font-weight: bold;\n",
        "        font-style: oblique;\n",
        "        src: url('http://9dbb143991406a7c655e-aa5fcb0a5a4ec34cff238a2d56ca4144.r56.cf5.rackcdn.com/cmunso.otf');\n",
        "    }\n",
        "    div.cell{\n",
        "        width:1000px;\n",
        "        margin-left:10% !important;\n",
        "        margin-right:10%;\n",
        "    }\n",
        "    h1 {\n",
        "        /* font-family: Computer Modern, serif; */\n",
        "        color: #333333;\n",
        "        font-family: \u2018Lucida Console\u2019, Monaco, monospace;\n",
        "    }\n",
        "    h4{\n",
        "        color: #333333;\n",
        "        font-family: \u2018Lucida Console\u2019, Monaco, monospace;\n",
        "        margin-top:15px;\n",
        "        margin-bottom: 3px;\n",
        "       }\n",
        "    div.text_cell_render{\n",
        "     /*   font-family: Computer Modern, \"Helvetica Neue\", Arial, Helvetica, Geneva, sans-serif; */\n",
        "        color: #333333;\n",
        "     /*   font-family: \u2018Palatino Linotype\u2019, \u2018Book Antiqua\u2019, Palatino, serif; */\n",
        "     /*   font-family: \u2018Trebuchet MS\u2019, Helvetica, sans-serif; */\n",
        "        font-family: \u2018Lucida Sans Unicode\u2019, \u2018Lucida Grande\u2019, sans-serif;\n",
        "        line-height: 145%;\n",
        "        font-size: 130%;\n",
        "        width: 1000px;\n",
        "        margin-left:0%;\n",
        "        margin-right:0%;\n",
        "        text-align:justify;\n",
        "        text-justify:inter-word;\n",
        "    }\n",
        "    code{\n",
        "          font-size: 85%;\n",
        "    }\n",
        "    .CodeMirror{\n",
        "            font-family: \"Source Code Pro\", source-code-pro,Consolas, monospace;\n",
        "    }\n",
        "    .prompt{\n",
        "        display: None;\n",
        "    }\n",
        "    .text_cell_render h5 {\n",
        "        font-weight: 300;\n",
        "        font-size: 22pt;\n",
        "        color: #4057A1;\n",
        "        font-style: italic;\n",
        "        margin-bottom: .5em;\n",
        "        margin-top: 0.5em;\n",
        "        display: block;\n",
        "    }\n",
        "    .warning{\n",
        "        color: rgb( 240, 20, 20 )\n",
        "        }  \n",
        "</style>\n",
        "<script>\n",
        "    MathJax.Hub.Config({\n",
        "                        TeX: {\n",
        "                           extensions: [\"AMSmath.js\"]\n",
        "                           },\n",
        "                tex2jax: {\n",
        "                    inlineMath: [ ['$','$'], [\"\\\\(\",\"\\\\)\"] ],\n",
        "                    displayMath: [ ['$$','$$'], [\"\\\\[\",\"\\\\]\"] ]\n",
        "                },\n",
        "                displayAlign: 'center', // Change this to 'center' to center equations.\n",
        "                \"HTML-CSS\": {\n",
        "                    styles: {'.MathJax_Display': {\"margin\": 4}}\n",
        "                }\n",
        "        });\n",
        "</script>\n"
       ],
       "output_type": "pyout",
       "prompt_number": 17,
       "text": [
        "<IPython.core.display.HTML at 0x31bb790>"
       ]
      }
     ],
     "prompt_number": 17
    },
    {
     "cell_type": "code",
     "collapsed": false,
     "input": [],
     "language": "python",
     "metadata": {},
     "outputs": []
    }
   ],
   "metadata": {}
  }
 ]
}