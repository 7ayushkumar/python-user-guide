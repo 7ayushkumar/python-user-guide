{
 "metadata": {
  "name": "",
  "signature": "sha256:69a21b96e71a807a6abbbad912d42fd6691c5a58bb4cc187435fd04ffd280176"
 },
 "nbformat": 3,
 "nbformat_minor": 0,
 "worksheets": [
  {
   "cells": [
    {
     "cell_type": "heading",
     "level": 1,
     "metadata": {},
     "source": [
      "Plotly's Python API User Guide"
     ]
    },
    {
     "cell_type": "heading",
     "level": 2,
     "metadata": {},
     "source": [
      "Section 1: Line & Scatter Plots"
     ]
    },
    {
     "cell_type": "markdown",
     "metadata": {},
     "source": [
      "Welcome to Plotly's Python API User Guide. \n",
      "\n",
      "> Links to the other sections can be found on the User Guide's [homepage](http://nbviewer.ipython.org/github/etpinard/plotly-python-doc/tree/1.0/s00_homepage/s00_homepage.ipynb) <br>\n",
      "Users unfamiliar with Plotly's Python API version 1.0 see [section 0](http://nbviewer.ipython.org/github/etpinard/plotly-python-doc/tree/1.0/s0_getting-started/s0_getting-started.ipynb) <br>\n",
      "The Github repository is available \n",
      "<a href=\"https://github.com/etpinard/plotly-python-doc/tree/1.0\" target=\"_blank\">here</a>\n",
      "\n",
      "Section 1 is divided as follows:\n",
      "\n",
      "<!-- * [1.1 A first bubble chart](http://nbviewer.ipython.org/github/etpinard/plotly-python-doc/tree/1.0/s3_bubble-charts/s3_bubble-charts.ipynb#3.1-A-first-bubble-chart) -->\n",
      "\n",
      "<hr>"
     ]
    },
    {
     "cell_type": "markdown",
     "metadata": {},
     "source": [
      "The User Guide assumes version 1.0 of Plotly's Python API. Check which version is installed your machine and  please upgrade if needed (see the User Guide's <a href=\"http://nbviewer.ipython.org/github/etpinard/plotly-python-doc/tree/1.0/s00_homepage/s00_homepage.ipynb#Installation-guidelines\" target=\"_blank\">homepage</a> for more info). "
     ]
    },
    {
     "cell_type": "code",
     "collapsed": false,
     "input": [
      "# Check Plolty version (if not 1.0, please upgrade)\n",
      "import plotly\n",
      "plotly.__version__"
     ],
     "language": "python",
     "metadata": {},
     "outputs": [
      {
       "metadata": {},
       "output_type": "pyout",
       "prompt_number": 2,
       "text": [
        "'1.0.0'"
       ]
      }
     ],
     "prompt_number": 2
    },
    {
     "cell_type": "markdown",
     "metadata": {},
     "source": [
      "<hr>\n",
      "\n",
      "In this section, we cover Plotly's line and scatter. \n",
      "\n",
      "Data in this section, is entirely taken from the Plotly servers ...\n",
      "\n",
      "Hall of fame of Plotly data sets and plot style ...\n",
      "\n",
      "\n",
      "\n",
      "Import ..."
     ]
    },
    {
     "cell_type": "code",
     "collapsed": false,
     "input": [
      "import plotly.plotly as py  # (New syntax!) tools to communicate with Plotly's server\n",
      "import plotly.tools as tls  # (NEW!) useful Python/Plotly tools \n",
      "\n",
      "from plotly.graph_objs import Data, Layout, Figure # (NEW!) graph objects\n",
      "\n",
      "import numpy as np  # numpy (for math functions and arrays, here)\n",
      "\n",
      "my_creds = tls.get_credentials_file()                  # read credentials\n",
      "py.sign_in(my_creds['username'], my_creds['api_key'])  # (New syntax!) Plotly sign in"
     ],
     "language": "python",
     "metadata": {},
     "outputs": [],
     "prompt_number": 4
    },
    {
     "cell_type": "markdown",
     "metadata": {},
     "source": [
      "If you are not familiar with the credentials file, refer to the User Guide's <a href=\"http://nbviewer.ipython.org/github/etpinard/plotly-python-doc/tree/1.0/s00_homepage/s00_homepage.ipynb#Installation-guidelines\" target=\"_blank\">homepage</a>.\n",
      "\n",
      "...."
     ]
    },
    {
     "cell_type": "code",
     "collapsed": false,
     "input": [
      "tls.embed('alexhp','70')"
     ],
     "language": "python",
     "metadata": {},
     "outputs": [
      {
       "html": [
        "<iframe id=\"igraph\" scrolling=\"no\" style=\"border:none;\"seamless=\"seamless\" src=\"https://plot.ly/~alexhp/70\" height=\"525\" width=\"100%\"></iframe>"
       ],
       "metadata": {},
       "output_type": "display_data",
       "text": [
        "<IPython.core.display.HTML at 0x370e350>"
       ]
      }
     ],
     "prompt_number": 5
    },
    {
     "cell_type": "heading",
     "level": 4,
     "metadata": {},
     "source": [
      "1.1 "
     ]
    },
    {
     "cell_type": "markdown",
     "metadata": {},
     "source": [
      "\n"
     ]
    },
    {
     "cell_type": "markdown",
     "metadata": {},
     "source": [
      "A few comments ...\n",
      "\n",
      "** must be inside a list now **\n",
      "\n",
      "** x-y pairings are still done automatically though **\n",
      "\n",
      "** In version 1.0, no need to put '' and \"\" to set object --- a cleaner look**\n",
      "\n",
      "In addition, if the x-coordinate and y-coordinate list do not have the same length,\n",
      "the longer list is sliced down from its last entry to match the shorter list's length. **still true**\n",
      "\n",
      "** Data and Layout make up a Figure **"
     ]
    },
    {
     "cell_type": "markdown",
     "metadata": {},
     "source": [
      "*Let's make sense of the above code.* of the created dictionary ...\n",
      "\n",
      "In the `trace0` dictionary:\n",
      "\n",
      "* key `'x'` has for value the `my_x0` list (defined previously) ;\n",
      "* key `'y'` has for value the `my_y1` list (also defined previously) ; \n",
      "* key `'type'` has for value the `'scatter'` string ;\n",
      "* key `'mode'` has for value the `'markers'` string.\n",
      "\n",
      "`'scatter`' is the default value for the `'type'` key; hence, it is optional. \n",
      "Removing this key would not change the resulting plot (try it!). \n",
      "That said, it is good practice to include it.\n",
      "\n",
      "Similarly, in the `trace1` dictionary:\n",
      "\n",
      "* keys `'x'` and `'y'` have for value the `my_x1` and `my_y1` numpy array respectively ;\n",
      "* key `'type`' has for value the `'scatter'` string, as in `trace0` ;\n",
      "* key `'mode'` has for value the `'lines'` (the default mode).\n",
      "\n",
      "So, `my_x0` and `my_y0`, the lists of our first plot, are now linked to keys in the `trace0` dictionary along with the plot type and mode.\n",
      "Python dictionaries are unordered collections of references: Plotly users need not to worry about key-value ordering. That said, please note that all dictionaries keys are case-sensitive.\n",
      "Lastly, we called the `.iplot` method by sending a list of dictionaries where `trace0` is plotted before `trace1`.\n",
      "\n",
      "Plotly plots are fully interactive: \n",
      "Users can check the x and y coordinates of every point by hovering the cursor. \n",
      "By clicking and dragging the cursor over a region, Plotly zooms in on the plot and resizes lines, points and axes (not just a static zoom, try it!).\n",
      "A double click on the plot zooms back out to the original version.\n",
      "Finally, hold the `shift` key while clicking and dragging to pan.\n",
      "These features are great examples of Plotly's muscle \n",
      "and can be quite useful say for comparing say two y-coordinates for a given x."
     ]
    },
    {
     "cell_type": "heading",
     "level": 4,
     "metadata": {},
     "source": [
      "1.2 "
     ]
    },
    {
     "cell_type": "heading",
     "level": 4,
     "metadata": {},
     "source": [
      "1.3"
     ]
    },
    {
     "cell_type": "markdown",
     "metadata": {},
     "source": [
      "\n",
      "\n"
     ]
    },
    {
     "cell_type": "markdown",
     "metadata": {},
     "source": [
      "Let's continue customizing our plot by adding a few more features:\n",
      "\n",
      "* Set traces styles, colors and sizes\n",
      "* Add title and axis labels\n",
      "* Move the legend and make its labels more descriptive\n",
      "\n",
      "\n",
      "Add stuff about plot options here ..."
     ]
    },
    {
     "cell_type": "code",
     "collapsed": false,
     "input": [
      "# Update dictionary 'trace0'\n",
      "trace0.update({'marker': {'color': 'red',     # plotly has a few built-in color names\n",
      "                          'symbol': 'cross',  # default is 'dot'\n",
      "                          'size': 10},        # default is 7\n",
      "               'name': 'Data'})               # a label, used for legend\n",
      "\n",
      "# Update dictionary 'trace1'\n",
      "trace1.update({'line': {'color': 'rgb(27,158,119)',  # plotly understands RGB \n",
      "                        'dash': 'dashdot',           # default is ''\n",
      "                        'width': 3},                 # default is 2\n",
      "               'name': 'Theory'})                    # the other label, used for legend\n",
      "\n",
      "# -- note that the .update() method for dictionaries is analoguous \n",
      "#    to the .append() method for lists\n",
      "\n",
      "my_layout = {'title': 'Fig.3: Some Experiment',                # plot title\n",
      "             'xaxis': {'title': 'Some independent variable'},  # x-axis title\n",
      "             'yaxis': {'title': 'Some dependent variable'},    # y-axis title\n",
      "             'legend': {'x': 0.01, 'y': 1}}   # legend x-y pos. in norm. coord. w.r.t. axes \n",
      "\n",
      "# Call Plotly's .iplot method, with trace0 above trace1\n",
      "my_plotly.iplot([trace1,trace0],layout=my_layout)"
     ],
     "language": "python",
     "metadata": {},
     "outputs": [
      {
       "html": [
        "<iframe height=\"550\" id=\"igraph\" scrolling=\"no\" seamless=\"seamless\" src=\"https://plot.ly/~etpinard/144\" width=\"100%\"></iframe>"
       ],
       "metadata": {},
       "output_type": "pyout",
       "prompt_number": 14,
       "text": [
        "<IPython.core.display.HTML at 0x33c9f90>"
       ]
      }
     ],
     "prompt_number": 14
    },
    {
     "cell_type": "markdown",
     "metadata": {},
     "source": [
      "*Not bad.*\n",
      "\n",
      "First, notice that the values corresponding to the `'line'` and `'marker'` keys (singular, unlike the `'mode'` values) in the trace dictionaries are dictionaries themselves. \n",
      "Plotly makes it easy and intuitive to group plot options by category. \n",
      "\n",
      "In the above, we assigned trace colours by name (`'name'` in `trace0`) and with the RGB colour model (`'rgb(27,158,119)'` in `trace1`, note a string). \n",
      "\n",
      "<!-- All of Plotly's built-in colour names are listed [here](to do!). -->\n",
      "\n",
      "Moreover, Plotly understands the RGBA and hexagonal colour models (more examples in later sections).\n",
      "Later in section 3 on <a href=\"http://nbviewer.ipython.org/github/etpinard/plotly-python-doc/blob/master/s3_bubble-charts/s3_bubble-charts.ipynb\">Bubble Charts</a>, we will see that the each of `'color`', `'symbol'` and `'size`' keys can be links to lists of values. This feature is quite useful for making vibrant Plotly Bubble Charts. \n",
      "\n",
      "Layout customization is set by assigning a value to the keyword argument `layout` of Plotly's `.plot` or `.iplot` method. \n",
      "Notice also that values corresponding the to `'xaxis'`, `'yaxis'` and `'legend'` key are dictionaries; further customization can be made, such as setting the range of the axes for example. \n",
      "Legend position is assigned using normalized coordinates with respect to the axis frame. \n",
      "For example `{'x': 0, 'y': 1}` places the legend at the top-left corner; `{'x': 0, 'y': 0}` would place the legend at the bottom-left and so on. \n",
      "\n",
      "In addition to the `'lines'` and `'markes'` modes, Plotly has a `'lines+markers'` mode which plots markers at each data points and lines in-between them. Customization is made through the `'marker'` and `'line'` separatly."
     ]
    },
    {
     "cell_type": "markdown",
     "metadata": {},
     "source": [
      "Plotly has many more trace and layout options available, which are all defined by reseting and/or appending key-value pairs in each trace dictionary.\n",
      "We will explore several of Plotly's line options in detail throughout the examples given this document.\n",
      "To sum up, the figures you make in Plotly are nothing more than an organized, nested dictionary.\n",
      "\n",
      "<!-- That said we invite users of the **new version** to get familiar with the `help()` -->"
     ]
    },
    {
     "cell_type": "heading",
     "level": 4,
     "metadata": {},
     "source": [
      "1.4 The Plot.ly homepage and file settings"
     ]
    },
    {
     "cell_type": "markdown",
     "metadata": {},
     "source": [
      "* End section with snapshot of the plotly homepage **wait for new one to be online**\n",
      "\n",
      "* Talk filenames, overwrite option ... (File setting in current doc)\n",
      "\n",
      "* In its most general form, the Plotly `.plot` (or `.iplot`) method is called as:\n",
      "\n",
      "* \n",
      "\n",
      "<code> \n",
      "  my_plotly.plot(my_data,layout=my_layout,filename=my_filename)\n",
      "</code>\n",
      "\n",
      "Take form Google doc!\n",
      "\n",
      "*Talk about my_plotly.iplot file setting\n",
      "\n",
      "* Something like :\n",
      "Since your graph is online\n",
      "you can can share it with that unique url, or embed your interactive graph in a web page.\n",
      "You can also edit the graph in the plotly web-app\n",
      "I edited the graph we just made inside the plotly web-app. It's a bit more minimal and the x-axis is logarithmic. All of the options available to customize your graph in the web-app are exposed through the API. Check out my new version here: https://plot.ly/~ChrisP/21. Here's an embedded version:"
     ]
    },
    {
     "cell_type": "code",
     "collapsed": false,
     "input": [
      "# Call Plotly's .iplot method with a filename and fileopt\n",
      "plot_outputs = my_plotly.plot([trace1,trace0],\n",
      "                               layout= my_layout,\n",
      "                               filename='s1_some-exp',\n",
      "                               fileopt='overwrite')"
     ],
     "language": "python",
     "metadata": {},
     "outputs": [],
     "prompt_number": 15
    },
    {
     "cell_type": "code",
     "collapsed": false,
     "input": [
      "#HTML(plot_outputs['url'])"
     ],
     "language": "python",
     "metadata": {},
     "outputs": [],
     "prompt_number": 16
    },
    {
     "cell_type": "markdown",
     "metadata": {},
     "source": [
      "\n",
      "\n",
      "\n",
      "`'overwrite'` works even if the file does not exist.\n",
      "\n",
      "** Revisit `'append'` `'extend'` (with traces= opt) in the section on streaming. **\n",
      "\n"
     ]
    },
    {
     "cell_type": "code",
     "collapsed": false,
     "input": [
      "my_plotly.display(\"dsasa\")"
     ],
     "language": "python",
     "metadata": {},
     "outputs": [
      {
       "ename": "AttributeError",
       "evalue": "plotly instance has no attribute 'display'",
       "output_type": "pyerr",
       "traceback": [
        "\u001b[1;31m---------------------------------------------------------------------------\u001b[0m\n\u001b[1;31mAttributeError\u001b[0m                            Traceback (most recent call last)",
        "\u001b[1;32m<ipython-input-17-58e58393d6ce>\u001b[0m in \u001b[0;36m<module>\u001b[1;34m()\u001b[0m\n\u001b[1;32m----> 1\u001b[1;33m \u001b[0mmy_plotly\u001b[0m\u001b[1;33m.\u001b[0m\u001b[0mdisplay\u001b[0m\u001b[1;33m(\u001b[0m\u001b[1;34m\"dsasa\"\u001b[0m\u001b[1;33m)\u001b[0m\u001b[1;33m\u001b[0m\u001b[0m\n\u001b[0m",
        "\u001b[1;31mAttributeError\u001b[0m: plotly instance has no attribute 'display'"
       ]
      }
     ],
     "prompt_number": 17
    },
    {
     "cell_type": "markdown",
     "metadata": {},
     "source": [
      "<hr>\n",
      "    \n",
      "<h4 style=\"font-size:14pt;\">Go to\n",
      "\n",
      "next section (coming soon) </h4>\n",
      "\n",
      "<h4 style=\"font-size:14pt;\">Go to\n",
      "\n",
      "previous section (coming soon) </h4>\n",
      "\n",
      "<h4 style=\"font-size:14pt;\">Go back to\n",
      "\n",
      "[top of page](http://nbviewer.ipython.org/github/etpinard/plotly-python-doc/tree/1.0/s1_line-scatter/s1_line-scatter.ipynb#) </h4>\n",
      "\n",
      "<h4 style=\"font-size:14pt;\">Go back to User Guide's\n",
      "\n",
      "[homepage](http://nbviewer.ipython.org/github/etpinard/plotly-python-doc/tree/1.0/s00_homepage/s00_homepage.ipynb) </h4>\n",
      "  \n",
      "<hr>\n",
      "\n",
      "<!-- **Go to** [next section](http://nbviewer.ipython.org/github/etpinard/plotly-python-doc/blob/master/s2_bar-charts/s2_bar-charts.ipynb) -->\n",
      "\n",
      "<!-- **Go to** [previous section](http://nbviewer.ipython.org/github/etpinard/plotly-python-doc/blob/master/s0_getting-started/s0_getting-started.ipynb)  -->"
     ]
    },
    {
     "cell_type": "markdown",
     "metadata": {},
     "source": [
      "<div style=\"float:right; \\\">\n",
      "    <img src=\"http://i.imgur.com/4vwuxdJ.png\" \n",
      " align=right style=\"float:right; margin-left: 5px; margin-top: -10px\" />\n",
      "</div>\n",
      "\n",
      "<h4>Got Questions and Feedback? </h4>\n",
      "\n",
      "About <a href=\"https://plot.ly\" target=\"_blank\">Plotly</a>\n",
      "\n",
      "* email: feedback@plot.ly \n",
      "* tweet: \n",
      "<a href=\"https://twitter.com/plotlygraphs\" target=\"_blank\">@plotlygraphs</a>\n",
      "\n",
      "About the <a href=\"https://github.com/etpinard/plotly-python-doc\" target=\"_blank\">User Guide</a>\n",
      " \n",
      "* email: etienne@plot.ly\n",
      "* tweet: <a href=\"https://twitter.com/etpinard\" target=\"_blank\">@etpinard</a>\n",
      "\n",
      "<h4 style=\"margin-top:30px;\">Notebook styling ideas</h4>\n",
      "\n",
      "Big thanks to\n",
      "\n",
      "* <a href=\"http://nbviewer.ipython.org/github/CamDavidsonPilon/Probabilistic-Programming-and-Bayesian-Methods-for-Hackers/blob/master/Prologue/Prologue.ipynb\" target=\"_blank\">Cam Davidson-Pilon</a>\n",
      "* <a href=\"http://lorenabarba.com/blog/announcing-aeropython/#.U1ULXdX1LJ4.google_plusone_share\" target=\"_blank\">Lorena A. Barba</a>\n"
     ]
    },
    {
     "cell_type": "code",
     "collapsed": false,
     "input": [
      "from IPython.core.display import HTML\n",
      "def css_styling():\n",
      "    styles = open(\"../custom.css\",\"r\").read()\n",
      "    return HTML(styles)\n",
      "css_styling()"
     ],
     "language": "python",
     "metadata": {},
     "outputs": [
      {
       "html": [
        "<style>\n",
        "    /*body {\n",
        "        background-color: #F5F5F5;\n",
        "    }*/\n",
        "    div.cell{\n",
        "        width: 850px;\n",
        "        margin-left: 10% !important;\n",
        "        margin-right: auto;\n",
        "    }\n",
        "    h1 {\n",
        "        font-family: 'Open sans',verdana,arial,sans-serif;\n",
        "    }\n",
        "    .text_cell_render h1 {\n",
        "        font-weight: 200;\n",
        "        font-size: 40pt;\n",
        "        line-height: 100%;\n",
        "        color:#447adb;\n",
        "        margin-bottom: 0em;\n",
        "        margin-top: 0em;\n",
        "        display: block;\n",
        "        white-space: nowrap;\n",
        "    } \n",
        "    h2 {\n",
        "        font-family: 'Open sans',verdana,arial,sans-serif;\n",
        "        text-indent:1em;\n",
        "    }\n",
        "    .text_cell_render h2 {\n",
        "        font-weight: 200;\n",
        "        font-size: 20pt;\n",
        "        font-style: italic;\n",
        "        line-height: 100%;\n",
        "        color:#447adb;\n",
        "        margin-bottom: 1.5em;\n",
        "        margin-top: 0.5em;\n",
        "        display: block;\n",
        "        white-space: nowrap;\n",
        "    } \n",
        "    h3 {\n",
        "        font-family: 'Open sans',verdana,arial,sans-serif;\n",
        "    }\n",
        "    .text_cell_render h3 {\n",
        "        font-weight: 300;\n",
        "        font-size: 18pt;\n",
        "        line-height: 100%;\n",
        "        color:#447adb;\n",
        "        margin-bottom: 0.5em;\n",
        "        margin-top: 2em;\n",
        "        display: block;\n",
        "        white-space: nowrap;\n",
        "    }\n",
        "    h4 {\n",
        "        font-family: 'Open sans',verdana,arial,sans-serif;\n",
        "    }\n",
        "    .text_cell_render h4 {\n",
        "        font-weight: 300;\n",
        "        font-size: 16pt;\n",
        "        color:#447adb;\n",
        "        margin-bottom: 0.5em;\n",
        "        margin-top: 0.5em;\n",
        "        display: block;\n",
        "        white-space: nowrap;\n",
        "    }\n",
        "    h5 {\n",
        "        font-family: 'Open sans',verdana,arial,sans-serif;\n",
        "    }\n",
        "    .text_cell_render h5 {\n",
        "        font-weight: 300;\n",
        "        font-style: normal;\n",
        "        color: #1d3b84;\n",
        "        font-size: 16pt;\n",
        "        margin-bottom: 0em;\n",
        "        margin-top: 1.5em;\n",
        "        display: block;\n",
        "        white-space: nowrap;\n",
        "    }\n",
        "    div.text_cell_render{\n",
        "        font-family: 'Open sans',verdana,arial,sans-serif;\n",
        "        line-height: 135%;\n",
        "        font-size: 125%;\n",
        "        width:750px;\n",
        "        margin-left:auto;\n",
        "        margin-right:auto;\n",
        "        text-align:justify;\n",
        "        text-justify:inter-word;\n",
        "    }\n",
        "    div.output_subarea.output_text.output_pyout {\n",
        "        overflow-x: auto;\n",
        "        overflow-y: scroll;\n",
        "        max-height: 300px;\n",
        "    }\n",
        "    div.output_subarea.output_stream.output_stdout.output_text {\n",
        "        overflow-x: auto;\n",
        "        overflow-y: scroll;\n",
        "        max-height: 300px;\n",
        "    }\n",
        "    code{\n",
        "      font-size: 78%;\n",
        "    }\n",
        "    ul{\n",
        "        /* color:#447adb; */  // colors text too\n",
        "        margin: 2em;\n",
        "    }\n",
        "    ul li{\n",
        "        padding-left: 0.5em; \n",
        "        margin-bottom: 0.5em; \n",
        "        margin-top: 0.5em; \n",
        "    }\n",
        "    ul li li{\n",
        "        padding-left: 0.2em; \n",
        "        margin-bottom: 0.2em; \n",
        "        margin-top: 0.2em; \n",
        "    }\n",
        "    /*.prompt{\n",
        "        display: None;\n",
        "    } */\n",
        "    ul li{\n",
        "        padding-left: 0.5em; \n",
        "        margin-bottom: 0.5em; \n",
        "        margin-top: 0.2em; \n",
        "    }\n",
        "    a:link{\n",
        "       font-weight: bold;\n",
        "       color:#447adb;\n",
        "    }\n",
        "    a:visited{\n",
        "       font-weight: bold;\n",
        "       color: #1d3b84;\n",
        "    }\n",
        "    a:hover{\n",
        "       font-weight: bold;\n",
        "       color: #1d3b84;\n",
        "    }\n",
        "    a:focus{\n",
        "       font-weight: bold;\n",
        "       color:#447adb;\n",
        "    }\n",
        "    a:active{\n",
        "       font-weight: bold;\n",
        "       color:#447adb;\n",
        "    }\n",
        "    .rendered_html :link {\n",
        "       text-decoration: none; \n",
        "    }\n",
        "    .rendered_html :hover {\n",
        "       text-decoration: none; \n",
        "    }\n",
        "    .rendered_html :visited {\n",
        "      text-decoration: none;\n",
        "    }\n",
        "    .rendered_html :focus {\n",
        "      text-decoration: none;\n",
        "    }\n",
        "    .rendered_html :active {\n",
        "      text-decoration: none;\n",
        "    }\n",
        "    .warning{\n",
        "        color: rgb( 240, 20, 20 )\n",
        "    } \n",
        "    hr {\n",
        "      color: #f3f3f3;\n",
        "      background-color: #f3f3f3;\n",
        "      height: 1px;\n",
        "    }\n",
        "    blockquote{\n",
        "      display:block;\n",
        "      background: #f3f3f3;\n",
        "      font-family: 'Open sans',verdana,arial,sans-serif;\n",
        "      width:610px;\n",
        "      padding: 15px 15px 15px 15px;\n",
        "      text-align:justify;\n",
        "      text-justify:inter-word;\n",
        "      }\n",
        "      blockquote p {\n",
        "        margin-bottom: 0;\n",
        "        line-height: 125%;\n",
        "        font-size: 100%;\n",
        "      }\n",
        "   /* element.style {\n",
        "    } */  \n",
        "</style>\n",
        "<script>\n",
        "    MathJax.Hub.Config({\n",
        "                        TeX: {\n",
        "                           extensions: [\"AMSmath.js\"]\n",
        "                           },\n",
        "                tex2jax: {\n",
        "                    inlineMath: [ ['$','$'], [\"\\\\(\",\"\\\\)\"] ],\n",
        "                    displayMath: [ ['$$','$$'], [\"\\\\[\",\"\\\\]\"] ]\n",
        "                },\n",
        "                displayAlign: 'center', // Change this to 'center' to center equations.\n",
        "                \"HTML-CSS\": {\n",
        "                    styles: {'.MathJax_Display': {\"margin\": 4}}\n",
        "                }\n",
        "        });\n",
        "</script>\n"
       ],
       "metadata": {},
       "output_type": "pyout",
       "prompt_number": 1,
       "text": [
        "<IPython.core.display.HTML at 0x2b37d50>"
       ]
      }
     ],
     "prompt_number": 1
    },
    {
     "cell_type": "code",
     "collapsed": false,
     "input": [],
     "language": "python",
     "metadata": {},
     "outputs": []
    }
   ],
   "metadata": {}
  }
 ]
}