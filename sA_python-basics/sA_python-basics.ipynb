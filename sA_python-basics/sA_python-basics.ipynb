{
 "metadata": {
  "name": "",
  "signature": "sha256:3349b5f65d539bf6e83e3e5ffc6a51d30537f913b26580c241f9e244212a9458"
 },
 "nbformat": 3,
 "nbformat_minor": 0,
 "worksheets": [
  {
   "cells": [
    {
     "cell_type": "heading",
     "level": 1,
     "metadata": {},
     "source": [
      "Plotly's Python API User Guide"
     ]
    },
    {
     "cell_type": "heading",
     "level": 2,
     "metadata": {},
     "source": [
      "Appendix A: Python Basics"
     ]
    },
    {
     "cell_type": "markdown",
     "metadata": {},
     "source": [
      "Welcome to Plotly's Python API User Guide. \n",
      "\n",
      "> Links to the other sections can be found on the User Guide's [homepage](http://nbviewer.ipython.org/github/plotly/python-user-guide/blob/master/s00_homepage/s00_homepage.ipynb) <br>\n",
      "Users unfamiliar with Plotly's Python API version 1.0 see [section 0](http://nbviewer.ipython.org/github/plotly/python-user-guide/blob/master/s0_getting-started/s0_getting-started.ipynb) <br>\n",
      "The Github repository is available \n",
      "<a href=\"https://github.com/plotly/python-user-guide/blob/1.0\" target=\"_blank\">here</a>"
     ]
    },
    {
     "cell_type": "markdown",
     "metadata": {},
     "source": [
      "Appendix A is divided as follows:\n",
      "\n",
      "* [A.1 ](http://nbviewer.ipython.org/github/plotly/python-user-guide/blob/master/s3_bubble-charts/sA_python-basic/sA_python-basic.ipynb#)\n",
      "\n",
      "* [A.2 ](http://nbviewer.ipython.org/github/plotly/python-user-guide/blob/master/s3_bubble-charts/sA_python-basic/sA_python-basic.ipynb#)\n",
      "\n",
      "* [A.3 ](http://nbviewer.ipython.org/github/plotly/python-user-guide/blob/master/s3_bubble-charts/sA_python-basic/sA_python-basic.ipynb#)\n",
      "\n",
      "* [A.4 ](http://nbviewer.ipython.org/github/plotly/python-user-guide/blob/master/s3_bubble-charts/sA_python-basic/sA_python-basic.ipynb#)\n",
      "\n",
      "* [A.5 ](http://nbviewer.ipython.org/github/plotly/python-user-guide/blob/master/s3_bubble-charts/sA_python-basic/sA_python-basic.ipynb#)\n",
      "\n",
      "* [A.6 ](http://nbviewer.ipython.org/github/plotly/python-user-guide/blob/master/s3_bubble-charts/sA_python-basic/sA_python-basic.ipynb#)\n",
      "\n",
      "* [A.7 ](http://nbviewer.ipython.org/github/plotly/python-user-guide/blob/master/s3_bubble-charts/sA_python-basic/sA_python-basic.ipynb#)\n",
      "\n",
      "* [A.8 ](http://nbviewer.ipython.org/github/plotly/python-user-guide/blob/master/s3_bubble-charts/sA_python-basic/sA_python-basic.ipynb#)\n",
      "\n",
      "\n",
      "<hr>"
     ]
    },
    {
     "cell_type": "markdown",
     "metadata": {},
     "source": [
      "Stuff ... \n",
      "\n",
      "links to other notebooks\n",
      "\n",
      "Pretty brief, --- things that are most important to Plotly users\n",
      "\n",
      "Some other references on Python:\n",
      "\n",
      "* <a href=\"http://nbviewer.ipython.org/github/ehmatthes/intro_programming/blob/master/notebooks/index.ipynb\" target=\"_blank\">Eric Matthes' Introduction to Programming (using Python)</a>\n",
      "\n",
      "* <a href=\"https://docs.python.org/2/tutorial/introduction.html\" target=\"_blank\">The Official Python Documentation</a>\n",
      "\n",
      "For for module-specific documentation, see:\n",
      "\n",
      "* <a href=\"http://nbviewer.ipython.org/github/jrjohansson/scientific-python-lectures/tree/master/\" target=\"_blank\">J.R. Johansson's Numpy and Matplotlib tutorial</a>\n",
      "\n",
      "* <a href=\"https://bitbucket.org/hrojas/learn-pandas\" target=\"_blank\">Hern\u00e1n Rojas' Pandas tutorial</a>\n",
      "\n",
      "* http://docs.scipy.org/doc/scipy/reference/tutorial/stats.html for Scipy\n",
      "\n"
     ]
    },
    {
     "cell_type": "heading",
     "level": 3,
     "metadata": {},
     "source": [
      "A.1 Variables and assignments"
     ]
    },
    {
     "cell_type": "markdown",
     "metadata": {},
     "source": [
      "First, let's create our a Python variable, print its value and its type:"
     ]
    },
    {
     "cell_type": "code",
     "collapsed": false,
     "input": [
      "my_var = 7    # assign\n",
      "\n",
      "my_var        # evaluate (i.e. print the stdout in IPython)"
     ],
     "language": "python",
     "metadata": {},
     "outputs": [
      {
       "metadata": {},
       "output_type": "pyout",
       "prompt_number": 1,
       "text": [
        "7"
       ]
      }
     ],
     "prompt_number": 1
    },
    {
     "cell_type": "markdown",
     "metadata": {},
     "source": [
      "Python is a *dynamically typed* programming language: variables are create on assignment (not declared in advance) and their type does not have to be specify on assigment.\n",
      "Assignments in Python are made using the `=` character."
     ]
    },
    {
     "cell_type": "heading",
     "level": 3,
     "metadata": {},
     "source": [
      "A.2 Lists"
     ]
    },
    {
     "cell_type": "markdown",
     "metadata": {},
     "source": [
      "Lists are *ordered* collections of items (e.g. string, numbers, boolean, other lists), that are referred to (or *stored* in) a variable. Lists are creates using square bracket `[` `]` where each item (or entry) is seperated by a comma `,`.\n",
      "\n",
      "For example,"
     ]
    },
    {
     "cell_type": "code",
     "collapsed": false,
     "input": [
      "my_list = [1,2,5,6]\n",
      "\n",
      "my_list"
     ],
     "language": "python",
     "metadata": {},
     "outputs": [
      {
       "metadata": {},
       "output_type": "pyout",
       "prompt_number": 2,
       "text": [
        "[1, 2, 5, 6]"
       ]
      }
     ],
     "prompt_number": 2
    },
    {
     "cell_type": "markdown",
     "metadata": {},
     "source": [
      "To retrieve a particular item in a Python list, we call its index inside `[ ]`. Indexing in Python starts at index `0`, the last item has index `-1`, so"
     ]
    },
    {
     "cell_type": "code",
     "collapsed": false,
     "input": [
      "my_list[0]"
     ],
     "language": "python",
     "metadata": {},
     "outputs": [
      {
       "metadata": {},
       "output_type": "pyout",
       "prompt_number": 3,
       "text": [
        "1"
       ]
      }
     ],
     "prompt_number": 3
    },
    {
     "cell_type": "code",
     "collapsed": false,
     "input": [
      "my_list[-1]"
     ],
     "language": "python",
     "metadata": {},
     "outputs": [
      {
       "metadata": {},
       "output_type": "pyout",
       "prompt_number": 4,
       "text": [
        "6"
       ]
      }
     ],
     "prompt_number": 4
    },
    {
     "cell_type": "markdown",
     "metadata": {},
     "source": [
      "You can concatenate two lists using the `+` character"
     ]
    },
    {
     "cell_type": "code",
     "collapsed": false,
     "input": [
      "my_list2 = ['plotly','is','awesome']  # define another list\n",
      " \n",
      "my_list3 = my_list+my_list2  # concatenate\n",
      "\n",
      "my_list3"
     ],
     "language": "python",
     "metadata": {},
     "outputs": [
      {
       "metadata": {},
       "output_type": "pyout",
       "prompt_number": 5,
       "text": [
        "[1, 2, 5, 6, 'plotly', 'is', 'awesome']"
       ]
      }
     ],
     "prompt_number": 5
    },
    {
     "cell_type": "markdown",
     "metadata": {},
     "source": [
      "And append item to a list using the `append()` method"
     ]
    },
    {
     "cell_type": "code",
     "collapsed": false,
     "input": [
      "my_list3.append(100)        # append just a single item\n",
      "\n",
      "my_list3"
     ],
     "language": "python",
     "metadata": {},
     "outputs": [
      {
       "metadata": {},
       "output_type": "pyout",
       "prompt_number": 6,
       "text": [
        "[1, 2, 5, 6, 'plotly', 'is', 'awesome', 100]"
       ]
      }
     ],
     "prompt_number": 6
    },
    {
     "cell_type": "code",
     "collapsed": false,
     "input": [
      "my_list3.append(my_list2)   # append a list\n",
      "\n",
      "my_list3"
     ],
     "language": "python",
     "metadata": {},
     "outputs": [
      {
       "metadata": {},
       "output_type": "pyout",
       "prompt_number": 7,
       "text": [
        "[1, 2, 5, 6, 'plotly', 'is', 'awesome', 100, ['plotly', 'is', 'awesome']]"
       ]
      }
     ],
     "prompt_number": 7
    },
    {
     "cell_type": "markdown",
     "metadata": {},
     "source": [
      "When one of the items in a given list is itself a list, retrieving a nested item requires two indices:"
     ]
    },
    {
     "cell_type": "code",
     "collapsed": false,
     "input": [
      "my_list3[-1][0]  # first item in nested list of last item in my_list3"
     ],
     "language": "python",
     "metadata": {},
     "outputs": [
      {
       "metadata": {},
       "output_type": "pyout",
       "prompt_number": 8,
       "text": [
        "'plotly'"
       ]
      }
     ],
     "prompt_number": 8
    },
    {
     "cell_type": "markdown",
     "metadata": {},
     "source": [
      "Python lists are *mutuable* objects (unlike number and string for example). So, when multiple variables referred to same list, assigning a change in one variable affects all the referred variables."
     ]
    },
    {
     "cell_type": "code",
     "collapsed": false,
     "input": [
      "my_list4 = my_list3     # my_list4 and my_list3 refer to same list\n",
      "\n",
      "my_list3[4] = 'PLOTLY'  # changing item in my_list3 affects my_list4\n",
      "\n",
      "my_list4"
     ],
     "language": "python",
     "metadata": {},
     "outputs": [
      {
       "metadata": {},
       "output_type": "pyout",
       "prompt_number": 9,
       "text": [
        "[1, 2, 5, 6, 'PLOTLY', 'is', 'awesome', 100, ['plotly', 'is', 'awesome']]"
       ]
      }
     ],
     "prompt_number": 9
    },
    {
     "cell_type": "code",
     "collapsed": false,
     "input": [
      "my_list4[6] = 'AWESOME' # changing item in my_list4 affects my_list3\n",
      "\n",
      "my_list3"
     ],
     "language": "python",
     "metadata": {},
     "outputs": [
      {
       "metadata": {},
       "output_type": "pyout",
       "prompt_number": 10,
       "text": [
        "[1, 2, 5, 6, 'PLOTLY', 'is', 'AWESOME', 100, ['plotly', 'is', 'awesome']]"
       ]
      }
     ],
     "prompt_number": 10
    },
    {
     "cell_type": "markdown",
     "metadata": {},
     "source": [
      "Alternatively, to intialize a list with another while keeping them independent of one another, assign a copy of a list using the `list()` function:"
     ]
    },
    {
     "cell_type": "code",
     "collapsed": false,
     "input": [
      "my_list5 = list(my_list3)  # assign a copy of my_list3 to my_list5\n",
      "\n",
      "my_list3[4] = 'PlOtLy'     # changes my_list3, not my_list5\n",
      "\n",
      "my_list3"
     ],
     "language": "python",
     "metadata": {},
     "outputs": [
      {
       "metadata": {},
       "output_type": "pyout",
       "prompt_number": 11,
       "text": [
        "[1, 2, 5, 6, 'PlOtLy', 'is', 'AWESOME', 100, ['plotly', 'is', 'awesome']]"
       ]
      }
     ],
     "prompt_number": 11
    },
    {
     "cell_type": "code",
     "collapsed": false,
     "input": [
      "my_list5[6] = 'AwEsOmE'    # changes my_list5, not my_list3\n",
      "\n",
      "my_list5"
     ],
     "language": "python",
     "metadata": {},
     "outputs": [
      {
       "metadata": {},
       "output_type": "pyout",
       "prompt_number": 12,
       "text": [
        "[1, 2, 5, 6, 'PLOTLY', 'is', 'AwEsOmE', 100, ['plotly', 'is', 'awesome']]"
       ]
      }
     ],
     "prompt_number": 12
    },
    {
     "cell_type": "heading",
     "level": 3,
     "metadata": {},
     "source": [
      "A.3 Dictionaries"
     ]
    },
    {
     "cell_type": "markdown",
     "metadata": {},
     "source": [
      "Dictionariess are *unordered* collections of key-value pairs that are referred to (or *stored* in) a variable. They are a convinient way to store **...**\n",
      "\n",
      "Dictionaries are creates using curly bracket `{` `}` where each item (or entry) is seperated by a comma `,`. Keys are on the left-hand side of `:` and their corresponding values are on the right-hand side of `:`."
     ]
    },
    {
     "cell_type": "code",
     "collapsed": false,
     "input": [
      "my_dict = {'2': 'stuff', 1: 77.7, 'id': ['more', 'stuff']}  # \n",
      "\n",
      "my_dict"
     ],
     "language": "python",
     "metadata": {},
     "outputs": [
      {
       "metadata": {},
       "output_type": "pyout",
       "prompt_number": 13,
       "text": [
        "{1: 77.7, '2': 'stuff', 'id': ['more', 'stuff']}"
       ]
      }
     ],
     "prompt_number": 13
    },
    {
     "cell_type": "markdown",
     "metadata": {},
     "source": [
      "Keys can either be string or numbers. Dictionaries are unordered collections so they may not print in the same order as they were assigned. To retrieve a particular value in a dictionary use `[` `]`. For example,"
     ]
    },
    {
     "cell_type": "code",
     "collapsed": false,
     "input": [
      "my_dict['2']"
     ],
     "language": "python",
     "metadata": {},
     "outputs": [
      {
       "metadata": {},
       "output_type": "pyout",
       "prompt_number": 14,
       "text": [
        "'stuff'"
       ]
      }
     ],
     "prompt_number": 14
    },
    {
     "cell_type": "markdown",
     "metadata": {},
     "source": [
      "One can also define dictionaries using the following syntax:"
     ]
    },
    {
     "cell_type": "code",
     "collapsed": false,
     "input": [
      "my_dict2 = dict(company='plotly', api='python', ipython=True)\n",
      "\n",
      "my_dict2"
     ],
     "language": "python",
     "metadata": {},
     "outputs": [
      {
       "metadata": {},
       "output_type": "pyout",
       "prompt_number": 15,
       "text": [
        "{'api': 'python', 'company': 'plotly', 'ipython': True}"
       ]
      }
     ],
     "prompt_number": 15
    },
    {
     "cell_type": "markdown",
     "metadata": {},
     "source": [
      "Where the keys, here on the left-hand side of `=`, are strings without spaces."
     ]
    },
    {
     "cell_type": "markdown",
     "metadata": {},
     "source": [
      "To add new key-values pair in a given dictionary, either assign values to keys or use the `update()` method:"
     ]
    },
    {
     "cell_type": "code",
     "collapsed": false,
     "input": [
      "my_dict2['version'] = '1.0.0'             # add 'version': '1.0.0' to my_dict2\n",
      "my_dict2.update({'ipython-nb': True})     # update my_dict2 with another dictionary\n",
      "my_dict2.update(dict(team='Jack & co.'))  # similarly\n",
      "\n",
      "my_dict2"
     ],
     "language": "python",
     "metadata": {},
     "outputs": [
      {
       "metadata": {},
       "output_type": "pyout",
       "prompt_number": 16,
       "text": [
        "{'api': 'python',\n",
        " 'company': 'plotly',\n",
        " 'ipython': True,\n",
        " 'ipython-nb': True,\n",
        " 'team': 'Jack & co.',\n",
        " 'version': '1.0.0'}"
       ]
      }
     ],
     "prompt_number": 16
    },
    {
     "cell_type": "markdown",
     "metadata": {},
     "source": [
      "With the same techniques, one can modify values of existing keys:"
     ]
    },
    {
     "cell_type": "code",
     "collapsed": false,
     "input": [
      "my_dict2['api'] = 'python 2.7+'                # modify value of 'api' key\n",
      "my_dict2.update({'company': 'plotly graphs'})  # overwrite value of 'company' key\n",
      "\n",
      "#\n",
      "my_dict2.update(dict(team=dict(eng=['Chris','Ben','Marianne','Alex V','Andrew',\n",
      "                                    'John','Christophe'],\n",
      "                               ceo='Jack', coo='Matt', design=['Carmel','Matte'],\n",
      "                               cbo='Nolan', cto='Alex J')))\n",
      "\n",
      "my_dict2"
     ],
     "language": "python",
     "metadata": {},
     "outputs": [
      {
       "metadata": {},
       "output_type": "pyout",
       "prompt_number": 17,
       "text": [
        "{'api': 'python 2.7+',\n",
        " 'company': 'plotly graphs',\n",
        " 'ipython': True,\n",
        " 'ipython-nb': True,\n",
        " 'team': {'cbo': 'Nolan',\n",
        "  'ceo': 'Jack',\n",
        "  'coo': 'Matt',\n",
        "  'cto': 'Alex J',\n",
        "  'design': ['Carmel', 'Matte'],\n",
        "  'eng': ['Chris',\n",
        "   'Ben',\n",
        "   'Marianne',\n",
        "   'Alex V',\n",
        "   'Andrew',\n",
        "   'John',\n",
        "   'Christophe']},\n",
        " 'version': '1.0.0'}"
       ]
      }
     ],
     "prompt_number": 17
    },
    {
     "cell_type": "markdown",
     "metadata": {},
     "source": [
      "Like lists, dictionaries are mutuable objects. Use the `dict()` function to assign a copy."
     ]
    },
    {
     "cell_type": "code",
     "collapsed": false,
     "input": [
      "my_dict3 = my_dict\n",
      "my_dict4 = dict(my_dict)\n",
      "\n",
      "my_dict3['2'] = 'STUFF'\n",
      "\n",
      "my_dict"
     ],
     "language": "python",
     "metadata": {},
     "outputs": [
      {
       "metadata": {},
       "output_type": "pyout",
       "prompt_number": 18,
       "text": [
        "{1: 77.7, '2': 'STUFF', 'id': ['more', 'stuff']}"
       ]
      }
     ],
     "prompt_number": 18
    },
    {
     "cell_type": "code",
     "collapsed": false,
     "input": [
      "my_dict4"
     ],
     "language": "python",
     "metadata": {},
     "outputs": [
      {
       "metadata": {},
       "output_type": "pyout",
       "prompt_number": 19,
       "text": [
        "{1: 77.7, '2': 'stuff', 'id': ['more', 'stuff']}"
       ]
      }
     ],
     "prompt_number": 19
    },
    {
     "cell_type": "markdown",
     "metadata": {},
     "source": [
      "<h5> Quick note </h5>\n",
      "\n",
      "Plotly graph objects are fill in using `dict()` syntax all keys are string ...blabla"
     ]
    },
    {
     "cell_type": "heading",
     "level": 3,
     "metadata": {},
     "source": [
      "A.4 Functions"
     ]
    },
    {
     "cell_type": "markdown",
     "metadata": {},
     "source": [
      "positional arguments, keyword arguments, lambda"
     ]
    },
    {
     "cell_type": "code",
     "collapsed": false,
     "input": [
      "def my_func(x):   # define function (notice the :)\n",
      "    return x+1    # return value (scope is indented)\n",
      "\n",
      "x = 1\n",
      "print x\n",
      "print my_func(x)"
     ],
     "language": "python",
     "metadata": {},
     "outputs": [
      {
       "output_type": "stream",
       "stream": "stdout",
       "text": [
        "1\n",
        "2\n"
       ]
      }
     ],
     "prompt_number": 20
    },
    {
     "cell_type": "heading",
     "level": 3,
     "metadata": {},
     "source": [
      "A.5 For loops, if statements"
     ]
    },
    {
     "cell_type": "markdown",
     "metadata": {},
     "source": [
      "with enumerate, zip\n",
      "\n"
     ]
    },
    {
     "cell_type": "code",
     "collapsed": false,
     "input": [],
     "language": "python",
     "metadata": {},
     "outputs": [],
     "prompt_number": 20
    },
    {
     "cell_type": "heading",
     "level": 3,
     "metadata": {},
     "source": [
      "A.6 List comprehension"
     ]
    },
    {
     "cell_type": "code",
     "collapsed": false,
     "input": [
      "[make_vert_trace(x,'mode',splt) \n",
      "                         for splt,x in zip(splts,[homeworks,midterm,final,course])]+"
     ],
     "language": "python",
     "metadata": {},
     "outputs": [
      {
       "ename": "SyntaxError",
       "evalue": "invalid syntax (<ipython-input-21-6c8cd3a901e3>, line 2)",
       "output_type": "pyerr",
       "traceback": [
        "\u001b[1;36m  File \u001b[1;32m\"<ipython-input-21-6c8cd3a901e3>\"\u001b[1;36m, line \u001b[1;32m2\u001b[0m\n\u001b[1;33m    for splt,x in zip(splts,[homeworks,midterm,final,course])]+\u001b[0m\n\u001b[1;37m                                                               ^\u001b[0m\n\u001b[1;31mSyntaxError\u001b[0m\u001b[1;31m:\u001b[0m invalid syntax\n"
       ]
      }
     ],
     "prompt_number": 21
    },
    {
     "cell_type": "code",
     "collapsed": false,
     "input": [],
     "language": "python",
     "metadata": {},
     "outputs": [],
     "prompt_number": 21
    },
    {
     "cell_type": "heading",
     "level": 3,
     "metadata": {},
     "source": [
      "A.7 Numpy arrays"
     ]
    },
    {
     "cell_type": "markdown",
     "metadata": {},
     "source": [
      ".size(), .shape(), .min() ...\n",
      "\n",
      "2d array, indexing\n",
      "\n"
     ]
    },
    {
     "cell_type": "code",
     "collapsed": false,
     "input": [],
     "language": "python",
     "metadata": {},
     "outputs": [],
     "prompt_number": 21
    },
    {
     "cell_type": "heading",
     "level": 3,
     "metadata": {},
     "source": [
      "A.8 String manipulation"
     ]
    },
    {
     "cell_type": "markdown",
     "metadata": {},
     "source": [
      "format, "
     ]
    },
    {
     "cell_type": "code",
     "collapsed": false,
     "input": [],
     "language": "python",
     "metadata": {},
     "outputs": [],
     "prompt_number": 21
    },
    {
     "cell_type": "markdown",
     "metadata": {},
     "source": [
      "<hr>\n",
      "\n",
      "<h4 style=\"font-size:14pt;\">Go to\n",
      "\n",
      "[top of page](http://nbviewer.ipython.org/github/plotly/python-user-guide/blob/master/sA_python-basics/sA_python-basics.ipynb#) </h4>\n",
      "\n",
      "<h4 style=\"font-size:14pt;\">Go to User Guide's\n",
      "\n",
      "[homepage](http://nbviewer.ipython.org/github/plotly/python-user-guide/blob/master/s00_homepage/s00_homepage.ipynb) </h4>\n",
      "    \n",
      "<hr>\n",
      "\n",
      "<!-- **Go to** [next section](http://nbviewer.ipython.org/github/plotly/python-user-guide/blob/master/s4_histograms/s4_histograms.ipynb) -->\n",
      "\n",
      "<!-- **Go to** [previous section](http://nbviewer.ipython.org/github/plotly/python-user-guide/blob/master/s2_bar-charts/s2_bar-charts.ipynb) -->"
     ]
    },
    {
     "cell_type": "markdown",
     "metadata": {},
     "source": [
      "<div style=\"float:right; \\\">\n",
      "    <img src=\"http://i.imgur.com/4vwuxdJ.png\" \n",
      " align=right style=\"float:right; margin-left: 5px; margin-top: -10px\" />\n",
      "</div>\n",
      "\n",
      "<h4>Got Questions and Feedback? </h4>\n",
      "\n",
      "About <a href=\"https://plot.ly\" target=\"_blank\">Plotly</a>\n",
      "\n",
      "* email: feedback@plot.ly \n",
      "* tweet: \n",
      "<a href=\"https://twitter.com/plotlygraphs\" target=\"_blank\">@plotlygraphs</a>\n",
      "\n",
      "About the <a href=\"https://github.com/plotly/python-user-guide\" target=\"_blank\">User Guide</a>\n",
      " \n",
      "* email: etienne@plot.ly\n",
      "* tweet: <a href=\"https://twitter.com/etpinard\" target=\"_blank\">@etpinard</a>\n",
      "\n",
      "<h4 style=\"margin-top:30px;\">Notebook styling ideas</h4>\n",
      "\n",
      "Big thanks to\n",
      "\n",
      "* <a href=\"http://nbviewer.ipython.org/github/CamDavidsonPilon/Probabilistic-Programming-and-Bayesian-Methods-for-Hackers/blob/master/Prologue/Prologue.ipynb\" target=\"_blank\">Cam Davidson-Pilon</a>\n",
      "* <a href=\"http://lorenabarba.com/blog/announcing-aeropython/#.U1ULXdX1LJ4.google_plusone_share\" target=\"_blank\">Lorena A. Barba</a>\n",
      "\n",
      "<br>"
     ]
    },
    {
     "cell_type": "code",
     "collapsed": false,
     "input": [
      "# CSS styling within IPython notebook\n",
      "from IPython.core.display import HTML\n",
      "def css_styling():\n",
      "    styles = open(\"../custom.css\", \"r\").read()\n",
      "    return HTML(styles)\n",
      "css_styling()"
     ],
     "language": "python",
     "metadata": {},
     "outputs": [
      {
       "html": [
        "<style>\n",
        "    /*body {\n",
        "        background-color: #F5F5F5;\n",
        "    }*/\n",
        "    div.cell{\n",
        "        width: 850px;\n",
        "        margin-left: 10% !important;\n",
        "        margin-right: auto;\n",
        "    }\n",
        "    h1 {\n",
        "        font-family: 'Open sans',verdana,arial,sans-serif;\n",
        "    }\n",
        "    .text_cell_render h1 {\n",
        "        font-weight: 200;\n",
        "        font-size: 40pt;\n",
        "        line-height: 100%;\n",
        "        color:#447adb;\n",
        "        margin-bottom: 0em;\n",
        "        margin-top: 0em;\n",
        "        display: block;\n",
        "        white-space: nowrap;\n",
        "    } \n",
        "    h2 {\n",
        "        font-family: 'Open sans',verdana,arial,sans-serif;\n",
        "        text-indent:1em;\n",
        "    }\n",
        "    .text_cell_render h2 {\n",
        "        font-weight: 200;\n",
        "        font-size: 20pt;\n",
        "        font-style: italic;\n",
        "        line-height: 100%;\n",
        "        color:#447adb;\n",
        "        margin-bottom: 1.5em;\n",
        "        margin-top: 0.5em;\n",
        "        display: block;\n",
        "        white-space: nowrap;\n",
        "    } \n",
        "    h3 {\n",
        "        font-family: 'Open sans',verdana,arial,sans-serif;\n",
        "    }\n",
        "    .text_cell_render h3 {\n",
        "        font-weight: 300;\n",
        "        font-size: 18pt;\n",
        "        line-height: 100%;\n",
        "        color:#447adb;\n",
        "        margin-bottom: 0.5em;\n",
        "        margin-top: 2em;\n",
        "        display: block;\n",
        "        white-space: nowrap;\n",
        "    }\n",
        "    h4 {\n",
        "        font-family: 'Open sans',verdana,arial,sans-serif;\n",
        "    }\n",
        "    .text_cell_render h4 {\n",
        "        font-weight: 300;\n",
        "        font-size: 16pt;\n",
        "        color:#447adb;\n",
        "        margin-bottom: 0.5em;\n",
        "        margin-top: 0.5em;\n",
        "        display: block;\n",
        "        white-space: nowrap;\n",
        "    }\n",
        "    h5 {\n",
        "        font-family: 'Open sans',verdana,arial,sans-serif;\n",
        "    }\n",
        "    .text_cell_render h5 {\n",
        "        font-weight: 300;\n",
        "        font-style: normal;\n",
        "        color: #1d3b84;\n",
        "        font-size: 16pt;\n",
        "        margin-bottom: 0em;\n",
        "        margin-top: 1.5em;\n",
        "        display: block;\n",
        "        white-space: nowrap;\n",
        "    }\n",
        "    div.text_cell_render{\n",
        "        font-family: 'Open sans',verdana,arial,sans-serif;\n",
        "        line-height: 135%;\n",
        "        font-size: 125%;\n",
        "        width:750px;\n",
        "        margin-left:auto;\n",
        "        margin-right:auto;\n",
        "        text-align:justify;\n",
        "        text-justify:inter-word;\n",
        "    }\n",
        "    div.output_subarea.output_text.output_pyout {\n",
        "        overflow-x: auto;\n",
        "        overflow-y: scroll;\n",
        "        max-height: 300px;\n",
        "    }\n",
        "    div.output_subarea.output_stream.output_stdout.output_text {\n",
        "        overflow-x: auto;\n",
        "        overflow-y: scroll;\n",
        "        max-height: 300px;\n",
        "    }\n",
        "    code{\n",
        "      font-size: 78%;\n",
        "    }\n",
        "    ul{\n",
        "        /* color:#447adb; */  // colors text too\n",
        "        margin: 2em;\n",
        "    }\n",
        "    ul li{\n",
        "        padding-left: 0.5em; \n",
        "        margin-bottom: 0.5em; \n",
        "        margin-top: 0.5em; \n",
        "    }\n",
        "    ul li li{\n",
        "        padding-left: 0.2em; \n",
        "        margin-bottom: 0.2em; \n",
        "        margin-top: 0.2em; \n",
        "    }\n",
        "    /*.prompt{\n",
        "        display: None;\n",
        "    } */\n",
        "    ul li{\n",
        "        padding-left: 0.5em; \n",
        "        margin-bottom: 0.5em; \n",
        "        margin-top: 0.2em; \n",
        "    }\n",
        "    a:link{\n",
        "       font-weight: bold;\n",
        "       color:#447adb;\n",
        "    }\n",
        "    a:visited{\n",
        "       font-weight: bold;\n",
        "       color: #1d3b84;\n",
        "    }\n",
        "    a:hover{\n",
        "       font-weight: bold;\n",
        "       color: #1d3b84;\n",
        "    }\n",
        "    a:focus{\n",
        "       font-weight: bold;\n",
        "       color:#447adb;\n",
        "    }\n",
        "    a:active{\n",
        "       font-weight: bold;\n",
        "       color:#447adb;\n",
        "    }\n",
        "    .rendered_html :link {\n",
        "       text-decoration: none; \n",
        "    }\n",
        "    .rendered_html :hover {\n",
        "       text-decoration: none; \n",
        "    }\n",
        "    .rendered_html :visited {\n",
        "      text-decoration: none;\n",
        "    }\n",
        "    .rendered_html :focus {\n",
        "      text-decoration: none;\n",
        "    }\n",
        "    .rendered_html :active {\n",
        "      text-decoration: none;\n",
        "    }\n",
        "    .warning{\n",
        "        color: rgb( 240, 20, 20 )\n",
        "    } \n",
        "    hr {\n",
        "      color: #f3f3f3;\n",
        "      background-color: #f3f3f3;\n",
        "      height: 1px;\n",
        "    }\n",
        "    blockquote{\n",
        "      display:block;\n",
        "      background: #f3f3f3;\n",
        "      font-family: 'Open sans',verdana,arial,sans-serif;\n",
        "      width:610px;\n",
        "      padding: 15px 15px 15px 15px;\n",
        "      text-align:justify;\n",
        "      text-justify:inter-word;\n",
        "      }\n",
        "      blockquote p {\n",
        "        margin-bottom: 0;\n",
        "        line-height: 125%;\n",
        "        font-size: 100%;\n",
        "      }\n",
        "   /* element.style {\n",
        "    } */  \n",
        "</style>\n",
        "<script>\n",
        "    MathJax.Hub.Config({\n",
        "                        TeX: {\n",
        "                           extensions: [\"AMSmath.js\"]\n",
        "                           },\n",
        "                tex2jax: {\n",
        "                    inlineMath: [ ['$','$'], [\"\\\\(\",\"\\\\)\"] ],\n",
        "                    displayMath: [ ['$$','$$'], [\"\\\\[\",\"\\\\]\"] ]\n",
        "                },\n",
        "                displayAlign: 'center', // Change this to 'center' to center equations.\n",
        "                \"HTML-CSS\": {\n",
        "                    styles: {'.MathJax_Display': {\"margin\": 4}}\n",
        "                }\n",
        "        });\n",
        "</script>\n"
       ],
       "metadata": {},
       "output_type": "pyout",
       "prompt_number": 22,
       "text": [
        "<IPython.core.display.HTML at 0x2828950>"
       ]
      }
     ],
     "prompt_number": 22
    },
    {
     "cell_type": "code",
     "collapsed": false,
     "input": [],
     "language": "python",
     "metadata": {},
     "outputs": [],
     "prompt_number": 22
    }
   ],
   "metadata": {}
  }
 ]
}