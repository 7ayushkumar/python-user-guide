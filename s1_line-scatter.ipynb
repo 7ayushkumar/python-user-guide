{
 "metadata": {
  "name": "s1_line-scatter"
 },
 "nbformat": 3,
 "nbformat_minor": 0,
 "worksheets": [
  {
   "cells": [
    {
     "cell_type": "heading",
     "level": 1,
     "metadata": {},
     "source": [
      "Section 1: Line & Scatter Plots"
     ]
    },
    {
     "cell_type": "markdown",
     "metadata": {},
     "source": [
      "A quick introduction ..."
     ]
    },
    {
     "cell_type": "heading",
     "level": 2,
     "metadata": {},
     "source": [
      "Setup Plotly"
     ]
    },
    {
     "cell_type": "markdown",
     "metadata": {},
     "source": [
      "First, a few imports needed for this IPython notebook"
     ]
    },
    {
     "cell_type": "code",
     "collapsed": false,
     "input": [
      "import plotly       # Plotly for Python API\n",
      "import json         # JSON file read/write\n",
      "import numpy as np  # Numpy (for math functions and arrays, here)\n",
      "\n",
      "plotly.__version__  # check ploty.ly version"
     ],
     "language": "python",
     "metadata": {},
     "outputs": [
      {
       "output_type": "pyout",
       "prompt_number": 1,
       "text": [
        "'0.5.7'"
       ]
      }
     ],
     "prompt_number": 1
    },
    {
     "cell_type": "markdown",
     "metadata": {},
     "source": [
      "Info on config.json ..."
     ]
    },
    {
     "cell_type": "code",
     "collapsed": false,
     "input": [
      "# Open config.json \n",
      "with open('./config.json') as config_file:\n",
      "    plotly_user_config = json.load(config_file)\n",
      "    \n",
      "# -- note that the 'with' statement automatically closes  \n",
      "#    'config.json' at the end of its block of code\n",
      "\n",
      "# Get username and api_key from config.json\n",
      "username = plotly_user_config['plotly_username'] \n",
      "api_key = plotly_user_config['plotly_api_key']\n",
      "\n",
      "# Initialize the plotly object to 'my_plotly'\n",
      "my_plotly = plotly.plotly(username, api_key)"
     ],
     "language": "python",
     "metadata": {},
     "outputs": [],
     "prompt_number": 2
    },
    {
     "cell_type": "heading",
     "level": 2,
     "metadata": {},
     "source": [
      "Your first Plotly plot!"
     ]
    },
    {
     "cell_type": "markdown",
     "metadata": {},
     "source": [
      "Without further ado, let's make our first plot!!\n",
      "\n",
      "\n",
      "**Info on the classic my_plotly.plot** method terminal-based python/IPython API\n",
      "\n",
      "> For this notebook, we are using the `iplot` method!"
     ]
    },
    {
     "cell_type": "code",
     "collapsed": false,
     "input": [
      "# Some lists of numbers\n",
      "my_x0 = [1,2,3,5,6]\n",
      "my_y0 = [1,3.5,9.5,24,38]\n",
      "\n",
      "# ** what to write here **\n",
      "my_plotly.iplot(my_x0,my_y0)"
     ],
     "language": "python",
     "metadata": {},
     "outputs": [
      {
       "html": [
        "<iframe height=\"500\" id=\"igraph\" scrolling=\"no\" seamless=\"seamless\" src=\"https://plot.ly/~etpinard/62/600/450\" width=\"650\"></iframe>"
       ],
       "output_type": "pyout",
       "prompt_number": 20,
       "text": [
        "<IPython.core.display.HTML at 0x3667cd0>"
       ]
      }
     ],
     "prompt_number": 20
    },
    {
     "cell_type": "markdown",
     "metadata": {},
     "source": [
      "There you go! ...\n",
      "\n",
      "More generally,  \n",
      "\n",
      "the `.plot` and `.iplot` methods automatically parse ...\n",
      "\n",
      "So, `my_plotly.iplot(x0,y0,x1,y1,x2,y2, ...)`\n",
      "\n",
      "Where each `x`-`y` pair is plotted in the order sent starting from the left (i.e. the `x0`-`y0` pair is plotted before the `x1`-`y1` pair).\n",
      "\n",
      "Note that, if with the `x` and `y` lists do not have the same lengths the longer list is sliced down from its last entry to the shorter list's length.\n",
      "\n",
      "** Differance between .iplot(trace0,trace1) and .iplot([trace0,trace1]) **\n",
      "\n",
      "** I don't think there is one. List compatibility is useful for automating ...\n",
      "\n",
      "Easy, simple for quick data visualization.\n",
      "\n",
      "That said, for custom plots ..."
     ]
    },
    {
     "cell_type": "heading",
     "level": 2,
     "metadata": {},
     "source": [
      "Dictionaries and customization"
     ]
    },
    {
     "cell_type": "markdown",
     "metadata": {},
     "source": [
      "\n",
      "\n",
      "Plotly stores line options as key-value pairs \n",
      "\n",
      "let's built our first Plotly **trace**\n",
      "\n",
      "**Info on traces**\n",
      "\n",
      "**Info on dictionary keys** \n",
      "\n",
      "Present the terminalogy\n",
      "\n",
      "\n",
      "\n",
      "-- Note spaces before and after `:` and `,` do not matter"
     ]
    },
    {
     "cell_type": "code",
     "collapsed": false,
     "input": [
      "# Create a numpy array of 50 (by default) equally-spaced numbers\n",
      "my_x1 = np.linspace(0,6)\n",
      "\n",
      "# Define some function \n",
      "def my_f1(x):\n",
      "    return x**2\n",
      "\n",
      "# Evaluate 'my_f1' the points in 'my_x1'\n",
      "my_y1 = my_f1(my_x1)\n",
      "\n",
      "# Define a dictionary for each trace\n",
      "trace0 = {'x': my_x0,         # x-coordinates\n",
      "          'y': my_y0,         # y-coordinates\n",
      "          'type': 'scatter',  # plot type\n",
      "          'mode': 'markers'}  # plot mode within the 'scatter' type\n",
      "\n",
      "trace1 = {'x': my_x1, \n",
      "          'y': my_y1, \n",
      "          'type': 'scatter',\n",
      "          'mode': 'lines'}\n",
      "\n",
      "# Call Plotly's .iplot method \n",
      "my_plotly.iplot(trace0,trace1) "
     ],
     "language": "python",
     "metadata": {},
     "outputs": [
      {
       "html": [
        "<iframe height=\"500\" id=\"igraph\" scrolling=\"no\" seamless=\"seamless\" src=\"https://plot.ly/~etpinard/60/600/450\" width=\"650\"></iframe>"
       ],
       "output_type": "pyout",
       "prompt_number": 18,
       "text": [
        "<IPython.core.display.HTML at 0x366eb90>"
       ]
      }
     ],
     "prompt_number": 18
    },
    {
     "cell_type": "markdown",
     "metadata": {},
     "source": [
      "So, in the `trace0` and `trace1` dictionaries: \n",
      "\n",
      "* key `'x'` links to the `my_x1` 1d array\n",
      "* key `'y'` links to the `my_y1` 1d array\n",
      "* key `'type'` links to the `'scatter'` type, which is Plotly's default plot type\n",
      "\n",
      "The `'scatter'` type has many modes. \n",
      "\n",
      "Again, using key-value pairs we link the key `'mode'` to `'markers'` (careful it is `'markers'`, not `'marker'`) in dictionary `trace0` and \n",
      "we link key `'mode'` to `'lines'` in dictionary `trace1`, which is the default mode. \n",
      "\n",
      "Note that as Plotly makes use of Python dictionaries for its method inputs, the ordering of each key-value pair does not matter.\n",
      "\n",
      "Make a note on single or double quotes??\n",
      "\n",
      "Later, we will see that Plotly has many more line options  \n",
      "... defined by adding key-value pairs in each trace's dictionary. (Refer to X1 ...)\n",
      "\n",
      "As before the graph is fully interactif ( useful for comparing two y values for a given x)\n",
      "\n",
      "\n",
      "Now, there are a few things we would like to customize:\n",
      "\n",
      "* Line and markers style color and size\n",
      "* Add title, axis labels\n",
      "* Legend is off, poorly position and not labeled\n",
      "\n",
      "\n",
      "Consider the following options:"
     ]
    },
    {
     "cell_type": "code",
     "collapsed": false,
     "input": [
      "# Update each trace dictionary\n",
      "trace0.update({'marker': {'color': 'red',\n",
      "                          'symbol': 'cross',\n",
      "                          'size': 10},\n",
      "               'name': 'Data'})        # a label, used for legend\n",
      "\n",
      "trace1.update({'line': {'color': 'rgb(27,158,119)',\n",
      "                        'dash': 'dashdot',\n",
      "                        'width': 3},\n",
      "               'name': 'Theory'})\n",
      "\n",
      "# -- note that the .update() method for dictionaries is analoguous \n",
      "#    to the .append() method for lists\n",
      "\n",
      "my_layout = {'title': 'Some Experiment',\n",
      "             'xaxis': {'title': 'Some independent variable'},\n",
      "             'yaxis': {'title': 'Some dependent variable'},\n",
      "             'legend': {'x': 0, 'y': 1}}   # legend position in normalized coordinate w.r.t. graph frame\n",
      "\n",
      "# Call Plotly's .iplot method\n",
      "my_plotly.iplot([trace1,trace0],layout= my_layout)"
     ],
     "language": "python",
     "metadata": {},
     "outputs": [
      {
       "html": [
        "<iframe height=\"500\" id=\"igraph\" scrolling=\"no\" seamless=\"seamless\" src=\"https://plot.ly/~etpinard/69/600/450\" width=\"650\"></iframe>"
       ],
       "output_type": "pyout",
       "prompt_number": 27,
       "text": [
        "<IPython.core.display.HTML at 0x366e910>"
       ]
      }
     ],
     "prompt_number": 27
    },
    {
     "cell_type": "markdown",
     "metadata": {},
     "source": [
      "Nice! \n",
      "\n",
      "\n",
      "\n",
      "Notice that the values corresponding to the `'line'` and `'marker'` keys are dictionaries.\n",
      "\n",
      "\n",
      "\n",
      "\n",
      "Plotly understands a few color names. If not, use either RGB, RGBA, (more in\n",
      "\n",
      "Each of the line option values can be lists. ... Revisted in Bubble chart.\n",
      "\n",
      "Talk about legend line color, axes ... ,\n",
      "\n",
      "Talk about `'lines+markers'` mode\n",
      "\n",
      "Mention that the `'mode'` key are useless if the `'line'` and/or `'marker'` (singular here!) keys are present in a given trace dictionary."
     ]
    },
    {
     "cell_type": "heading",
     "level": 2,
     "metadata": {},
     "source": [
      "Plotly homepage and file settings"
     ]
    },
    {
     "cell_type": "markdown",
     "metadata": {},
     "source": [
      "End section with snapshot of the plotly homepage \n",
      "\n",
      "Talk filenames, overwrite option ... (File setting in current doc)\n",
      "\n",
      "In its most general form, the Plotly `.plot` (or `.iplot`) method is called as:\n",
      "\n",
      "<code> \n",
      "  my_plotly.plot(my_data,layout=my_layout,filename=my_filename)\n",
      "</code>\n",
      "\n",
      "Talk about my_plotly.iplot outputs"
     ]
    },
    {
     "cell_type": "code",
     "collapsed": false,
     "input": [
      "# Call Plotly's .iplot method\n",
      "plot_outputs = my_plotly.iplot([trace1,trace0],\n",
      "                               layout= my_layout,\n",
      "                               filename= 's1_some-exp',\n",
      "                               fileopt= 'overwrite')"
     ],
     "language": "python",
     "metadata": {},
     "outputs": []
    },
    {
     "cell_type": "markdown",
     "metadata": {},
     "source": [
      "`'overwrite'` works even if the file does not exist.\n",
      "\n",
      "** Revisit `'append'` `'extend'` (with traces= opt) in the section on streaming. **\n",
      "\n"
     ]
    },
    {
     "cell_type": "code",
     "collapsed": false,
     "input": [],
     "language": "python",
     "metadata": {},
     "outputs": []
    }
   ],
   "metadata": {}
  }
 ]
}