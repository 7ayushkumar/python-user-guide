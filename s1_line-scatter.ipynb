{
 "metadata": {
  "name": "s1_line-scatter"
 },
 "nbformat": 3,
 "nbformat_minor": 0,
 "worksheets": [
  {
   "cells": [
    {
     "cell_type": "heading",
     "level": 1,
     "metadata": {},
     "source": [
      "Section 1: Line & Scatter Plots"
     ]
    },
    {
     "cell_type": "markdown",
     "metadata": {},
     "source": [
      "A quick introduction ..."
     ]
    },
    {
     "cell_type": "heading",
     "level": 2,
     "metadata": {},
     "source": [
      "Setup Plotly"
     ]
    },
    {
     "cell_type": "markdown",
     "metadata": {},
     "source": [
      "First, a few imports needed for this IPython notebook"
     ]
    },
    {
     "cell_type": "code",
     "collapsed": false,
     "input": [
      "import plotly       # Plotly for Python API\n",
      "import json         # JSON file read/write\n",
      "import numpy as np  # Numpy (for math functions and arrays, here)\n",
      "\n",
      "plotly.__version__  # check ploty.ly version"
     ],
     "language": "python",
     "metadata": {},
     "outputs": [
      {
       "output_type": "pyout",
       "prompt_number": 2,
       "text": [
        "'0.5.7'"
       ]
      }
     ],
     "prompt_number": 2
    },
    {
     "cell_type": "markdown",
     "metadata": {},
     "source": [
      "Info on config.json ..."
     ]
    },
    {
     "cell_type": "code",
     "collapsed": false,
     "input": [
      "# Open config.json \n",
      "with open('./config.json') as config_file:\n",
      "    plotly_user_config = json.load(config_file)\n",
      "    \n",
      "# -- note that the 'with' statement automatically closes  \n",
      "#    'config.json' at the end of its block of code\n",
      "\n",
      "# Get username and api_key from config.json\n",
      "username = plotly_user_config['plotly_username']\n",
      "api_key = plotly_user_config['plotly_api_key']\n",
      "\n",
      "# Initialize the plotly object to 'my_plotly'\n",
      "my_plotly = plotly.plotly(username, api_key)"
     ],
     "language": "python",
     "metadata": {},
     "outputs": [],
     "prompt_number": 3
    },
    {
     "cell_type": "heading",
     "level": 2,
     "metadata": {},
     "source": [
      "Your first Plotly plot!"
     ]
    },
    {
     "cell_type": "markdown",
     "metadata": {},
     "source": [
      "Without further ado, let's make our first plot!!\n",
      "\n",
      "\n",
      "**Info on the classic my_plotly.plot** method terminal-based python/IPython API\n",
      "\n",
      "<code>\n",
      "\n",
      "    my_plotly.plot\n",
      "\n",
      "<code/>\n",
      "    \n",
      "> For this notebook, we are using the `iplot` method!\n",
      "\n",
      "> Later, we will import 'real' data files, but for now this will do:"
     ]
    },
    {
     "cell_type": "code",
     "collapsed": false,
     "input": [
      "# Some lists of numbers\n",
      "my_x0 = [1,2,3,5,6]\n",
      "my_y0 = [1,4.5,7,24,38]\n",
      "\n",
      "# Call Plotly's .iplot method\n",
      "my_plotly.iplot(my_x0,my_y0)"
     ],
     "language": "python",
     "metadata": {},
     "outputs": [
      {
       "html": [
        "<iframe height=\"500\" id=\"igraph\" scrolling=\"no\" seamless=\"seamless\" src=\"https://plot.ly/~etpinard/82/600/450\" width=\"650\"></iframe>"
       ],
       "output_type": "pyout",
       "prompt_number": 6,
       "text": [
        "<IPython.core.display.HTML at 0x329a710>"
       ]
      }
     ],
     "prompt_number": 6
    },
    {
     "cell_type": "markdown",
     "metadata": {},
     "source": [
      "There you go! ...\n",
      "\n",
      "More generally,  \n",
      "\n",
      "the `.plot` and `.iplot` methods automatically parse ...\n",
      "\n",
      "So, `my_plotly.iplot(x0,y0,x1,y1,x2,y2, ...)`\n",
      "\n",
      "Where each `x`-`y` pair is plotted in the order sent starting from the left (i.e. the `x0`-`y0` pair is plotted before the `x1`-`y1` pair).\n",
      "\n",
      "Note that, if with the `x` and `y` lists do not have the same lengths the longer list is sliced down from its last entry to the shorter list's length.\n",
      "\n",
      "** Differance between .iplot(trace0,trace1) and .iplot([trace0,trace1]) **\n",
      "\n",
      "** I don't think there is one. List compatibility is useful for automating ...\n",
      "\n",
      "Easy, simple for quick data visualization.\n",
      "\n",
      "That said, for custom plots ..."
     ]
    },
    {
     "cell_type": "heading",
     "level": 2,
     "metadata": {},
     "source": [
      "Dictionaries and customization"
     ]
    },
    {
     "cell_type": "markdown",
     "metadata": {},
     "source": [
      "\n",
      "\n",
      "Plotly stores line options as key-value pairs \n",
      "\n",
      "let's built our first Plotly **trace** dictionary\n",
      "\n",
      "**Info on traces**\n",
      "\n",
      "**Info on dictionary keys** \n",
      "\n",
      "Present the terminalogy\n",
      "\n",
      "\n",
      "\n",
      "-- Note spaces before and after `:` and `,` do not matter"
     ]
    },
    {
     "cell_type": "code",
     "collapsed": false,
     "input": [
      "# Create a numpy array of 50 (by default) equally-spaced numbers\n",
      "my_x1 = np.linspace(0,6)\n",
      "\n",
      "# Define some function \n",
      "def my_f1(x):\n",
      "    return x**2\n",
      "\n",
      "# Evaluate 'my_f1' to the points in 'my_x1'\n",
      "my_y1 = my_f1(my_x1)\n",
      "\n",
      "# Define trace dictionary for previous plot's data points\n",
      "trace0 = {'x': my_x0,         # data points on x-axis\n",
      "          'y': my_y0,         # data points on y-axis\n",
      "          'type': 'scatter',  # plot type\n",
      "          'mode': 'markers'}  # plot mode within the 'scatter' type\n",
      "\n",
      "# Similarly for the above function\n",
      "trace1 = {'x': my_x1,         \n",
      "          'y': my_y1,  \n",
      "          'type': 'scatter',\n",
      "          'mode': 'lines'}\n",
      "\n",
      "# Call Plotly's .iplot method \n",
      "my_plotly.iplot(trace0,trace1) "
     ],
     "language": "python",
     "metadata": {},
     "outputs": [
      {
       "html": [
        "<iframe height=\"500\" id=\"igraph\" scrolling=\"no\" seamless=\"seamless\" src=\"https://plot.ly/~etpinard/83/600/450\" width=\"650\"></iframe>"
       ],
       "output_type": "pyout",
       "prompt_number": 7,
       "text": [
        "<IPython.core.display.HTML at 0x329ab90>"
       ]
      }
     ],
     "prompt_number": 7
    },
    {
     "cell_type": "markdown",
     "metadata": {},
     "source": [
      "So, in the `trace0` and `trace1` dictionaries: \n",
      "\n",
      "* key `'x'` links to the `my_x1` 1d array\n",
      "* key `'y'` links to the `my_y1` 1d array\n",
      "* key `'type'` links to the `'scatter'` type, which is Plotly's default plot type\n",
      "\n",
      "The `'scatter'` plot type has many modes. Again, using key-value pairs we link the key `'mode'` to `'markers'` \n",
      "(careful it is `'markers'`, not `'marker'`) in dictionary `trace0` and we link key `'mode'` to `'lines'` in dictionary `trace1`, \n",
      "which is the default mode. \n",
      "Note that as Plotly makes use of Python dictionaries for its method inputs, the ordering of each key-value pair does not matter.\n",
      "\n",
      "Make a note on single or double quotes??\n",
      "\n",
      "Plotly has many more line options available, which are all defined by reseting and/or appending key-value pairs in each trace dictionary.\n",
      "We will explore several of Plotly's line options in detail throughout the examples given this document.\n",
      "In addition, a list of all of Plotly's plot options is given in **some appendix**.\n",
      "\n",
      "As before the graph is fully interactif: **take description from website** \n",
      "This last feature is quite useful say for comparing the traces' y-values for a given x.\n",
      "\n",
      "Let's continue customizing our plot with a few more features:\n",
      "\n",
      "* Set traces styles, colors and sizes\n",
      "* Add title and axis labels\n",
      "* Move the legend and make its labels more descriptive\n",
      "\n",
      "Consider the following:"
     ]
    },
    {
     "cell_type": "code",
     "collapsed": false,
     "input": [
      "# Update each trace dictionary\n",
      "trace0.update({'marker': {'color': 'red',\n",
      "                          'symbol': 'cross',\n",
      "                          'size': 10},\n",
      "               'name': 'Data'})        # a label, used for legend\n",
      "\n",
      "trace1.update({'line': {'color': 'rgb(27,158,119)',  # plotly understands RGB \n",
      "                        'dash': 'dashdot',\n",
      "                        'width': 3},\n",
      "               'name': 'Theory'})\n",
      "\n",
      "# -- note that the .update() method for dictionaries is analoguous \n",
      "#    to the .append() method for lists\n",
      "\n",
      "my_layout = {'title': 'Fig.3: Some Experiment',\n",
      "             'xaxis': {'title': 'Some independent variable'},\n",
      "             'yaxis': {'title': 'Some dependent variable'},\n",
      "             'legend': {'x': 0, 'y': 1}}   # legend position in normalized coordinate w.r.t. axis frame\n",
      "\n",
      "# Call Plotly's .iplot method, trace0 above trace1\n",
      "my_plotly.iplot([trace1,trace0],layout= my_layout)"
     ],
     "language": "python",
     "metadata": {},
     "outputs": [
      {
       "html": [
        "<iframe height=\"500\" id=\"igraph\" scrolling=\"no\" seamless=\"seamless\" src=\"https://plot.ly/~etpinard/72/600/450\" width=\"650\"></iframe>"
       ],
       "output_type": "pyout",
       "prompt_number": 6,
       "text": [
        "<IPython.core.display.HTML at 0x1d2dd90>"
       ]
      }
     ],
     "prompt_number": 6
    },
    {
     "cell_type": "markdown",
     "metadata": {},
     "source": [
      "Not bad. \n",
      "\n",
      "First, notice that the values corresponding to the `'line'` and `'marker'` keys in the trace dictionaries are dictionaries themselves. Plotly with the Python API makes it easy and intuitive to group plot options by category. \n",
      "In the above, we assign trace colours by name (`'name'` in `trace0`) and by the RGB colour model (`'rgb(27,158,119)'` in `trace1`, \n",
      "note a string). \n",
      "All of Plotly's built-in colour names are listed in **[...]**.\n",
      "Moreover, Plotly understands the RGBA and hexagonal colour models **more in some appendix**.\n",
      "Later in section **[...]**, we will see that the each of `'color`', `'symbol'` and `'size`' keys can be links to lists of values. This feature is quite useful for making vibrant Bubble Charts. \n",
      "\n",
      "In addtion, by sending a keyword argument `layout=my_layout` to Plotly's `.iplot` method, it allowed us to customize plot features not related to the traces, such as the plot title, axis labels and the position of the legend. \n",
      "Values corresponding the to `'xaxis'`, `'yaxis'` and `'legend'` are dictionaries; further customization can be made, such as setting the range of the axes for example. \n",
      "Legend position is assigned using normalized coordinates with respect to the axis frame. \n",
      "For example `{'x': 0, 'y': 1}` places the legend at the top-left corner; `{'x': 0, 'y': 0}` would place the legend at the bottom-left and so on. \n",
      "Legend options will be revisited later **when??**\n",
      "\n",
      "A few more remakrs:\n",
      "\n",
      "* In addition to the `'lines'` and `'markes'` modes, Plotly has a `'lines+markers'` mode which plots markers at each data points and lines in-between them.\n",
      "* The `'mode'` key-value pair is optional if the `'line'` **and** `'marker'` (singular here!) keys are present in a given trace dictionary.\n",
      "  **Kind of tricky to write out. Do I need this??**"
     ]
    },
    {
     "cell_type": "heading",
     "level": 2,
     "metadata": {},
     "source": [
      "Plotly homepage and file settings"
     ]
    },
    {
     "cell_type": "markdown",
     "metadata": {},
     "source": [
      "End section with snapshot of the plotly homepage **wait for new one to be online**\n",
      "\n",
      "Talk filenames, overwrite option ... (File setting in current doc)\n",
      "\n",
      "In its most general form, the Plotly `.plot` (or `.iplot`) method is called as:\n",
      "\n",
      "<code> \n",
      "  my_plotly.plot(my_data,layout=my_layout,filename=my_filename)\n",
      "</code>\n",
      "\n",
      "Talk about my_plotly.iplot outputs"
     ]
    },
    {
     "cell_type": "code",
     "collapsed": false,
     "input": [
      "# Call Plotly's .iplot method\n",
      "plot_outputs = my_plotly.iplot([trace1,trace0],\n",
      "                               layout= my_layout,\n",
      "                               filename= 's1_some-exp',\n",
      "                               fileopt= 'overwrite')"
     ],
     "language": "python",
     "metadata": {},
     "outputs": [],
     "prompt_number": 7
    },
    {
     "cell_type": "markdown",
     "metadata": {},
     "source": [
      "`'overwrite'` works even if the file does not exist.\n",
      "\n",
      "** Revisit `'append'` `'extend'` (with traces= opt) in the section on streaming. **\n",
      "\n"
     ]
    },
    {
     "cell_type": "code",
     "collapsed": false,
     "input": [
      "from IPython.core.display import HTML\n",
      "\n",
      "def css_styling():\n",
      "    styles = open(\"notebook.css\", \"r\").read()\n",
      "    return HTML(styles)\n",
      "css_styling()"
     ],
     "language": "python",
     "metadata": {},
     "outputs": [
      {
       "html": [
        "<style>\n",
        "    @font-face {\n",
        "        font-family: \"Computer Modern\";\n",
        "        src: url('http://9dbb143991406a7c655e-aa5fcb0a5a4ec34cff238a2d56ca4144.r56.cf5.rackcdn.com/cmunss.otf');\n",
        "    }\n",
        "    @font-face {\n",
        "        font-family: \"Computer Modern\";\n",
        "        font-weight: bold;\n",
        "        src: url('http://9dbb143991406a7c655e-aa5fcb0a5a4ec34cff238a2d56ca4144.r56.cf5.rackcdn.com/cmunsx.otf');\n",
        "    }\n",
        "    @font-face {\n",
        "        font-family: \"Computer Modern\";\n",
        "        font-style: oblique;\n",
        "        src: url('http://9dbb143991406a7c655e-aa5fcb0a5a4ec34cff238a2d56ca4144.r56.cf5.rackcdn.com/cmunsi.otf');\n",
        "    }\n",
        "    @font-face {\n",
        "        font-family: \"Computer Modern\";\n",
        "        font-weight: bold;\n",
        "        font-style: oblique;\n",
        "        src: url('http://9dbb143991406a7c655e-aa5fcb0a5a4ec34cff238a2d56ca4144.r56.cf5.rackcdn.com/cmunso.otf');\n",
        "    }\n",
        "    div.cell{\n",
        "        width:1000px;\n",
        "        margin-left:10% !important;\n",
        "        margin-right:auto;\n",
        "    }\n",
        "    h1 {\n",
        "        font-family: Computer Modern, serif;\n",
        "    }\n",
        "    h4{\n",
        "        margin-top:12px;\n",
        "        margin-bottom: 3px;\n",
        "       }\n",
        "    div.text_cell_render{\n",
        "        font-family: Computer Modern, \"Helvetica Neue\", Arial, Helvetica, Geneva, sans-serif;\n",
        "        line-height: 145%;\n",
        "        font-size: 130%;\n",
        "        width: 1000px;\n",
        "        margin-left:1%;\n",
        "        margin-right:auto;\n",
        "    }\n",
        "    code{\n",
        "          font-size: 100%;\n",
        "    }\n",
        "    .CodeMirror{\n",
        "            font-family: \"Source Code Pro\", source-code-pro,Consolas, monospace;\n",
        "    }\n",
        "    .prompt{\n",
        "        display: None;\n",
        "    }\n",
        "    .text_cell_render h5 {\n",
        "        font-weight: 300;\n",
        "        font-size: 22pt;\n",
        "        color: #4057A1;\n",
        "        font-style: italic;\n",
        "        margin-bottom: .5em;\n",
        "        margin-top: 0.5em;\n",
        "        display: block;\n",
        "    }\n",
        "    \n",
        "    .warning{\n",
        "        color: rgb( 240, 20, 20 )\n",
        "        }  \n",
        "</style>\n",
        "<script>\n",
        "    MathJax.Hub.Config({\n",
        "                        TeX: {\n",
        "                           extensions: [\"AMSmath.js\"]\n",
        "                           },\n",
        "                tex2jax: {\n",
        "                    inlineMath: [ ['$','$'], [\"\\\\(\",\"\\\\)\"] ],\n",
        "                    displayMath: [ ['$$','$$'], [\"\\\\[\",\"\\\\]\"] ]\n",
        "                },\n",
        "                displayAlign: 'center', // Change this to 'center' to center equations.\n",
        "                \"HTML-CSS\": {\n",
        "                    styles: {'.MathJax_Display': {\"margin\": 4}}\n",
        "                }\n",
        "        });\n",
        "</script>\n"
       ],
       "output_type": "pyout",
       "prompt_number": 12,
       "text": [
        "<IPython.core.display.HTML at 0x329ab50>"
       ]
      }
     ],
     "prompt_number": 12
    },
    {
     "cell_type": "code",
     "collapsed": false,
     "input": [],
     "language": "python",
     "metadata": {},
     "outputs": []
    }
   ],
   "metadata": {}
  }
 ]
}