{
 "metadata": {
  "name": "",
  "signature": "sha256:03478cc109ff55828f0d3d1259e121d9d96d6c2638ce8330ca3993edd817b85f"
 },
 "nbformat": 3,
 "nbformat_minor": 0,
 "worksheets": [
  {
   "cells": [
    {
     "cell_type": "heading",
     "level": 1,
     "metadata": {},
     "source": [
      "Section 3: Bubble Charts"
     ]
    },
    {
     "cell_type": "markdown",
     "metadata": {},
     "source": [
      "Welcome to Plotly's *Python API User Guide*. \n",
      "\n",
      "> Links to the other sections can be found on the User Guide's [homepage](http://nbviewer.ipython.org/github/etpinard/plotly-python-doc/blob/master/s0_getting-started/s0_getting-started.ipynb) <br>\n",
      "and the full Github repository is available \n",
      "<a href=\"https://github.com/etpinard/plotly-python-doc\" target=\"_blank\">here</a>.\n",
      "\n",
      "<hr>"
     ]
    },
    {
     "cell_type": "markdown",
     "metadata": {},
     "source": [
      "This time we will use the Pandas python module for data manipulation"
     ]
    },
    {
     "cell_type": "code",
     "collapsed": false,
     "input": [
      "import plotly       # Plotly's Python API\n",
      "import json         # JSON file read/write\n",
      "import pandas as pd # Pandas for data manipulation\n",
      "import numpy as np  # Numpy (for math functions and arrays, here)\n",
      "\n",
      "# Open config.json \n",
      "with open('../config.json') as config_file:\n",
      "    plotly_user_config = json.load(config_file)\n",
      "\n",
      "# Get username and api_key from config.json\n",
      "username = plotly_user_config['plotly_username'] \n",
      "api_key = plotly_user_config['plotly_api_key']\n",
      "\n",
      "# Initialize the plotly object to 'my_plotly'\n",
      "my_plotly = plotly.plotly(username, api_key)"
     ],
     "language": "python",
     "metadata": {},
     "outputs": [],
     "prompt_number": 1
    },
    {
     "cell_type": "markdown",
     "metadata": {},
     "source": [
      "First get the data: It can be downloaded <a href=\"http://www.stat.ubc.ca/~jenny/notOcto/STAT545A/examples/gapminder/data/gapminderDataFiveYear.txt\" target=\"_blank\">here</a> or on the project's Github repository."
     ]
    },
    {
     "cell_type": "code",
     "collapsed": false,
     "input": [
      "# Read csv file and define pandas object (df for dataframe)\n",
      "df = pd.read_csv('gapminderDataFiveYear.txt',sep='\\t')\n",
      "\n",
      "df.head()"
     ],
     "language": "python",
     "metadata": {},
     "outputs": [
      {
       "html": [
        "<div style=\"max-height:1000px;max-width:1500px;overflow:auto;\">\n",
        "<table border=\"1\" class=\"dataframe\">\n",
        "  <thead>\n",
        "    <tr style=\"text-align: right;\">\n",
        "      <th></th>\n",
        "      <th>country</th>\n",
        "      <th>year</th>\n",
        "      <th>pop</th>\n",
        "      <th>continent</th>\n",
        "      <th>lifeExp</th>\n",
        "      <th>gdpPercap</th>\n",
        "    </tr>\n",
        "  </thead>\n",
        "  <tbody>\n",
        "    <tr>\n",
        "      <th>0</th>\n",
        "      <td> Afghanistan</td>\n",
        "      <td> 1952</td>\n",
        "      <td>  8425333</td>\n",
        "      <td> Asia</td>\n",
        "      <td> 28.801</td>\n",
        "      <td> 779.445314</td>\n",
        "    </tr>\n",
        "    <tr>\n",
        "      <th>1</th>\n",
        "      <td> Afghanistan</td>\n",
        "      <td> 1957</td>\n",
        "      <td>  9240934</td>\n",
        "      <td> Asia</td>\n",
        "      <td> 30.332</td>\n",
        "      <td> 820.853030</td>\n",
        "    </tr>\n",
        "    <tr>\n",
        "      <th>2</th>\n",
        "      <td> Afghanistan</td>\n",
        "      <td> 1962</td>\n",
        "      <td> 10267083</td>\n",
        "      <td> Asia</td>\n",
        "      <td> 31.997</td>\n",
        "      <td> 853.100710</td>\n",
        "    </tr>\n",
        "    <tr>\n",
        "      <th>3</th>\n",
        "      <td> Afghanistan</td>\n",
        "      <td> 1967</td>\n",
        "      <td> 11537966</td>\n",
        "      <td> Asia</td>\n",
        "      <td> 34.020</td>\n",
        "      <td> 836.197138</td>\n",
        "    </tr>\n",
        "    <tr>\n",
        "      <th>4</th>\n",
        "      <td> Afghanistan</td>\n",
        "      <td> 1972</td>\n",
        "      <td> 13079460</td>\n",
        "      <td> Asia</td>\n",
        "      <td> 36.088</td>\n",
        "      <td> 739.981106</td>\n",
        "    </tr>\n",
        "  </tbody>\n",
        "</table>\n",
        "</div>"
       ],
       "metadata": {},
       "output_type": "pyout",
       "prompt_number": 7,
       "text": [
        "       country  year       pop continent  lifeExp   gdpPercap\n",
        "0  Afghanistan  1952   8425333      Asia   28.801  779.445314\n",
        "1  Afghanistan  1957   9240934      Asia   30.332  820.853030\n",
        "2  Afghanistan  1962  10267083      Asia   31.997  853.100710\n",
        "3  Afghanistan  1967  11537966      Asia   34.020  836.197138\n",
        "4  Afghanistan  1972  13079460      Asia   36.088  739.981106"
       ]
      }
     ],
     "prompt_number": 7
    },
    {
     "cell_type": "heading",
     "level": 4,
     "metadata": {},
     "source": [
      "3.1 A first Bubble Chart"
     ]
    },
    {
     "cell_type": "markdown",
     "metadata": {},
     "source": [
      "Ok so let's try to ...\n",
      "\n",
      "* Life expentancy as a function of GDP per capita, for all countries in file\n",
      "* Marker size increses with population size\n",
      "* Marker colors correspond to different continents\n"
     ]
    },
    {
     "cell_type": "code",
     "collapsed": false,
     "input": [
      "traces = []       # init. the trace list\n",
      "the_year = 2007   # choose a year, find other years with df['year'].unique()\n",
      "\n",
      "# Find indices corresponding to 'the_year'\n",
      "i_good = (df['year']==the_year)\n",
      "\n",
      "# Grab all rows correponding to 'the_year'\n",
      "df_good = df[i_good] \n",
      "\n",
      "# Find the maximum population count (used to compute bubble sizes)\n",
      "pop_max = df_good['pop'].max()\n",
      "\n",
      "## Let's define a few functions to help us build the trace dictionaries\n",
      "\n",
      "# Bubble size as a function of population \n",
      "def bubble_size(pop,pop_max):\n",
      "    bubble_size_max = 100         # maximum bubble size (arbitrary)\n",
      "    return [ np.sqrt(j/pop_max)*bubble_size_max for j in pop ]  # Square root scaling \n",
      "\n",
      "# Different color for each continent, color scale from d3's 'category10'\n",
      "cmap = {'Asia':'#1f77b4', 'Europe':'#ff7f0e', 'Africa':'#2ca02c',\n",
      "        'Americas':'#d62728','Oceania':'#9467bd'}\n",
      "\n",
      "# Hover text \n",
      "def make_text(X):\n",
      "    return  'Country: %s<br>Life Expectancy: %s years<br>GDP\\\n",
      "             per capita: %s $<br>Population: %s million' \\\n",
      "             % (X['country'], X['lifeExp'], X['gdpPercap'], X['pop']/1e6)\n",
      "\n",
      "# \n",
      "def make_trace(X,cont_name_in,size_in,color_in,text_in):  \n",
      "    return  {'x': X['gdpPercap']/1000.,'y': X['lifeExp'], \n",
      "             'type': 'scatter', 'mode': 'markers', \n",
      "             'name': cont_name_in, 'text': text_in,\n",
      "             'marker': {'color': color_in, 'size': size_in, \n",
      "                       'opacity': 0.7, 'line':{'width':1}}}\n",
      "\n",
      "# Group data by continent, build one trace per continent\n",
      "for cont_name, X in df_good.groupby('continent'):\n",
      "    my_size = bubble_size(X['pop'],pop_max)                  # Get bubble sizes\n",
      "    my_color = cmap[cont_name]                               # Get marker color\n",
      "    my_text = X.apply(make_text,axis=1).tolist()             # Get text \n",
      "    trace = make_trace(X,cont_name,my_size,my_color,my_text) # Make trace dictionary\n",
      "    traces.append(trace)                                     # Append to 'traces' list\n",
      "        \n",
      "# A few layout options\n",
      "my_layout = {'title': 'Fig.7: Life Expectancy versus GDP \\\n",
      "                       per Capita in '+str(the_year),\n",
      "             'xaxis': {'title': 'Gross Domestic Product per Capita \\\n",
      "                                 [in 1000s of USD of 2000]',\n",
      "                       'zeroline': False},  # remove tick line at x=0\n",
      "             'yaxis': {'title': 'Life Expentancy [in years]',\n",
      "                       'zeroline': False},  # remove tick line at y=0\n",
      "             'showlegend': False,           # no legend on this plot\n",
      "             'hovermode':'closest'}  # don't show all points near the same x on hover\n",
      "\n",
      "# Save plot as\n",
      "my_filename = 's3_life-gdp'\n",
      "                    \n",
      "# Call Plolty\n",
      "my_plotly.iplot(traces,layout=my_layout,filename=my_filename,fileopt='overwrite')"
     ],
     "language": "python",
     "metadata": {},
     "outputs": [
      {
       "html": [
        "<iframe height=\"550\" id=\"igraph\" scrolling=\"no\" seamless=\"seamless\" src=\"https://plot.ly/~etpinard/84\" width=\"100%\"></iframe>"
       ],
       "metadata": {},
       "output_type": "pyout",
       "prompt_number": 3,
       "text": [
        "<IPython.core.display.HTML at 0x2dd0cd0>"
       ]
      }
     ],
     "prompt_number": 3
    },
    {
     "cell_type": "markdown",
     "metadata": {},
     "source": [
      "* Comment on `'hovermode'` (hovermode to 'closest' to turn off showing all points near the same x on hover)\n",
      "* Comment on `'opacity'` "
     ]
    },
    {
     "cell_type": "heading",
     "level": 4,
     "metadata": {},
     "source": [
      "3.2 Bubble chart with line fits"
     ]
    },
    {
     "cell_type": "markdown",
     "metadata": {},
     "source": [
      "Another bar chart with the same data or with a different dataset and showing an other example of subplots (any suggestions?).\n",
      "\n",
      "\n",
      "GDP with time "
     ]
    },
    {
     "cell_type": "heading",
     "level": 4,
     "metadata": {},
     "source": [
      "3.3 Bubble chart with multiple axes"
     ]
    },
    {
     "cell_type": "markdown",
     "metadata": {},
     "source": []
    },
    {
     "cell_type": "markdown",
     "metadata": {},
     "source": [
      "<hr>\n",
      "\n",
      "**Go to** [next section](http://nbviewer.ipython.org/github/etpinard/plotly-python-doc/blob/master/s4_histograms/s4_histograms.ipynb)\n",
      "\n",
      "**Go to** [previous section](http://nbviewer.ipython.org/github/etpinard/plotly-python-doc/blob/master/s2_bar-charts/s2_bar-charts.ipynb)\n",
      "\n",
      "**Go back to User Guide's** [homepage](http://nbviewer.ipython.org/github/etpinard/plotly-python-doc/blob/master/s0_getting-started/s0_getting-started.ipynb)\n",
      "    \n",
      "<hr>"
     ]
    },
    {
     "cell_type": "markdown",
     "metadata": {},
     "source": [
      "<h4>Got Questions and Feedback? </h4>\n",
      "\n",
      "<div style=\"float:right; \\\">\n",
      "    <img src=\"http://i.imgur.com/i6YeveO.png\" \n",
      " align=right style=\"float:right; margin-left: 5px; margin-top: -20px\" />\n",
      "</div>\n",
      "\n",
      "<br>\n",
      "\n",
      "About <a href=\"https://plot.ly\" target=\"_blank\">Plotly</a>\n",
      "\n",
      "* email: feedback@plot.ly \n",
      "* tweet: \n",
      "<a href=\"https://twitter.com/plotlygraphs\" target=\"_blank\">@plotlygraphs</a>\n",
      "\n",
      "About the <a href=\"https://github.com/etpinard/plotly-python-doc\" target=\"_blank\">User Guide</a>\n",
      " \n",
      "* email: etienne.t.pinard@gmail.com\n",
      "* tweet: <a href=\"https://twitter.com/etpinard\" target=\"_blank\">@etpinard</a>\n",
      "\n",
      "<h4>Big Thanks to</h4>\n",
      "\n",
      "* <a href=\"http://nbviewer.ipython.org/github/CamDavidsonPilon/Probabilistic-Programming-and-Bayesian-Methods-for-Hackers/blob/master/Prologue/Prologue.ipynb\" target=\"_blank\">Cam Davidson-Pilon</a> <br> for notebook styling ideas\n",
      "   \n",
      "<hr>"
     ]
    },
    {
     "cell_type": "code",
     "collapsed": false,
     "input": [
      "# CSS styling within IPython notebook\n",
      "from IPython.core.display import HTML\n",
      "def css_styling():\n",
      "    styles = open(\"../plotly-python-doc.css\", \"r\").read()\n",
      "    return HTML(styles)\n",
      "css_styling()"
     ],
     "language": "python",
     "metadata": {},
     "outputs": [
      {
       "html": [
        "<style>\n",
        "    @font-face {\n",
        "        font-family: \"Computer Modern\";\n",
        "        src: url('http://9dbb143991406a7c655e-aa5fcb0a5a4ec34cff238a2d56ca4144.r56.cf5.rackcdn.com/cmunss.otf');\n",
        "    }\n",
        "    @font-face {\n",
        "        font-family: \"Computer Modern\";\n",
        "        font-weight: bold;\n",
        "        src: url('http://9dbb143991406a7c655e-aa5fcb0a5a4ec34cff238a2d56ca4144.r56.cf5.rackcdn.com/cmunsx.otf');\n",
        "    }\n",
        "    @font-face {\n",
        "        font-family: \"Computer Modern\";\n",
        "        font-style: oblique;\n",
        "        src: url('http://9dbb143991406a7c655e-aa5fcb0a5a4ec34cff238a2d56ca4144.r56.cf5.rackcdn.com/cmunsi.otf');\n",
        "    }\n",
        "    @font-face {\n",
        "        font-family: \"Computer Modern\";\n",
        "        font-weight: bold;\n",
        "        font-style: oblique;\n",
        "        src: url('http://9dbb143991406a7c655e-aa5fcb0a5a4ec34cff238a2d56ca4144.r56.cf5.rackcdn.com/cmunso.otf');\n",
        "    }\n",
        "    div.cell{\n",
        "        width:800px;\n",
        "        margin-left:16% !important;\n",
        "        margin-right:auto;\n",
        "    }\n",
        "    h1 {\n",
        "        /* font-family: Computer Modern, serif; */\n",
        "        color: #333333;\n",
        "        font-family: \u2018Lucida Console\u2019, Monaco, monospace;\n",
        "    }\n",
        "    h4{\n",
        "        color: #333333;\n",
        "        font-family: \u2018Lucida Console\u2019, Monaco, monospace;\n",
        "        margin-top:15px;\n",
        "        margin-bottom: 3px;\n",
        "       }\n",
        "    div.text_cell_render{\n",
        "     /*   font-family: Computer Modern, \"Helvetica Neue\", Arial, Helvetica, Geneva, sans-serif; */\n",
        "        color: #333333;\n",
        "     /*   font-family: \u2018Palatino Linotype\u2019, \u2018Book Antiqua\u2019, Palatino, serif; */\n",
        "     /*   font-family: \u2018Trebuchet MS\u2019, Helvetica, sans-serif; */\n",
        "        font-family: \u2018Lucida Sans Unicode\u2019, \u2018Lucida Grande\u2019, sans-serif;\n",
        "        line-height: 145%;\n",
        "        font-size: 130%;\n",
        "        width: 800px;\n",
        "        margin-left:auto;\n",
        "        margin-right:auto;\n",
        "        text-align:justify;\n",
        "        text-justify:inter-word;\n",
        "    }\n",
        "    code{\n",
        "          font-size: 85%;\n",
        "    }\n",
        "    ul{\n",
        "        margin: 2em;\n",
        "    }\n",
        "    ul li{\n",
        "           padding-left: 0.5em; \n",
        "           margin-bottom: 0.5em; \n",
        "           margin-top: 0.5em; \n",
        "    }\n",
        "    a:link{\n",
        "       text-decoration: none;\n",
        "       font-weight: bold;\n",
        "    }\n",
        "    a:visited{\n",
        "       text-decoration: none;\n",
        "       font-weight: bold;\n",
        "    }\n",
        "    a:hover{\n",
        "       text-decoration: none;\n",
        "       font-weight: bold;\n",
        "    }\n",
        "    a:focus{\n",
        "       text-decoration: none;\n",
        "       font-weight: bold;\n",
        "    }\n",
        "    a:active{\n",
        "       text-decoration: none;\n",
        "       font-weight: bold;\n",
        "    }\n",
        "    .CodeMirror{\n",
        "            font-family: \"Source Code Pro\", source-code-pro,Consolas, monospace;\n",
        "    }\n",
        "    .prompt{\n",
        "        display: None;\n",
        "    }\n",
        "    .text_cell_render h5 {\n",
        "        font-weight: 300;\n",
        "        font-size: 22pt;\n",
        "        color: #4057A1;\n",
        "        font-style: italic;\n",
        "        margin-bottom: .5em;\n",
        "        margin-top: 0.5em;\n",
        "        display: block;\n",
        "    }\n",
        "    .warning{\n",
        "        color: rgb( 240, 20, 20 )\n",
        "        }  \n",
        "</style>\n",
        "<script>\n",
        "    MathJax.Hub.Config({\n",
        "                        TeX: {\n",
        "                           extensions: [\"AMSmath.js\"]\n",
        "                           },\n",
        "                tex2jax: {\n",
        "                    inlineMath: [ ['$','$'], [\"\\\\(\",\"\\\\)\"] ],\n",
        "                    displayMath: [ ['$$','$$'], [\"\\\\[\",\"\\\\]\"] ]\n",
        "                },\n",
        "                displayAlign: 'center', // Change this to 'center' to center equations.\n",
        "                \"HTML-CSS\": {\n",
        "                    styles: {'.MathJax_Display': {\"margin\": 4}}\n",
        "                }\n",
        "        });\n",
        "</script>\n"
       ],
       "metadata": {},
       "output_type": "pyout",
       "prompt_number": 1,
       "text": [
        "<IPython.core.display.HTML at 0x302ebd0>"
       ]
      }
     ],
     "prompt_number": 1
    },
    {
     "cell_type": "code",
     "collapsed": false,
     "input": [],
     "language": "python",
     "metadata": {},
     "outputs": [],
     "prompt_number": 4
    }
   ],
   "metadata": {}
  }
 ]
}