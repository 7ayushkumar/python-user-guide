{
 "metadata": {
  "name": "s3_bubble-charts"
 },
 "nbformat": 3,
 "nbformat_minor": 0,
 "worksheets": [
  {
   "cells": [
    {
     "cell_type": "heading",
     "level": 1,
     "metadata": {},
     "source": [
      "Section 3: Bubble Charts"
     ]
    },
    {
     "cell_type": "markdown",
     "metadata": {},
     "source": [
      "Welcome to Plotly's *Python API User Guide*. \n",
      "\n",
      "> Links to the other sections can be found on the User Guide's [homepage](http://nbviewer.ipython.org/github/etpinard/plotly-python-doc/blob/master/s0_getting-started/s0_getting-started.ipynb) <br>\n",
      "and the full Github repository is available \n",
      "<a href=\"https://github.com/etpinard/plotly-python-doc\" target=\"_blank\">here</a>.\n",
      "\n",
      "<hr>"
     ]
    },
    {
     "cell_type": "markdown",
     "metadata": {},
     "source": [
      "This time we will use the Pandas python module for data manipulation"
     ]
    },
    {
     "cell_type": "code",
     "collapsed": false,
     "input": [
      "import plotly       # Plotly for Python API\n",
      "import json         # JSON file read/write\n",
      "import pandas as pd # Pandas for data manipulation\n",
      "import numpy as np  # Numpy (for math functions and arrays, here)\n",
      "\n",
      "# Open config.json \n",
      "with open('../config.json') as config_file:\n",
      "    plotly_user_config = json.load(config_file)\n",
      "\n",
      "# Get username and api_key from config.json\n",
      "username = plotly_user_config['plotly_username'] \n",
      "api_key = plotly_user_config['plotly_api_key']\n",
      "\n",
      "# Initialize the plotly object to 'my_plotly'\n",
      "my_plotly = plotly.plotly(username, api_key)"
     ],
     "language": "python",
     "metadata": {},
     "outputs": [],
     "prompt_number": 10
    },
    {
     "cell_type": "markdown",
     "metadata": {},
     "source": [
      "First get the data: It can be downloaded <a href=\"http://www.stat.ubc.ca/~jenny/notOcto/STAT545A/examples/gapminder/data/gapminderDataFiveYear.txt\" target=\"_blank\">here</a> or on the project's Github repository."
     ]
    },
    {
     "cell_type": "code",
     "collapsed": false,
     "input": [
      "# Read csv file and define pandas object \n",
      "gdp_data = pd.read_csv('gapminderDataFiveYear.txt',sep='\\t')"
     ],
     "language": "python",
     "metadata": {},
     "outputs": [],
     "prompt_number": 152
    },
    {
     "cell_type": "heading",
     "level": 4,
     "metadata": {},
     "source": [
      "3.1 A first Bubble Chart"
     ]
    },
    {
     "cell_type": "markdown",
     "metadata": {},
     "source": [
      "Ok so let's try to ...\n",
      "\n",
      "* Life expentancy as a function of GDP per capita, for all countries in file\n",
      "* Marker size increses with population size\n",
      "* Marker colors correspond to different continents\n"
     ]
    },
    {
     "cell_type": "code",
     "collapsed": false,
     "input": [
      "traces = []       # init. the trace list\n",
      "the_year = 2007   # choose a year (find other with `gdp_data['year'].unique()`)\n",
      "\n",
      "# Find indices corresponding to 'the_year'\n",
      "i_good = (gdp_data['year']==the_year)\n",
      "\n",
      "# Grab all rows correponding to 'the_year'\n",
      "gdp_data_good = gdp_data[i_good] \n",
      "\n",
      "# Find the maximum population count (used to compute bubble sizes)\n",
      "pop_max = gdp_data_good['pop'].max()\n",
      "\n",
      "## Let's define a few functions to help us build our trace dictionaries\n",
      "\n",
      "# \n",
      "def bubble_size(pop,pop_max):\n",
      "    '''\n",
      "    pop: Population list   \n",
      "    pop_max: Max population count (which corresp. to maximum size)\n",
      "    '''\n",
      "    bubble_size_max = 100         # maximum bubble size (arbitrary)\n",
      "    return [ np.sqrt(j/pop_max)*bubble_size_max for j in pop ]  # Square root scaling \n",
      "\n",
      "#\n",
      "def make_text(X):\n",
      "    ''' X: data object '''\n",
      "    return  'Country: %s<br> Life Expectancy: %s<br> \\\n",
      "              GDP per capita: %s<br> Population: %s' \\\n",
      "             % (X['country'], X['lifeExp'], X['gdpPercap'], X['pop'])\n",
      "\n",
      "#\n",
      "def make_trace(X,cont_name,my_size,my_text):\n",
      "    '''\n",
      "    X: data object, cont_name: name of continent, \n",
      "    my_size: list of bubble sizes, my_text: list of hover text\n",
      "    '''\n",
      "    # color scale from d3's 'category10' colorscale\n",
      "    cmap = {'Asia':'#1f77b4', 'Europe':'#ff7f0e', 'Africa':'#2ca02c',\n",
      "                 'Americas':'#d62728','Oceania':'#9467bd'}\n",
      "    # return a trace dictionary\n",
      "    return  {'x': X['gdpPercap']/1000.,'y': X['lifeExp'], 'name': cont_name,\n",
      "             'type': 'scatter', 'mode': 'markers', 'text': my_text,\n",
      "             'marker': {'color': cmap[cont_name], 'size': my_size, \n",
      "                       'opacity': 0.7, 'line':{'width':1}}}\n",
      "\n",
      "# Group data by continent, build one trace per continent\n",
      "for cont_name, X in gdp_data_good.groupby('continent'):\n",
      "    my_size = bubble_size(X['pop'],pop_max)              # Get bubble sizes\n",
      "    my_text = X.apply(make_text,axis=1).tolist()         # Get text\n",
      "    trace = make_trace(X,cont_name,my_size,my_text)      # Make trace dictionary\n",
      "    traces.append(trace)                                 # Append to 'traces' list\n",
      "        \n",
      "# A few layout options\n",
      "my_layout = {'title': 'Fig.7: Life Expectancy versus GDP per Capita in '+str(the_year),\n",
      "             'xaxis': {'title': 'Gross Domestic Product per Capita [in 1000s of USD of 2000]',\n",
      "                       'zeroline': False},  # remove tick line at x=0\n",
      "             'yaxis': {'title': 'Life Expentancy [in years]',\n",
      "                       'zeroline': False},  # remove tick line at y=0\n",
      "             'showlegend': False,           # no legend on this plot\n",
      "             'hovermode':'closest'}         # turn off showing all points near the same x on hover\n",
      "\n",
      "# Save plot as\n",
      "my_filename = 's3_life-gdp'\n",
      "                    \n",
      "# Call Plolty\n",
      "my_plotly.iplot(traces, \n",
      "                layout= my_layout, \n",
      "                filename= my_filename, \n",
      "                fileopt= 'overwrite')"
     ],
     "language": "python",
     "metadata": {},
     "outputs": [
      {
       "html": [
        "<iframe height=\"500\" id=\"igraph\" scrolling=\"no\" seamless=\"seamless\" src=\"https://plot.ly/~etpinard/84/600/450\" width=\"650\"></iframe>"
       ],
       "output_type": "pyout",
       "prompt_number": 131,
       "text": [
        "<IPython.core.display.HTML at 0x4fd8bd0>"
       ]
      }
     ],
     "prompt_number": 131
    },
    {
     "cell_type": "markdown",
     "metadata": {},
     "source": [
      "* Comment on `'hovermode'` (hovermode to 'closest' to turn off showing all points near the same x on hover)\n",
      "* Comment on `'opacity'` "
     ]
    },
    {
     "cell_type": "heading",
     "level": 4,
     "metadata": {},
     "source": [
      "3.2 (Under Construction) "
     ]
    },
    {
     "cell_type": "markdown",
     "metadata": {},
     "source": [
      "Another bar chart with the same data or with a different dataset and showing an other example of subplots (any suggestions?)."
     ]
    },
    {
     "cell_type": "markdown",
     "metadata": {},
     "source": [
      "<hr>\n",
      "\n",
      "**Go to** [next section](http://nbviewer.ipython.org/github/etpinard/plotly-python-doc/blob/master/s4_histograms/s4_histograms.ipynb)\n",
      "\n",
      "**Go to** [previous section](http://nbviewer.ipython.org/github/etpinard/plotly-python-doc/blob/master/s2_bar-charts/s2_bar-charts.ipynb)\n",
      "\n",
      "**Go back to User Guide's** [homepage](http://nbviewer.ipython.org/github/etpinard/plotly-python-doc/blob/master/s0_getting-started/s0_getting-started.ipynb)\n",
      "    \n",
      "<hr>"
     ]
    },
    {
     "cell_type": "markdown",
     "metadata": {},
     "source": [
      "<h4>Got Questions and Feedback? </h4>\n",
      "\n",
      "\n",
      "<div style=\"float:right; \\\">\n",
      "    <img src=\"http://i.imgur.com/4Kk2oFn.png\" \n",
      " align=right style=\"float:right; margin-left: 25px; margin-top: 15px\" />\n",
      "</div>\n",
      "\n",
      "<br>\n",
      "\n",
      "About <a href=\"https://plot.ly\" target=\"_blank\">Plotly</a>\n",
      "\n",
      "* email: feedback@plot.ly \n",
      "* tweet: \n",
      "<a href=\"https://twitter.com/plotlygraphs\" target=\"_blank\">@plotlygraphs</a>\n",
      "\n",
      "About the <a href=\"https://github.com/etpinard/plotly-python-doc\" target=\"_blank\">User Guide</a>\n",
      " \n",
      "* email: etienne.t.pinard@gmail.com\n",
      "* tweet: <a href=\"https://twitter.com/etpinard\" target=\"_blank\">@etpinard</a>\n",
      "\n",
      "<h4>Big Thanks to</h4>\n",
      "\n",
      "* <a href=\"http://nbviewer.ipython.org/github/CamDavidsonPilon/Probabilistic-Programming-and-Bayesian-Methods-for-Hackers/blob/master/Prologue/Prologue.ipynb\" target=\"_blank\">Cam Davidson-Pilon</a> for notebook styling ideas\n",
      "   \n",
      "<hr>"
     ]
    },
    {
     "cell_type": "code",
     "collapsed": false,
     "input": [
      "from IPython.core.display import HTML\n",
      "\n",
      "def css_styling():\n",
      "    styles = open(\"../plotly-python-doc.css\", \"r\").read()\n",
      "    return HTML(styles)\n",
      "css_styling()"
     ],
     "language": "python",
     "metadata": {},
     "outputs": [
      {
       "html": [
        "<style>\n",
        "    @font-face {\n",
        "        font-family: \"Computer Modern\";\n",
        "        src: url('http://9dbb143991406a7c655e-aa5fcb0a5a4ec34cff238a2d56ca4144.r56.cf5.rackcdn.com/cmunss.otf');\n",
        "    }\n",
        "    @font-face {\n",
        "        font-family: \"Computer Modern\";\n",
        "        font-weight: bold;\n",
        "        src: url('http://9dbb143991406a7c655e-aa5fcb0a5a4ec34cff238a2d56ca4144.r56.cf5.rackcdn.com/cmunsx.otf');\n",
        "    }\n",
        "    @font-face {\n",
        "        font-family: \"Computer Modern\";\n",
        "        font-style: oblique;\n",
        "        src: url('http://9dbb143991406a7c655e-aa5fcb0a5a4ec34cff238a2d56ca4144.r56.cf5.rackcdn.com/cmunsi.otf');\n",
        "    }\n",
        "    @font-face {\n",
        "        font-family: \"Computer Modern\";\n",
        "        font-weight: bold;\n",
        "        font-style: oblique;\n",
        "        src: url('http://9dbb143991406a7c655e-aa5fcb0a5a4ec34cff238a2d56ca4144.r56.cf5.rackcdn.com/cmunso.otf');\n",
        "    }\n",
        "    div.cell{\n",
        "        width:800px;\n",
        "        margin-left:16% !important;\n",
        "        margin-right:auto;\n",
        "    }\n",
        "    h1 {\n",
        "        /* font-family: Computer Modern, serif; */\n",
        "        color: #333333;\n",
        "        font-family: \u2018Lucida Console\u2019, Monaco, monospace;\n",
        "    }\n",
        "    h4{\n",
        "        color: #333333;\n",
        "        font-family: \u2018Lucida Console\u2019, Monaco, monospace;\n",
        "        margin-top:15px;\n",
        "        margin-bottom: 3px;\n",
        "       }\n",
        "    div.text_cell_render{\n",
        "     /*   font-family: Computer Modern, \"Helvetica Neue\", Arial, Helvetica, Geneva, sans-serif; */\n",
        "        color: #333333;\n",
        "     /*   font-family: \u2018Palatino Linotype\u2019, \u2018Book Antiqua\u2019, Palatino, serif; */\n",
        "     /*   font-family: \u2018Trebuchet MS\u2019, Helvetica, sans-serif; */\n",
        "        font-family: \u2018Lucida Sans Unicode\u2019, \u2018Lucida Grande\u2019, sans-serif;\n",
        "        line-height: 145%;\n",
        "        font-size: 130%;\n",
        "        width: 800px;\n",
        "        margin-left:auto;\n",
        "        margin-right:auto;\n",
        "        text-align:justify;\n",
        "        text-justify:inter-word;\n",
        "    }\n",
        "    code{\n",
        "          font-size: 85%;\n",
        "    }\n",
        "    .CodeMirror{\n",
        "            font-family: \"Source Code Pro\", source-code-pro,Consolas, monospace;\n",
        "    }\n",
        "    .prompt{\n",
        "        display: None;\n",
        "    }\n",
        "    .text_cell_render h5 {\n",
        "        font-weight: 300;\n",
        "        font-size: 22pt;\n",
        "        color: #4057A1;\n",
        "        font-style: italic;\n",
        "        margin-bottom: .5em;\n",
        "        margin-top: 0.5em;\n",
        "        display: block;\n",
        "    }\n",
        "    .warning{\n",
        "        color: rgb( 240, 20, 20 )\n",
        "        }  \n",
        "</style>\n",
        "<script>\n",
        "    MathJax.Hub.Config({\n",
        "                        TeX: {\n",
        "                           extensions: [\"AMSmath.js\"]\n",
        "                           },\n",
        "                tex2jax: {\n",
        "                    inlineMath: [ ['$','$'], [\"\\\\(\",\"\\\\)\"] ],\n",
        "                    displayMath: [ ['$$','$$'], [\"\\\\[\",\"\\\\]\"] ]\n",
        "                },\n",
        "                displayAlign: 'center', // Change this to 'center' to center equations.\n",
        "                \"HTML-CSS\": {\n",
        "                    styles: {'.MathJax_Display': {\"margin\": 4}}\n",
        "                }\n",
        "        });\n",
        "</script>\n"
       ],
       "output_type": "pyout",
       "prompt_number": 6,
       "text": [
        "<IPython.core.display.HTML at 0x1bc1950>"
       ]
      }
     ],
     "prompt_number": 6
    },
    {
     "cell_type": "code",
     "collapsed": false,
     "input": [],
     "language": "python",
     "metadata": {},
     "outputs": []
    }
   ],
   "metadata": {}
  }
 ]
}