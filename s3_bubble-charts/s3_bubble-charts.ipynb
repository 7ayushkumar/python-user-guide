{
 "metadata": {
  "name": "s3_bubble-charts"
 },
 "nbformat": 3,
 "nbformat_minor": 0,
 "worksheets": [
  {
   "cells": [
    {
     "cell_type": "heading",
     "level": 1,
     "metadata": {},
     "source": [
      "Section 3: Bubble Charts"
     ]
    },
    {
     "cell_type": "markdown",
     "metadata": {},
     "source": [
      "A quick intro\n",
      "\n",
      "From <a href=\"http://nbviewer.ipython.org/github/plotly/IPython-plotly/blob/master/Bubble%20Chart%20Explorer.ipynb\" target=\"_blank\">Jack's earlier notebook</a>:\n",
      "\n",
      "> I'm going to show you this brave new world below, starting with bubble charts. Bubble charts are sweet \n",
      "> because they take advantage of the innate interactivity of Plotly graphs. When you hover on a bubble \n",
      "> chart point, you want to see what its size represents, you want to zoom-in to points that are clustered,\n",
      "> and you want to pan around once you're zoomed-in. You become a Bubble Chart Explorer. Plotly lets you do > all this, all while upping the game for scientific, publication-quality graphics.\n",
      "\n",
      "So, let's again initialize the Python API:"
     ]
    },
    {
     "cell_type": "code",
     "collapsed": false,
     "input": [
      "import plotly       # Plotly for Python API\n",
      "import json         # JSON file read/write\n",
      "import numpy as np  # Numpy (for math functions and arrays, here)\n",
      "\n",
      "# Open config.json \n",
      "with open('./config.json') as config_file:\n",
      "    plotly_user_config = json.load(config_file)\n",
      "\n",
      "# Get username and api_key from config.json\n",
      "username = plotly_user_config['plotly_username'] \n",
      "api_key = plotly_user_config['plotly_api_key']\n",
      "\n",
      "# Initialize the plotly object to 'my_plotly'\n",
      "my_plotly = plotly.plotly(username, api_key)\n",
      "plotly.__version__  # check ploty.ly version"
     ],
     "language": "python",
     "metadata": {},
     "outputs": [
      {
       "output_type": "pyout",
       "prompt_number": 2,
       "text": [
        "'0.5.7'"
       ]
      }
     ],
     "prompt_number": 2
    },
    {
     "cell_type": "markdown",
     "metadata": {},
     "source": [
      "First get the data: It can be downloaded <a href=\"http://www.stat.ubc.ca/~jenny/notOcto/STAT545A/examples/gapminder/data/gapminderDataFiveYear.txt\" target=\"_blank\">here</a> or using the following bash script"
     ]
    },
    {
     "cell_type": "code",
     "collapsed": false,
     "input": [
      "%%bash \n",
      "\n",
      "file=\"gapminderDataFiveYear.txt\"\n",
      "if [ ! -f $file ]; then\n",
      "    wget -q http://www.stat.ubc.ca/~jenny/notOcto/STAT545A/examples/gapminder/data/$file\n",
      "fi"
     ],
     "language": "python",
     "metadata": {},
     "outputs": [],
     "prompt_number": 16
    },
    {
     "cell_type": "markdown",
     "metadata": {},
     "source": [
      "This time we will use the Pandas python module"
     ]
    },
    {
     "cell_type": "code",
     "collapsed": false,
     "input": [
      "import pandas as pd\n",
      "\n",
      "#pd.set_option('display.max_columns', 25)\n",
      "#pd.set_option('display.line_width', 400)\n",
      "#pd.set_option('display.mpl_style', 'default')  # will I use this in this notebook??\n",
      "\n",
      "gdp_data = pd.read_csv('gapminderDataFiveYear.txt',sep='\\t')"
     ],
     "language": "python",
     "metadata": {},
     "outputs": [],
     "prompt_number": 152
    },
    {
     "cell_type": "heading",
     "level": 4,
     "metadata": {},
     "source": [
      "3.1 A first Bubble Chart"
     ]
    },
    {
     "cell_type": "markdown",
     "metadata": {},
     "source": [
      "Ok so let's try to ...\n",
      "\n",
      "* Life expentancy as a function of GDP per capita, for all countries in file\n",
      "* Marker size increses with population size\n",
      "* Marker colors correspond to different continents\n"
     ]
    },
    {
     "cell_type": "code",
     "collapsed": false,
     "input": [
      "traces = []       # init. the trace list\n",
      "the_year = 2007   # choose a year (find other with `gdp_data['year'].unique()`)\n",
      "\n",
      "# Find indices corresponding to 'the_year'\n",
      "i_good = (gdp_data['year']==the_year)\n",
      "\n",
      "# Grab all rows correponding to 'the_year'\n",
      "gdp_data_good = gdp_data[i_good] \n",
      "\n",
      "# Find the maximum population count (used to compute bubble sizes)\n",
      "pop_max = gdp_data_good['pop'].max()\n",
      "\n",
      "# Let's define a few functions to help us build our trace dictionaries\n",
      "\n",
      "def bubble_size(pop,pop_max):\n",
      "    '''\n",
      "    pop: Population list   \n",
      "    pop_max: Max population count (which corresp. to maximum size)\n",
      "    '''\n",
      "    bubble_size_max = 100         # maximum bubble size (arbitrary)\n",
      "    return [ np.sqrt(j/pop_max)*bubble_size_max for j in pop ]  # Square root scaling \n",
      "\n",
      "def make_text(X):\n",
      "    ''' X: data object '''\n",
      "    return  'Country: %s<br> Life Expectancy: %s<br> \\\n",
      "              GDP per capita: %s<br> Population: %s' \\\n",
      "             % (X['country'], X['lifeExp'], X['gdpPercap'], X['pop'])\n",
      "    \n",
      "def make_trace(X,cont_name,my_size,my_text):\n",
      "    '''\n",
      "    X: data object, cont_name: name of continent, \n",
      "    my_size: list of bubble sizes, my_text: list of hover text\n",
      "    '''\n",
      "    # color scale from d3's 'category10' colorscale\n",
      "    cmap = {'Asia':'#1f77b4', 'Europe':'#ff7f0e', 'Africa':'#2ca02c',\n",
      "                 'Americas':'#d62728','Oceania':'#9467bd'}\n",
      "    # return a trace dictionary\n",
      "    return  {'x': X['gdpPercap']/1000.,'y': X['lifeExp'], 'name': cont_name,\n",
      "             'type': 'scatter', 'mode': 'markers', 'text': my_text,\n",
      "             'marker': {'color': cmap[cont_name], 'size': my_size, \n",
      "                       'opacity': 0.7, 'line':{'width':1}}}\n",
      "\n",
      "# Group data by continent, build one trace per continent\n",
      "for cont_name, X in gdp_data_good.groupby('continent'):\n",
      "    my_size = bubble_size(X['pop'],pop_max)              # Get bubble sizes\n",
      "    my_text = X.apply(make_text,axis=1).tolist()         # Get text\n",
      "    trace = make_trace(X,cont_name,my_size,my_text)      # Make trace dictionary\n",
      "    traces.append(trace)                                 # Append to 'traces' list\n",
      "        \n",
      "# A few layout options\n",
      "my_layout = {'title': 'Fig.7: Life Expectancy versus GDP per Capita in '+str(the_year),\n",
      "             'xaxis': {'title': 'Gross Domestic Product per Capita [in 1000s of USD of 2000]',\n",
      "                       'zeroline': False},  # remove tick line at x=0\n",
      "             'yaxis': {'title': 'Life Expentancy [in years]',\n",
      "                       'zeroline': False},  # remove tick line at y=0\n",
      "             'showlegend': False,           # no legend on this plot\n",
      "             'hovermode':'closest'}         # turn off showing all points near the same x on hover\n",
      "\n",
      "# Save plot as\n",
      "my_filename = 's3_life-gdp'\n",
      "                    \n",
      "# Call Plolty\n",
      "my_plotly.iplot(traces, \n",
      "                layout= my_layout, \n",
      "                filename= my_filename, \n",
      "                fileopt= 'overwrite')"
     ],
     "language": "python",
     "metadata": {},
     "outputs": [
      {
       "html": [
        "<iframe height=\"500\" id=\"igraph\" scrolling=\"no\" seamless=\"seamless\" src=\"https://plot.ly/~etpinard/84/600/450\" width=\"650\"></iframe>"
       ],
       "output_type": "pyout",
       "prompt_number": 131,
       "text": [
        "<IPython.core.display.HTML at 0x4fd8bd0>"
       ]
      }
     ],
     "prompt_number": 131
    },
    {
     "cell_type": "markdown",
     "metadata": {},
     "source": [
      "* Comment on `'hovermode'` (hovermode to 'closest' to turn off showing all points near the same x on hover)\n",
      "* Comment on `'opacity'` "
     ]
    },
    {
     "cell_type": "heading",
     "level": 4,
     "metadata": {},
     "source": [
      "3.2 "
     ]
    },
    {
     "cell_type": "markdown",
     "metadata": {},
     "source": [
      "Another bar chart with the same data or with a different dataset.\n",
      "\n",
      "Maybe another example showing subplots"
     ]
    },
    {
     "cell_type": "markdown",
     "metadata": {},
     "source": [
      "Link to Prev section and Next"
     ]
    },
    {
     "cell_type": "markdown",
     "metadata": {},
     "source": [
      "<img src=\"http://upload.wikimedia.org/wikipedia/commons/a/af/Plotly_Logo.png\"height=300/>"
     ]
    },
    {
     "cell_type": "code",
     "collapsed": false,
     "input": [
      "from IPython.core.display import HTML\n",
      "\n",
      "def css_styling():\n",
      "    styles = open(\"notebook.css\", \"r\").read()\n",
      "    return HTML(styles)\n",
      "css_styling()"
     ],
     "language": "python",
     "metadata": {},
     "outputs": [
      {
       "html": [
        "<style>\n",
        "    @font-face {\n",
        "        font-family: \"Computer Modern\";\n",
        "        src: url('http://9dbb143991406a7c655e-aa5fcb0a5a4ec34cff238a2d56ca4144.r56.cf5.rackcdn.com/cmunss.otf');\n",
        "    }\n",
        "    @font-face {\n",
        "        font-family: \"Computer Modern\";\n",
        "        font-weight: bold;\n",
        "        src: url('http://9dbb143991406a7c655e-aa5fcb0a5a4ec34cff238a2d56ca4144.r56.cf5.rackcdn.com/cmunsx.otf');\n",
        "    }\n",
        "    @font-face {\n",
        "        font-family: \"Computer Modern\";\n",
        "        font-style: oblique;\n",
        "        src: url('http://9dbb143991406a7c655e-aa5fcb0a5a4ec34cff238a2d56ca4144.r56.cf5.rackcdn.com/cmunsi.otf');\n",
        "    }\n",
        "    @font-face {\n",
        "        font-family: \"Computer Modern\";\n",
        "        font-weight: bold;\n",
        "        font-style: oblique;\n",
        "        src: url('http://9dbb143991406a7c655e-aa5fcb0a5a4ec34cff238a2d56ca4144.r56.cf5.rackcdn.com/cmunso.otf');\n",
        "    }\n",
        "    div.cell{\n",
        "        width:1000px;\n",
        "        margin-left:10% !important;\n",
        "        margin-right:auto;\n",
        "    }\n",
        "    h1 {\n",
        "        /* font-family: Computer Modern, serif; */\n",
        "        color: #333333;\n",
        "        font-family: \u2018Lucida Console\u2019, Monaco, monospace;\n",
        "    }\n",
        "    h4{\n",
        "        color: #333333;\n",
        "        font-family: \u2018Lucida Console\u2019, Monaco, monospace;\n",
        "        margin-top:12px;\n",
        "        margin-bottom: 3px;\n",
        "       }\n",
        "    div.text_cell_render{\n",
        "     /*   font-family: Computer Modern, \"Helvetica Neue\", Arial, Helvetica, Geneva, sans-serif; */\n",
        "        color: #333333;\n",
        "        font-family: \u2018Palatino Linotype\u2019, \u2018Book Antiqua\u2019, Palatino, serif;\n",
        "        line-height: 145%;\n",
        "        font-size: 130%;\n",
        "        width: 1000px;\n",
        "        margin-left:1%;\n",
        "        margin-right:auto;\n",
        "    }\n",
        "    code{\n",
        "          font-size: 100%;\n",
        "    }\n",
        "    .CodeMirror{\n",
        "            font-family: \"Source Code Pro\", source-code-pro,Consolas, monospace;\n",
        "    }\n",
        "    .prompt{\n",
        "        display: None;\n",
        "    }\n",
        "    .text_cell_render h5 {\n",
        "        font-weight: 300;\n",
        "        font-size: 22pt;\n",
        "        color: #4057A1;\n",
        "        font-style: italic;\n",
        "        margin-bottom: .5em;\n",
        "        margin-top: 0.5em;\n",
        "        display: block;\n",
        "    }\n",
        "    \n",
        "    .warning{\n",
        "        color: rgb( 240, 20, 20 )\n",
        "        }  \n",
        "</style>\n",
        "<script>\n",
        "    MathJax.Hub.Config({\n",
        "                        TeX: {\n",
        "                           extensions: [\"AMSmath.js\"]\n",
        "                           },\n",
        "                tex2jax: {\n",
        "                    inlineMath: [ ['$','$'], [\"\\\\(\",\"\\\\)\"] ],\n",
        "                    displayMath: [ ['$$','$$'], [\"\\\\[\",\"\\\\]\"] ]\n",
        "                },\n",
        "                displayAlign: 'center', // Change this to 'center' to center equations.\n",
        "                \"HTML-CSS\": {\n",
        "                    styles: {'.MathJax_Display': {\"margin\": 4}}\n",
        "                }\n",
        "        });\n",
        "</script>\n"
       ],
       "output_type": "pyout",
       "prompt_number": 1,
       "text": [
        "<IPython.core.display.HTML at 0x1ff73d0>"
       ]
      }
     ],
     "prompt_number": 1
    }
   ],
   "metadata": {}
  }
 ]
}