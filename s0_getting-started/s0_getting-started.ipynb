{
 "metadata": {
  "name": "s0_getting-started"
 },
 "nbformat": 3,
 "nbformat_minor": 0,
 "worksheets": [
  {
   "cells": [
    {
     "cell_type": "heading",
     "level": 1,
     "metadata": {},
     "source": [
      "Plotly Python API Documentation "
     ]
    },
    {
     "cell_type": "markdown",
     "metadata": {},
     "source": [
      "<img src=\"https://plot.ly/static/img/splash/tinkerbell.jpg\" align=center height=390 />"
     ]
    },
    {
     "cell_type": "heading",
     "level": 4,
     "metadata": {},
     "source": [
      "What is Plotly?"
     ]
    },
    {
     "cell_type": "markdown",
     "metadata": {},
     "source": [
      "Something agong the lines of <a href=\"http://nbviewer.ipython.org/github/plotly/IPython-plotly/blob/master/Bubble%20Chart%20Explorer.ipynb\" target=\"_blank\">Jack's earlier notebook</a>:\n",
      "\n",
      "> Plotly is like graphing crack. It standardizes the graphing interface across scientific computing languages (Python, R, MATLAB, etc) while giving rich interactivity and web shareability that has not been possible before with matplotlib, ggplot, MATLAB, etc. \n",
      "\n",
      "\n",
      "> On the Plotly website, you can style your graphs with a GUI, so you don't have to spend hours  \n",
      "> writing code that simply changes the legend opacity. (new version coming ...)\n",
      "\n",
      "> Plotly does this all while backing up your graphs on the cloud, so that years later, you can find data that may have \n",
      "> otherwise been on a harddrive in a landfill. If you make your data public, other people can also find your graphs and ?\n",
      "> data. The best practice that we have today for saving and sharing research data is to entomb it as a thesis in the  \n",
      "> engineering library basement. All that is changing.\n",
      "\n",
      "> Like d3.js? Like interactive, NYT graphics **such as** ? So do we. Now, with the Plotly APIs, you can make them yourself without \n",
      "> being an expert web programmer. If you are an expert web programmer, now you have scientific languages and tools like  > R, Python, Pandas, and MATLAB instead of javascript to wrangle your data and create beautiful data vis. Science meets \n",
      "> the world-wide-web. Engineering meets design. Let's do this."
     ]
    },
    {
     "cell_type": "heading",
     "level": 4,
     "metadata": {},
     "source": [
      "Table of Contents:"
     ]
    },
    {
     "cell_type": "markdown",
     "metadata": {},
     "source": [
      "* With links to corresponding notebooks. \n",
      "* Includes a list of figures in each notebook"
     ]
    },
    {
     "cell_type": "markdown",
     "metadata": {},
     "source": [
      "Provisional section order and content: \n",
      "\n",
      "* Section 1: Line & Scatter Plots \n",
      "    - 1.1 \n",
      "    - 1.2\n",
      "    - 1.3\n",
      "* Section 2: Bar Charts & Error Bars\n",
      "    - 2.1\n",
      "    - 2.2\n",
      "    - 2.3\n",
      "* Section 3: Bubble Charts\n",
      "    - 3.1\n",
      "    - \n",
      "* Section 4: Histograms & box plots\n",
      "    - 4.1\n",
      "    - 4.2\n",
      "    - 4.3\n",
      "* Section 5: Heatmaps, 2D histograms\n",
      "* Section 6: Contour plots and Maps\n",
      "* Section ?: Polor charts, 3D plots, Streaming Data, Retrieve data from Plotly and others\n",
      "* Appendix A: Complete list of Plotly style options\n",
      "* Appendix B: FAQ\n",
      "* Appendix C: Useful templates (for users looking to ''plug and play'')\n",
      "\n",
      "You can also [read]{...} or the [download]{asddas} all sections and appendices (maybe not) as one continuous notebook."
     ]
    },
    {
     "cell_type": "heading",
     "level": 4,
     "metadata": {},
     "source": [
      "How to use this notebook?"
     ]
    },
    {
     "cell_type": "markdown",
     "metadata": {},
     "source": [
      "The book can be read in three different ways:\n",
      "\n"
     ]
    },
    {
     "cell_type": "heading",
     "level": 4,
     "metadata": {},
     "source": [
      "Installation guidelines and Configuration"
     ]
    },
    {
     "cell_type": "markdown",
     "metadata": {},
     "source": [
      "* Including how to download the Noteboks and info on config.json \n",
      "* What version of Plotly, Python, IPython, Numpy, Pandas (in section 2) are assumed "
     ]
    },
    {
     "cell_type": "heading",
     "level": 4,
     "metadata": {},
     "source": [
      "Want to improve this notebook?"
     ]
    },
    {
     "cell_type": "markdown",
     "metadata": {},
     "source": [
      "* All commits are welcomed!\n",
      "* ..."
     ]
    },
    {
     "cell_type": "heading",
     "level": 4,
     "metadata": {},
     "source": [
      "Contact info"
     ]
    },
    {
     "cell_type": "markdown",
     "metadata": {},
     "source": [
      "* Include links to documentation for other APIs\n",
      "\n",
      "\n",
      "Tweet me at <a href=\"https://twitter.com/etpinard\" target=\"_blank\">@etpinard</a>\n",
      "Email me at ...\n"
     ]
    },
    {
     "cell_type": "markdown",
     "metadata": {},
     "source": [
      "Link to Section notebook \n",
      "\n",
      "<div style=\"float: right; margin-left: 30px;\"><img title=\"Plotly logo\"style=\"float: right;margin-left: 30px;\" src=\"http://upload.wikimedia.org/wikipedia/commons/a/af/Plotly_Logo.png\" align=right height = 350 /></div>"
     ]
    },
    {
     "cell_type": "code",
     "collapsed": false,
     "input": [
      "# CSS styling into notebook, thanks to ...\n",
      "from IPython.core.display import HTML\n",
      "def css_styling():\n",
      "    styles = open(\"notebook.css\", \"r\").read()\n",
      "    return HTML(styles)\n",
      "css_styling()"
     ],
     "language": "python",
     "metadata": {},
     "outputs": [
      {
       "html": [
        "<style>\n",
        "    @font-face {\n",
        "        font-family: \"Computer Modern\";\n",
        "        src: url('http://9dbb143991406a7c655e-aa5fcb0a5a4ec34cff238a2d56ca4144.r56.cf5.rackcdn.com/cmunss.otf');\n",
        "    }\n",
        "    @font-face {\n",
        "        font-family: \"Computer Modern\";\n",
        "        font-weight: bold;\n",
        "        src: url('http://9dbb143991406a7c655e-aa5fcb0a5a4ec34cff238a2d56ca4144.r56.cf5.rackcdn.com/cmunsx.otf');\n",
        "    }\n",
        "    @font-face {\n",
        "        font-family: \"Computer Modern\";\n",
        "        font-style: oblique;\n",
        "        src: url('http://9dbb143991406a7c655e-aa5fcb0a5a4ec34cff238a2d56ca4144.r56.cf5.rackcdn.com/cmunsi.otf');\n",
        "    }\n",
        "    @font-face {\n",
        "        font-family: \"Computer Modern\";\n",
        "        font-weight: bold;\n",
        "        font-style: oblique;\n",
        "        src: url('http://9dbb143991406a7c655e-aa5fcb0a5a4ec34cff238a2d56ca4144.r56.cf5.rackcdn.com/cmunso.otf');\n",
        "    }\n",
        "    div.cell{\n",
        "        width:1000px;\n",
        "        margin-left:10% !important;\n",
        "        margin-right:auto;\n",
        "    }\n",
        "    h1 {\n",
        "        /* font-family: Computer Modern, serif; */\n",
        "        color: #333333;\n",
        "        font-family: \u2018Lucida Console\u2019, Monaco, monospace;\n",
        "    }\n",
        "    h4{\n",
        "        color: #333333;\n",
        "        font-family: \u2018Lucida Console\u2019, Monaco, monospace;\n",
        "        margin-top:12px;\n",
        "        margin-bottom: 3px;\n",
        "       }\n",
        "    div.text_cell_render{\n",
        "     /*   font-family: Computer Modern, \"Helvetica Neue\", Arial, Helvetica, Geneva, sans-serif; */\n",
        "        color: #333333;\n",
        "        font-family: \u2018Palatino Linotype\u2019, \u2018Book Antiqua\u2019, Palatino, serif;\n",
        "        line-height: 145%;\n",
        "        font-size: 130%;\n",
        "        width: 1000px;\n",
        "        margin-left:1%;\n",
        "        margin-right:auto;\n",
        "    }\n",
        "    code{\n",
        "          font-size: 100%;\n",
        "    }\n",
        "    .CodeMirror{\n",
        "            font-family: \"Source Code Pro\", source-code-pro,Consolas, monospace;\n",
        "    }\n",
        "    .prompt{\n",
        "        display: None;\n",
        "    }\n",
        "    .text_cell_render h5 {\n",
        "        font-weight: 300;\n",
        "        font-size: 22pt;\n",
        "        color: #4057A1;\n",
        "        font-style: italic;\n",
        "        margin-bottom: .5em;\n",
        "        margin-top: 0.5em;\n",
        "        display: block;\n",
        "    }\n",
        "    \n",
        "    .warning{\n",
        "        color: rgb( 240, 20, 20 )\n",
        "        }  \n",
        "</style>\n",
        "<script>\n",
        "    MathJax.Hub.Config({\n",
        "                        TeX: {\n",
        "                           extensions: [\"AMSmath.js\"]\n",
        "                           },\n",
        "                tex2jax: {\n",
        "                    inlineMath: [ ['$','$'], [\"\\\\(\",\"\\\\)\"] ],\n",
        "                    displayMath: [ ['$$','$$'], [\"\\\\[\",\"\\\\]\"] ]\n",
        "                },\n",
        "                displayAlign: 'center', // Change this to 'center' to center equations.\n",
        "                \"HTML-CSS\": {\n",
        "                    styles: {'.MathJax_Display': {\"margin\": 4}}\n",
        "                }\n",
        "        });\n",
        "</script>\n"
       ],
       "output_type": "pyout",
       "prompt_number": 2,
       "text": [
        "<IPython.core.display.HTML at 0x1d28710>"
       ]
      }
     ],
     "prompt_number": 2
    }
   ],
   "metadata": {}
  }
 ]
}