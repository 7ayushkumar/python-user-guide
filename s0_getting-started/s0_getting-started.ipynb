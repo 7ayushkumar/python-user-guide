{
 "metadata": {
  "name": "",
  "signature": "sha256:46e0cbb37cef7f616762d3ec5b97f3e26a65e3527198232b8c3056fad2ea334a"
 },
 "nbformat": 3,
 "nbformat_minor": 0,
 "worksheets": [
  {
   "cells": [
    {
     "cell_type": "heading",
     "level": 1,
     "metadata": {},
     "source": [
      "Plotly's Python API User Guide"
     ]
    },
    {
     "cell_type": "markdown",
     "metadata": {},
     "source": [
      "Welcome to Plotly's *Python API User Guide*. \n",
      "\n",
      "> Links to the other sections can be found on the User Guide's [homepage](http://nbviewer.ipython.org/github/etpinard/plotly-python-doc/tree/1.0/s0_getting-started/s0_getting-started.ipynb) <br>\n",
      "and the full Github repository is available \n",
      "<a href=\"https://github.com/etpinard/plotly-python-doc/tree/1.0\" target=\"_blank\">here</a>.\n",
      "\n",
      "<hr>"
     ]
    },
    {
     "cell_type": "heading",
     "level": 4,
     "metadata": {},
     "source": [
      "What is Plotly?"
     ]
    },
    {
     "cell_type": "markdown",
     "metadata": {},
     "source": [
      "Plotly CEO & Co-Founder Jack Parmer wrote in an past <a href=\"http://nbviewer.ipython.org/github/plotly/IPython-plotly/blob/master/Bubble%20Chart%20Explorer.ipynb\" target=\"_blank\">notebook</a>:\n",
      "\n",
      "> Plotly is like graphing crack. It standardizes the graphing interface across scientific computing languages (Python, R, MATLAB, etc) while giving rich interactivity and web shareability that has not been possible before with matplotlib, ggplot, MATLAB, etc. \n",
      "\n",
      "> On the Plotly website, you can style your graphs with a GUI, so you don't have to spend hours writing code that simply changes the legend opacity.\n",
      "\n",
      "> Plotly does this all while backing up your graphs on the cloud, so that years later, you can find data that may have otherwise been on a harddrive in a landfill. If you make your data public, other people can also find your graphs and  data. The best practice that we have today for saving and sharing research data is to entomb it as a thesis in the engineering library basement. All that is changing.\n",
      "\n",
      "> Like d3.js? Like interactive, <a href=\"https://plot.ly/~bchartoff/344/\" target=\"_blank\">NYT graphics</a>? So do we. Now, with the Plotly APIs, you can make them yourself without being an expert web programmer. If you are an expert web programmer, now you have scientific languages and tools like  R, Python, Pandas, and MATLAB instead of javascript to wrangle your data and create beautiful data vis. Science meets the world-wide-web. Engineering meets design. Let's do this."
     ]
    },
    {
     "cell_type": "heading",
     "level": 4,
     "metadata": {},
     "source": [
      "Why a User Guide?"
     ]
    },
    {
     "cell_type": "markdown",
     "metadata": {},
     "source": [
      "The User Guide was written with the goal of giving Plotly's Python/IPython users extensive documentation on all of Plotly's features. \n",
      "\n",
      "Whereas Plotly's web <a href=\"https://plot.ly/api/python/docs\" target=\"_blank\">documentation</a> and \n",
      "<a href=\"https://plot.ly/api/python/gallery\" target=\"_blank\">gallery</a> is meant to serve Plotly beginners\n",
      "just looking to make a simple plot and experienced users trying out a new plot type, \n",
      "the User Guide intends to make beginner and intermediate Plotly users experts.\n",
      "\n",
      "<!-- Include links to documentation for other APIs (R, Matlab) once they become available -->\n",
      "\n",
      "It is assumed that readers of the User Guide are *comfortable* with Python terminology (e.g. know what Python objects, lists, dictionaries and functions are). But, there is absolutely no need to be a Python guru to follow the the User Guide's content."
     ]
    },
    {
     "cell_type": "heading",
     "level": 4,
     "metadata": {},
     "source": [
      "What's new in Plotly's Python API version 1.0?"
     ]
    },
    {
     "cell_type": "markdown",
     "metadata": {},
     "source": [
      "The User Guide assume the latest version (v 1.0) of Plotly's Python API verison\n",
      "1.0. The latest version features many improvements. For instance: \n",
      "\n",
      "* A *get* function, to import data and plot options from public figures, \n",
      "* A *help* function, \n",
      "* Easier manipulation and customization of lists and dictionaries through *graph objects*,\n",
      "* A subplot generating function,\n",
      "* Easier sign in process with the use of *credentials*.\n"
     ]
    },
    {
     "cell_type": "heading",
     "level": 4,
     "metadata": {},
     "source": [
      "<hr>\n",
      "\n",
      "Table of Contents:"
     ]
    },
    {
     "cell_type": "markdown",
     "metadata": {},
     "source": [
      "The User Guide is entirely written inside <a href=\"http://ipython.org/notebook.html\" target=\"_blank\">IPython notebooks</a>. \n",
      "The Github <a href=\"https://github.com/etpinard/plotly-python-doc\" target=\"_blank\">repository</a> is divided into folders, where each folder contains one IPython notebook and their required data files.\n",
      "\n",
      "<!-- Each section is intended to be a single *lecture*. While the content is divided by mostly plot types, each lecture contains .. -->  \n",
      "\n",
      "\n",
      "**Current sections:**\n",
      "\n",
      "* [Section 1:](http://nbviewer.ipython.org/github/etpinard/plotly-python-doc/blob/master/s1_line-scatter/s1_line-scatter.ipynb) Line & Scatter Plots \n",
      "    - 1.1: Setting up the Plotly object\n",
      "    - 1.2: Dictionaries and customization\n",
      "    - 1.3: The Plot.ly homepage and file settings\n",
      "* [Section 2:](http://nbviewer.ipython.org/github/etpinard/plotly-python-doc/blob/master/s2_bar-charts/s2_bar-charts.ipynb) Bar Charts & Error Bars\n",
      "    - 2.1 A first bar charts with error bars\n",
      "    - 2.2 Chart with overlaid bars\n",
      "    - 2.3 Horizontaly stacked bar chart\n",
      "    - 2.4 Two grouped bar chart on same plot\n",
      "* [Section 3:](http://nbviewer.ipython.org/github/etpinard/plotly-python-doc/blob/master/s3_bubble-charts/s3_bubble-charts.ipynb) Bubble Charts\n",
      "    - 3.1 A first bubble chart\n",
      "    - 3.2 *Under Construction*\n",
      "* [Section 4:](http://nbviewer.ipython.org/github/etpinard/plotly-python-doc/blob/master/s4_histograms/s4_histograms.ipynb) Histograms & box plots\n",
      "    - 4.1 Overlaid histograms\n",
      "    - 4.2 Histogram normalization\n",
      "    - 4.3 Customization histograms bins\n",
      "    - 4.4 Box plots\n",
      "* [Section 5:](http://nbviewer.ipython.org/github/etpinard/plotly-python-doc/blob/master/s5_heatmaps/s5_heatmaps.ipynb) Heatmaps, Contour and 2D Histograms\n",
      "    - 5.1 Correlation matrix\n",
      "    - \n",
      "  \n",
      "**Future sections**:\n",
      "\n",
      "* Section ?: Maps, Polor charts, 3D plots, Streaming Data, Retrieve data from Plotly, ...\n",
      "* Appendix A: Complete list of Plotly style options\n",
      "* Appendix B: FAQ\n",
      "* Appendix C: Useful templates (for users looking to ''plug and play'')\n",
      "\n",
      "<!-- \n",
      "\n",
      "You can also [read]{...} or the [download]{asddas} all sections and appendices (maybe not) as one continuous notebook. (Matt April 07)\n",
      "\n",
      "Want to include a full list of figure in each section? \n",
      "Maybe more detailed descriptions \n",
      "\n",
      "-->\n",
      "\n",
      "<hr>"
     ]
    },
    {
     "cell_type": "heading",
     "level": 4,
     "metadata": {},
     "source": [
      "Installation guidelines"
     ]
    },
    {
     "cell_type": "markdown",
     "metadata": {},
     "source": [
      "**Step 1** &nbsp; The User Guide assumes:\n",
      "\n",
      " * Plotly version 1.0 &nbsp; &nbsp; **Important!** \n",
      " * Python version 2.7.5+ with\n",
      "     - `numpy` installed, for all sections\n",
      "     - `pandas` installed, for sections 3 and 5\n",
      " * IPython version 2.0.0 \n",
      "\n",
      "**Step 2** &nbsp; To install Plotly, use the package manager \n",
      "<a href=\"https://pypi.python.org/pypi/pip\" targer=\"_blank\">pip</a> inside a terminal:\n",
      "\n",
      "  * &nbsp; &nbsp; &nbsp; &nbsp;`$ pip install plotly`\n",
      "  * Or &nbsp; `$ sudo pip install plotly`\n",
      "\n",
      "**Step 3** &nbsp; Check version (inside Python or IPython), upgrade if needed:"
     ]
    },
    {
     "cell_type": "code",
     "collapsed": false,
     "input": [
      "import plotly\n",
      "print plotly.__version__"
     ],
     "language": "python",
     "metadata": {},
     "outputs": [
      {
       "output_type": "stream",
       "stream": "stdout",
       "text": [
        "1.0.0\n"
       ]
      }
     ],
     "prompt_number": 2
    },
    {
     "cell_type": "markdown",
     "metadata": {},
     "source": [
      "If not latest version (`1.0.0`), run:\n",
      "\n",
      "  * `$ pip install plotly --upgrade`\n",
      "\n",
      "**Step 4** &nbsp; Sign up for Plotly if you don't have an account already:\n",
      "\n",
      "  * Go to [plot.ly](https://plot.ly/) and click on the *Sign up* button.\n",
      "\n",
      "  <img src=\"http://i.imgur.com/mOknXGB.png\" />\n",
      "\n",
      "**Step 5** &nbsp; Get username and API key:\n",
      "\n",
      "  * After signing in, click the *Settings* tab,\n",
      "  * Your API key and username are under *Profile*.\n",
      "  \n",
      "  <img src=\"http://i.imgur.com/EouTbdP.png\" />\n",
      "  \n",
      "\n",
      "**Step 6** &nbsp; For better code portability, we recommend setting up a *credentials* file:\n",
      "\n",
      "* In Python or IPython \n",
      "\n",
      " `>>> import plotly.tools as tls` <br>\n",
      " `>>> tls.set_credentials_file(username=\"<-->\", api_key=\"<-->\")`\n",
      "  \n",
      "Where the `username` and `api_key` keys are filled in with your own.\n",
      "\n",
      "This creates a `.credentials` file in your `$HOME/.plotly/` folder storing the username and API key locally in JSON file. \n",
      "\n",
      "* You can access your credentials in Python/IPython with:\n",
      "\n",
      "    `>>> my_creds = tls.get_credentials_file()`\n",
      "    \n",
      "**Step 7** &nbsp; Sign in to Plotly from Python API:"
     ]
    },
    {
     "cell_type": "code",
     "collapsed": false,
     "input": [
      "import plotly.plotly as py  # (New syntax!) tools to communicate with Plotly's server\n",
      "import plotly.tools as tls  # (NEW!) useful Python/Plotly tools \n",
      "\n",
      "# Read credentials\n",
      "my_creds = tls.get_credentials_file() \n",
      "\n",
      "# (New syntax!) Sign in to Plotly from API\n",
      "py.sign_in(my_creds['username'], my_creds['api_key'])"
     ],
     "language": "python",
     "metadata": {},
     "outputs": [],
     "prompt_number": 5
    },
    {
     "cell_type": "markdown",
     "metadata": {},
     "source": [
      "*And there you go.* You are now ready to make plots using Plotly and the Python API.\n",
      "\n",
      "Using the credentials file allows users to share code without having to type in (yet along remember) their own username and API key every time they want to generate a new Plotly plot."
     ]
    },
    {
     "cell_type": "heading",
     "level": 4,
     "metadata": {},
     "source": [
      "How to use the User Guide?"
     ]
    },
    {
     "cell_type": "markdown",
     "metadata": {},
     "source": [
      "For users looking to use the User Guide as a static *reference*:\n",
      "\n",
      "* we recommend using the <a href=\"http://nbviewer.ipython.org/github/etpinard/plotly-python-doc/tree/master/\">nbviewer.ipython.org site</a>, which displays IPython notebooks in your browser. \n",
      "All the notebooks of the User Guide where converted using the <a href=\"https://github.com/jiffyclub/open-in-nbviewer\" target=\"_blank\">Open in nbviewer</a> Chrome book extension. Big Thanks!\n",
      "\n",
      "Users looking to use the User Guide as an interactive *tutorial* (to learn by modifying code):\n",
      "\n",
      "* we recommend cloning branch `1.0` of the Github <a href=\"https://github.com/etpinard/plotly-python-doc\" target=\"_blank\">repository</a> to your local machine:\n",
      "\n",
      "`$ git clone -b 1.0 git://github.com/etpinard/plotly-python-doc.git`"
     ]
    },
    {
     "cell_type": "heading",
     "level": 4,
     "metadata": {},
     "source": [
      "Want to improve the User Guide?"
     ]
    },
    {
     "cell_type": "markdown",
     "metadata": {},
     "source": [
      "While reading the User Guide, if ever you have a suggestion for a new chapter,\n",
      "you would like to include more information about a particular plot option or\n",
      "you caught some typos:\n",
      "\n",
      "* Tell us about it,\n",
      "* Or, change it yourself.\n",
      "* Fork us on Github! All commits are welcomed."
     ]
    },
    {
     "cell_type": "markdown",
     "metadata": {},
     "source": [
      "<hr>\n",
      "    \n",
      "Now that we are ready to start,\n",
      "\n",
      "**Here is the link to** &nbsp; [Section 1: Line & Scatter plots](http://nbviewer.ipython.org/github/etpinard/plotly-python-doc/tree/1.0/s1_line-scatter/s1_line-scatter.ipynb)\n",
      "    \n",
      "<hr>"
     ]
    },
    {
     "cell_type": "markdown",
     "metadata": {},
     "source": [
      "<h4>Got Questions and Feedback? </h4>\n",
      "\n",
      "<div style=\"float:right; \\\">\n",
      "    <img src=\"http://i.imgur.com/i6YeveO.png\" \n",
      " align=right style=\"float:right; margin-left: 5px; margin-top: -20px\" />\n",
      "</div>\n",
      "\n",
      "<br>\n",
      "\n",
      "About <a href=\"https://plot.ly\" target=\"_blank\">Plotly</a>\n",
      "\n",
      "* email: feedback@plot.ly \n",
      "* tweet: \n",
      "<a href=\"https://twitter.com/plotlygraphs\" target=\"_blank\">@plotlygraphs</a>\n",
      "\n",
      "About the <a href=\"https://github.com/etpinard/plotly-python-doc\" target=\"_blank\">User Guide</a>\n",
      " \n",
      "* email: etienne.t.pinard@gmail.com\n",
      "* tweet: <a href=\"https://twitter.com/etpinard\" target=\"_blank\">@etpinard</a>\n",
      "\n",
      "<h4>Big Thanks to</h4>\n",
      "\n",
      "* <a href=\"http://nbviewer.ipython.org/github/CamDavidsonPilon/Probabilistic-Programming-and-Bayesian-Methods-for-Hackers/blob/master/Prologue/Prologue.ipynb\" target=\"_blank\">Cam Davidson-Pilon</a> and <br> \n",
      "<a href=\"http://lorenabarba.com/blog/announcing-aeropython/#.U1ULXdX1LJ4.google_plusone_share\" target=\"_blank\">Lorena A. Barba</a> <br>\n",
      "for notebook styling ideas\n",
      "   \n",
      "<hr>"
     ]
    },
    {
     "cell_type": "code",
     "collapsed": false,
     "input": [
      "# CSS styling within IPython notebook\n",
      "from IPython.core.display import HTML\n",
      "def css_styling():\n",
      "    styles = open(\"../plotly-python-doc.css\", \"r\").read()\n",
      "    return HTML(styles)\n",
      "css_styling()"
     ],
     "language": "python",
     "metadata": {},
     "outputs": [
      {
       "html": [
        "<style>\n",
        "    @font-face {\n",
        "        font-family: \"Computer Modern\";\n",
        "        src: url('http://9dbb143991406a7c655e-aa5fcb0a5a4ec34cff238a2d56ca4144.r56.cf5.rackcdn.com/cmunss.otf');\n",
        "    }\n",
        "    @font-face {\n",
        "        font-family: \"Computer Modern\";\n",
        "        font-weight: bold;\n",
        "        src: url('http://9dbb143991406a7c655e-aa5fcb0a5a4ec34cff238a2d56ca4144.r56.cf5.rackcdn.com/cmunsx.otf');\n",
        "    }\n",
        "    @font-face {\n",
        "        font-family: \"Computer Modern\";\n",
        "        font-style: oblique;\n",
        "        src: url('http://9dbb143991406a7c655e-aa5fcb0a5a4ec34cff238a2d56ca4144.r56.cf5.rackcdn.com/cmunsi.otf');\n",
        "    }\n",
        "    @font-face {\n",
        "        font-family: \"Computer Modern\";\n",
        "        font-weight: bold;\n",
        "        font-style: oblique;\n",
        "        src: url('http://9dbb143991406a7c655e-aa5fcb0a5a4ec34cff238a2d56ca4144.r56.cf5.rackcdn.com/cmunso.otf');\n",
        "    }\n",
        "    div.cell{\n",
        "        width:800px;\n",
        "        margin-left:16% !important;\n",
        "        margin-right:auto;\n",
        "    }\n",
        "    h1 {\n",
        "        /* font-family: Computer Modern, serif; */\n",
        "        color: #333333;\n",
        "        font-family: \u2018Lucida Console\u2019, Monaco, monospace;\n",
        "    }\n",
        "    h4{\n",
        "        color: #333333;\n",
        "        font-family: \u2018Lucida Console\u2019, Monaco, monospace;\n",
        "        margin-top:15px;\n",
        "        margin-bottom: 3px;\n",
        "       }\n",
        "    div.text_cell_render{\n",
        "     /*   font-family: Computer Modern, \"Helvetica Neue\", Arial, Helvetica, Geneva, sans-serif; */\n",
        "        color: #333333;\n",
        "     /*   font-family: \u2018Palatino Linotype\u2019, \u2018Book Antiqua\u2019, Palatino, serif; */\n",
        "     /*   font-family: \u2018Trebuchet MS\u2019, Helvetica, sans-serif; */\n",
        "        font-family: \u2018Lucida Sans Unicode\u2019, \u2018Lucida Grande\u2019, sans-serif;\n",
        "        line-height: 145%;\n",
        "        font-size: 130%;\n",
        "        width: 800px;\n",
        "        margin-left:auto;\n",
        "        margin-right:auto;\n",
        "        text-align:justify;\n",
        "        text-justify:inter-word;\n",
        "    }\n",
        "    code{\n",
        "          font-size: 85%;\n",
        "    }\n",
        "    ul{\n",
        "        margin: 2em;\n",
        "    }\n",
        "    ul li{\n",
        "           padding-left: 0.5em; \n",
        "           margin-bottom: 0.5em; \n",
        "           margin-top: 0.5em; \n",
        "    }\n",
        "    a:link{\n",
        "       text-decoration: none;\n",
        "       font-weight: bold;\n",
        "    }\n",
        "    a:visited{\n",
        "       text-decoration: none;\n",
        "       font-weight: bold;\n",
        "    }\n",
        "    a:hover{\n",
        "       text-decoration: none;\n",
        "       font-weight: bold;\n",
        "    }\n",
        "    a:focus{\n",
        "       text-decoration: none;\n",
        "       font-weight: bold;\n",
        "    }\n",
        "    a:active{\n",
        "       text-decoration: none;\n",
        "       font-weight: bold;\n",
        "    }\n",
        "    .CodeMirror{\n",
        "            font-family: \"Source Code Pro\", source-code-pro,Consolas, monospace;\n",
        "    }\n",
        "    .prompt{\n",
        "        display: None;\n",
        "    }\n",
        "    .text_cell_render h5 {\n",
        "        font-weight: 300;\n",
        "        font-size: 22pt;\n",
        "        color: #4057A1;\n",
        "        font-style: italic;\n",
        "        margin-bottom: .5em;\n",
        "        margin-top: 0.5em;\n",
        "        display: block;\n",
        "    }\n",
        "    .warning{\n",
        "        color: rgb( 240, 20, 20 )\n",
        "        }  \n",
        "</style>\n",
        "<script>\n",
        "    MathJax.Hub.Config({\n",
        "                        TeX: {\n",
        "                           extensions: [\"AMSmath.js\"]\n",
        "                           },\n",
        "                tex2jax: {\n",
        "                    inlineMath: [ ['$','$'], [\"\\\\(\",\"\\\\)\"] ],\n",
        "                    displayMath: [ ['$$','$$'], [\"\\\\[\",\"\\\\]\"] ]\n",
        "                },\n",
        "                displayAlign: 'center', // Change this to 'center' to center equations.\n",
        "                \"HTML-CSS\": {\n",
        "                    styles: {'.MathJax_Display': {\"margin\": 4}}\n",
        "                }\n",
        "        });\n",
        "</script>\n"
       ],
       "metadata": {},
       "output_type": "pyout",
       "prompt_number": 2,
       "text": [
        "<IPython.core.display.HTML at 0x30076d0>"
       ]
      }
     ],
     "prompt_number": 2
    },
    {
     "cell_type": "code",
     "collapsed": false,
     "input": [],
     "language": "python",
     "metadata": {},
     "outputs": [],
     "prompt_number": 2
    }
   ],
   "metadata": {}
  }
 ]
}