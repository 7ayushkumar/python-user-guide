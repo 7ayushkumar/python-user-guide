{
 "metadata": {
  "name": ""
 },
 "nbformat": 3,
 "nbformat_minor": 0,
 "worksheets": [
  {
   "cells": [
    {
     "cell_type": "heading",
     "level": 1,
     "metadata": {},
     "source": [
      "Section 4: Histograms & Box Plots"
     ]
    },
    {
     "cell_type": "markdown",
     "metadata": {},
     "source": [
      "Welcome to Plotly's *Python API User Guide*. \n",
      "\n",
      "> Links to the other sections can be found on the User Guide's [homepage](http://nbviewer.ipython.org/github/etpinard/plotly-python-doc/blob/master/s0_getting-started/s0_getting-started.ipynb) <br>\n",
      "and the full Github repository is available \n",
      "<a href=\"https://github.com/etpinard/plotly-python-doc\" target=\"_blank\">here</a>.\n",
      "\n",
      "<hr>"
     ]
    },
    {
     "cell_type": "code",
     "collapsed": false,
     "input": [
      "import plotly       # Plotly's Python API\n",
      "import json         # JSON file read/write\n",
      "import csv          # csv file read/write\n",
      "import numpy as np  # Numpy (for math functions and arrays, here)\n",
      "\n",
      "# Open config.json \n",
      "with open('../config.json') as config_file:\n",
      "    plotly_user_config = json.load(config_file)\n",
      "\n",
      "# Get username and api_key from config.json\n",
      "username = plotly_user_config['plotly_username'] \n",
      "api_key = plotly_user_config['plotly_api_key']\n",
      "\n",
      "# Initialize the plotly object to 'my_plotly'\n",
      "my_plotly = plotly.plotly(username, api_key)"
     ],
     "language": "python",
     "metadata": {},
     "outputs": [],
     "prompt_number": 8
    },
    {
     "cell_type": "markdown",
     "metadata": {},
     "source": [
      "Similar to section 2 (Bar Charts and Error Bars), we will read and plot data from a csv file.\n",
      "The csv file `grades.csv` contains students grades in percent.\n",
      "Each row corresponds to a student and each column corresponds to a particular component of the total grade (Midterm, Final and Homeworks) labelled in the top row of the file. "
     ]
    },
    {
     "cell_type": "code",
     "collapsed": false,
     "input": [
      "!head -n 1 grades.csv  # for Unix-like users"
     ],
     "language": "python",
     "metadata": {},
     "outputs": [
      {
       "output_type": "stream",
       "stream": "stdout",
       "text": [
        "Final Exam,Midterm Exam,Homeworks\r",
        "\r\n"
       ]
      }
     ],
     "prompt_number": 9
    },
    {
     "cell_type": "markdown",
     "metadata": {},
     "source": [
      "In order to use the data according, let's first define a csv *column* reader function. "
     ]
    },
    {
     "cell_type": "code",
     "collapsed": false,
     "input": [
      "# Define a csv column reader function\n",
      "def get_csv_col(filepath, col_id):\n",
      "    ''' \n",
      "    Read column of csv file, return a Numpy array where\n",
      "    each entry corresp. to a particular student\n",
      "    1) filepath: relative path to csv file \n",
      "    2) col_id: id of column requested, found in first row (a string)\n",
      "    '''\n",
      "    with open(filepath,'r') as data_file:\n",
      "        reader = csv.reader(data_file)         # define reader object\n",
      "        the_col = reader.next().index(col_id)  # look for 'col_id' row 1, skip row\n",
      "        # Retrieve all entry of column 'the_col', put in Numpy array\n",
      "        return np.array([float(row[the_col]) for row in reader])"
     ],
     "language": "python",
     "metadata": {},
     "outputs": [],
     "prompt_number": 11
    },
    {
     "cell_type": "markdown",
     "metadata": {},
     "source": [
      "The data in `grades.csv` contains some NaNs (not a number) entries. For example,"
     ]
    },
    {
     "cell_type": "code",
     "collapsed": false,
     "input": [
      "!head grades.csv -n 20 | tail -n 7  # for Unix-like users"
     ],
     "language": "python",
     "metadata": {},
     "outputs": [
      {
       "output_type": "stream",
       "stream": "stdout",
       "text": [
        "82.0,85.0,90.0\r",
        "\r\n",
        "52.0,75.0,68.0\r",
        "\r\n",
        "80.0,72.0,85.0\r",
        "\r\n",
        "nan,nan,nan\r",
        "\r\n",
        "78.0,80.0,82.0\r",
        "\r\n",
        "57.0,42.0,40.0\r",
        "\r\n",
        "88.0,80.0,100.0\r",
        "\r\n"
       ]
      }
     ],
     "prompt_number": 13
    },
    {
     "cell_type": "markdown",
     "metadata": {},
     "source": [
      "That said, Plotly makes plotting histograms and box plots with arrays containing NaNs a breeze. \n",
      "Please note that:\n",
      "\n",
      "* All NaNs and string entries are ignored in Plotly's built-in computations.\n",
      "\n",
      "Now, let's extract each column and check how many (non-NaN) grades they contain:"
     ]
    },
    {
     "cell_type": "code",
     "collapsed": false,
     "input": [
      "# Extract columns for 'grades.csv' \n",
      "homeworks = get_csv_col('grades.csv','Homeworks')\n",
      "midterm = get_csv_col('grades.csv','Midterm Exam')\n",
      "final = get_csv_col('grades.csv','Final Exam')\n",
      "\n",
      "# Compare number of non-NaN entries to total \n",
      "def check_nan(X,X_name):\n",
      "    X_no_nan = X[~np.isnan(X)]\n",
      "    print \"%s: %i grades out of %i entries\" % (X_name, len(X_no_nan), len(X))\n",
      "\n",
      "check_nan(homeworks,'Homeworks')\n",
      "check_nan(midterm,'Midterm Exam')\n",
      "check_nan(final,'Final Exam')"
     ],
     "language": "python",
     "metadata": {},
     "outputs": [
      {
       "output_type": "stream",
       "stream": "stdout",
       "text": [
        "Homeworks: 62 grades out of 68 entries\n",
        "Midterm Exam: 64 grades out of 68 entries\n",
        "Final Exam: 63 grades out of 68 entries\n"
       ]
      }
     ],
     "prompt_number": 15
    },
    {
     "cell_type": "heading",
     "level": 4,
     "metadata": {},
     "source": [
      "4.1 Overlaid histograms"
     ]
    },
    {
     "cell_type": "markdown",
     "metadata": {},
     "source": [
      "In our first histogram plot, we will compare the grade distributions of the midterm exam and final exam.\n",
      "Plot customization for the histogram plot type (called with the `'histogramx'` value) is analoguous to the bar plot type:\n",
      "\n",
      "* Users can select different bar modes (the `'barmode'` key in the layout dictionary). As for the bar plot type, the available values are `'stack'` (default), `'overlay'` or `'group'`.\n",
      "\n",
      "* Spacing between bars can be modify using `'bargap'` and `'bargroupgap'` in the layout dictionary.\n",
      "\n",
      "* Users can make an histogram with horizontal bars by setting `'bardir'` to `'h'` in each trace dictionary.\n",
      "\n",
      "* Note that `'text'` key not valid for this plot type unfortunately (just like in Section 2)\n",
      "\n",
      "More importantly, Plotly allows users to choose the histogram normalization (i.e. the units of the generated y-axis).\n",
      "The trace dictionary key `'histnorm'` is set to `'count'` by default, the other possibilities are: \n",
      "`'percent'`, `'probability'`, `'density'`, `'probability density'` (all in lower case). We will compare the different `'histnorm'` values later in Fig. 10. \n",
      "\n",
      "But now, for our firt histogram plot will feature:\n",
      "\n",
      "* Two histograms overlaid and partly transparent (with the `'opacity'` key in each trace dictionary);\n",
      "* `'histnorm'` set to `'count'`, as well as all other histogram options set to their default value."
     ]
    },
    {
     "cell_type": "code",
     "collapsed": false,
     "input": [
      "# Trace-generating function for midterm and final data\n",
      "def make_trace(x_in,name_in):\n",
      "    x_in_cnt = len(x_in[~np.isnan(x_in)])     # find number of non-NaNs grades\n",
      "    my_text = \" (\"+str(x_in_cnt)+\" grades)\"   # add to legend \n",
      "    return {'x': x_in, 'name': name_in+my_text, \n",
      "            'type': 'histogramx',  # N.B! 'histogramx' NOT 'histogram'\n",
      "            'histnorm': 'count',   # default value\n",
      "            'opacity': 0.5}        # opacity value (arbitrary)\n",
      "\n",
      "# Make trace dictionaries\n",
      "trace_m = make_trace(midterm,'Midterm')\n",
      "trace_f = make_trace(final,'Final')\n",
      "\n",
      "# Set layout and filename\n",
      "my_layout = {'title': 'Fig.9: Midterm and Final Exam Grade Distribution',\n",
      "             'xaxis': {'title': 'Grade [%]'},\n",
      "             'yaxis': {'title': 'Count'},\n",
      "             'barmode': 'overlay',         # overlay barmode\n",
      "             'legend': {'x': 0, 'y': 1}}   # legend at upper left corner\n",
      "my_filename = 's4_midterm-final'\n",
      "\n",
      "# Call Plotly\n",
      "my_plotly.iplot([trace_m,trace_f],\n",
      "                layout=my_layout,filename=my_filename,fileopt='overwrite')"
     ],
     "language": "python",
     "metadata": {},
     "outputs": [
      {
       "html": [
        "<iframe height=\"500\" id=\"igraph\" scrolling=\"no\" seamless=\"seamless\" src=\"https://plot.ly/~etpinard/88/600/450\" width=\"650\"></iframe>"
       ],
       "metadata": {},
       "output_type": "pyout",
       "prompt_number": 137,
       "text": [
        "<IPython.core.display.HTML at 0x229d750>"
       ]
      }
     ],
     "prompt_number": 137
    },
    {
     "cell_type": "heading",
     "level": 4,
     "metadata": {},
     "source": [
      "4.2 Histogram normalization"
     ]
    },
    {
     "cell_type": "markdown",
     "metadata": {},
     "source": [
      "Here, we will compare Plotly's histogram normalizations. \n",
      "Letting \n",
      "$y_{\\text{count}}(i)$ be the number of (non-NaN) data points in bin $i$,\n",
      "$w_i$ be the width of bin $i$ and\n",
      "$N$ be the number of data points in the sample, they are:\n",
      "\n",
      "$$ y_{\\text{probability}}(i) = \\frac{1}{N} y_{\\text{count}}(i) $$ \n",
      "\n",
      "$$ y_{\\text{percent}}(i) = \\frac{1}{N} y_{\\text{count}}(i) \\times 100 $$\n",
      "\n",
      "$$ y_{\\text{density}}(i) = \\frac{1}{w_i} y_{\\text{count}}(i) $$\n",
      "\n",
      "$$ y_{\\text{prob. density}}(i) = \\frac{1}{N} \\frac{1}{w_i} y_{\\text{count}} $$\n",
      "\n",
      "With the same data as the previous plot, consider:\n",
      "\n",
      "<!-- Maybe also first 4x4 plot ... (to be determined) -->"
     ]
    },
    {
     "cell_type": "code",
     "collapsed": false,
     "input": [
      "# A few definitions\n",
      "my_histnorms = ['percent','probability','density','probability density']  # histograms normalizations\n",
      "axis_list = ['','2','3','4']         # list of axes labels\n",
      "sep = 0.15                           # separation between axes\n",
      "lims = [[0,0.5-sep/2],[0.5+sep/2,1]] # limits of each axes\n",
      "domain_list = [(x_lim,y_lim) for y_lim in lims for x_lim in lims] # list of domains in (x,y) tuples\n",
      "anchor_list = [('',''), ('','x2'), ('y3',''), ('y4','x4')]        # list anchors to generate axes\n",
      "\n",
      "# 'Upgrade' traces of prev. plot \n",
      "def upgrade_trace(trace_in,histnorm_in,axis_val,color_in):\n",
      "    trace_out = trace_in.copy()\n",
      "    trace_out.update({'histnorm': histnorm_in,\n",
      "                      'xaxis': 'x'+axis_val, 'yaxis': 'y'+axis_val,\n",
      "                      'marker': {'color': color_in}})\n",
      "    return trace_out\n",
      "\n",
      "# Make yaxis title correspond to 'histnorm'\n",
      "def make_yaxis_title(histnorm_in):\n",
      "    my_yaxis_title = histnorm_in[0].upper()+histnorm_in[1:]   # 1st letter in upper case\n",
      "    return my_yaxis_title\n",
      "\n",
      "# Loop through 'my_histnorms' modifing existing trace and layout dictionaries\n",
      "traces = [] \n",
      "for i,h in enumerate(my_histnorms): \n",
      "    traces.append(upgrade_trace(trace_m,h,axis_list[i],'blue'))\n",
      "    traces.append(upgrade_trace(trace_f,h,axis_list[i],'red'))\n",
      "    my_layout.update({'xaxis'+axis_list[i]: {'domain': domain_list[i][0],\n",
      "                                             'anchor': anchor_list[i][0]}})\n",
      "    my_layout.update({'yaxis'+axis_list[i]: {'domain': domain_list[i][1],\n",
      "                                             'anchor': anchor_list[i][1],\n",
      "                                             'title': make_yaxis_title(h)}})\n",
      "                                 \n",
      "# Update title and filename, remove legend\n",
      "my_layout.update({'title': 'Fig.10: Midterm and Final Exam Grade Distribution',\n",
      "                  'showlegend': False})\n",
      "my_filename = 's4_midterm-final-histnorm'\n",
      "\n",
      "# Call Plotly\n",
      "my_plotly.iplot(traces,layout=my_layout,filename=my_filename,fileopt='overwrite')"
     ],
     "language": "python",
     "metadata": {},
     "outputs": [
      {
       "html": [
        "<iframe height=\"500\" id=\"igraph\" scrolling=\"no\" seamless=\"seamless\" src=\"https://plot.ly/~etpinard/90/600/450\" width=\"650\"></iframe>"
       ],
       "metadata": {},
       "output_type": "pyout",
       "prompt_number": 138,
       "text": [
        "<IPython.core.display.HTML at 0x2091790>"
       ]
      }
     ],
     "prompt_number": 138
    },
    {
     "cell_type": "markdown",
     "metadata": {},
     "source": [
      "\n",
      "* Comment on subplor anchor and domain ... if first time"
     ]
    },
    {
     "cell_type": "heading",
     "level": 4,
     "metadata": {},
     "source": [
      "4.3 Customizing histogram bins (under construction)"
     ]
    },
    {
     "cell_type": "markdown",
     "metadata": {},
     "source": [
      "* Note on Plotly's autobinx \n",
      "* autobinx=False\n",
      "* add Guassian fits to both (maybe ...)\n",
      "\n",
      "* 2 row, Midterm above Final, one 'x' axis \n",
      "* grid on mean, median, max, min"
     ]
    },
    {
     "cell_type": "code",
     "collapsed": false,
     "input": [
      "# 'Upgrade' traces of prev. plot \n",
      "def upgrade_trace(trace_in,histnorm_in,axis_val,color_in):\n",
      "    trace_out = trace_in.copy()\n",
      "    trace_out.update({'histnorm': histnorm_in,\n",
      "                      'xaxis': 'x'+axis_val, 'yaxis': 'y'+axis_val,\n",
      "                      'marker': {'color': color_in}})\n",
      "    return trace_out\n",
      "\n",
      "\n",
      "# update 'histnorm' \n",
      "\n",
      " 'xbins':{\n",
      "    'start': -3.2,\n",
      "    'end': 2.8,\n",
      "    'size': 0.2}, \n",
      "\n",
      "# \n",
      "#.update()\n",
      "\n",
      "# Set title and filename\n",
      "my_title = \"Fig.11: Midterm and Final Exam Grade Distribution\"\n",
      "my_yaxis_title = my_histnorm[0].upper()+my_histnorm[1:]   # 1st letter in upper case\n",
      "\n",
      "my_layout = {'title': my_title,\n",
      "             'yaxis': {'title': my_yaxis_title},\n",
      "             'barmode': 'overlay',         #\n",
      "             'legend': {'x': 0, 'y': 1}}   #\n",
      "my_filename = 's4_midterm-final-bins'\n",
      "\n",
      "# Call Plotly\n",
      "my_plotly.iplot(traces,layout=my_layout,filename=my_filename,fileopt='overwrite')"
     ],
     "language": "python",
     "metadata": {},
     "outputs": [
      {
       "ename": "NameError",
       "evalue": "name 'my_histnorm' is not defined",
       "output_type": "pyerr",
       "traceback": [
        "\u001b[0;31m---------------------------------------------------------------------------\u001b[0m\n\u001b[0;31mNameError\u001b[0m                                 Traceback (most recent call last)",
        "\u001b[0;32m<ipython-input-6-adfe7e1fa9eb>\u001b[0m in \u001b[0;36m<module>\u001b[0;34m()\u001b[0m\n\u001b[1;32m      6\u001b[0m \u001b[0;31m# Set title and filename\u001b[0m\u001b[0;34m\u001b[0m\u001b[0;34m\u001b[0m\u001b[0m\n\u001b[1;32m      7\u001b[0m \u001b[0mmy_title\u001b[0m \u001b[0;34m=\u001b[0m \u001b[0;34m\"Fig.10: Midterm and Final Exam Grade Distribution<br> and Gaussian fit\"\u001b[0m\u001b[0;34m\u001b[0m\u001b[0m\n\u001b[0;32m----> 8\u001b[0;31m \u001b[0mmy_yaxis_title\u001b[0m \u001b[0;34m=\u001b[0m \u001b[0mmy_histnorm\u001b[0m\u001b[0;34m[\u001b[0m\u001b[0;36m0\u001b[0m\u001b[0;34m]\u001b[0m\u001b[0;34m.\u001b[0m\u001b[0mupper\u001b[0m\u001b[0;34m(\u001b[0m\u001b[0;34m)\u001b[0m\u001b[0;34m+\u001b[0m\u001b[0mmy_histnorm\u001b[0m\u001b[0;34m[\u001b[0m\u001b[0;36m1\u001b[0m\u001b[0;34m:\u001b[0m\u001b[0;34m]\u001b[0m   \u001b[0;31m# 1st letter in upper case\u001b[0m\u001b[0;34m\u001b[0m\u001b[0m\n\u001b[0m\u001b[1;32m      9\u001b[0m \u001b[0;34m\u001b[0m\u001b[0m\n\u001b[1;32m     10\u001b[0m my_layout = {'title': my_title,\n",
        "\u001b[0;31mNameError\u001b[0m: name 'my_histnorm' is not defined"
       ]
      }
     ],
     "prompt_number": 6
    },
    {
     "cell_type": "heading",
     "level": 4,
     "metadata": {},
     "source": [
      "4.4 Box plots"
     ]
    },
    {
     "cell_type": "code",
     "collapsed": false,
     "input": [
      "# Some formula to compute the course grade\n",
      "def grade_formula(homeworks_in,midterm_in,final_in):\n",
      "    w_h = 0.3\n",
      "    w_m = 0.3\n",
      "    w_f = 0.4\n",
      "    return w_h*homeworks_in + w_m*midterm_in + w_f*final_in\n",
      "\n",
      "# Make trace dictionaries for midterm and final data\n",
      "def make_trace(y_in,name_in):\n",
      "    return {'y': y_in, 'name': name_in,\n",
      "            'type': 'box',\n",
      "            'boxpoints': 'all',\n",
      "           # 'jitter': 0.1,          # width of jittered scatter\n",
      "            #'pointpos': -1.5,       # scatter offset from box plot\n",
      "            'marker': {'size': 10}}\n",
      "\n",
      "trace_h = make_trace(homeworks,'Homeworks')\n",
      "trace_m = make_trace(midterm,'Midterm Exam')\n",
      "trace_f = make_trace(final,'Final Exam')\n",
      "trace_g = make_trace(grade_formula(homeworks,midterm,final),'Course Grade')\n",
      "traces = [trace_h,trace_m,trace_f,trace_g]\n",
      "\n",
      "my_layout = {'title': \"Fig.12: Grade Box plots\",\n",
      "             'yaxis': {'title': ''},\n",
      "             'showlegend': False}\n",
      "my_filename = 's4_grades-box'\n",
      "\n",
      "# Call Plotly\n",
      "my_plotly.iplot(traces,layout=my_layout,filename=my_filename,fileopt='overwrite')"
     ],
     "language": "python",
     "metadata": {},
     "outputs": [
      {
       "html": [
        "<iframe height=\"500\" id=\"igraph\" scrolling=\"no\" seamless=\"seamless\" src=\"https://plot.ly/~etpinard/91/600/450\" width=\"650\"></iframe>"
       ],
       "metadata": {},
       "output_type": "pyout",
       "prompt_number": 173,
       "text": [
        "<IPython.core.display.HTML at 0x22cef50>"
       ]
      }
     ],
     "prompt_number": 173
    },
    {
     "cell_type": "markdown",
     "metadata": {},
     "source": [
      "<hr>\n",
      "\n",
      "**Go to next section** (coming soon)\n",
      "\n",
      "**Go to** [previous section](http://nbviewer.ipython.org/github/etpinard/plotly-python-doc/blob/master/s3_bubble-charts/s3_bubble-charts.ipynb)\n",
      "    \n",
      "<!-- **Go to** [next section](http://nbviewer.ipython.org/github/etpinard/plotly-python-doc/blob/master/s4_histograms/s4_histograms.ipynb)  -->\n",
      "\n",
      "**Go back to User Guide's** [homepage](http://nbviewer.ipython.org/github/etpinard/plotly-python-doc/blob/master/s0_getting-started/s0_getting-started.ipynb)\n",
      "    \n",
      "<hr>"
     ]
    },
    {
     "cell_type": "markdown",
     "metadata": {},
     "source": [
      "<h4>Got Questions and Feedback? </h4>\n",
      "\n",
      "\n",
      "<div style=\"float:right; \\\">\n",
      "    <img src=\"http://i.imgur.com/4Kk2oFn.png\" \n",
      " align=right style=\"float:right; margin-left: 25px; margin-top: 15px\" />\n",
      "</div>\n",
      "\n",
      "<br>\n",
      "\n",
      "About <a href=\"https://plot.ly\" target=\"_blank\">Plotly</a>\n",
      "\n",
      "* email: feedback@plot.ly \n",
      "* tweet: \n",
      "<a href=\"https://twitter.com/plotlygraphs\" target=\"_blank\">@plotlygraphs</a>\n",
      "\n",
      "About the <a href=\"https://github.com/etpinard/plotly-python-doc\" target=\"_blank\">User Guide</a>\n",
      " \n",
      "* email: etienne.t.pinard@gmail.com\n",
      "* tweet: <a href=\"https://twitter.com/etpinard\" target=\"_blank\">@etpinard</a>\n",
      "\n",
      "<h4>Big Thanks to</h4>\n",
      "\n",
      "* <a href=\"http://nbviewer.ipython.org/github/CamDavidsonPilon/Probabilistic-Programming-and-Bayesian-Methods-for-Hackers/blob/master/Prologue/Prologue.ipynb\" target=\"_blank\">Cam Davidson-Pilon</a> for notebook styling ideas\n",
      "   \n",
      "<hr>"
     ]
    },
    {
     "cell_type": "code",
     "collapsed": false,
     "input": [
      "from IPython.core.display import HTML\n",
      "def css_styling():\n",
      "    styles = open(\"../plotly-python-doc.css\", \"r\").read()\n",
      "    return HTML(styles)\n",
      "css_styling()"
     ],
     "language": "python",
     "metadata": {},
     "outputs": [
      {
       "html": [
        "<style>\n",
        "    @font-face {\n",
        "        font-family: \"Computer Modern\";\n",
        "        src: url('http://9dbb143991406a7c655e-aa5fcb0a5a4ec34cff238a2d56ca4144.r56.cf5.rackcdn.com/cmunss.otf');\n",
        "    }\n",
        "    @font-face {\n",
        "        font-family: \"Computer Modern\";\n",
        "        font-weight: bold;\n",
        "        src: url('http://9dbb143991406a7c655e-aa5fcb0a5a4ec34cff238a2d56ca4144.r56.cf5.rackcdn.com/cmunsx.otf');\n",
        "    }\n",
        "    @font-face {\n",
        "        font-family: \"Computer Modern\";\n",
        "        font-style: oblique;\n",
        "        src: url('http://9dbb143991406a7c655e-aa5fcb0a5a4ec34cff238a2d56ca4144.r56.cf5.rackcdn.com/cmunsi.otf');\n",
        "    }\n",
        "    @font-face {\n",
        "        font-family: \"Computer Modern\";\n",
        "        font-weight: bold;\n",
        "        font-style: oblique;\n",
        "        src: url('http://9dbb143991406a7c655e-aa5fcb0a5a4ec34cff238a2d56ca4144.r56.cf5.rackcdn.com/cmunso.otf');\n",
        "    }\n",
        "    div.cell{\n",
        "        width:800px;\n",
        "        margin-left:16% !important;\n",
        "        margin-right:auto;\n",
        "    }\n",
        "    h1 {\n",
        "        /* font-family: Computer Modern, serif; */\n",
        "        color: #333333;\n",
        "        font-family: \u2018Lucida Console\u2019, Monaco, monospace;\n",
        "    }\n",
        "    h4{\n",
        "        color: #333333;\n",
        "        font-family: \u2018Lucida Console\u2019, Monaco, monospace;\n",
        "        margin-top:15px;\n",
        "        margin-bottom: 3px;\n",
        "       }\n",
        "    div.text_cell_render{\n",
        "     /*   font-family: Computer Modern, \"Helvetica Neue\", Arial, Helvetica, Geneva, sans-serif; */\n",
        "        color: #333333;\n",
        "     /*   font-family: \u2018Palatino Linotype\u2019, \u2018Book Antiqua\u2019, Palatino, serif; */\n",
        "     /*   font-family: \u2018Trebuchet MS\u2019, Helvetica, sans-serif; */\n",
        "        font-family: \u2018Lucida Sans Unicode\u2019, \u2018Lucida Grande\u2019, sans-serif;\n",
        "        line-height: 145%;\n",
        "        font-size: 130%;\n",
        "        width: 800px;\n",
        "        margin-left:auto;\n",
        "        margin-right:auto;\n",
        "        text-align:justify;\n",
        "        text-justify:inter-word;\n",
        "    }\n",
        "    code{\n",
        "          font-size: 85%;\n",
        "    }\n",
        "    ul{\n",
        "        margin: 2em;\n",
        "    }\n",
        "    ul li{\n",
        "           padding-left: 0.5em; \n",
        "           margin-bottom: 0.5em; \n",
        "           margin-top: 0.5em; \n",
        "    }\n",
        "    a:link{\n",
        "       text-decoration: none;\n",
        "       font-weight: bold;\n",
        "    }\n",
        "    a:visited{\n",
        "       text-decoration: none;\n",
        "       font-weight: bold;\n",
        "    }\n",
        "    a:hover{\n",
        "       text-decoration: none;\n",
        "       font-weight: bold;\n",
        "    }\n",
        "    a:focus{\n",
        "       text-decoration: none;\n",
        "       font-weight: bold;\n",
        "    }\n",
        "    a:active{\n",
        "       text-decoration: none;\n",
        "       font-weight: bold;\n",
        "    }\n",
        "    .CodeMirror{\n",
        "            font-family: \"Source Code Pro\", source-code-pro,Consolas, monospace;\n",
        "    }\n",
        "    .prompt{\n",
        "        display: None;\n",
        "    }\n",
        "    .text_cell_render h5 {\n",
        "        font-weight: 300;\n",
        "        font-size: 22pt;\n",
        "        color: #4057A1;\n",
        "        font-style: italic;\n",
        "        margin-bottom: .5em;\n",
        "        margin-top: 0.5em;\n",
        "        display: block;\n",
        "    }\n",
        "    .warning{\n",
        "        color: rgb( 240, 20, 20 )\n",
        "        }  \n",
        "</style>\n",
        "<script>\n",
        "    MathJax.Hub.Config({\n",
        "                        TeX: {\n",
        "                           extensions: [\"AMSmath.js\"]\n",
        "                           },\n",
        "                tex2jax: {\n",
        "                    inlineMath: [ ['$','$'], [\"\\\\(\",\"\\\\)\"] ],\n",
        "                    displayMath: [ ['$$','$$'], [\"\\\\[\",\"\\\\]\"] ]\n",
        "                },\n",
        "                displayAlign: 'center', // Change this to 'center' to center equations.\n",
        "                \"HTML-CSS\": {\n",
        "                    styles: {'.MathJax_Display': {\"margin\": 4}}\n",
        "                }\n",
        "        });\n",
        "</script>\n"
       ],
       "metadata": {},
       "output_type": "pyout",
       "prompt_number": 1,
       "text": [
        "<IPython.core.display.HTML at 0x248ec50>"
       ]
      }
     ],
     "prompt_number": 1
    },
    {
     "cell_type": "code",
     "collapsed": false,
     "input": [],
     "language": "python",
     "metadata": {},
     "outputs": []
    }
   ],
   "metadata": {}
  }
 ]
}