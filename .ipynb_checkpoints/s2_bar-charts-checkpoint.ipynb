{
 "metadata": {
  "name": "",
  "signature": "sha256:4be0f468adc1035cee308fc36c388c21420f46e4b118e59c2355edf1486a3ac4"
 },
 "nbformat": 3,
 "nbformat_minor": 0,
 "worksheets": [
  {
   "cells": [
    {
     "cell_type": "heading",
     "level": 1,
     "metadata": {},
     "source": [
      "Section 2: Bar Charts and Error Bars"
     ]
    },
    {
     "cell_type": "markdown",
     "metadata": {},
     "source": [
      "Welcome to Plotly's *Python API User Guide*. \n",
      "\n",
      "> Links to the other sections can be found on the User Guide's [homepage](http://nbviewer.ipython.org/github/etpinard/plotly-python-doc/blob/master/s0_getting-started/s0_getting-started.ipynb) <br>\n",
      "and the full Github repository is available \n",
      "<a href=\"https://github.com/etpinard/plotly-python-doc\" target=\"_blank\">here</a>.\n",
      "\n",
      "<hr>"
     ]
    },
    {
     "cell_type": "markdown",
     "metadata": {},
     "source": [
      "In this section, we deal with a *real life* example. We compare the climates of Montreal and Vancouver. \n",
      "The relevant data is read from two csv files and the analysis done primarily using bar charts.\n",
      "We also cover error bars and explore some legend, tick and title options.\n",
      "\n",
      "We first import a few modules and initialize the Plotly object (`my_plotly`):"
     ]
    },
    {
     "cell_type": "code",
     "collapsed": false,
     "input": [
      "import plotly       # Plotly for Python API\n",
      "import json         # JSON file read/write\n",
      "import csv          # csv file read/write\n",
      "import numpy as np  # Numpy (for math functions and arrays, here)\n",
      "\n",
      "# Open config.json \n",
      "with open('../config.json') as config_file:\n",
      "    plotly_user_config = json.load(config_file)\n",
      "\n",
      "# Get username and api_key from config.json\n",
      "username = plotly_user_config['plotly_username']\n",
      "api_key = plotly_user_config['plotly_api_key']\n",
      "\n",
      "# Initialize the Plotly object to 'my_plotly'\n",
      "my_plotly = plotly.plotly(username, api_key)"
     ],
     "language": "python",
     "metadata": {},
     "outputs": [],
     "prompt_number": 2
    },
    {
     "cell_type": "markdown",
     "metadata": {},
     "source": [
      "We use data stored in two files: `montreal.csv` contains the data (e.g. temperature, precipitation) for Montreal and `vancouver.csv` contains the data for Vancouver. These data files can be downloaded either from the Environment Canada servers (<a href=\"http://climate.weather.gc.ca/climate_normals/results_1981_2010_e.html?stnID=5415\" target=\"_blank\">here</a> and <a href=\"http://climate.weather.gc.ca/climate_normals/results_1981_2010_e.html?stnID=889&lang=e&dCode=1&StationName=VANCOUVER&SearchType=Contains&province=ALL&provBut=&month1=0&month2=12\" target=\"_blank\">here</a>) or from the User Guide's Github (<a href=\"https://github.com/etpinard/plotly-python-doc/tree/master/s2_bar-charts\" target=\"_blank\">reposity</a>). \n",
      "\n",
      "<!-- Unix-like user can copy the link address and use `!wget` command inside the notebook. -->\n",
      "\n",
      "<!-- Unix-like user to run `!cat` on the two data files -->\n",
      "\n",
      "In both `montreal.csv` and `vancouver.csv` data is stored in row. The first column are variable labels, the next 12 columns are the climatoligical values for each month, the second-to-last column is the yearly average and the last column is quality check grade. (Check them!)\n",
      "\n",
      "So, let's define a simple csv reader function adapted to these data files:"
     ]
    },
    {
     "cell_type": "code",
     "collapsed": false,
     "input": [
      "# Define a csv reader function\n",
      "def get_csv_data(filepath, row_id):\n",
      "    ''' \n",
      "    Read row of csv file, return a Numpy array where\n",
      "    each entry corresp. to a particular month from January to December\n",
      "    1) filepath: relative path to csv file \n",
      "    2) row_id: id of row requested, found in first column (a string)\n",
      "    '''\n",
      "    with open(filepath,'r') as data_file:\n",
      "        reader = csv.reader(data_file)        # define reader object\n",
      "        for row in reader:                    # loop through rows in csv file\n",
      "            if len(row) and row_id in row[0]: # test for empty lines and row id\n",
      "                # Trim 1st and last 2 entries (not corresp. to months) \n",
      "                # and conv. to a numpy array\n",
      "                return np.array([float(x) for x in row[1:-2]])"
     ],
     "language": "python",
     "metadata": {},
     "outputs": [],
     "prompt_number": 3
    },
    {
     "cell_type": "heading",
     "level": 4,
     "metadata": {},
     "source": [
      "2.1 A first bar chart with error bars"
     ]
    },
    {
     "cell_type": "markdown",
     "metadata": {},
     "source": [
      "Let's make a simple bar chart of daily average temperature for every month of the year in Montreal. \n",
      "To spice it up a bit, we'll add error bars designating 1 standard deviation. Plotly bar charts are generated using the `'bar'` plot `'type'` in the trace dictionary. Error bars are set through the `'error_y'` trace dictionary key. So, consider"
     ]
    },
    {
     "cell_type": "code",
     "collapsed": false,
     "input": [
      "# Make a list of month names\n",
      "months = ['Jan','Feb','Mar','Apr','May','Jun',\n",
      "          'Jul','Aug','Sep','Oct','Nov','Dec']\n",
      "\n",
      "# Get a 1d-array of daily average temperatures, 1 entry per month\n",
      "T_avg = get_csv_data('montreal.csv','Daily Average')\n",
      "\n",
      "# Similarly for daily temperature standard deviations\n",
      "T_std = get_csv_data('montreal.csv','Standard Deviation')\n",
      "\n",
      "# Built trace dictionary\n",
      "trace0 = {'x': months,     # a list of string\n",
      "          'y': T_avg,      # 1d array of numbers\n",
      "          'type': 'bar',                    # N.B. a bar chart\n",
      "          'marker': {'color': '#377eb8'},   #      colored in the hex model\n",
      "          'error_y': {'visible': True,      #      with error bars\n",
      "                      'type': 'data',       # or 'percent', 'sqrt', 'constant'\n",
      "                      'array': T_std,       # data use for error bar\n",
      "                      'color': '#e41a1c'}}  # error bar color in the hex model\n",
      "\n",
      "# Set plot title, y-axis title, filename and remove legend\n",
      "my_layout = {'title': \"Fig.4: Montreal 1981-2010 Daily Average Temperature <br>\\\n",
      "                       and Standard Deviation\",\n",
      "             'yaxis': {'title': 'Temperature [in deg. C]'},\n",
      "             'showlegend': False}  # remove legend\n",
      "my_filename = 's2_avg-temp'\n",
      "\n",
      "# Call Plotly\n",
      "my_plotly.iplot(trace0,layout=my_layout,filename=my_filename,fileopt='overwrite')"
     ],
     "language": "python",
     "metadata": {},
     "outputs": [
      {
       "html": [
        "<iframe height=\"550\" id=\"igraph\" scrolling=\"no\" seamless=\"seamless\" src=\"https://plot.ly/~etpinard/76\" width=\"100%\"></iframe>"
       ],
       "metadata": {},
       "output_type": "pyout",
       "prompt_number": 10,
       "text": [
        "<IPython.core.display.HTML at 0x172c110>"
       ]
      }
     ],
     "prompt_number": 10
    },
    {
     "cell_type": "markdown",
     "metadata": {},
     "source": [
      "A few remarks:\n",
      "\n",
      "Plotly supports list of strings (e.g the `months`) as plot coordinates. \n",
      "  No need to change the ticks labels here, Plotly does it for you!\n",
      "  However, be careful, each entries in the list must be unique to yield the desired results.\n",
      "  (try running the code with `months = [J,F,M,A,M,J,J,A,S,O,N,S]` instead and see what happens)\n",
      "\n",
      "Error bars are set through the `'error_y'` trace dictionary key. The corresponding value is a dictionary  where the `'visible'` key must be set to `True` in order to see the error bars on the plot. Plotly error bars are always symmetric. In addition, Plotly error bars come in different types:\n",
      "\n",
      "  - For error bars that depend on the x-coordinate, \n",
      "    set `'type'='data'` and assign the data to the `'array'` key\n",
      "  - For error bars in percent (with respect to the bar height), \n",
      "    set   `'type':'percent'`. This is the default type. \n",
      "    Set the what percentage to use with the `'value'` key\n",
      "- For error bars of constant height, set `'type':'constant'` \n",
      "    and enter the value in the `'value'` key.\n",
      "  - Finally, for error bars given by the square root the bar height, \n",
      "    set `'type':'sqrt'`.\n",
      "\n",
      "Bar colors are set inside the `'marker'` key.\n",
      "\n",
      "Plotly understands the HTML tag `<br>` to break line inside a string.\n",
      "\n",
      "To remove the legend, set the `'showlegend'` key in the layout dictionary to 'False'.\n",
      "\n",
      "<!-- Does `'error_x'` exist? (it doesn't appear to work)\n",
      "     Way to error bars bigger? \n",
      "     Way to change where bars start? -->"
     ]
    },
    {
     "cell_type": "heading",
     "level": 4,
     "metadata": {},
     "source": [
      "2.2 Chart with overlaid bars"
     ]
    },
    {
     "cell_type": "markdown",
     "metadata": {},
     "source": [
      "Plotly makes it easy to overlay bars on top of one another. All it takes is sending a list of dictionaries containing `'type':'bar'` to `.plot` or `.iplot` method.\n",
      "\n",
      "To specify how each bar for a given x-coordinate is laid out, use `'barmode'` key in the layout dictionary (note that `'barmode'` has no effect when plotting only one trace like in fig 4). In the rest of this section, we explore all three values that `'barmode'` can take: `'overlay'` (below in fig 5), `'stacked'` (in fig 6) and `'group'`(in fig 7). \n",
      "\n",
      "The following plot shows the daily average minimum, average and maximum temperatures in summer in Montreal. In this example, the three traces have some regularity between them (same plot type, same keys but different values). To faciliate the task of building each of these traces, we make use of a *trace-generating function*, a concept that is used extensive from here on."
     ]
    },
    {
     "cell_type": "code",
     "collapsed": false,
     "input": [
      "# Make a list of summer month names\n",
      "summer = ['June','July','August']\n",
      "\n",
      "# Define a trace-generating function (returns a trace dictionary)\n",
      "def make_trace(x_in,y_in,name_in,color_in):\n",
      "    return {'x': x_in,        # takes in the x-coordinates\n",
      "            'y': y_in,        # takes in the y-coordinates\n",
      "            'type': 'bar',    # again, a bar chart\n",
      "            'name': name_in,  # label for legend\n",
      "            'marker': {'color': color_in}} # bar colors\n",
      "\n",
      "# Get average daily minima and average daily maxima from csv file\n",
      "T_min = get_csv_data('montreal.csv','Daily Minimum')\n",
      "T_max = get_csv_data('montreal.csv','Daily Maximum')\n",
      "\n",
      "# Build each trace dictionary (trim data to summer months)\n",
      "trace_avg = make_trace(summer,T_avg[5:8],'Average','rgb(127,201,127)')\n",
      "trace_min = make_trace(summer,T_min[5:8],'Minimum','rgb(190,174,212)')\n",
      "trace_max = make_trace(summer,T_max[5:8],'Maximum','rgb(253,192,134)')\n",
      "\n",
      "# Build the layout dictionary\n",
      "my_layout = {'title': 'Fig.5: Montreal 1981-2010 Daily Average, <br>\\\n",
      "                       Daily Minimum and Daily Maximum Temperatures',\n",
      "             'xaxis': {'title': 'Temperature [in deg. C]'},\n",
      "             'legend': {'x': 100, 'y': 1},  # 100 means outside the axes\n",
      "             'barmode': 'overlay'}          # bars are overlaid on this plot\n",
      "\n",
      "# Set file name\n",
      "my_filename = 's2_avg-min-max-temp'\n",
      "                    \n",
      "# Call Plolty with T_max under T_avg under T_min\n",
      "my_plotly.iplot([trace_max,trace_avg,trace_min],\n",
      "                layout=my_layout,filename=my_filename,fileopt='overwrite')"
     ],
     "language": "python",
     "metadata": {},
     "outputs": [
      {
       "html": [
        "<iframe height=\"550\" id=\"igraph\" scrolling=\"no\" seamless=\"seamless\" src=\"https://plot.ly/~etpinard/78\" width=\"100%\"></iframe>"
       ],
       "metadata": {},
       "output_type": "pyout",
       "prompt_number": 5,
       "text": [
        "<IPython.core.display.HTML at 0x1effc50>"
       ]
      }
     ],
     "prompt_number": 5
    },
    {
     "cell_type": "markdown",
     "metadata": {},
     "source": [
      "*And there you go.* \n",
      "\n",
      "15 lines of code in Python together with Plotly is all you need to make a gorgeous bar chart. \n",
      "\n",
      "<!-- Plotly legends can be placed outside the axes using the `100` position value. -->"
     ]
    },
    {
     "cell_type": "heading",
     "level": 4,
     "metadata": {},
     "source": [
      "2.3 Horizontal stacked bar chart"
     ]
    },
    {
     "cell_type": "markdown",
     "metadata": {},
     "source": [
      "Plotly can also stacker bars on top of one another. Here, one bar starts where the previous bar ended. This style of plot can be quite useful for comparing totals and their components. The following plot shows average precipitation for Montreal and Vancouver where the 12 months (i.e. the 12 traces) are stacked and the total length represents the yearly\n",
      "average. \n",
      "\n",
      "In addition, Plotly users can generate horizontal bar charts simply by adding the `'bardir':'h'` key-value pair in each trace dictionary to be plotted. So, consider:"
     ]
    },
    {
     "cell_type": "code",
     "collapsed": false,
     "input": [
      "# Get precipitation data from csv files\n",
      "mtl_P_avg = get_csv_data('montreal.csv','Precipitation (mm)')\n",
      "van_P_avg = get_csv_data('vancouver.csv','Precipitation (mm)')\n",
      "\n",
      "# City names are on the vertical axis\n",
      "cities = ['Montreal', 'Vancouver']\n",
      "\n",
      "# Use full month names to label each bar\n",
      "months_full = ['January','February','March','April','May','June',\n",
      "               'July','August','September','October','November','December']\n",
      "\n",
      "# Redefine the trace-generating function \n",
      "def make_trace(x_in,y_in,name_in,color_in):\n",
      "    return {'x': x_in,         # N.B. 'x' still has the bars' positions\n",
      "            'y': y_in,         #      and 'y' the bars' lengths\n",
      "            'type': 'bar',   \n",
      "            'bardir': 'h',    # N.B. horizontal bars, default is 'v'\n",
      "            'name': name_in,\n",
      "            'marker': {'color': color_in}}\n",
      "\n",
      "# Color for each month (Big thanks to colorbrewer2.org!)\n",
      "my_colors = ['rgb(166,206,227)','rgb(31,120,180)','rgb(178,223,138)',\n",
      "             'rgb(51,160,44)','rgb(251,154,153)','rgb(227,26,28)',\n",
      "             'rgb(253,191,111)','rgb(255,127,0)','rgb(202,178,214)',\n",
      "             'rgb(106,61,154)','rgb(255,255,153)','rgb(177,89,40)']\n",
      "\n",
      "# Use list comprehension to built a list of two 12 trace dictionaries\n",
      "traces = [make_trace(cities,[mtl_P_avg[i],van_P_avg[i]],\n",
      "                     months_full[i],my_colors[i]) for i in range(12)]\n",
      "\n",
      "# Build the layout dictionary and set file name\n",
      "my_layout = {'title': \"Fig.6: Montreal and Vancouver 1981-2010\\\n",
      "                       Monthly Average Precipitation<br>\\\n",
      "                       (Hover with cursor to each month's total)\",\n",
      "             'xaxis': {'title': 'Precipitation [in mm of rain]'},\n",
      "             'showlegend': False,   # no legend on this plot\n",
      "             'barmode': 'stack'}    # bars are stacked on this plot\n",
      "my_filename = 's2_mtl-van-precip'\n",
      "                    \n",
      "# Call Plolty\n",
      "my_plotly.iplot(traces,layout=my_layout,filename=my_filename,fileopt='overwrite')"
     ],
     "language": "python",
     "metadata": {},
     "outputs": [
      {
       "html": [
        "<iframe height=\"550\" id=\"igraph\" scrolling=\"no\" seamless=\"seamless\" src=\"https://plot.ly/~etpinard/120\" width=\"100%\"></iframe>"
       ],
       "metadata": {},
       "output_type": "pyout",
       "prompt_number": 6,
       "text": [
        "<IPython.core.display.HTML at 0x1efff90>"
       ]
      }
     ],
     "prompt_number": 6
    },
    {
     "cell_type": "markdown",
     "metadata": {},
     "source": [
      "Important! Note that the `'x'` trace dictionary (still) has the bars' positions and `'y'` their lengths. Inverting `'x'` and `'y'` would not yield the same result (try it!). In reality, a horizontal bar chart is just like a vertical bar chart (e.g. same `'x'` and `'y'` trace dictionary keys) but turned on its side by `'bardir':'h'` key-value pair in each trace dictionary."
     ]
    },
    {
     "cell_type": "heading",
     "level": 4,
     "metadata": {},
     "source": [
      "2.4 Two grouped bar charts on same plot"
     ]
    },
    {
     "cell_type": "markdown",
     "metadata": {},
     "source": [
      "Let's make a publicaion-worthy figure! Among others, it will be our first use of subplots\n",
      "\n",
      "In this plot, ..."
     ]
    },
    {
     "cell_type": "code",
     "collapsed": false,
     "input": [
      "# Relabel 'T_avg' and get missing data array\n",
      "mtl_T_avg = T_avg\n",
      "van_T_avg = get_csv_data('vancouver.csv','Daily Average')\n",
      "\n",
      "\n",
      "# Redefine the trace-generating function\n",
      "def make_trace(x_in,y_in,color_in,name_in,axis_key):\n",
      "    # Define a dictionary ...\n",
      "    axis_dict = {1: ['',''], 2: ['x2','y2']}\n",
      "    # \n",
      "    return  {'x': x_in,\n",
      "             'y': y_in,\n",
      "             'type': 'bar',\n",
      "             'marker': {'color': color_in,\n",
      "                        'line': {'color': 'black',  # bar borders\n",
      "                                 'width': 2}},      \n",
      "             'name': name_in,\n",
      "             'xaxis': axis_dict[axis_key][0],\n",
      "             'yaxis': axis_dict[axis_key][1]}\n",
      "\n",
      "# Assign temperature traces to 'xaxis' and 'yaxis'\n",
      "traces_T = [make_trace(months_full,mtl_T_avg,'#1b9e77','Montreal',1),\n",
      "            make_trace(months_full,van_T_avg,'#d95f02','Vancouver',1)]\n",
      "\n",
      "# Assign precipitation traces to 'xaxis2' and 'yaxis2'\n",
      "traces_P = [make_trace(months_full,mtl_P_avg,'#1b9e77',None,2),\n",
      "            make_trace(months_full,van_P_avg,'#d95f02',None,2)]\n",
      "\n",
      "# Concatenate\n",
      "traces = traces_T+traces_P\n",
      "\n",
      "my_layout = {# Set title and change font\n",
      "             'title': 'Fig.6: Montreal and Vancouver 1981-2010 <br>\\\n",
      "                       Daily Average Temperature and \\\n",
      "                       Monthly Average Precipitation',\n",
      "             'titlefont': {'family': 'Verdana, sans-serif',  # 'family' not 'name'\n",
      "                           'size': 22},                      # bigger title, default: 16\n",
      "             # Bar charts options\n",
      "             'barmode': 'group',   # bars are in groups on this plot\n",
      "             'bargroupgap': 0,     # norm. spacing between group members\n",
      "             'bargap': 0.25,       # norm. spacing between groups\n",
      "             #\n",
      "             # Axis options\n",
      "             'xaxis': {'domain': [0,0.4],         # reset length of default x-axis\n",
      "                       'linewidth': 2,            # ticker axes (default is 1)\n",
      "                       'tickangle' : 45,          # rotation ticks labels \n",
      "                       'tickfont': {'size': 14}}, # big tick label font, default: 12\n",
      "             'yaxis': {'title': 'Daily Average Temperature [deg. C]',\n",
      "                       'titlefont': {'size': 16}, # bigger axis label (default is 15)\n",
      "                       'linewidth': 2,\n",
      "                       'tickfont': {'size': 14}},\n",
      "             'xaxis2': {'domain': [0.6,1],        # set length of xaxis2\n",
      "                        'linewidth': 2,\n",
      "                        'tickangle' : 45,\n",
      "                        'tickfont': {'size': 14}},\n",
      "             'yaxis2': {'anchor': 'x2',           # start yaxis2 at pos. of xaxis2\n",
      "                        'title': 'Monthly Average Precipitation [mm]',\n",
      "                        'titlefont': {'size': 16},\n",
      "                        'linewidth': 2,\n",
      "                        'tickfont': {'size': 14}},\n",
      "             #\n",
      "             # Legend options\n",
      "             'legend': {'x': 100, 'y': 0.5},  # outside right, half of axes height\n",
      "             #\n",
      "             # Frame options\n",
      "             'autosize': False,       # turn off autosize \n",
      "             'height': 500,           # plot's height in pixels\n",
      "             'width': 750,            # plot's width in pixels\n",
      "             'margin': {'t':150,'b':100,'r':70,'l':70, # margin between frame and axes\n",
      "                        'pad':0},     # no space between axis border and grid lines\n",
      "             'paper_bgcolor': 'grey', # background color \n",
      "             #\n",
      "             # Annotations\n",
      "             'annotations': [{'text': 'Data courtesy of Environment Canada', \n",
      "                              'xref': 'paper',        # need comments here ...\n",
      "                              'yref': 'paper',        #\n",
      "                              'showarrow': False,     #\n",
      "                              'x':0, 'y': -0.4,       #\n",
      "                              'font': {'size': 13}}]  # (default is 12) \n",
      "             }\n",
      "\n",
      "# Set file name\n",
      "my_filename = 's2_mtl-van'\n",
      " \n",
      "# Call Plotly\n",
      "my_plotly.iplot(traces,layout= my_layout,filename= my_filename,fileopt= 'overwrite')"
     ],
     "language": "python",
     "metadata": {},
     "outputs": [
      {
       "html": [
        "<iframe height=\"550\" id=\"igraph\" scrolling=\"no\" seamless=\"seamless\" src=\"https://plot.ly/~etpinard/79\" width=\"100%\"></iframe>"
       ],
       "metadata": {},
       "output_type": "pyout",
       "prompt_number": 7,
       "text": [
        "<IPython.core.display.HTML at 0x1f17dd0>"
       ]
      }
     ],
     "prompt_number": 7
    },
    {
     "cell_type": "markdown",
     "metadata": {},
     "source": [
      "\n",
      "\n",
      "* Wow plotly tilts the labels automatically! (mention how to make it manually)\n",
      "\n",
      "* Do not set 'xaxis1': 'x1' --> it does not overwrite 'xaxis'\n",
      "\n",
      "* .iplot size .... **is there an option out there**\n",
      "\n",
      "* legend ... maybe have to call .iplot twice - once with legend and the other without ..\n",
      "\n",
      "* (use 'plot_bgcolor' for plot background color\n",
      "\n",
      "<!-- how to remove legend items\n",
      "     Comments on subplot and the Matplotlib interpreter (easier subplot)\n",
      "-->"
     ]
    },
    {
     "cell_type": "markdown",
     "metadata": {},
     "source": [
      "<hr>\n",
      "    \n",
      "**Go to** [next section](http://nbviewer.ipython.org/github/etpinard/plotly-python-doc/blob/master/s3_bubble-charts/s3_bubble-charts.ipynb)\n",
      "\n",
      "**Go to** [previous section](http://nbviewer.ipython.org/github/etpinard/plotly-python-doc/blob/master/s1_line-scatter/s1_line-scatter.ipynb)\n",
      "\n",
      "**Go back to User Guide's** [homepage](http://nbviewer.ipython.org/github/etpinard/plotly-python-doc/blob/master/s0_getting-started/s0_getting-started.ipynb)\n",
      "    \n",
      "<hr>"
     ]
    },
    {
     "cell_type": "markdown",
     "metadata": {},
     "source": [
      "<h4>Got Questions and Feedback? </h4>\n",
      "\n",
      "\n",
      "<div style=\"float:right; \\\">\n",
      "    <img src=\"http://i.imgur.com/4Kk2oFn.png\" \n",
      " align=right style=\"float:right; margin-left: 25px; margin-top: 15px\" />\n",
      "</div>\n",
      "\n",
      "<br>\n",
      "\n",
      "About <a href=\"https://plot.ly\" target=\"_blank\">Plotly</a>\n",
      "\n",
      "* email: feedback@plot.ly \n",
      "* tweet: \n",
      "<a href=\"https://twitter.com/plotlygraphs\" target=\"_blank\">@plotlygraphs</a>\n",
      "\n",
      "About the <a href=\"https://github.com/etpinard/plotly-python-doc\" target=\"_blank\">User Guide</a>\n",
      " \n",
      "* email: etienne.t.pinard@gmail.com\n",
      "* tweet: <a href=\"https://twitter.com/etpinard\" target=\"_blank\">@etpinard</a>\n",
      "\n",
      "<h4>Big Thanks to</h4>\n",
      "\n",
      "* <a href=\"http://nbviewer.ipython.org/github/CamDavidsonPilon/Probabilistic-Programming-and-Bayesian-Methods-for-Hackers/blob/master/Prologue/Prologue.ipynb\" target=\"_blank\">Cam Davidson-Pilon</a> for notebook styling ideas\n",
      "   \n",
      "<hr>"
     ]
    },
    {
     "cell_type": "code",
     "collapsed": false,
     "input": [
      "from IPython.core.display import HTML\n",
      "def css_styling():\n",
      "    styles = open(\"../plotly-python-doc.css\", \"r\").read()\n",
      "    return HTML(styles)\n",
      "css_styling()"
     ],
     "language": "python",
     "metadata": {},
     "outputs": [
      {
       "html": [
        "<style>\n",
        "    @font-face {\n",
        "        font-family: \"Computer Modern\";\n",
        "        src: url('http://9dbb143991406a7c655e-aa5fcb0a5a4ec34cff238a2d56ca4144.r56.cf5.rackcdn.com/cmunss.otf');\n",
        "    }\n",
        "    @font-face {\n",
        "        font-family: \"Computer Modern\";\n",
        "        font-weight: bold;\n",
        "        src: url('http://9dbb143991406a7c655e-aa5fcb0a5a4ec34cff238a2d56ca4144.r56.cf5.rackcdn.com/cmunsx.otf');\n",
        "    }\n",
        "    @font-face {\n",
        "        font-family: \"Computer Modern\";\n",
        "        font-style: oblique;\n",
        "        src: url('http://9dbb143991406a7c655e-aa5fcb0a5a4ec34cff238a2d56ca4144.r56.cf5.rackcdn.com/cmunsi.otf');\n",
        "    }\n",
        "    @font-face {\n",
        "        font-family: \"Computer Modern\";\n",
        "        font-weight: bold;\n",
        "        font-style: oblique;\n",
        "        src: url('http://9dbb143991406a7c655e-aa5fcb0a5a4ec34cff238a2d56ca4144.r56.cf5.rackcdn.com/cmunso.otf');\n",
        "    }\n",
        "    div.cell{\n",
        "        width:800px;\n",
        "        margin-left:16% !important;\n",
        "        margin-right:auto;\n",
        "    }\n",
        "    h1 {\n",
        "        /* font-family: Computer Modern, serif; */\n",
        "        color: #333333;\n",
        "        font-family: \u2018Lucida Console\u2019, Monaco, monospace;\n",
        "    }\n",
        "    h4{\n",
        "        color: #333333;\n",
        "        font-family: \u2018Lucida Console\u2019, Monaco, monospace;\n",
        "        margin-top:15px;\n",
        "        margin-bottom: 3px;\n",
        "       }\n",
        "    div.text_cell_render{\n",
        "     /*   font-family: Computer Modern, \"Helvetica Neue\", Arial, Helvetica, Geneva, sans-serif; */\n",
        "        color: #333333;\n",
        "     /*   font-family: \u2018Palatino Linotype\u2019, \u2018Book Antiqua\u2019, Palatino, serif; */\n",
        "     /*   font-family: \u2018Trebuchet MS\u2019, Helvetica, sans-serif; */\n",
        "        font-family: \u2018Lucida Sans Unicode\u2019, \u2018Lucida Grande\u2019, sans-serif;\n",
        "        line-height: 145%;\n",
        "        font-size: 130%;\n",
        "        width: 800px;\n",
        "        margin-left:auto;\n",
        "        margin-right:auto;\n",
        "        text-align:justify;\n",
        "        text-justify:inter-word;\n",
        "    }\n",
        "    code{\n",
        "          font-size: 85%;\n",
        "    }\n",
        "    .CodeMirror{\n",
        "            font-family: \"Source Code Pro\", source-code-pro,Consolas, monospace;\n",
        "    }\n",
        "    .prompt{\n",
        "        display: None;\n",
        "    }\n",
        "    .text_cell_render h5 {\n",
        "        font-weight: 300;\n",
        "        font-size: 22pt;\n",
        "        color: #4057A1;\n",
        "        font-style: italic;\n",
        "        margin-bottom: .5em;\n",
        "        margin-top: 0.5em;\n",
        "        display: block;\n",
        "    }\n",
        "    .warning{\n",
        "        color: rgb( 240, 20, 20 )\n",
        "        }  \n",
        "</style>\n",
        "<script>\n",
        "    MathJax.Hub.Config({\n",
        "                        TeX: {\n",
        "                           extensions: [\"AMSmath.js\"]\n",
        "                           },\n",
        "                tex2jax: {\n",
        "                    inlineMath: [ ['$','$'], [\"\\\\(\",\"\\\\)\"] ],\n",
        "                    displayMath: [ ['$$','$$'], [\"\\\\[\",\"\\\\]\"] ]\n",
        "                },\n",
        "                displayAlign: 'center', // Change this to 'center' to center equations.\n",
        "                \"HTML-CSS\": {\n",
        "                    styles: {'.MathJax_Display': {\"margin\": 4}}\n",
        "                }\n",
        "        });\n",
        "</script>\n"
       ],
       "metadata": {},
       "output_type": "pyout",
       "prompt_number": 1,
       "text": [
        "<IPython.core.display.HTML at 0x172c810>"
       ]
      }
     ],
     "prompt_number": 1
    },
    {
     "cell_type": "code",
     "collapsed": false,
     "input": [],
     "language": "python",
     "metadata": {},
     "outputs": []
    }
   ],
   "metadata": {}
  }
 ]
}