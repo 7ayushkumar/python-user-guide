{
 "metadata": {
  "name": "",
  "signature": "sha256:f241db4bedd3f0899309d02fba94c5dab721f20cdbcec29bdd54e36dae6dd54f"
 },
 "nbformat": 3,
 "nbformat_minor": 0,
 "worksheets": [
  {
   "cells": [
    {
     "cell_type": "heading",
     "level": 1,
     "metadata": {},
     "source": [
      "Plotly's Python API User Guide"
     ]
    },
    {
     "cell_type": "markdown",
     "metadata": {},
     "source": [
      "<br>\n",
      "\n",
      "<img src=\"https://plot.ly/static/img/splash/tinkerbell.jpg\" alt=\"Plotly logo\" height=400px/>\n",
      "\n",
      "<br>"
     ]
    },
    {
     "cell_type": "heading",
     "level": 4,
     "metadata": {},
     "source": [
      "What is Plotly?"
     ]
    },
    {
     "cell_type": "markdown",
     "metadata": {},
     "source": [
      "Plotly CEO & Co-Founder Jack Parmer wrote in an past <a href=\"http://nbviewer.ipython.org/github/plotly/IPython-plotly/blob/master/Bubble%20Chart%20Explorer.ipynb\" target=\"_blank\">notebook</a>:\n",
      "\n",
      "> Plotly is like graphing crack. It standardizes the graphing interface across scientific computing languages (Python, R, MATLAB, etc) while giving rich interactivity and web shareability that has not been possible before with matplotlib, ggplot, MATLAB, etc. \n",
      "\n",
      "> On the Plotly website, you can style your graphs with a GUI, so you don't have to spend hours writing code that simply changes the legend opacity.\n",
      "\n",
      "> Plotly does this all while backing up your graphs on the cloud, so that years later, you can find data that may have otherwise been on a harddrive in a landfill. If you make your data public, other people can also find your graphs and  data. The best practice that we have today for saving and sharing research data is to entomb it as a thesis in the engineering library basement. All that is changing.\n",
      "\n",
      "> Like d3.js? Like interactive, <a href=\"https://plot.ly/~bchartoff/344/\" target=\"_blank\">NYT graphics</a>? So do we. Now, with the Plotly APIs, you can make them yourself without being an expert web programmer. If you are an expert web programmer, now you have scientific languages and tools like  R, Python, Pandas, and MATLAB instead of javascript to wrangle your data and create beautiful data vis. Science meets the world-wide-web. Engineering meets design. Let's do this."
     ]
    },
    {
     "cell_type": "heading",
     "level": 4,
     "metadata": {},
     "source": [
      "Why a User Guide?"
     ]
    },
    {
     "cell_type": "markdown",
     "metadata": {},
     "source": [
      "The User Guide was written with the goal of giving Plotly's Python/IPython users extensive documentation on all of Plotly's features. \n",
      "\n",
      "Whereas Plotly's web <a href=\"https://plot.ly/api/python/docs\" target=\"_blank\">documentation</a> and \n",
      "<a href=\"https://plot.ly/api/python/gallery\" target=\"_blank\">gallery</a> is meant to serve Plotly beginners\n",
      "just looking to make a simple plot and experienced users trying out a new plot type, \n",
      "the User Guide intends to make beginner and intermediate Plotly users experts.\n",
      "\n",
      "<!-- Include links to documentation for other APIs (R, Matlab) once they become available -->\n",
      "\n",
      "It is assumed that readers of the User Guide are *comfortable* with Python terminology (e.g. know what Python lists, dictionaries and functions are). But, there is absolutely no need to be an Python guru to follow the the User Guide's content.\n",
      "\n",
      "<hr>"
     ]
    },
    {
     "cell_type": "heading",
     "level": 4,
     "metadata": {},
     "source": [
      "Table of Contents:"
     ]
    },
    {
     "cell_type": "markdown",
     "metadata": {},
     "source": [
      "The User Guide is entirely written inside <a href=\"http://ipython.org/notebook.html\" target=\"_blank\">IPython notebooks</a>. \n",
      "The Github <a href=\"https://github.com/etpinard/plotly-python-doc\" target=\"_blank\">repository</a> is divided into folders, where each folder contains one IPython notebook and their required data files.\n",
      "\n",
      "<!-- Each section is intended to be a single *lecture*. While the content is divided by mostly plot types, each lecture contains .. -->  \n",
      "\n",
      "\n",
      "**Current sections:**\n",
      "\n",
      "* [Section 0:](http://nbviewer.ipython.org/github/etpinard/plotly-python-doc/blob/master/s0_getting-started/s0_getting-started.ipynb) Getting Started with Plotly (this notebook!)\n",
      "* [Section 1:](http://nbviewer.ipython.org/github/etpinard/plotly-python-doc/blob/master/s1_line-scatter/s1_line-scatter.ipynb) Line & Scatter Plots \n",
      "    - 1.1: Setting up the Plotly object\n",
      "    - 1.2: Dictionaries and customization\n",
      "    - 1.3: The Plot.ly homepage and file settings\n",
      "* [Section 2:](http://nbviewer.ipython.org/github/etpinard/plotly-python-doc/blob/master/s2_bar-charts/s2_bar-charts.ipynb) Bar Charts & Error Bars\n",
      "    - 2.1 A first bar charts with error bars\n",
      "    - 2.2 Chart with overlaid bars\n",
      "    - 2.3 Horizontaly stacked bar chart\n",
      "    - 2.4 Two grouped bar chart on same plot\n",
      "* [Section 3:](http://nbviewer.ipython.org/github/etpinard/plotly-python-doc/blob/master/s3_bubble-charts/s3_bubble-charts.ipynb) Bubble Charts\n",
      "    - 3.1 A first bubble chart\n",
      "    - 3.2 *Under Construction*\n",
      "* [Section 4:](http://nbviewer.ipython.org/github/etpinard/plotly-python-doc/blob/master/s4_histograms/s4_histograms.ipynb) Histograms & box plots\n",
      "    - 4.1 Overlaid histograms\n",
      "    - 4.2 Histogram normalization\n",
      "    - 4.3 Customization histograms bins\n",
      "    - 4.4 Box plots\n",
      "\n",
      "**Future sections**:\n",
      "\n",
      "* Section 5: Heatmaps, 2D histograms\n",
      "* Section 6: Contour plots and Maps\n",
      "* Section ?: Polor charts, 3D plots, Streaming Data, Retrieve data from Plotly and others\n",
      "* Appendix A: Complete list of Plotly style options\n",
      "* Appendix B: FAQ\n",
      "* Appendix C: Useful templates (for users looking to ''plug and play'')\n",
      "\n",
      "<!-- \n",
      "\n",
      "You can also [read]{...} or the [download]{asddas} all sections and appendices (maybe not) as one continuous notebook. (Matt April 07)\n",
      "\n",
      "Want to include a full list of figure in each section? \n",
      "Maybe more detailed descriptions \n",
      "\n",
      "-->\n",
      "\n",
      "<hr>"
     ]
    },
    {
     "cell_type": "heading",
     "level": 4,
     "metadata": {},
     "source": [
      "Versions assumed, Installation guidelines and Configuration"
     ]
    },
    {
     "cell_type": "markdown",
     "metadata": {},
     "source": [
      "Step 1) At the moment, this project assumes :\n",
      "\n",
      " * plotly version 0.5.13\n",
      " * python version 2.7.5+, with the numpy and pandas module installed\n",
      " * ipython version 2.0.0 <br>\n",
      "\n",
      "Step 2) To install Plotly (for Unix-like users):\n",
      "\n",
      "  * Use pip: `$ pip install plotly`\n",
      "  * Or try: `$ sudo pip install plotly` <br>\n",
      "\n",
      "Step 3) Check version (inside python or ipython):\n",
      "\n",
      "  * `>>> import plotly`\n",
      "  * `>>> print plotly.__version__` <br>\n",
      "\n",
      "Step 4) If not latest version (0.5.13):\n",
      "\n",
      "  * `$ pip install plotly --upgrade` <br>\n",
      "\n",
      "Step 5) Get username and API key:\n",
      "\n",
      "  * by signing in on the [plot.ly website](https://plot.ly/)\n",
      "\n",
      "Step 6) For better code portability,\n",
      "\n",
      "  * We recommend filling in a JSON file named `config.json` with the following lines:\n",
      "\n",
      "<!-- add plotly_streaming_tokens\" ??? --> \n",
      "<!-- Note that the <code> HTML tag do NOT render in nbviewer -->"
     ]
    },
    {
     "cell_type": "code",
     "collapsed": false,
     "input": [
      "!cat ../config-sample.json  # for Unix-like users"
     ],
     "language": "python",
     "metadata": {},
     "outputs": [
      {
       "output_type": "stream",
       "stream": "stdout",
       "text": [
        "{\r\n",
        "    \"plotly_api_key\": \"\",\r\n",
        "    \"plotly_username\": \"\"\r\n",
        "}\r\n"
       ]
      }
     ],
     "prompt_number": 10
    },
    {
     "cell_type": "heading",
     "level": 4,
     "metadata": {},
     "source": [
      "How to use the User Guide?"
     ]
    },
    {
     "cell_type": "markdown",
     "metadata": {},
     "source": [
      "For users looking to use the User Guide as a static *reference*:\n",
      "\n",
      "* we recommend using the <a href=\"http://nbviewer.ipython.org/github/etpinard/plotly-python-doc/tree/master/\">nbviewer.ipython.org site</a>, which displays IPython notebooks in your browser. \n",
      "All the notebooks of the User Guide where converted using the <a href=\"https://github.com/jiffyclub/open-in-nbviewer\" target=\"_blank\">Open in nbviewer</a> Chrome book extension. Big Thanks!\n",
      "\n",
      "Users looking to use the User Guide as an interactive *tutorial* (to learn by modifying code):\n",
      "\n",
      "* we recommend cloning the entire Github <a href=\"https://github.com/etpinard/plotly-python-doc\" target=\"_blank\">repository</a> to your local machine. \n",
      "\n",
      "<!-- get more explicit ... eventually -->"
     ]
    },
    {
     "cell_type": "heading",
     "level": 4,
     "metadata": {},
     "source": [
      "Want to improve the User Guide?"
     ]
    },
    {
     "cell_type": "markdown",
     "metadata": {},
     "source": [
      "While reading the User Guide, if ever you have a suggestion for a new chapter,\n",
      "you would like to include more information about a particular plot option or\n",
      "you caught some typos ... Tell us about it. Or, change it yourself.\n",
      "Fork us on Github! All commits are welcomed."
     ]
    },
    {
     "cell_type": "markdown",
     "metadata": {},
     "source": [
      "<hr>\n",
      "    \n",
      "Now that we are ready to start,\n",
      "\n",
      "**Here is the link to** [Section 1: Line & Scatter plots](http://nbviewer.ipython.org/github/etpinard/plotly-python-doc/blob/master/s1_line-scatter/s1_line-scatter.ipynb)\n",
      "    \n",
      "<hr>"
     ]
    },
    {
     "cell_type": "markdown",
     "metadata": {},
     "source": [
      "<h4>Got Questions and Feedback? </h4>\n",
      "\n",
      "\n",
      "<div style=\"float:right; \\\">\n",
      "    <img src=\"http://i.imgur.com/4Kk2oFn.png\" \n",
      " align=right style=\"float:right; margin-left: 25px; margin-top: 15px\" />\n",
      "</div>\n",
      "\n",
      "<br>\n",
      "\n",
      "About <a href=\"https://plot.ly\" target=\"_blank\">Plotly</a>\n",
      "\n",
      "* email: feedback@plot.ly \n",
      "* tweet: \n",
      "<a href=\"https://twitter.com/plotlygraphs\" target=\"_blank\">@plotlygraphs</a>\n",
      "\n",
      "About the <a href=\"https://github.com/etpinard/plotly-python-doc\" target=\"_blank\">User Guide</a>\n",
      " \n",
      "* email: etienne.t.pinard@gmail.com\n",
      "* tweet: <a href=\"https://twitter.com/etpinard\" target=\"_blank\">@etpinard</a>\n",
      "\n",
      "<h4>Big Thanks to</h4>\n",
      "\n",
      "* <a href=\"http://nbviewer.ipython.org/github/CamDavidsonPilon/Probabilistic-Programming-and-Bayesian-Methods-for-Hackers/blob/master/Prologue/Prologue.ipynb\" target=\"_blank\">Cam Davidson-Pilon</a> for notebook styling ideas\n",
      "   \n",
      "<hr>"
     ]
    },
    {
     "cell_type": "code",
     "collapsed": false,
     "input": [
      "# CSS styling within IPython notebook\n",
      "from IPython.core.display import HTML\n",
      "def css_styling():\n",
      "    styles = open(\"../plotly-python-doc.css\", \"r\").read()\n",
      "    return HTML(styles)\n",
      "css_styling()"
     ],
     "language": "python",
     "metadata": {},
     "outputs": [
      {
       "html": [
        "<style>\n",
        "    @font-face {\n",
        "        font-family: \"Computer Modern\";\n",
        "        src: url('http://9dbb143991406a7c655e-aa5fcb0a5a4ec34cff238a2d56ca4144.r56.cf5.rackcdn.com/cmunss.otf');\n",
        "    }\n",
        "    @font-face {\n",
        "        font-family: \"Computer Modern\";\n",
        "        font-weight: bold;\n",
        "        src: url('http://9dbb143991406a7c655e-aa5fcb0a5a4ec34cff238a2d56ca4144.r56.cf5.rackcdn.com/cmunsx.otf');\n",
        "    }\n",
        "    @font-face {\n",
        "        font-family: \"Computer Modern\";\n",
        "        font-style: oblique;\n",
        "        src: url('http://9dbb143991406a7c655e-aa5fcb0a5a4ec34cff238a2d56ca4144.r56.cf5.rackcdn.com/cmunsi.otf');\n",
        "    }\n",
        "    @font-face {\n",
        "        font-family: \"Computer Modern\";\n",
        "        font-weight: bold;\n",
        "        font-style: oblique;\n",
        "        src: url('http://9dbb143991406a7c655e-aa5fcb0a5a4ec34cff238a2d56ca4144.r56.cf5.rackcdn.com/cmunso.otf');\n",
        "    }\n",
        "    div.cell{\n",
        "        width:800px;\n",
        "        margin-left:16% !important;\n",
        "        margin-right:auto;\n",
        "    }\n",
        "    h1 {\n",
        "        /* font-family: Computer Modern, serif; */\n",
        "        color: #333333;\n",
        "        font-family: \u2018Lucida Console\u2019, Monaco, monospace;\n",
        "    }\n",
        "    h4{\n",
        "        color: #333333;\n",
        "        font-family: \u2018Lucida Console\u2019, Monaco, monospace;\n",
        "        margin-top:15px;\n",
        "        margin-bottom: 3px;\n",
        "       }\n",
        "    div.text_cell_render{\n",
        "     /*   font-family: Computer Modern, \"Helvetica Neue\", Arial, Helvetica, Geneva, sans-serif; */\n",
        "        color: #333333;\n",
        "     /*   font-family: \u2018Palatino Linotype\u2019, \u2018Book Antiqua\u2019, Palatino, serif; */\n",
        "     /*   font-family: \u2018Trebuchet MS\u2019, Helvetica, sans-serif; */\n",
        "        font-family: \u2018Lucida Sans Unicode\u2019, \u2018Lucida Grande\u2019, sans-serif;\n",
        "        line-height: 145%;\n",
        "        font-size: 130%;\n",
        "        width: 800px;\n",
        "        margin-left:auto;\n",
        "        margin-right:auto;\n",
        "        text-align:justify;\n",
        "        text-justify:inter-word;\n",
        "    }\n",
        "    code{\n",
        "          font-size: 85%;\n",
        "    }\n",
        "    ul{\n",
        "        margin: 2em;\n",
        "    }\n",
        "    ul li{\n",
        "           padding-left: 0.5em; \n",
        "           margin-bottom: 0.5em; \n",
        "           margin-top: 0.5em; \n",
        "    }\n",
        "    a:link{\n",
        "       text-decoration: none;\n",
        "       font-weight: bold;\n",
        "    }\n",
        "    a:visited{\n",
        "       text-decoration: none;\n",
        "       font-weight: bold;\n",
        "    }\n",
        "    a:hover{\n",
        "       text-decoration: none;\n",
        "       font-weight: bold;\n",
        "    }\n",
        "    a:focus{\n",
        "       text-decoration: none;\n",
        "       font-weight: bold;\n",
        "    }\n",
        "    a:active{\n",
        "       text-decoration: none;\n",
        "       font-weight: bold;\n",
        "    }\n",
        "    .CodeMirror{\n",
        "            font-family: \"Source Code Pro\", source-code-pro,Consolas, monospace;\n",
        "    }\n",
        "    .prompt{\n",
        "        display: None;\n",
        "    }\n",
        "    .text_cell_render h5 {\n",
        "        font-weight: 300;\n",
        "        font-size: 22pt;\n",
        "        color: #4057A1;\n",
        "        font-style: italic;\n",
        "        margin-bottom: .5em;\n",
        "        margin-top: 0.5em;\n",
        "        display: block;\n",
        "    }\n",
        "    .warning{\n",
        "        color: rgb( 240, 20, 20 )\n",
        "        }  \n",
        "</style>\n",
        "<script>\n",
        "    MathJax.Hub.Config({\n",
        "                        TeX: {\n",
        "                           extensions: [\"AMSmath.js\"]\n",
        "                           },\n",
        "                tex2jax: {\n",
        "                    inlineMath: [ ['$','$'], [\"\\\\(\",\"\\\\)\"] ],\n",
        "                    displayMath: [ ['$$','$$'], [\"\\\\[\",\"\\\\]\"] ]\n",
        "                },\n",
        "                displayAlign: 'center', // Change this to 'center' to center equations.\n",
        "                \"HTML-CSS\": {\n",
        "                    styles: {'.MathJax_Display': {\"margin\": 4}}\n",
        "                }\n",
        "        });\n",
        "</script>\n"
       ],
       "metadata": {},
       "output_type": "pyout",
       "prompt_number": 15,
       "text": [
        "<IPython.core.display.HTML at 0x3364110>"
       ]
      }
     ],
     "prompt_number": 15
    },
    {
     "cell_type": "code",
     "collapsed": false,
     "input": [],
     "language": "python",
     "metadata": {},
     "outputs": []
    }
   ],
   "metadata": {}
  }
 ]
}