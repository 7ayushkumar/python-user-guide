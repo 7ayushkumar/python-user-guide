{
 "metadata": {
  "name": "s2_bar-charts"
 },
 "nbformat": 3,
 "nbformat_minor": 0,
 "worksheets": [
  {
   "cells": [
    {
     "cell_type": "heading",
     "level": 1,
     "metadata": {},
     "source": [
      "Section 2: Bar Charts and Error Bars"
     ]
    },
    {
     "cell_type": "markdown",
     "metadata": {},
     "source": [
      "Again a quick introduction.\n",
      "\n",
      "This time, we will use a more realistic example: get data from a csv file, import it and plot it!\n",
      "\n",
      "As in section 1, ..."
     ]
    },
    {
     "cell_type": "code",
     "collapsed": false,
     "input": [
      "import plotly       # Plotly for Python API\n",
      "import json         # JSON file read/write\n",
      "import csv          # \n",
      "import numpy as np  # Numpy (for math functions and arrays, here)\n",
      "\n",
      "# Open config.json \n",
      "with open('./config.json') as config_file:\n",
      "    plotly_user_config = json.load(config_file)\n",
      "\n",
      "# Get username and api_key from config.json\n",
      "username = plotly_user_config['plotly_username'] \n",
      "api_key = plotly_user_config['plotly_api_key']\n",
      "\n",
      "# Initialize the plotly object to 'my_plotly'\n",
      "my_plotly = plotly.plotly(username, api_key)\n",
      "plotly.__version__  # check ploty.ly version"
     ],
     "language": "python",
     "metadata": {},
     "outputs": [
      {
       "output_type": "pyout",
       "prompt_number": 1,
       "text": [
        "'0.5.7'"
       ]
      }
     ],
     "prompt_number": 1
    },
    {
     "cell_type": "code",
     "collapsed": false,
     "input": [
      "#!wget ... ??\n",
      "#!cat normals-7025250-1981-2010.csv \n",
      "# change filename?? include in github repo??\n",
      "\n",
      "## if not downloaded yet :\n",
      "#import urllib2, StringIO, csv\n",
      "#\n",
      "#url = 'https://gist.github.com/chriddyp/8818473/raw/d8c73ff66a190a84eb8c6c19df4d8865673234ca/2007gapminder.csv'\n",
      "#response = urllib2.urlopen(url).read()\n",
      "#output = StringIO.StringIO(response"
     ],
     "language": "python",
     "metadata": {},
     "outputs": [],
     "prompt_number": 140
    },
    {
     "cell_type": "markdown",
     "metadata": {},
     "source": [
      "A quick description of this particular csv file ... \n",
      "\n",
      "Invite the reader to use `!cat ...` on Unix-like OS\n",
      "\n",
      "A quick description of the task at hand ...\n",
      "\n",
      "Two files ..."
     ]
    },
    {
     "cell_type": "code",
     "collapsed": false,
     "input": [
      "# Define a csv reader function\n",
      "def get_csv_data(filepath, row_id):\n",
      "    ''' \n",
      "    1) filepath: relative path to csv file \n",
      "    2) row_id: id of row requested, found in first column (a string)\n",
      "    '''\n",
      "    with open(filepath,'r') as data_file:\n",
      "        reader = csv.reader(data_file)\n",
      "        for row in reader:\n",
      "            if len(row) and row_id in row[0]: # test for empty lines and row id\n",
      "                # trim 1st and last 2 entries (not corresp. to months) and conv. to np.array\n",
      "                return np.array([float(x) for x in row[1:-2]])"
     ],
     "language": "python",
     "metadata": {},
     "outputs": [],
     "prompt_number": 2
    },
    {
     "cell_type": "markdown",
     "metadata": {},
     "source": [
      "A few comments ...."
     ]
    },
    {
     "cell_type": "code",
     "collapsed": false,
     "input": [
      "# Make a list of month names\n",
      "months = ['Jan','Feb','Mar','Apr','May','Jun',\n",
      "          'Jul','Aug','Sep','Oct','Nov','Dec']\n",
      "\n",
      "# Get a 1d-array of daily average temperatures, 1 entry per month\n",
      "T_avg = get_csv_data('montreal.csv','Daily Average')\n",
      "\n",
      "# Similarly for daily temperature standard deviations\n",
      "T_std = get_csv_data('montreal.csv','Standard Deviation')\n",
      "\n",
      "# Built trace dictionary\n",
      "trace0 = {'x': months,\n",
      "          'y': T_avg,\n",
      "          'type': 'bar',                    # a bar chart\n",
      "          'marker': {'color': '#377eb8'},  \n",
      "          'error_y': {'visible': True,      # with error bars\n",
      "                      'type': 'data',\n",
      "                      'array': T_std,\n",
      "                      'color': '#e41a1c'}}  # colors in the hex model\n",
      "\n",
      "# Set title and filename\n",
      "my_layout = {'title': \"Fig.4: Montreal 1981-2010 Daily Average Temperature <br>\\\n",
      "                       and its Standard Deviation\",\n",
      "             'yaxis': {'title': 'Temperature [in deg. C]'}}\n",
      "my_filename = 's2_avg-temp'\n",
      "\n",
      "# Call Plotly\n",
      "my_plotly.iplot(trace0, \n",
      "                layout= my_layout, \n",
      "                filename= my_filename, \n",
      "                fileopt= 'overwrite')"
     ],
     "language": "python",
     "metadata": {},
     "outputs": [
      {
       "html": [
        "<iframe height=\"500\" id=\"igraph\" scrolling=\"no\" seamless=\"seamless\" src=\"https://plot.ly/~etpinard/76/600/450\" width=\"650\"></iframe>"
       ],
       "output_type": "pyout",
       "prompt_number": 31,
       "text": [
        "<IPython.core.display.HTML at 0x2660390>"
       ]
      }
     ],
     "prompt_number": 31
    },
    {
     "cell_type": "markdown",
     "metadata": {},
     "source": [
      "* list of number (or numpy array) with list of string \n",
      "* Careful, if two x entries are the same ...\n",
      "* Careful, must put 'visible': True\n",
      "* Bar color are in `'marker'`\n",
      "\n",
      "Plotly understands `<br>`, is there a better way to do this?\n",
      "\n",
      "Talk about error_x other 'error' types **error_x does not work** \n",
      "\n",
      "Introduce next plot!"
     ]
    },
    {
     "cell_type": "code",
     "collapsed": false,
     "input": [
      "# Make a list of summer month names\n",
      "summer = ['June','July','August']\n",
      "\n",
      "# Build trace dictionary for daily averages\n",
      "trace_avg = {'x': summer,\n",
      "             'y': T_avg[5:8],    # T_avg in June, July, August\n",
      "             'type': 'bar',\n",
      "             'bardir': 'h',      # Bar in the horizontal direction\n",
      "             'name': 'Average',  # label for legend\n",
      "             'marker': {'color': 'rgb(127,201,127)'}}\n",
      "\n",
      "# Get average daily minima, build trace dictionary\n",
      "T_min = get_csv_data('montreal.csv','Daily Minimum')\n",
      "trace_min = {'x': summer,\n",
      "             'y': T_min[5:8],\n",
      "             'type': 'bar',\n",
      "             'bardir': 'h',\n",
      "             'name': 'Minimum',\n",
      "             'marker': {'color': 'rgb(190,174,212)'}}\n",
      "\n",
      "# Similarly for daily maxima\n",
      "T_max = get_csv_data('montreal.csv','Daily Maximum')\n",
      "trace_max = {'x': summer,\n",
      "             'y': T_max[5:8],\n",
      "             'type': 'bar',\n",
      "             'bardir': 'h',\n",
      "             'name': 'Maximum',\n",
      "             'marker': {'color': 'rgb(253,192,134)'}}\n",
      "\n",
      "my_layout = {'title': 'Fig.5: Montreal 1981-2010 Daily Average, <br>\\\n",
      "                       Daily Minimum and Daily Maximum Temperatures',\n",
      "             'xaxis': {'title': 'Temperature [in deg. C]'},\n",
      "             'legend': {'x': 100, 'y': 1},  # 100 means outside the axes\n",
      "             'barmode': 'overlay'}          # bars are overlaid on this plot\n",
      "my_filename = 's2_avg-min-max-temp'\n",
      "                    \n",
      "# Call Plolty with T_max under T_avg under T_min\n",
      "my_plotly.iplot([trace_max,trace_avg,trace_min], \n",
      "                layout= my_layout, \n",
      "                filename= my_filename, \n",
      "                fileopt= 'overwrite')"
     ],
     "language": "python",
     "metadata": {},
     "outputs": [
      {
       "html": [
        "<iframe height=\"500\" id=\"igraph\" scrolling=\"no\" seamless=\"seamless\" src=\"https://plot.ly/~etpinard/78/600/450\" width=\"650\"></iframe>"
       ],
       "output_type": "pyout",
       "prompt_number": 23,
       "text": [
        "<IPython.core.display.HTML at 0x2733c50>"
       ]
      }
     ],
     "prompt_number": 23
    },
    {
     "cell_type": "markdown",
     "metadata": {},
     "source": [
      "* mention the overlay barmode\n",
      "* mention the legend outside position\n",
      "* note that inverting `'x'` and `'y'` would not yield the same result\n",
      "* `'bardir'`: 'v' is the default\n",
      "\n",
      "Let's make a publicaion-worthy figure! Among others, it will be our first use of subplots"
     ]
    },
    {
     "cell_type": "code",
     "collapsed": false,
     "input": [
      "# Use full month names\n",
      "months_full = ['January','February','March',\n",
      "               'April','May','June',\n",
      "               'July','August','September',\n",
      "               'October','November','December']\n",
      "\n",
      "# Get missing data array\n",
      "mtl_T_avg = T_avg\n",
      "mtl_P_avg = get_csv_data('montreal.csv','Precipitation (mm)')\n",
      "van_T_avg = get_csv_data('vancouver.csv','Daily Average')\n",
      "van_P_avg = get_csv_data('vancouver.csv','Precipitation (mm)')\n",
      "\n",
      "# \n",
      "def make_trace(x_in,y_in,color_in,name_in,axis_key):\n",
      "    '''\n",
      "    1) x_in: 'x' values  2) y_in: 'y' values \n",
      "    3) color_in: bar color 4) name_in: name for legend\n",
      "    5) axis_key: if ==2, assign values to xaxis2 and yaxis2 \n",
      "    '''\n",
      "    axis_dict = {1: ['',''], 2: ['x2','y2']}\n",
      "    trace = {'x': x_in,\n",
      "             'y': y_in,\n",
      "             'type': 'bar',\n",
      "             'marker': {'color': color_in,\n",
      "                        'line': {'color': 'black',  # bar borders\n",
      "                                 'width': 2}},      \n",
      "             'name': name_in,\n",
      "             'xaxis': axis_dict[axis_key][0],\n",
      "             'yaxis': axis_dict[axis_key][1]}\n",
      "    return trace\n",
      "\n",
      "# Assign temperature traces to 'xaxis' and 'yaxis'\n",
      "traces_T = [make_trace(months_full,mtl_T_avg,'#1b9e77','Montreal',1),\n",
      "            make_trace(months_full,van_T_avg,'#d95f02','Vancouver',1)]\n",
      "\n",
      "# Assign precipitation traces to 'xaxis2' and 'yaxis2'\n",
      "traces_P = [make_trace(months_full,mtl_P_avg,'#1b9e77',None,2),\n",
      "            make_trace(months_full,van_P_avg,'#d95f02',None,2)]\n",
      "\n",
      "# Concatenate\n",
      "traces = traces_T+traces_P\n",
      "\n",
      "my_layout = {# Set title and change font\n",
      "             'title': 'Fig.6: Montreal and Vancouver 1981-2010 <br>\\\n",
      "                       Daily Average Temperature and \\\n",
      "                       Monthly Average Precipitation',\n",
      "             'titlefont': {'family': 'Verdana, sans-serif',  # 'family' not 'name'\n",
      "                           'size': 22},                      # bigger title (default is 16)\n",
      "             # Bar charts options\n",
      "             'barmode': 'group',   # bars are in groups on this plot\n",
      "             'bargroupgap': 0,     # norm. spacing between group members\n",
      "             'bargap': 0.25,       # norm. spacing between groups\n",
      "             #\n",
      "             # Axis options\n",
      "             'xaxis': {'domain': [0,0.4],         # reset length of default x-axis\n",
      "                       'linewidth': 2,            # ticker axes (default is 1)\n",
      "                       'tickangle' : 45,          # rotation ticks labels \n",
      "                       'tickfont': {'size': 14}}, # bigger tick label font (default is 12)\n",
      "             'yaxis': {'title': 'Daily Average Temperature [deg. C]',\n",
      "                       'titlefont': {'size': 16}, # bigger axis label (default is 15)\n",
      "                       'linewidth': 2,\n",
      "                       'tickfont': {'size': 14}},\n",
      "             'xaxis2': {'domain': [0.6,1],        # set length of x-axis #2\n",
      "                        'linewidth': 2,\n",
      "                        'tickangle' : 45,\n",
      "                        'tickfont': {'size': 14}},\n",
      "             'yaxis2': {'anchor': 'x2',           # start y-axis #2 at position of x-axis #2\n",
      "                        'title': 'Monthly Average Precipitation [mm]',\n",
      "                        'titlefont': {'size': 16},\n",
      "                        'linewidth': 2,\n",
      "                        'tickfont': {'size': 14}},\n",
      "             #\n",
      "             # Legend options\n",
      "             'legend': {'x': 100, 'y': 0.5},  # outside right, half of axes height\n",
      "             #\n",
      "             # Frame options\n",
      "             'autosize': False,       # turn off autosize \n",
      "             'height': 500,       \n",
      "             'width': 1000,\n",
      "             'margin': {'t':150,'b':100,'r':70,'l':70, # margin between frame and axes\n",
      "                        'pad':0},     # no space between axis border and grid lines\n",
      "             'paper_bgcolor': 'grey', # background color \n",
      "             #\n",
      "             # Annotations\n",
      "             'annotations': [{'text': 'Data courtesy of Environment Canada', \n",
      "                              'xref': 'paper', \n",
      "                              'yref': 'paper', \n",
      "                              'showarrow': False, \n",
      "                              'x':0, 'y': -0.4,\n",
      "                              'font': {'size': 13}}]  # (default is 12) \n",
      "             }\n",
      "\n",
      "# Set file name\n",
      "my_filename = 's2_mtl-van'\n",
      "                    \n",
      "my_plotly.iplot(traces, \n",
      "                layout= my_layout, \n",
      "                filename= my_filename, \n",
      "                fileopt= 'overwrite')"
     ],
     "language": "python",
     "metadata": {},
     "outputs": [
      {
       "html": [
        "<iframe height=\"500\" id=\"igraph\" scrolling=\"no\" seamless=\"seamless\" src=\"https://plot.ly/~etpinard/79/600/450\" width=\"650\"></iframe>"
       ],
       "output_type": "pyout",
       "prompt_number": 193,
       "text": [
        "<IPython.core.display.HTML at 0x2d55d90>"
       ]
      }
     ],
     "prompt_number": 193
    },
    {
     "cell_type": "markdown",
     "metadata": {},
     "source": [
      "* Comments on subplot and the Matplotlib interpreter\n",
      "\n",
      "* Wow plotly tilts the labels automatically! (mention how to make it manually)\n",
      "\n",
      "* Do not set 'xaxis1': 'x1' --> it does not overwrite 'xaxis'\n",
      "\n",
      "* .iplot size ...\n",
      "\n",
      "* legend ... maybe have to call .iplot twice - once with legend and the other without ..\n",
      "\n",
      "* (use 'plot_bgcolor' for plot background color"
     ]
    },
    {
     "cell_type": "code",
     "collapsed": false,
     "input": [
      "plotly.display(\"https://plot.ly/~etpinard/79/\") \n",
      "\n",
      "# maybe only in verion 0.5.10 ??"
     ],
     "language": "python",
     "metadata": {},
     "outputs": [
      {
       "ename": "NameError",
       "evalue": "name 'plotly' is not defined",
       "output_type": "pyerr",
       "traceback": [
        "\u001b[0;31m---------------------------------------------------------------------------\u001b[0m\n\u001b[0;31mNameError\u001b[0m                                 Traceback (most recent call last)",
        "\u001b[0;32m<ipython-input-3-faf9ddda0fac>\u001b[0m in \u001b[0;36m<module>\u001b[0;34m()\u001b[0m\n\u001b[0;32m----> 1\u001b[0;31m \u001b[0mplotly\u001b[0m\u001b[0;34m.\u001b[0m\u001b[0mdisplay\u001b[0m\u001b[0;34m(\u001b[0m\u001b[0;34m\"https://plot.ly/~etpinard/79/\"\u001b[0m\u001b[0;34m)\u001b[0m\u001b[0;34m\u001b[0m\u001b[0m\n\u001b[0m\u001b[1;32m      2\u001b[0m \u001b[0;34m\u001b[0m\u001b[0m\n\u001b[1;32m      3\u001b[0m \u001b[0;31m# maybe only in verion 0.5.10 ??\u001b[0m\u001b[0;34m\u001b[0m\u001b[0;34m\u001b[0m\u001b[0m\n",
        "\u001b[0;31mNameError\u001b[0m: name 'plotly' is not defined"
       ]
      }
     ],
     "prompt_number": 3
    },
    {
     "cell_type": "markdown",
     "metadata": {},
     "source": [
      "<iframe height=\"500\" width=\"1000\" id=\"igraph\" scrolling=\"no\" seamless=\"seamless\" src=\"https://plot.ly/~etpinard/79\"></iframe>"
     ]
    },
    {
     "cell_type": "markdown",
     "metadata": {},
     "source": [
      "A few comments: "
     ]
    },
    {
     "cell_type": "code",
     "collapsed": false,
     "input": [
      "from IPython.core.display import HTML\n",
      "\n",
      "def css_styling():\n",
      "    styles = open(\"notebook.css\", \"r\").read()\n",
      "    return HTML(styles)\n",
      "css_styling()"
     ],
     "language": "python",
     "metadata": {},
     "outputs": [
      {
       "html": [
        "<style>\n",
        "    @font-face {\n",
        "        font-family: \"Computer Modern\";\n",
        "        src: url('http://9dbb143991406a7c655e-aa5fcb0a5a4ec34cff238a2d56ca4144.r56.cf5.rackcdn.com/cmunss.otf');\n",
        "    }\n",
        "    @font-face {\n",
        "        font-family: \"Computer Modern\";\n",
        "        font-weight: bold;\n",
        "        src: url('http://9dbb143991406a7c655e-aa5fcb0a5a4ec34cff238a2d56ca4144.r56.cf5.rackcdn.com/cmunsx.otf');\n",
        "    }\n",
        "    @font-face {\n",
        "        font-family: \"Computer Modern\";\n",
        "        font-style: oblique;\n",
        "        src: url('http://9dbb143991406a7c655e-aa5fcb0a5a4ec34cff238a2d56ca4144.r56.cf5.rackcdn.com/cmunsi.otf');\n",
        "    }\n",
        "    @font-face {\n",
        "        font-family: \"Computer Modern\";\n",
        "        font-weight: bold;\n",
        "        font-style: oblique;\n",
        "        src: url('http://9dbb143991406a7c655e-aa5fcb0a5a4ec34cff238a2d56ca4144.r56.cf5.rackcdn.com/cmunso.otf');\n",
        "    }\n",
        "    div.cell{\n",
        "        width:1000px;\n",
        "        margin-left:10% !important;\n",
        "        margin-right:auto;\n",
        "    }\n",
        "    h1 {\n",
        "        font-family: Computer Modern, serif;\n",
        "    }\n",
        "    h4{\n",
        "        margin-top:12px;\n",
        "        margin-bottom: 3px;\n",
        "       }\n",
        "    div.text_cell_render{\n",
        "        font-family: Computer Modern, \"Helvetica Neue\", Arial, Helvetica, Geneva, sans-serif;\n",
        "        line-height: 145%;\n",
        "        font-size: 130%;\n",
        "        width: 1000px;\n",
        "        margin-left:1%;\n",
        "        margin-right:auto;\n",
        "    }\n",
        "    code{\n",
        "          font-size: 100%;\n",
        "    }\n",
        "    .CodeMirror{\n",
        "            font-family: \"Source Code Pro\", source-code-pro,Consolas, monospace;\n",
        "    }\n",
        "    .prompt{\n",
        "        display: None;\n",
        "    }\n",
        "    .text_cell_render h5 {\n",
        "        font-weight: 300;\n",
        "        font-size: 22pt;\n",
        "        color: #4057A1;\n",
        "        font-style: italic;\n",
        "        margin-bottom: .5em;\n",
        "        margin-top: 0.5em;\n",
        "        display: block;\n",
        "    }\n",
        "    \n",
        "    .warning{\n",
        "        color: rgb( 240, 20, 20 )\n",
        "        }  \n",
        "</style>\n",
        "<script>\n",
        "    MathJax.Hub.Config({\n",
        "                        TeX: {\n",
        "                           extensions: [\"AMSmath.js\"]\n",
        "                           },\n",
        "                tex2jax: {\n",
        "                    inlineMath: [ ['$','$'], [\"\\\\(\",\"\\\\)\"] ],\n",
        "                    displayMath: [ ['$$','$$'], [\"\\\\[\",\"\\\\]\"] ]\n",
        "                },\n",
        "                displayAlign: 'center', // Change this to 'center' to center equations.\n",
        "                \"HTML-CSS\": {\n",
        "                    styles: {'.MathJax_Display': {\"margin\": 4}}\n",
        "                }\n",
        "        });\n",
        "</script>\n"
       ],
       "output_type": "pyout",
       "prompt_number": 4,
       "text": [
        "<IPython.core.display.HTML at 0x2070350>"
       ]
      }
     ],
     "prompt_number": 4
    },
    {
     "cell_type": "code",
     "collapsed": false,
     "input": [],
     "language": "python",
     "metadata": {},
     "outputs": []
    }
   ],
   "metadata": {}
  }
 ]
}