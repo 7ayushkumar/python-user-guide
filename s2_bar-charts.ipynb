{
 "metadata": {
  "name": "s2_bar-charts"
 },
 "nbformat": 3,
 "nbformat_minor": 0,
 "worksheets": [
  {
   "cells": [
    {
     "cell_type": "heading",
     "level": 1,
     "metadata": {},
     "source": [
      "Section 2: Bar Charts and Error Bars"
     ]
    },
    {
     "cell_type": "markdown",
     "metadata": {},
     "source": [
      "Again a quick introduction.\n",
      "\n",
      "This time, we will use a more realistic example: get data from a csv file, import it and plot it!\n",
      "\n",
      "As in section 1, ..."
     ]
    },
    {
     "cell_type": "code",
     "collapsed": false,
     "input": [
      "import plotly       # Plotly for Python API\n",
      "import json         # JSON file read/write\n",
      "import csv          # \n",
      "import numpy as np  # Numpy (for math functions and arrays, here)\n",
      "\n",
      "# Open config.json \n",
      "with open('./config.json') as config_file:\n",
      "    plotly_user_config = json.load(config_file)\n",
      "\n",
      "# Get username and api_key from config.json\n",
      "username = plotly_user_config['plotly_username'] \n",
      "api_key = plotly_user_config['plotly_api_key']\n",
      "\n",
      "# Initialize the plotly object to 'my_plotly'\n",
      "my_plotly = plotly.plotly(username, api_key)\n",
      "plotly.__version__  # check ploty.ly version"
     ],
     "language": "python",
     "metadata": {},
     "outputs": [
      {
       "output_type": "pyout",
       "prompt_number": 1,
       "text": [
        "'0.5.7'"
       ]
      }
     ],
     "prompt_number": 1
    },
    {
     "cell_type": "code",
     "collapsed": false,
     "input": [
      "#!wget ... ??\n",
      "#!cat normals-7025250-1981-2010.csv \n",
      "# change filename?? include in github repo??"
     ],
     "language": "python",
     "metadata": {},
     "outputs": [],
     "prompt_number": 2
    },
    {
     "cell_type": "markdown",
     "metadata": {},
     "source": [
      "A quick description of this particular csv file ... \n",
      "\n",
      "Invite the reader to use `!cat ...` on Unix-like OS\n",
      "\n",
      "A quick description of the task at hand ..."
     ]
    },
    {
     "cell_type": "code",
     "collapsed": false,
     "input": [
      "# Make a list of month name \n",
      "months = ['Jan','Feb','Mar','Apr','May','Jun','Jul','Aug','Sep','Oct','Nov','Dec']\n",
      "\n",
      "# Define a csv reader function\n",
      "def get_csv_data(filepath, row_id):\n",
      "    ''' \n",
      "    filepath: relative path to csv file \n",
      "    row_id: id of row requested, found in first column (a string)\n",
      "    '''\n",
      "    with open(filepath,'r') as data_file:\n",
      "        reader = csv.reader(data_file)\n",
      "        for row in reader:\n",
      "            if len(row) and row_id in row[0]: # test for empty lines and row id\n",
      "                # trim 1st and last 2 entries (not corresp. to months) and conv. to np.array\n",
      "                return np.array([float(x) for x in row[1:-2]])\n"
     ],
     "language": "python",
     "metadata": {},
     "outputs": [],
     "prompt_number": 32
    },
    {
     "cell_type": "markdown",
     "metadata": {},
     "source": [
      "...."
     ]
    },
    {
     "cell_type": "code",
     "collapsed": false,
     "input": [
      "# Get a 1d-array of daily average temperatures, 1 entry per month\n",
      "T_avg = get_csv_data('montreal.csv','Daily Average')\n",
      "\n",
      "# Similarly for daily temperature standard deviations\n",
      "T_std = get_csv_data('montreal.csv','Standard Deviation')\n",
      "\n",
      "\n",
      "trace0 = {'x': months,\n",
      "          'y': T_avg,\n",
      "          'type': 'bar',\n",
      "          'error_y': {'visible': True,\n",
      "                      'type': 'data',\n",
      "                      'array': T_std}}\n",
      "                      \n",
      "my_layout = {'title': \"Fig.4: Montreal 1981-2010 Daily Average Temperature <br>\\\n",
      "                       and Standard Deviation [in deg C]\"}\n",
      "my_filename = 's2_avg-temp'\n",
      "\n",
      "my_plotly.iplot(trace0, \n",
      "                layout= my_layout, \n",
      "                filename= my_filename, \n",
      "                fileopt= 'overwrite')"
     ],
     "language": "python",
     "metadata": {},
     "outputs": [
      {
       "html": [
        "<iframe height=\"500\" id=\"igraph\" scrolling=\"no\" seamless=\"seamless\" src=\"https://plot.ly/~etpinard/76/600/450\" width=\"650\"></iframe>"
       ],
       "output_type": "pyout",
       "prompt_number": 46,
       "text": [
        "<IPython.core.display.HTML at 0x2815650>"
       ]
      }
     ],
     "prompt_number": 46
    },
    {
     "cell_type": "markdown",
     "metadata": {},
     "source": [
      "* list of number (or numpy array) with list of string \n",
      "* Careful, if two x entries are the same ...\n",
      "* Careful, must put 'visible': True"
     ]
    },
    {
     "cell_type": "markdown",
     "metadata": {},
     "source": [
      "Talk about error_x other 'error' types\n",
      "\n",
      "MTL avg, max, min horizontal (talk about "
     ]
    },
    {
     "cell_type": "code",
     "collapsed": false,
     "input": [
      "# Add 'name' to trace0 dictionary for legend\n",
      "trace0.update({'name': 'Average'})\n",
      "\n",
      "# Get average daily minima\n",
      "T_min = get_csv_data('montreal.csv','Daily Minimum')\n",
      "trace1 = {'x': months,\n",
      "          'y': T_min,\n",
      "          'type': 'bar',\n",
      "          'name': 'Minimum'}\n",
      "\n",
      "# Similarly, get average daily maxima\n",
      "T_max = get_csv_data('montreal.csv','Daily Maximum')\n",
      "trace2 = {'x': months,\n",
      "          'y': T_max,\n",
      "          'type': 'bar',\n",
      "          'name': 'Maximum'}\n",
      "\n",
      "my_layout = {'title': 'Fig.6: Montreal 1981-2010 Daily Average, <br>\\\n",
      "                       Daily Minimum and Daily Maximum Temperatures [in deg C]',\n",
      "             'barmode': 'overlay',\n",
      "             'bardir': 'h'}          ### Does this option exist???\n",
      "my_filename = 's2_avg-min-max-temp'\n",
      "                    \n",
      "my_plotly.iplot([trace2,trace0,trace1], \n",
      "                layout= my_layout, \n",
      "                filename= my_filename, \n",
      "                fileopt= 'overwrite')"
     ],
     "language": "python",
     "metadata": {},
     "outputs": [
      {
       "html": [
        "<iframe height=\"500\" id=\"igraph\" scrolling=\"no\" seamless=\"seamless\" src=\"https://plot.ly/~etpinard/78/600/450\" width=\"650\"></iframe>"
       ],
       "output_type": "pyout",
       "prompt_number": 40,
       "text": [
        "<IPython.core.display.HTML at 0x28f5f50>"
       ]
      }
     ],
     "prompt_number": 40
    },
    {
     "cell_type": "markdown",
     "metadata": {},
     "source": [
      "\n",
      "* mention the overlay barmode\n",
      "\n",
      "MTL vs SF!\n",
      "\n",
      "layout barmode='group' , something like   \n",
      "   'title': 'Animal Population',\n",
      "  'barmode': 'group',options\n",
      "  'yaxis': {'name': '# of animals (thousands)'},\n",
      "  'xaxis': {'type': 'category'},\n",
      "  'categories': categories,\n",
      "  'bargap': 0.25,\n",
      "  'bargroupgap': 0.3,\n",
      "  'bardir': 'v'\n",
      "\n",
      "On final plot, custom grid, tick marks (rotation, bigger, global font!!), annotation 'Data courtesy of', grey background"
     ]
    },
    {
     "cell_type": "code",
     "collapsed": false,
     "input": [
      "# Add 'name' to trace0 dictionary for legend\n",
      "trace0.update({'name': 'Average'})\n",
      "\n",
      "# Get average daily minima\n",
      "T_min = get_csv_data('Daily Minimum')\n",
      "trace1 = {'x': months,\n",
      "          'y': T_min,\n",
      "          'type': 'bar',\n",
      "          'name': 'Minimum'}\n",
      "\n",
      "# Similarly, get average daily maxima\n",
      "T_max = get_csv_data('Daily Maximum')\n",
      "trace2 = {'x': months,\n",
      "          'y': T_max,\n",
      "          'type': 'bar',\n",
      "          'bottom': -20,\n",
      "          'name': 'Maximum'}\n",
      "\n",
      "my_layout = {'title': 'Fig.6: Montreal 1981-2010 Daily Average, <br>\\\n",
      "                       Daily Minimum and Daily Maximum Temperatures [in deg C]',\n",
      "             'barmode': 'overlay',\n",
      "             'barbottom': -15}          ### Does this option exist???\n",
      "my_filename = 's2_avg-min-max-temp'\n",
      "                    \n",
      "my_plotly.iplot([trace1,trace0,trace2], \n",
      "                layout= my_layout, \n",
      "                filename= my_filename, \n",
      "                fileopt= 'overwrite')"
     ],
     "language": "python",
     "metadata": {},
     "outputs": [],
     "prompt_number": 9
    },
    {
     "cell_type": "code",
     "collapsed": false,
     "input": [],
     "language": "python",
     "metadata": {},
     "outputs": []
    }
   ],
   "metadata": {}
  }
 ]
}