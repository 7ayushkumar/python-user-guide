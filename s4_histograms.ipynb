{
 "metadata": {
  "name": "s4_histograms"
 },
 "nbformat": 3,
 "nbformat_minor": 0,
 "worksheets": [
  {
   "cells": [
    {
     "cell_type": "heading",
     "level": 1,
     "metadata": {},
     "source": [
      "Section 4: Histograms and Box Plots"
     ]
    },
    {
     "cell_type": "markdown",
     "metadata": {},
     "source": [
      "a quick intro \n",
      "\n",
      "Show some of plotly's muscle for statistical applications \n",
      "\n",
      "Start by initializing the API"
     ]
    },
    {
     "cell_type": "code",
     "collapsed": false,
     "input": [
      "import plotly       # Plotly for Python API\n",
      "import json         # JSON file read/write\n",
      "import csv\n",
      "import numpy as np  # Numpy (for math functions and arrays, here)\n",
      "\n",
      "# Open config.json \n",
      "with open('./config.json') as config_file:\n",
      "    plotly_user_config = json.load(config_file)\n",
      "\n",
      "# Get username and api_key from config.json\n",
      "username = plotly_user_config['plotly_username'] \n",
      "api_key = plotly_user_config['plotly_api_key']\n",
      "\n",
      "# Initialize the plotly object to 'my_plotly'\n",
      "my_plotly = plotly.plotly(username, api_key)\n",
      "plotly.__version__  # check ploty.ly version"
     ],
     "language": "python",
     "metadata": {},
     "outputs": [
      {
       "output_type": "pyout",
       "prompt_number": 17,
       "text": [
        "'0.5.7'"
       ]
      }
     ],
     "prompt_number": 17
    },
    {
     "cell_type": "markdown",
     "metadata": {},
     "source": [
      "Here the csv file has data stored in columns (nice)\n",
      "\n",
      "This data set has a couple of NaN values\n",
      "\n",
      "Here, each row corresponds to one student\n",
      "\n",
      "Add exceptions to code\n"
     ]
    },
    {
     "cell_type": "code",
     "collapsed": false,
     "input": [
      "# Define a csv column reader function\n",
      "def get_csv_col(filepath, col_id):\n",
      "    ''' \n",
      "    1) filepath: relative path to csv file \n",
      "    2) col_id: id of column requested, found in first row (a string)\n",
      "    '''\n",
      "    with open(filepath,'r') as data_file:\n",
      "        reader = csv.reader(data_file)\n",
      "        the_col = reader.next().index(col_id)  # skips over first row!\n",
      "        return np.array([float(row[the_col]) for row in reader])"
     ],
     "language": "python",
     "metadata": {},
     "outputs": [],
     "prompt_number": 168
    },
    {
     "cell_type": "heading",
     "level": 4,
     "metadata": {},
     "source": [
      "4.1: "
     ]
    },
    {
     "cell_type": "markdown",
     "metadata": {},
     "source": [
      "A simple histogram with final grades\n",
      "\n",
      "NaNs !!!\n"
     ]
    },
    {
     "cell_type": "code",
     "collapsed": false,
     "input": [
      "midterm = get_csv_col('grades.csv','Midterm Exam')\n",
      "final = get_csv_col('grades.csv','Final Exam')\n",
      "\n",
      "#!head grades.csv -n 20 | tail -n 7\n",
      "\n",
      "def check_nan(X,X_name):\n",
      "    X_no_nan = X[~np.isnan(X)]\n",
      "    print \"%s: %i scores in %i entries\" % (X_name, len(X_no_nan), len(X))\n",
      "\n",
      "check_nan(midterm,'Midterm Exam')\n",
      "check_nan(final,'Final Exam')"
     ],
     "language": "python",
     "metadata": {},
     "outputs": [
      {
       "output_type": "stream",
       "stream": "stdout",
       "text": [
        "Midterm Exam: 64 scores in 68 entries\n",
        "Final Exam: 63 scores in 68 entries\n"
       ]
      }
     ],
     "prompt_number": 159
    },
    {
     "cell_type": "markdown",
     "metadata": {},
     "source": [
      "The histogram type works similarly to the bar type \n",
      "\n",
      "* option barmode-like options ...\n",
      "* vertical layout ... \n",
      "* similar 'default' options (barmod default is 'stack')\n",
      "* Plotly computes ...\n",
      "* talk about `'histnorm'` (count, percent, probability, density, probability density\n",
      "  --- must be lower case!!!\n",
      "* Here Plotly ignores all NaN and strings! A quick and pain-free way of plotting histograms!\n",
      "* `'text'` key not valid for this"
     ]
    },
    {
     "cell_type": "code",
     "collapsed": false,
     "input": [
      "# Choose 'histnorm' value, the histogram format\n",
      "my_histnorm = 'count' # or 'percent', probability, density, probabiltiy density\n",
      "\n",
      "# Make trace dictionaries for midterm and final data\n",
      "def make_trace(x_in,name_in,histnorm_in):\n",
      "    #\n",
      "    x_in_cnt = len(x_in[~np.isnan(x_in)])\n",
      "    my_text = \" (\"+str(x_in_cnt)+\" scores)\"\n",
      "    return {'x': x_in, 'name': name_in+my_text, 'histnorm': histnorm_in,\n",
      "            'type': 'histogramx',\n",
      "            'opacity': 0.5}    # \n",
      "\n",
      "trace_m = make_trace(midterm,'Midterm',my_histnorm)\n",
      "trace_f = make_trace(final,'Final',my_histnorm)\n",
      "traces = [trace_m,trace_f]\n",
      "\n",
      "# Set title and filename\n",
      "my_title = \"Fig.9: Midterm and Final Exam Grade Distribution\"\n",
      "my_yaxis_title = my_histnorm[0].upper()+my_histnorm[1:]   # 1st letter in upper case\n",
      "\n",
      "my_layout = {'title': my_title,\n",
      "             'yaxis': {'title': my_yaxis_title},\n",
      "             'barmode': 'overlay',         #\n",
      "             'legend': {'x': 0, 'y': 1}}   #\n",
      "my_filename = 's4_midterm-final'\n",
      "\n",
      "# Call Plotly\n",
      "my_plotly.iplot(traces,layout= my_layout,filename= my_filename,fileopt= 'overwrite')"
     ],
     "language": "python",
     "metadata": {},
     "outputs": [
      {
       "html": [
        "<iframe height=\"500\" id=\"igraph\" scrolling=\"no\" seamless=\"seamless\" src=\"https://plot.ly/~etpinard/88/600/450\" width=\"650\"></iframe>"
       ],
       "output_type": "pyout",
       "prompt_number": 167,
       "text": [
        "<IPython.core.display.HTML at 0x1fbc250>"
       ]
      }
     ],
     "prompt_number": 167
    },
    {
     "cell_type": "markdown",
     "metadata": {},
     "source": [
      "* Note on Plotly's autobinx "
     ]
    },
    {
     "cell_type": "heading",
     "level": 4,
     "metadata": {},
     "source": [
      "4.2 "
     ]
    },
    {
     "cell_type": "markdown",
     "metadata": {},
     "source": [
      "* autobinx=False\n",
      "* add Guassian fits to both \n"
     ]
    },
    {
     "cell_type": "code",
     "collapsed": false,
     "input": [
      "# update 'histnorm' \n",
      "\n",
      "# \n",
      "#.update()\n",
      "\n",
      "# Set title and filename\n",
      "my_title = \"Fig.10: Midterm and Final Exam Grade Distribution<br> and Gaussian fit\"\n",
      "my_yaxis_title = my_histnorm[0].upper()+my_histnorm[1:]   # 1st letter in upper case\n",
      "\n",
      "my_layout = {'title': my_title,\n",
      "             'yaxis': {'title': my_yaxis_title},\n",
      "             'barmode': 'overlay',         #\n",
      "             'legend': {'x': 0, 'y': 1}}   #\n",
      "my_filename = 's4_midterm-final'\n",
      "\n",
      "# Call Plotly\n",
      "my_plotly.iplot(traces,layout= my_layout,filename= my_filename,fileopt= 'overwrite')"
     ],
     "language": "python",
     "metadata": {},
     "outputs": []
    },
    {
     "cell_type": "markdown",
     "metadata": {},
     "source": [
      "+ Stack and overlay subplot histograms\n",
      "\n",
      "+ Box plot assignments, midterm, final, total grade"
     ]
    },
    {
     "cell_type": "code",
     "collapsed": false,
     "input": [
      "from IPython.core.display import HTML\n",
      "\n",
      "def css_styling():\n",
      "    styles = open(\"notebook.css\", \"r\").read()\n",
      "    return HTML(styles)\n",
      "css_styling()"
     ],
     "language": "python",
     "metadata": {},
     "outputs": [
      {
       "html": [
        "<style>\n",
        "    @font-face {\n",
        "        font-family: \"Computer Modern\";\n",
        "        src: url('http://9dbb143991406a7c655e-aa5fcb0a5a4ec34cff238a2d56ca4144.r56.cf5.rackcdn.com/cmunss.otf');\n",
        "    }\n",
        "    @font-face {\n",
        "        font-family: \"Computer Modern\";\n",
        "        font-weight: bold;\n",
        "        src: url('http://9dbb143991406a7c655e-aa5fcb0a5a4ec34cff238a2d56ca4144.r56.cf5.rackcdn.com/cmunsx.otf');\n",
        "    }\n",
        "    @font-face {\n",
        "        font-family: \"Computer Modern\";\n",
        "        font-style: oblique;\n",
        "        src: url('http://9dbb143991406a7c655e-aa5fcb0a5a4ec34cff238a2d56ca4144.r56.cf5.rackcdn.com/cmunsi.otf');\n",
        "    }\n",
        "    @font-face {\n",
        "        font-family: \"Computer Modern\";\n",
        "        font-weight: bold;\n",
        "        font-style: oblique;\n",
        "        src: url('http://9dbb143991406a7c655e-aa5fcb0a5a4ec34cff238a2d56ca4144.r56.cf5.rackcdn.com/cmunso.otf');\n",
        "    }\n",
        "    div.cell{\n",
        "        width:1000px;\n",
        "        margin-left:10% !important;\n",
        "        margin-right:auto;\n",
        "    }\n",
        "    h1 {\n",
        "        /* font-family: Computer Modern, serif; */\n",
        "        color: #333333;\n",
        "        font-family: \u2018Lucida Console\u2019, Monaco, monospace;\n",
        "    }\n",
        "    h4{\n",
        "        color: #333333;\n",
        "        font-family: \u2018Lucida Console\u2019, Monaco, monospace;\n",
        "        margin-top:12px;\n",
        "        margin-bottom: 3px;\n",
        "       }\n",
        "    div.text_cell_render{\n",
        "     /*   font-family: Computer Modern, \"Helvetica Neue\", Arial, Helvetica, Geneva, sans-serif; */\n",
        "        color: #333333;\n",
        "        font-family: \u2018Palatino Linotype\u2019, \u2018Book Antiqua\u2019, Palatino, serif;\n",
        "        line-height: 145%;\n",
        "        font-size: 130%;\n",
        "        width: 1000px;\n",
        "        margin-left:1%;\n",
        "        margin-right:auto;\n",
        "    }\n",
        "    code{\n",
        "          font-size: 100%;\n",
        "    }\n",
        "    .CodeMirror{\n",
        "            font-family: \"Source Code Pro\", source-code-pro,Consolas, monospace;\n",
        "    }\n",
        "    .prompt{\n",
        "        display: None;\n",
        "    }\n",
        "    .text_cell_render h5 {\n",
        "        font-weight: 300;\n",
        "        font-size: 22pt;\n",
        "        color: #4057A1;\n",
        "        font-style: italic;\n",
        "        margin-bottom: .5em;\n",
        "        margin-top: 0.5em;\n",
        "        display: block;\n",
        "    }\n",
        "    \n",
        "    .warning{\n",
        "        color: rgb( 240, 20, 20 )\n",
        "        }  \n",
        "</style>\n",
        "<script>\n",
        "    MathJax.Hub.Config({\n",
        "                        TeX: {\n",
        "                           extensions: [\"AMSmath.js\"]\n",
        "                           },\n",
        "                tex2jax: {\n",
        "                    inlineMath: [ ['$','$'], [\"\\\\(\",\"\\\\)\"] ],\n",
        "                    displayMath: [ ['$$','$$'], [\"\\\\[\",\"\\\\]\"] ]\n",
        "                },\n",
        "                displayAlign: 'center', // Change this to 'center' to center equations.\n",
        "                \"HTML-CSS\": {\n",
        "                    styles: {'.MathJax_Display': {\"margin\": 4}}\n",
        "                }\n",
        "        });\n",
        "</script>\n"
       ],
       "output_type": "pyout",
       "prompt_number": 2,
       "text": [
        "<IPython.core.display.HTML at 0x1f26710>"
       ]
      }
     ],
     "prompt_number": 2
    }
   ],
   "metadata": {}
  }
 ]
}