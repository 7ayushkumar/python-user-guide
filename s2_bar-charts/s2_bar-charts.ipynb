{
 "metadata": {
  "name": "s2_bar-charts"
 },
 "nbformat": 3,
 "nbformat_minor": 0,
 "worksheets": [
  {
   "cells": [
    {
     "cell_type": "heading",
     "level": 1,
     "metadata": {},
     "source": [
      "Section 2: Bar Charts and Error Bars"
     ]
    },
    {
     "cell_type": "markdown",
     "metadata": {},
     "source": [
      "Welcome to Plotly's *Python API User Guide*. \n",
      "\n",
      "Links to the other sections can be found on the User Guide's [homepage](http://nbviewer.ipython.org/github/etpinard/plotly-python-doc/blob/master/s0_getting-started/s0_getting-started.ipynb) and\n",
      "the full Github repository is available \n",
      "<a href=\"https://github.com/etpinard/plotly-python-doc\" target=\"_blank\">here</a>.\n",
      "\n",
      "<hr>"
     ]
    },
    {
     "cell_type": "markdown",
     "metadata": {},
     "source": [
      "In this section, we deal with a *real life* example. We compare the climates of Montreal and Vancouver. \n",
      "The relevant data is read from a csv file and the analysis done primarily using bar charts.\n",
      "We also cover error bars and explore some legend, tick and title options.\n",
      "\n",
      "We first import a few modules and initialize the Plotly object:"
     ]
    },
    {
     "cell_type": "code",
     "collapsed": false,
     "input": [
      "import plotly       # Plotly for Python API\n",
      "import json         # JSON file read/write\n",
      "import csv          # csv file read/write\n",
      "import numpy as np  # Numpy (for math functions and arrays, here)\n",
      "\n",
      "# Open config.json \n",
      "with open('../config.json') as config_file:\n",
      "    plotly_user_config = json.load(config_file)\n",
      "\n",
      "# Get username and api_key from config.json\n",
      "username = plotly_user_config['plotly_username']\n",
      "api_key = plotly_user_config['plotly_api_key']\n",
      "\n",
      "# Initialize the Plotly object to 'my_plotly'\n",
      "my_plotly = plotly.plotly(username, api_key)"
     ],
     "language": "python",
     "metadata": {},
     "outputs": [],
     "prompt_number": 5
    },
    {
     "cell_type": "markdown",
     "metadata": {},
     "source": [
      "We use data stored in two files: `montreal.csv` contains the data (temperature, precipitation and more) for Montreal and `vancouver.csv` contains the data for Vancouver. These data files can be downloaded either from the Environment Canada servers (<a href=\"http://climate.weather.gc.ca/climate_normals/results_1981_2010_e.html?stnID=5415\" target=\"_blank\">here</a> and <a href=\"http://climate.weather.gc.ca/climate_normals/results_1981_2010_e.html?stnID=889&lang=e&dCode=1&StationName=VANCOUVER&SearchType=Contains&province=ALL&provBut=&month1=0&month2=12\" target=\"_blank\">here</a>) or from the User Guide's Github (<a href=\"https://github.com/etpinard/plotly-python-doc/tree/master/s2_bar-charts\" target=\"_blank\">reposity</a>). \n",
      "\n",
      "<!-- Unix-like user can copy the link address and use `!wget` command inside the notebook. -->\n",
      "\n",
      "<!-- Unix-like user to run `!cat` on the two data files -->\n",
      "\n",
      "In both `montreal.csv` and `vancouver.csv` data is stored in row. The first column are variable labels, the next 12 columns are the climatoligical values for each month, the second-to-last column is the yearly average and the last column is quality check grade.\n",
      "\n",
      "So, let's define a simple csv reader function adapted to these data files:"
     ]
    },
    {
     "cell_type": "code",
     "collapsed": false,
     "input": [
      "# Define a csv reader function\n",
      "def get_csv_data(filepath, row_id):\n",
      "    ''' \n",
      "    1) filepath: relative path to csv file \n",
      "    2) row_id: id of row requested, found in first column (a string)\n",
      "    '''\n",
      "    with open(filepath,'r') as data_file:\n",
      "        reader = csv.reader(data_file)\n",
      "        for row in reader:\n",
      "            if len(row) and row_id in row[0]: # test for empty lines and row id\n",
      "                # trim 1st and last 2 entries (not corresp. to months) and conv. to a numpy array\n",
      "                return np.array([float(x) for x in row[1:-2]])"
     ],
     "language": "python",
     "metadata": {},
     "outputs": [],
     "prompt_number": 6
    },
    {
     "cell_type": "heading",
     "level": 4,
     "metadata": {},
     "source": [
      "2.1 A first Bar Chart with Error bars"
     ]
    },
    {
     "cell_type": "markdown",
     "metadata": {},
     "source": [
      "Let's make a simple bar chart of daily average temperature for every month of the year in Montreal. \n",
      "To spice it up a bit, we'll add error bars designating 1 standard deviation. Plotly bar charts are generated using the `'bar'` plot `'type'` in the trace dictionary. Error bars are set through the `'error_y'` trace dictionary key. So, consider"
     ]
    },
    {
     "cell_type": "code",
     "collapsed": false,
     "input": [
      "# Make a list of month names\n",
      "months = ['Jan','Feb','Mar','Apr','May','Jun',\n",
      "          'Jul','Aug','Sep','Oct','Nov','Dec']\n",
      "\n",
      "# Get a 1d-array of daily average temperatures, 1 entry per month\n",
      "T_avg = get_csv_data('montreal.csv','Daily Average')\n",
      "\n",
      "# Similarly for daily temperature standard deviations\n",
      "T_std = get_csv_data('montreal.csv','Standard Deviation')\n",
      "\n",
      "# Built trace dictionary\n",
      "trace0 = {'x': months,     # a list of string\n",
      "          'y': T_avg,      # 1d array of numbers\n",
      "          'type': 'bar',                    # N.B. a bar chart\n",
      "          'marker': {'color': '#377eb8'},   #      colored in the hex model\n",
      "          'error_y': {'visible': True,      #      with error bars\n",
      "                      'type': 'data',       # or 'percent' (default), 'sqrt', 'constant'\n",
      "                      'array': T_std,       # data use for error bar\n",
      "                      'color': '#e41a1c'}}  # error bar color in the hex model\n",
      "\n",
      "# Set plot title, y-axis title and filename\n",
      "my_layout = {'title': \"Fig.4: Montreal 1981-2010 Daily Average Temperature <br>\\\n",
      "                       and Standard Deviation\",\n",
      "             'yaxis': {'title': 'Temperature [in deg. C]'}}\n",
      "my_filename = 's2_avg-temp'\n",
      "\n",
      "# Call Plotly\n",
      "my_plotly.iplot(trace0,layout=my_layout,filename=my_filename,fileopt='overwrite')"
     ],
     "language": "python",
     "metadata": {},
     "outputs": [
      {
       "html": [
        "<iframe height=\"550\" id=\"igraph\" scrolling=\"no\" seamless=\"seamless\" src=\"https://plot.ly/~etpinard/76\" width=\"100%\"></iframe>"
       ],
       "output_type": "pyout",
       "prompt_number": 23,
       "text": [
        "<IPython.core.display.HTML at 0x1d24210>"
       ]
      }
     ],
     "prompt_number": 23
    },
    {
     "cell_type": "markdown",
     "metadata": {},
     "source": [
      "A few remarks:\n",
      "\n",
      "* Plotly supports list of strings (e.g the `months`) as plot coordinates. \n",
      "  No need to change the ticks labels here, Plotly does it for you!\n",
      "  However, be careful, each entries in the list must be unique to yield the desired results.\n",
      "  (try running the code with `months = [J,F,M,A,M,J,J,A,S,\n",
      "\n",
      "* Error bars are set through the `'error_y'` trace dictionary key. The corresponding value is a dictionary  \n",
      "where the `'visible'` key must be set to `True` in order to see the error bars on the plot. Plotly error bars are always symmetric. In addition, error bars come in different types:\n",
      "\n",
      "    - If the `'type'` key has value `'array'` then \n",
      "    - The `'percent'` value is the default, \n",
      "\n",
      "* Bar colors are set in ...\n",
      "\n",
      "* Plotly understands \n",
      "\n",
      "* How to make error_y bigger ??\n",
      "\n",
      "* Careful, must put 'visible': True\n",
      "* Bar color are in `'marker'`\n",
      "\n",
      "* Plotly understands `<br>`, **is there a better way to do this?** \n",
      "\n",
      "* Mention how easy it is to add error bars!!\n",
      "\n",
      "<!-- Does `'error_x'` exist? (it doesn't appear to work)\n",
      " \n",
      "Introduce next plot!"
     ]
    },
    {
     "cell_type": "heading",
     "level": 4,
     "metadata": {},
     "source": [
      "2.2 Chart with overlaid bars"
     ]
    },
    {
     "cell_type": "markdown",
     "metadata": {},
     "source": [
      "First use of function to generate traces\n",
      "\n",
      "A trace-generating function\n"
     ]
    },
    {
     "cell_type": "code",
     "collapsed": false,
     "input": [
      "# Make a list of summer month names\n",
      "summer = ['June','July','August']\n",
      "\n",
      "# Define a trace-generating function \n",
      "def make_trace(x_in,y_in,name_in,color_in):\n",
      "    return {'x': x_in,\n",
      "            'y': y_in,\n",
      "            'type': 'bar',\n",
      "            'name': name_in,  # label for legend\n",
      "            'marker': {'color': color_in}}\n",
      "\n",
      "# Get average daily minima and average daily maxima from csv file\n",
      "T_min = get_csv_data('montreal.csv','Daily Minimum')\n",
      "T_max = get_csv_data('montreal.csv','Daily Maximum')\n",
      "\n",
      "# Build each trace dictionary\n",
      "trace_avg = make_trace(summer,T_avg[5:8],'Average','rgb(127,201,127)')\n",
      "trace_min = make_trace(summer,T_min[5:8],'Minimum','rgb(190,174,212)')\n",
      "trace_max = make_trace(summer,T_max[5:8],'Maximum','rgb(253,192,134)')\n",
      "\n",
      "# Build the layout dictionary\n",
      "my_layout = {'title': 'Fig.5: Montreal 1981-2010 Daily Average, <br>\\\n",
      "                       Daily Minimum and Daily Maximum Temperatures',\n",
      "             'xaxis': {'title': 'Temperature [in deg. C]'},\n",
      "             'legend': {'x': 100, 'y': 1},  # 100 means outside the axes\n",
      "             'barmode': 'overlay'}          # bars are overlaid on this plot\n",
      "\n",
      "# Set file name\n",
      "my_filename = 's2_avg-min-max-temp'\n",
      "                    \n",
      "# Call Plolty with T_max under T_avg under T_min\n",
      "my_plotly.iplot([trace_max,trace_avg,trace_min],\n",
      "                layout=my_layout,filename=my_filename,fileopt='overwrite')"
     ],
     "language": "python",
     "metadata": {},
     "outputs": [
      {
       "html": [
        "<iframe height=\"550\" id=\"igraph\" scrolling=\"no\" seamless=\"seamless\" src=\"https://plot.ly/~etpinard/78\" width=\"100%\"></iframe>"
       ],
       "output_type": "pyout",
       "prompt_number": 8,
       "text": [
        "<IPython.core.display.HTML at 0x7fb894491e10>"
       ]
      }
     ],
     "prompt_number": 8
    },
    {
     "cell_type": "markdown",
     "metadata": {},
     "source": [
      "A few comments:\n",
      "\n",
      "* mention the overlay barmode\n",
      "* mention the legend outside position\n",
      "* note that inverting `'x'` and `'y'` would not yield the same result\n",
      "* `'bardir'`: 'v' is the default"
     ]
    },
    {
     "cell_type": "heading",
     "level": 4,
     "metadata": {},
     "source": [
      "2.3 Horizontal stacked Bar chart"
     ]
    },
    {
     "cell_type": "code",
     "collapsed": false,
     "input": [
      "# Get data\n",
      "mtl_P_avg = get_csv_data('montreal.csv','Precipitation (mm)')\n",
      "van_P_avg = get_csv_data('vancouver.csv','Precipitation (mm)')\n",
      "\n",
      "cities = ['Montreal', 'Vancouver']\n",
      "\n",
      "# Redefine the trace-generating function \n",
      "def make_trace(x_in,y_in,name_in,color_in):\n",
      "    return {'x': x_in,\n",
      "            'y': y_in,\n",
      "            'type': 'bar',\n",
      "            'bardir': 'h',\n",
      "            'marker': {'color': color_in}}\n",
      "\n",
      "my_colors = \n",
      "\n",
      "traces = [make_trace(cities,[mtl_P_avg[i],van_P_avg[i]],my_colors[i]) for i in range(12)]\n",
      "\n"
     ],
     "language": "python",
     "metadata": {},
     "outputs": []
    },
    {
     "cell_type": "markdown",
     "metadata": {},
     "source": [
      "* Careful! 'x' and 'y' even if horizontal\n",
      "* note that this would be much longer without a trace-generating function"
     ]
    },
    {
     "cell_type": "heading",
     "level": 4,
     "metadata": {},
     "source": [
      "2.4 Two bar charts on same plot"
     ]
    },
    {
     "cell_type": "markdown",
     "metadata": {},
     "source": [
      "Let's make a publicaion-worthy figure! Among others, it will be our first use of subplots"
     ]
    },
    {
     "cell_type": "code",
     "collapsed": false,
     "input": [
      "# Use full month names for this plot\n",
      "months_full = ['January','February','March','April','May','June',\n",
      "               'July','August','September','October','November','December']\n",
      "\n",
      "# Get missing data array\n",
      "mtl_T_avg = T_avg\n",
      "mtl_P_avg = get_csv_data('montreal.csv','Precipitation (mm)')\n",
      "van_T_avg = get_csv_data('vancouver.csv','Daily Average')\n",
      "van_P_avg = get_csv_data('vancouver.csv','Precipitation (mm)')\n",
      "\n",
      "# Redefine the trace-generating function\n",
      "def make_trace(x_in,y_in,color_in,name_in,axis_key):\n",
      "    '''\n",
      "    1) x_in: 'x' values  2) y_in: 'y' values \n",
      "    3) color_in: bar color 4) name_in: name for legend\n",
      "    5) axis_key: if ==2, assign values to xaxis2 and yaxis2 \n",
      "    '''\n",
      "    axis_dict = {1: ['',''], 2: ['x2','y2']}\n",
      "    trace = {'x': x_in,\n",
      "             'y': y_in,\n",
      "             'type': 'bar',\n",
      "             'marker': {'color': color_in,\n",
      "                        'line': {'color': 'black',  # bar borders\n",
      "                                 'width': 2}},      \n",
      "             'name': name_in,\n",
      "             'xaxis': axis_dict[axis_key][0],\n",
      "             'yaxis': axis_dict[axis_key][1]}\n",
      "    return trace\n",
      "\n",
      "# Assign temperature traces to 'xaxis' and 'yaxis'\n",
      "traces_T = [make_trace(months_full,mtl_T_avg,'#1b9e77','Montreal',1),\n",
      "            make_trace(months_full,van_T_avg,'#d95f02','Vancouver',1)]\n",
      "\n",
      "# Assign precipitation traces to 'xaxis2' and 'yaxis2'\n",
      "traces_P = [make_trace(months_full,mtl_P_avg,'#1b9e77',None,2),\n",
      "            make_trace(months_full,van_P_avg,'#d95f02',None,2)]\n",
      "\n",
      "# Concatenate\n",
      "traces = traces_T+traces_P\n",
      "\n",
      "my_layout = {# Set title and change font\n",
      "             'title': 'Fig.6: Montreal and Vancouver 1981-2010 <br>\\\n",
      "                       Daily Average Temperature and \\\n",
      "                       Monthly Average Precipitation',\n",
      "             'titlefont': {'family': 'Verdana, sans-serif',  # 'family' not 'name'\n",
      "                           'size': 22},                      # bigger title (default is 16)\n",
      "             # Bar charts options\n",
      "             'barmode': 'group',   # bars are in groups on this plot\n",
      "             'bargroupgap': 0,     # norm. spacing between group members\n",
      "             'bargap': 0.25,       # norm. spacing between groups\n",
      "             #\n",
      "             # Axis options\n",
      "             'xaxis': {'domain': [0,0.4],         # reset length of default x-axis\n",
      "                       'linewidth': 2,            # ticker axes (default is 1)\n",
      "                       'tickangle' : 45,          # rotation ticks labels \n",
      "                       'tickfont': {'size': 14}}, # bigger tick label font (default is 12)\n",
      "             'yaxis': {'title': 'Daily Average Temperature [deg. C]',\n",
      "                       'titlefont': {'size': 16}, # bigger axis label (default is 15)\n",
      "                       'linewidth': 2,\n",
      "                       'tickfont': {'size': 14}},\n",
      "             'xaxis2': {'domain': [0.6,1],        # set length of x-axis #2\n",
      "                        'linewidth': 2,\n",
      "                        'tickangle' : 45,\n",
      "                        'tickfont': {'size': 14}},\n",
      "             'yaxis2': {'anchor': 'x2',           # start y-axis #2 at position of x-axis #2\n",
      "                        'title': 'Monthly Average Precipitation [mm]',\n",
      "                        'titlefont': {'size': 16},\n",
      "                        'linewidth': 2,\n",
      "                        'tickfont': {'size': 14}},\n",
      "             #\n",
      "             # Legend options\n",
      "             'legend': {'x': 100, 'y': 0.5},  # outside right, half of axes height\n",
      "             #\n",
      "             # Frame options\n",
      "             'autosize': False,       # turn off autosize \n",
      "             'height': 500,       \n",
      "             'width': 1000,\n",
      "             'margin': {'t':150,'b':100,'r':70,'l':70, # margin between frame and axes\n",
      "                        'pad':0},     # no space between axis border and grid lines\n",
      "             'paper_bgcolor': 'grey', # background color \n",
      "             #\n",
      "             # Annotations\n",
      "             'annotations': [{'text': 'Data courtesy of Environment Canada', \n",
      "                              'xref': 'paper',        # need comments here ...\n",
      "                              'yref': 'paper',        #\n",
      "                              'showarrow': False,     #\n",
      "                              'x':0, 'y': -0.4,       #\n",
      "                              'font': {'size': 13}}]  # (default is 12) \n",
      "             }\n",
      "\n",
      "# Set file name\n",
      "my_filename = 's2_mtl-van'\n",
      "                    \n",
      "my_plotly.iplot(traces, \n",
      "                layout= my_layout, \n",
      "                filename= my_filename, \n",
      "                fileopt= 'overwrite')"
     ],
     "language": "python",
     "metadata": {},
     "outputs": [
      {
       "html": [
        "<iframe height=\"550\" id=\"igraph\" scrolling=\"no\" seamless=\"seamless\" src=\"https://plot.ly/~etpinard/79\" width=\"100%\"></iframe>"
       ],
       "output_type": "pyout",
       "prompt_number": 12,
       "text": [
        "<IPython.core.display.HTML at 0x1e1bf50>"
       ]
      }
     ],
     "prompt_number": 12
    },
    {
     "cell_type": "markdown",
     "metadata": {},
     "source": [
      "* Comments on subplot and the Matplotlib interpreter\n",
      "\n",
      "* Wow plotly tilts the labels automatically! (mention how to make it manually)\n",
      "\n",
      "* Do not set 'xaxis1': 'x1' --> it does not overwrite 'xaxis'\n",
      "\n",
      "* .iplot size .... **is there an option out there**\n",
      "\n",
      "* legend ... maybe have to call .iplot twice - once with legend and the other without ..\n",
      "\n",
      "* (use 'plot_bgcolor' for plot background color"
     ]
    },
    {
     "cell_type": "code",
     "collapsed": false,
     "input": [
      "plotly.display(\"https://plot.ly/~etpinard/79/\") \n",
      "\n",
      "# maybe only in verion 0.5.10 ??"
     ],
     "language": "python",
     "metadata": {},
     "outputs": [
      {
       "ename": "NameError",
       "evalue": "name 'plotly' is not defined",
       "output_type": "pyerr",
       "traceback": [
        "\u001b[0;31m---------------------------------------------------------------------------\u001b[0m\n\u001b[0;31mNameError\u001b[0m                                 Traceback (most recent call last)",
        "\u001b[0;32m<ipython-input-3-faf9ddda0fac>\u001b[0m in \u001b[0;36m<module>\u001b[0;34m()\u001b[0m\n\u001b[0;32m----> 1\u001b[0;31m \u001b[0mplotly\u001b[0m\u001b[0;34m.\u001b[0m\u001b[0mdisplay\u001b[0m\u001b[0;34m(\u001b[0m\u001b[0;34m\"https://plot.ly/~etpinard/79/\"\u001b[0m\u001b[0;34m)\u001b[0m\u001b[0;34m\u001b[0m\u001b[0m\n\u001b[0m\u001b[1;32m      2\u001b[0m \u001b[0;34m\u001b[0m\u001b[0m\n\u001b[1;32m      3\u001b[0m \u001b[0;31m# maybe only in verion 0.5.10 ??\u001b[0m\u001b[0;34m\u001b[0m\u001b[0;34m\u001b[0m\u001b[0m\n",
        "\u001b[0;31mNameError\u001b[0m: name 'plotly' is not defined"
       ]
      }
     ],
     "prompt_number": 3
    },
    {
     "cell_type": "markdown",
     "metadata": {},
     "source": [
      "<iframe height=\"500\" width=\"1000\" id=\"igraph\" scrolling=\"no\" seamless=\"seamless\" src=\"https://plot.ly/~etpinard/79\"></iframe>"
     ]
    },
    {
     "cell_type": "markdown",
     "metadata": {},
     "source": [
      "A few comments: "
     ]
    },
    {
     "cell_type": "markdown",
     "metadata": {},
     "source": [
      "<hr>\n",
      "<center>\n",
      "    \n",
      "Go to [previous section](http://nbviewer.ipython.org/github/etpinard/plotly-python-doc/blob/master/s1_line-scatter/s1_line-scatter.ipynb)\n",
      "    -----\n",
      "Go to [next section](http://nbviewer.ipython.org/github/etpinard/plotly-python-doc/blob/master/s3_bubble-charts/s3_bubble-charts.ipynb)\n",
      "  \n",
      "Go back to User Guide's [homepage](http://nbviewer.ipython.org/github/etpinard/plotly-python-doc/blob/master/s0_getting-started/s0_getting-started.ipynb)\n",
      "    \n",
      "</center>\n",
      "<hr>"
     ]
    },
    {
     "cell_type": "markdown",
     "metadata": {},
     "source": [
      "<img src=\"http://upload.wikimedia.org/wikipedia/commons/2/26/Logo_%281%29.png\" \n",
      "     height=250px style=\"float:right;\" />\n",
      "\n",
      "<h4>Got Questions and Feedback? </h4>\n",
      "\n",
      "* About <a href=\"https://plot.ly\" target=\"_blank\">Plotly</a>: <br> \n",
      "  email at feedback@plot.ly \n",
      "  or tweet at <a href=\"https://twitter.com/plotlygraphs\" target=\"_blank\">@plotlygraphs</a>\n",
      "\n",
      "* About the <a href=\"https://github.com/etpinard/plotly-python-doc\" target=\"_blank\">User Guide</a>: <br>\n",
      "  email at etienne.t.pinard@gmail.com\n",
      "  or tweet at <a href=\"https://twitter.com/etpinard\" target=\"_blank\">@etpinard</a>\n",
      "\n",
      "<h4>Big Thanks to: </h4>\n",
      "\n",
      "* [Cam Davidson-Pilon](http://nbviewer.ipython.org/github/CamDavidsonPilon/Probabilistic-Programming-and-Bayesian-Methods-for-Hackers/blob/master/Prologue/Prologue.ipynb) \n",
      "  for notebook styling ideas\n",
      "   \n",
      "<hr>"
     ]
    },
    {
     "cell_type": "code",
     "collapsed": false,
     "input": [
      "from IPython.core.display import HTML\n",
      "def css_styling():\n",
      "    styles = open(\"../plotly-python-doc.css\", \"r\").read()\n",
      "    return HTML(styles)\n",
      "css_styling()"
     ],
     "language": "python",
     "metadata": {},
     "outputs": [
      {
       "html": [
        "<style>\n",
        "    @font-face {\n",
        "        font-family: \"Computer Modern\";\n",
        "        src: url('http://9dbb143991406a7c655e-aa5fcb0a5a4ec34cff238a2d56ca4144.r56.cf5.rackcdn.com/cmunss.otf');\n",
        "    }\n",
        "    @font-face {\n",
        "        font-family: \"Computer Modern\";\n",
        "        font-weight: bold;\n",
        "        src: url('http://9dbb143991406a7c655e-aa5fcb0a5a4ec34cff238a2d56ca4144.r56.cf5.rackcdn.com/cmunsx.otf');\n",
        "    }\n",
        "    @font-face {\n",
        "        font-family: \"Computer Modern\";\n",
        "        font-style: oblique;\n",
        "        src: url('http://9dbb143991406a7c655e-aa5fcb0a5a4ec34cff238a2d56ca4144.r56.cf5.rackcdn.com/cmunsi.otf');\n",
        "    }\n",
        "    @font-face {\n",
        "        font-family: \"Computer Modern\";\n",
        "        font-weight: bold;\n",
        "        font-style: oblique;\n",
        "        src: url('http://9dbb143991406a7c655e-aa5fcb0a5a4ec34cff238a2d56ca4144.r56.cf5.rackcdn.com/cmunso.otf');\n",
        "    }\n",
        "    div.cell{\n",
        "        width:1000px;\n",
        "        margin-left:10% !important;\n",
        "        margin-right:10%;\n",
        "    }\n",
        "    h1 {\n",
        "        /* font-family: Computer Modern, serif; */\n",
        "        color: #333333;\n",
        "        font-family: \u2018Lucida Console\u2019, Monaco, monospace;\n",
        "    }\n",
        "    h4{\n",
        "        color: #333333;\n",
        "        font-family: \u2018Lucida Console\u2019, Monaco, monospace;\n",
        "        margin-top:15px;\n",
        "        margin-bottom: 3px;\n",
        "       }\n",
        "    div.text_cell_render{\n",
        "     /*   font-family: Computer Modern, \"Helvetica Neue\", Arial, Helvetica, Geneva, sans-serif; */\n",
        "        color: #333333;\n",
        "     /*   font-family: \u2018Palatino Linotype\u2019, \u2018Book Antiqua\u2019, Palatino, serif; */\n",
        "     /*   font-family: \u2018Trebuchet MS\u2019, Helvetica, sans-serif; */\n",
        "        font-family: \u2018Lucida Sans Unicode\u2019, \u2018Lucida Grande\u2019, sans-serif;\n",
        "        line-height: 145%;\n",
        "        font-size: 130%;\n",
        "        width: 1000px;\n",
        "        margin-left:0%;\n",
        "        margin-right:0%;\n",
        "        text-align:justify;\n",
        "        text-justify:inter-word;\n",
        "    }\n",
        "    code{\n",
        "          font-size: 85%;\n",
        "    }\n",
        "    .CodeMirror{\n",
        "            font-family: \"Source Code Pro\", source-code-pro,Consolas, monospace;\n",
        "    }\n",
        "    .prompt{\n",
        "        display: None;\n",
        "    }\n",
        "    .text_cell_render h5 {\n",
        "        font-weight: 300;\n",
        "        font-size: 22pt;\n",
        "        color: #4057A1;\n",
        "        font-style: italic;\n",
        "        margin-bottom: .5em;\n",
        "        margin-top: 0.5em;\n",
        "        display: block;\n",
        "    }\n",
        "    .warning{\n",
        "        color: rgb( 240, 20, 20 )\n",
        "        }  \n",
        "</style>\n",
        "<script>\n",
        "    MathJax.Hub.Config({\n",
        "                        TeX: {\n",
        "                           extensions: [\"AMSmath.js\"]\n",
        "                           },\n",
        "                tex2jax: {\n",
        "                    inlineMath: [ ['$','$'], [\"\\\\(\",\"\\\\)\"] ],\n",
        "                    displayMath: [ ['$$','$$'], [\"\\\\[\",\"\\\\]\"] ]\n",
        "                },\n",
        "                displayAlign: 'center', // Change this to 'center' to center equations.\n",
        "                \"HTML-CSS\": {\n",
        "                    styles: {'.MathJax_Display': {\"margin\": 4}}\n",
        "                }\n",
        "        });\n",
        "</script>\n"
       ],
       "output_type": "pyout",
       "prompt_number": 2,
       "text": [
        "<IPython.core.display.HTML at 0x1b50550>"
       ]
      }
     ],
     "prompt_number": 2
    },
    {
     "cell_type": "code",
     "collapsed": false,
     "input": [],
     "language": "python",
     "metadata": {},
     "outputs": []
    }
   ],
   "metadata": {}
  }
 ]
}